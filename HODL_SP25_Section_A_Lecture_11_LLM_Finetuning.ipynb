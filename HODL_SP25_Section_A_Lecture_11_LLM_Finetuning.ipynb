{
  "cells": [
    {
      "cell_type": "markdown",
      "source": [
        "**CREDIT:** Adapted from this [notebook](https://colab.research.google.com/github/google/generative-ai-docs/blob/main/site/en/gemma/docs/lora_tuning.ipynb).\n"
      ],
      "metadata": {
        "id": "S8fCmD8ZWNff"
      }
    },
    {
      "cell_type": "markdown",
      "metadata": {
        "id": "Tce3stUlHN0L"
      },
      "source": [
        "##### Copyright 2024 Google LLC."
      ]
    },
    {
      "cell_type": "code",
      "execution_count": null,
      "metadata": {
        "cellView": "form",
        "id": "tuOe1ymfHZPu"
      },
      "outputs": [],
      "source": [
        "#@title Licensed under the Apache License, Version 2.0 (the \"License\");\n",
        "# you may not use this file except in compliance with the License.\n",
        "# You may obtain a copy of the License at\n",
        "#\n",
        "# https://www.apache.org/licenses/LICENSE-2.0\n",
        "#\n",
        "# Unless required by applicable law or agreed to in writing, software\n",
        "# distributed under the License is distributed on an \"AS IS\" BASIS,\n",
        "# WITHOUT WARRANTIES OR CONDITIONS OF ANY KIND, either express or implied.\n",
        "# See the License for the specific language governing permissions and\n",
        "# limitations under the License."
      ]
    },
    {
      "cell_type": "markdown",
      "metadata": {
        "id": "lSGRSsRPgkzK"
      },
      "source": [
        "## Overview\n",
        "\n",
        "This notebook walks you through using Keras to perform LoRA fine-tuning on a Google Gemma 2B model using an instruction-answer dataset."
      ]
    },
    {
      "cell_type": "markdown",
      "metadata": {
        "id": "w1q6-W_mKIT-"
      },
      "source": [
        "## Setup"
      ]
    },
    {
      "cell_type": "markdown",
      "metadata": {
        "id": "lyhHCMfoRZ_v"
      },
      "source": [
        "### Get access to Gemma and set up your API keys\n",
        "\n",
        "The instructions are below (if you run into issues, you can refer to the detailed instructions [here](https://ai.google.dev/gemma/docs/setup)).\n",
        "\n",
        "\n",
        "* Go to [kaggle.com](https://kaggle.com) and create an account.\n",
        "* Go to the [Gemma model card](https://www.kaggle.com/models/google/gemma) and select **Request Access**. Complete the consent form and accept the terms and conditions.\n",
        "* Go to the **Account** tab of your Kaggle user profile and select **Create New Token**. This will trigger the download of a `kaggle.json` file containing your Kaggle username and Kaggle API key.\n",
        "* Open this file using a text editor.\n",
        "* In Colab, select **Secrets** (🔑) in the left pane.  \n",
        "- Copy your Kaggle username from the text editor and store it under the name `KAGGLE_USERNAME`.  \n",
        "- Copy your Kaggle API key from the text editor and store it under the name `KAGGLE_KEY`.\n",
        "\n",
        "When you are done, it should look like this:\n",
        "\n",
        "\n",
        "\n",
        "![image.png](data:image/png;base64,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)"
      ]
    },
    {
      "cell_type": "markdown",
      "metadata": {
        "id": "AZ5Qo0fxRZ1V"
      },
      "source": [
        "### Select the runtime\n",
        "\n",
        "To run this notebook, you'll need a T4 GPU.\n",
        "\n",
        "1. In the upper-right of the Colab window, select the down arrow.\n",
        "2. Select **Change runtime type**.\n",
        "3. Under **Hardware accelerator**, select **T4 GPU**."
      ]
    },
    {
      "cell_type": "markdown",
      "metadata": {
        "id": "7iOF6Yo-wUEC"
      },
      "source": [
        "### Set environment variables\n",
        "\n",
        "Set environment variables for `KAGGLE_USERNAME` and `KAGGLE_KEY`."
      ]
    },
    {
      "cell_type": "code",
      "execution_count": null,
      "metadata": {
        "id": "0_EdOg9DPK6Q"
      },
      "outputs": [],
      "source": [
        "import os\n",
        "from google.colab import userdata\n",
        "\n",
        "# Note: `userdata.get` is a Colab API. If you're not using Colab, set the env\n",
        "# vars as appropriate for your system.\n",
        "\n",
        "os.environ[\"KAGGLE_USERNAME\"] = userdata.get('KAGGLE_USERNAME')\n",
        "os.environ[\"KAGGLE_KEY\"] = userdata.get('KAGGLE_KEY')"
      ]
    },
    {
      "cell_type": "code",
      "source": [
        "from pprint import pprint"
      ],
      "metadata": {
        "id": "rFy4qg2l-D3S"
      },
      "execution_count": null,
      "outputs": []
    },
    {
      "cell_type": "markdown",
      "metadata": {
        "id": "rGLS-l5TxIR4"
      },
      "source": [
        "### Set the Keras backend and import keras\n",
        "\n",
        "For this tutorial, we will use JAX as the Keras backend."
      ]
    },
    {
      "cell_type": "code",
      "execution_count": null,
      "metadata": {
        "id": "yn5uy8X8sdD0"
      },
      "outputs": [],
      "source": [
        "os.environ[\"KERAS_BACKEND\"] = \"jax\"  # Or \"torch\" or \"tensorflow\".\n",
        "# Avoid memory fragmentation on JAX backend.\n",
        "os.environ[\"XLA_PYTHON_CLIENT_MEM_FRACTION\"]=\"1.00\""
      ]
    },
    {
      "cell_type": "code",
      "execution_count": null,
      "metadata": {
        "id": "FYHyPUA9hKTf"
      },
      "outputs": [],
      "source": [
        "import keras"
      ]
    },
    {
      "cell_type": "markdown",
      "metadata": {
        "id": "9T7xe_jzslv4"
      },
      "source": [
        "## Load Dataset"
      ]
    },
    {
      "cell_type": "markdown",
      "source": [
        "We will use the [Databricks Dolly 15k dataset](https://huggingface.co/datasets/databricks/databricks-dolly-15k). This dataset contains 15,000 high-quality human-generated prompt / response pairs specifically designed for fine-tuning LLMs."
      ],
      "metadata": {
        "id": "Hemtx3uRszKW"
      }
    },
    {
      "cell_type": "code",
      "execution_count": null,
      "metadata": {
        "id": "xRaNCPUXKoa7",
        "outputId": "769a9bcd-0215-4d27-908a-6bad09528a30",
        "colab": {
          "base_uri": "https://localhost:8080/"
        }
      },
      "outputs": [
        {
          "output_type": "stream",
          "name": "stdout",
          "text": [
            "--2025-03-10 12:14:36--  https://huggingface.co/datasets/databricks/databricks-dolly-15k/resolve/main/databricks-dolly-15k.jsonl\n",
            "Resolving huggingface.co (huggingface.co)... 54.230.71.2, 54.230.71.28, 54.230.71.103, ...\n",
            "Connecting to huggingface.co (huggingface.co)|54.230.71.2|:443... connected.\n",
            "HTTP request sent, awaiting response... 302 Found\n",
            "Location: https://cdn-lfs.hf.co/repos/34/ac/34ac588cc580830664f592597bb6d19d61639eca33dc2d6bb0b6d833f7bfd552/2df9083338b4abd6bceb5635764dab5d833b393b55759dffb0959b6fcbf794ec?response-content-disposition=inline%3B+filename*%3DUTF-8%27%27databricks-dolly-15k.jsonl%3B+filename%3D%22databricks-dolly-15k.jsonl%22%3B&Expires=1741612476&Policy=eyJTdGF0ZW1lbnQiOlt7IkNvbmRpdGlvbiI6eyJEYXRlTGVzc1RoYW4iOnsiQVdTOkVwb2NoVGltZSI6MTc0MTYxMjQ3Nn19LCJSZXNvdXJjZSI6Imh0dHBzOi8vY2RuLWxmcy5oZi5jby9yZXBvcy8zNC9hYy8zNGFjNTg4Y2M1ODA4MzA2NjRmNTkyNTk3YmI2ZDE5ZDYxNjM5ZWNhMzNkYzJkNmJiMGI2ZDgzM2Y3YmZkNTUyLzJkZjkwODMzMzhiNGFiZDZiY2ViNTYzNTc2NGRhYjVkODMzYjM5M2I1NTc1OWRmZmIwOTU5YjZmY2JmNzk0ZWM%7EcmVzcG9uc2UtY29udGVudC1kaXNwb3NpdGlvbj0qIn1dfQ__&Signature=n%7EZXiZ%7ERK1rxa-LAWTu3WbFNETu-7aU%7EVRGcV81ufNXHc7rgSr%7E3ju95HgiMR%7ExQwo5sIRXIFL5kvtKHG27ddlYxLh2eFmCc-yJGM3d947wvPMS8vFVlFDkKsH1kJefl5gxunLDEp62oRb4D0IZ-j-PB5hoEE5hXc5ePvu0ds7sqEBsN1Nm3jHvqqUNV4FewOZhrQ6dltN5fILJxFjRJkN2GyGxdLXKwLSazsPYcGZuzgU8-99sARDBc7ypT9XBRwZ-st812fwZljru0vivXsrWrS%7E4XCogjg4f3tsxgkBIN4hfnTP0QWqHzY2HlJrSGNYtPY%7EKFs5wHG7m8xAb7tQ__&Key-Pair-Id=K3RPWS32NSSJCE [following]\n",
            "--2025-03-10 12:14:36--  https://cdn-lfs.hf.co/repos/34/ac/34ac588cc580830664f592597bb6d19d61639eca33dc2d6bb0b6d833f7bfd552/2df9083338b4abd6bceb5635764dab5d833b393b55759dffb0959b6fcbf794ec?response-content-disposition=inline%3B+filename*%3DUTF-8%27%27databricks-dolly-15k.jsonl%3B+filename%3D%22databricks-dolly-15k.jsonl%22%3B&Expires=1741612476&Policy=eyJTdGF0ZW1lbnQiOlt7IkNvbmRpdGlvbiI6eyJEYXRlTGVzc1RoYW4iOnsiQVdTOkVwb2NoVGltZSI6MTc0MTYxMjQ3Nn19LCJSZXNvdXJjZSI6Imh0dHBzOi8vY2RuLWxmcy5oZi5jby9yZXBvcy8zNC9hYy8zNGFjNTg4Y2M1ODA4MzA2NjRmNTkyNTk3YmI2ZDE5ZDYxNjM5ZWNhMzNkYzJkNmJiMGI2ZDgzM2Y3YmZkNTUyLzJkZjkwODMzMzhiNGFiZDZiY2ViNTYzNTc2NGRhYjVkODMzYjM5M2I1NTc1OWRmZmIwOTU5YjZmY2JmNzk0ZWM%7EcmVzcG9uc2UtY29udGVudC1kaXNwb3NpdGlvbj0qIn1dfQ__&Signature=n%7EZXiZ%7ERK1rxa-LAWTu3WbFNETu-7aU%7EVRGcV81ufNXHc7rgSr%7E3ju95HgiMR%7ExQwo5sIRXIFL5kvtKHG27ddlYxLh2eFmCc-yJGM3d947wvPMS8vFVlFDkKsH1kJefl5gxunLDEp62oRb4D0IZ-j-PB5hoEE5hXc5ePvu0ds7sqEBsN1Nm3jHvqqUNV4FewOZhrQ6dltN5fILJxFjRJkN2GyGxdLXKwLSazsPYcGZuzgU8-99sARDBc7ypT9XBRwZ-st812fwZljru0vivXsrWrS%7E4XCogjg4f3tsxgkBIN4hfnTP0QWqHzY2HlJrSGNYtPY%7EKFs5wHG7m8xAb7tQ__&Key-Pair-Id=K3RPWS32NSSJCE\n",
            "Resolving cdn-lfs.hf.co (cdn-lfs.hf.co)... 13.226.61.33, 13.226.61.68, 13.226.61.87, ...\n",
            "Connecting to cdn-lfs.hf.co (cdn-lfs.hf.co)|13.226.61.33|:443... connected.\n",
            "HTTP request sent, awaiting response... 200 OK\n",
            "Length: 13085339 (12M) [text/plain]\n",
            "Saving to: ‘databricks-dolly-15k.jsonl’\n",
            "\n",
            "databricks-dolly-15 100%[===================>]  12.48M  --.-KB/s    in 0.1s    \n",
            "\n",
            "2025-03-10 12:14:37 (84.0 MB/s) - ‘databricks-dolly-15k.jsonl’ saved [13085339/13085339]\n",
            "\n"
          ]
        }
      ],
      "source": [
        "!wget -O databricks-dolly-15k.jsonl https://huggingface.co/datasets/databricks/databricks-dolly-15k/resolve/main/databricks-dolly-15k.jsonl"
      ]
    },
    {
      "cell_type": "markdown",
      "source": [
        "Let's read the file into a dataframe and take a look at a few examples."
      ],
      "metadata": {
        "id": "TPzdKS7Ic8wv"
      }
    },
    {
      "cell_type": "code",
      "source": [
        "import pandas as pd\n",
        "pd.set_option('display.max_colwidth', 500)\n",
        "df = pd.read_json(\"databricks-dolly-15k.jsonl\", lines=True)"
      ],
      "metadata": {
        "id": "K397L9vKeYtf"
      },
      "execution_count": null,
      "outputs": []
    },
    {
      "cell_type": "code",
      "source": [
        "df.sample(5)"
      ],
      "metadata": {
        "colab": {
          "base_uri": "https://localhost:8080/",
          "height": 518
        },
        "id": "xeBPamqhefNp",
        "outputId": "e0108af8-8a64-403d-b12f-4d3757d6bcc3"
      },
      "execution_count": null,
      "outputs": [
        {
          "output_type": "execute_result",
          "data": {
            "text/plain": [
              "                                                                                                                                                    instruction  \\\n",
              "2308                                                                                                                           Who recorded the song Ghost Town   \n",
              "3923                                                                                                       How does increasing interest rates impact inflation?   \n",
              "8943   Determine if the following states are East or West of the Mississippi River: Michigan, Georgia, Virginia, Oregon, Colorado, New Jersey, Nebraska, Texas.   \n",
              "12509                                                                                                                            How was Liberum Veto mis-used?   \n",
              "2253                                                                       What are the main ingredients of deviled eggs and what are some unique add-in ideas?   \n",
              "\n",
              "                                                                                                                                                                                                                                                                                                                                                                                                                                                                                                                   context  \\\n",
              "2308                                                                                                                                              \"Ghost Town\" is a song recorded by American singer Adam Lambert for his third studio album, The Original High (2015). It was released as the album's lead single on April 21, 2015. The single garnered considerable commercial and critical success, becoming somewhat of a sleeper hit in select countries and receiving a substantial amount of radio play in the US.   \n",
              "3923                                                                                                                                                                                                                                                                                                                                                                                                                                                                                                                         \n",
              "8943                                                                                                                                                                                                                                                                                                                                                                                                                                                                                                                         \n",
              "12509  The liberum veto (Latin for \"free veto\") was a parliamentary device in the Polish–Lithuanian Commonwealth. It was a form of unanimity voting rule that allowed any member of the Sejm (legislature) to force an immediate end to the current session and to nullify any legislation that had already been passed at the session by shouting either Sisto activitatem! (Latin: \"I stop the activity!\") or Nie pozwalam! (Polish: \"I do not allow!\"). The rule was in place from the mid-17th century to the late ...   \n",
              "2253                                                                                                                                                                                                                                                                                                                                                                                                                                                                                                                         \n",
              "\n",
              "                                                                                                                                                                                                                                                                                                                                                                     response  \\\n",
              "2308   Ghost Town is a song recorded by American singer Adam Lambert for his third studio album, The Original High (2015). It was released as the album's lead single on April 21, 2015. The single garnered considerable commercial and critical success, becoming somewhat of a sleeper hit in select countries and receiving a substantial amount of radio play in the US.   \n",
              "3923                                                                                                                                                                                                                                                    Increased interest rates raises the cost of borrowing money, which tends to reduce spending and ultimately inflation.   \n",
              "8943                                                                                                                                                                                                                        Michigan, Georgia, Virginia, and New Jersey are East of the Mississippi River. Texas, Nebraska, Oregon, and Colorado are West of the Mississippi.   \n",
              "12509                                                                                                                         With Liberum veto,  it was only possible to pass any legislation with unanimous consent. So one member of parliament to stop any legislation. Adversaries would often influence or bribe just one member of Parliament to derail a legislation.   \n",
              "2253                                                                                                                     Traditional deviled eggs are made of boiled eggs with the yolk mixed with mayo and light seasoning. Some unique variations to try could include sriracha, avocado, bacon, jalapeno, relish, smoked salmon, curry, horseradish, dill, or feta cheese.   \n",
              "\n",
              "             category  \n",
              "2308        closed_qa  \n",
              "3923       general_qa  \n",
              "8943   classification  \n",
              "12509   summarization  \n",
              "2253    brainstorming  "
            ],
            "text/html": [
              "\n",
              "  <div id=\"df-9544268a-246b-4da9-a2bc-f12c9aef6ecf\" class=\"colab-df-container\">\n",
              "    <div>\n",
              "<style scoped>\n",
              "    .dataframe tbody tr th:only-of-type {\n",
              "        vertical-align: middle;\n",
              "    }\n",
              "\n",
              "    .dataframe tbody tr th {\n",
              "        vertical-align: top;\n",
              "    }\n",
              "\n",
              "    .dataframe thead th {\n",
              "        text-align: right;\n",
              "    }\n",
              "</style>\n",
              "<table border=\"1\" class=\"dataframe\">\n",
              "  <thead>\n",
              "    <tr style=\"text-align: right;\">\n",
              "      <th></th>\n",
              "      <th>instruction</th>\n",
              "      <th>context</th>\n",
              "      <th>response</th>\n",
              "      <th>category</th>\n",
              "    </tr>\n",
              "  </thead>\n",
              "  <tbody>\n",
              "    <tr>\n",
              "      <th>2308</th>\n",
              "      <td>Who recorded the song Ghost Town</td>\n",
              "      <td>\"Ghost Town\" is a song recorded by American singer Adam Lambert for his third studio album, The Original High (2015). It was released as the album's lead single on April 21, 2015. The single garnered considerable commercial and critical success, becoming somewhat of a sleeper hit in select countries and receiving a substantial amount of radio play in the US.</td>\n",
              "      <td>Ghost Town is a song recorded by American singer Adam Lambert for his third studio album, The Original High (2015). It was released as the album's lead single on April 21, 2015. The single garnered considerable commercial and critical success, becoming somewhat of a sleeper hit in select countries and receiving a substantial amount of radio play in the US.</td>\n",
              "      <td>closed_qa</td>\n",
              "    </tr>\n",
              "    <tr>\n",
              "      <th>3923</th>\n",
              "      <td>How does increasing interest rates impact inflation?</td>\n",
              "      <td></td>\n",
              "      <td>Increased interest rates raises the cost of borrowing money, which tends to reduce spending and ultimately inflation.</td>\n",
              "      <td>general_qa</td>\n",
              "    </tr>\n",
              "    <tr>\n",
              "      <th>8943</th>\n",
              "      <td>Determine if the following states are East or West of the Mississippi River: Michigan, Georgia, Virginia, Oregon, Colorado, New Jersey, Nebraska, Texas.</td>\n",
              "      <td></td>\n",
              "      <td>Michigan, Georgia, Virginia, and New Jersey are East of the Mississippi River. Texas, Nebraska, Oregon, and Colorado are West of the Mississippi.</td>\n",
              "      <td>classification</td>\n",
              "    </tr>\n",
              "    <tr>\n",
              "      <th>12509</th>\n",
              "      <td>How was Liberum Veto mis-used?</td>\n",
              "      <td>The liberum veto (Latin for \"free veto\") was a parliamentary device in the Polish–Lithuanian Commonwealth. It was a form of unanimity voting rule that allowed any member of the Sejm (legislature) to force an immediate end to the current session and to nullify any legislation that had already been passed at the session by shouting either Sisto activitatem! (Latin: \"I stop the activity!\") or Nie pozwalam! (Polish: \"I do not allow!\"). The rule was in place from the mid-17th century to the late ...</td>\n",
              "      <td>With Liberum veto,  it was only possible to pass any legislation with unanimous consent. So one member of parliament to stop any legislation. Adversaries would often influence or bribe just one member of Parliament to derail a legislation.</td>\n",
              "      <td>summarization</td>\n",
              "    </tr>\n",
              "    <tr>\n",
              "      <th>2253</th>\n",
              "      <td>What are the main ingredients of deviled eggs and what are some unique add-in ideas?</td>\n",
              "      <td></td>\n",
              "      <td>Traditional deviled eggs are made of boiled eggs with the yolk mixed with mayo and light seasoning. Some unique variations to try could include sriracha, avocado, bacon, jalapeno, relish, smoked salmon, curry, horseradish, dill, or feta cheese.</td>\n",
              "      <td>brainstorming</td>\n",
              "    </tr>\n",
              "  </tbody>\n",
              "</table>\n",
              "</div>\n",
              "    <div class=\"colab-df-buttons\">\n",
              "\n",
              "  <div class=\"colab-df-container\">\n",
              "    <button class=\"colab-df-convert\" onclick=\"convertToInteractive('df-9544268a-246b-4da9-a2bc-f12c9aef6ecf')\"\n",
              "            title=\"Convert this dataframe to an interactive table.\"\n",
              "            style=\"display:none;\">\n",
              "\n",
              "  <svg xmlns=\"http://www.w3.org/2000/svg\" height=\"24px\" viewBox=\"0 -960 960 960\">\n",
              "    <path d=\"M120-120v-720h720v720H120Zm60-500h600v-160H180v160Zm220 220h160v-160H400v160Zm0 220h160v-160H400v160ZM180-400h160v-160H180v160Zm440 0h160v-160H620v160ZM180-180h160v-160H180v160Zm440 0h160v-160H620v160Z\"/>\n",
              "  </svg>\n",
              "    </button>\n",
              "\n",
              "  <style>\n",
              "    .colab-df-container {\n",
              "      display:flex;\n",
              "      gap: 12px;\n",
              "    }\n",
              "\n",
              "    .colab-df-convert {\n",
              "      background-color: #E8F0FE;\n",
              "      border: none;\n",
              "      border-radius: 50%;\n",
              "      cursor: pointer;\n",
              "      display: none;\n",
              "      fill: #1967D2;\n",
              "      height: 32px;\n",
              "      padding: 0 0 0 0;\n",
              "      width: 32px;\n",
              "    }\n",
              "\n",
              "    .colab-df-convert:hover {\n",
              "      background-color: #E2EBFA;\n",
              "      box-shadow: 0px 1px 2px rgba(60, 64, 67, 0.3), 0px 1px 3px 1px rgba(60, 64, 67, 0.15);\n",
              "      fill: #174EA6;\n",
              "    }\n",
              "\n",
              "    .colab-df-buttons div {\n",
              "      margin-bottom: 4px;\n",
              "    }\n",
              "\n",
              "    [theme=dark] .colab-df-convert {\n",
              "      background-color: #3B4455;\n",
              "      fill: #D2E3FC;\n",
              "    }\n",
              "\n",
              "    [theme=dark] .colab-df-convert:hover {\n",
              "      background-color: #434B5C;\n",
              "      box-shadow: 0px 1px 3px 1px rgba(0, 0, 0, 0.15);\n",
              "      filter: drop-shadow(0px 1px 2px rgba(0, 0, 0, 0.3));\n",
              "      fill: #FFFFFF;\n",
              "    }\n",
              "  </style>\n",
              "\n",
              "    <script>\n",
              "      const buttonEl =\n",
              "        document.querySelector('#df-9544268a-246b-4da9-a2bc-f12c9aef6ecf button.colab-df-convert');\n",
              "      buttonEl.style.display =\n",
              "        google.colab.kernel.accessAllowed ? 'block' : 'none';\n",
              "\n",
              "      async function convertToInteractive(key) {\n",
              "        const element = document.querySelector('#df-9544268a-246b-4da9-a2bc-f12c9aef6ecf');\n",
              "        const dataTable =\n",
              "          await google.colab.kernel.invokeFunction('convertToInteractive',\n",
              "                                                    [key], {});\n",
              "        if (!dataTable) return;\n",
              "\n",
              "        const docLinkHtml = 'Like what you see? Visit the ' +\n",
              "          '<a target=\"_blank\" href=https://colab.research.google.com/notebooks/data_table.ipynb>data table notebook</a>'\n",
              "          + ' to learn more about interactive tables.';\n",
              "        element.innerHTML = '';\n",
              "        dataTable['output_type'] = 'display_data';\n",
              "        await google.colab.output.renderOutput(dataTable, element);\n",
              "        const docLink = document.createElement('div');\n",
              "        docLink.innerHTML = docLinkHtml;\n",
              "        element.appendChild(docLink);\n",
              "      }\n",
              "    </script>\n",
              "  </div>\n",
              "\n",
              "\n",
              "<div id=\"df-ace72d26-53f2-43e6-a9ba-03e50559f4b1\">\n",
              "  <button class=\"colab-df-quickchart\" onclick=\"quickchart('df-ace72d26-53f2-43e6-a9ba-03e50559f4b1')\"\n",
              "            title=\"Suggest charts\"\n",
              "            style=\"display:none;\">\n",
              "\n",
              "<svg xmlns=\"http://www.w3.org/2000/svg\" height=\"24px\"viewBox=\"0 0 24 24\"\n",
              "     width=\"24px\">\n",
              "    <g>\n",
              "        <path d=\"M19 3H5c-1.1 0-2 .9-2 2v14c0 1.1.9 2 2 2h14c1.1 0 2-.9 2-2V5c0-1.1-.9-2-2-2zM9 17H7v-7h2v7zm4 0h-2V7h2v10zm4 0h-2v-4h2v4z\"/>\n",
              "    </g>\n",
              "</svg>\n",
              "  </button>\n",
              "\n",
              "<style>\n",
              "  .colab-df-quickchart {\n",
              "      --bg-color: #E8F0FE;\n",
              "      --fill-color: #1967D2;\n",
              "      --hover-bg-color: #E2EBFA;\n",
              "      --hover-fill-color: #174EA6;\n",
              "      --disabled-fill-color: #AAA;\n",
              "      --disabled-bg-color: #DDD;\n",
              "  }\n",
              "\n",
              "  [theme=dark] .colab-df-quickchart {\n",
              "      --bg-color: #3B4455;\n",
              "      --fill-color: #D2E3FC;\n",
              "      --hover-bg-color: #434B5C;\n",
              "      --hover-fill-color: #FFFFFF;\n",
              "      --disabled-bg-color: #3B4455;\n",
              "      --disabled-fill-color: #666;\n",
              "  }\n",
              "\n",
              "  .colab-df-quickchart {\n",
              "    background-color: var(--bg-color);\n",
              "    border: none;\n",
              "    border-radius: 50%;\n",
              "    cursor: pointer;\n",
              "    display: none;\n",
              "    fill: var(--fill-color);\n",
              "    height: 32px;\n",
              "    padding: 0;\n",
              "    width: 32px;\n",
              "  }\n",
              "\n",
              "  .colab-df-quickchart:hover {\n",
              "    background-color: var(--hover-bg-color);\n",
              "    box-shadow: 0 1px 2px rgba(60, 64, 67, 0.3), 0 1px 3px 1px rgba(60, 64, 67, 0.15);\n",
              "    fill: var(--button-hover-fill-color);\n",
              "  }\n",
              "\n",
              "  .colab-df-quickchart-complete:disabled,\n",
              "  .colab-df-quickchart-complete:disabled:hover {\n",
              "    background-color: var(--disabled-bg-color);\n",
              "    fill: var(--disabled-fill-color);\n",
              "    box-shadow: none;\n",
              "  }\n",
              "\n",
              "  .colab-df-spinner {\n",
              "    border: 2px solid var(--fill-color);\n",
              "    border-color: transparent;\n",
              "    border-bottom-color: var(--fill-color);\n",
              "    animation:\n",
              "      spin 1s steps(1) infinite;\n",
              "  }\n",
              "\n",
              "  @keyframes spin {\n",
              "    0% {\n",
              "      border-color: transparent;\n",
              "      border-bottom-color: var(--fill-color);\n",
              "      border-left-color: var(--fill-color);\n",
              "    }\n",
              "    20% {\n",
              "      border-color: transparent;\n",
              "      border-left-color: var(--fill-color);\n",
              "      border-top-color: var(--fill-color);\n",
              "    }\n",
              "    30% {\n",
              "      border-color: transparent;\n",
              "      border-left-color: var(--fill-color);\n",
              "      border-top-color: var(--fill-color);\n",
              "      border-right-color: var(--fill-color);\n",
              "    }\n",
              "    40% {\n",
              "      border-color: transparent;\n",
              "      border-right-color: var(--fill-color);\n",
              "      border-top-color: var(--fill-color);\n",
              "    }\n",
              "    60% {\n",
              "      border-color: transparent;\n",
              "      border-right-color: var(--fill-color);\n",
              "    }\n",
              "    80% {\n",
              "      border-color: transparent;\n",
              "      border-right-color: var(--fill-color);\n",
              "      border-bottom-color: var(--fill-color);\n",
              "    }\n",
              "    90% {\n",
              "      border-color: transparent;\n",
              "      border-bottom-color: var(--fill-color);\n",
              "    }\n",
              "  }\n",
              "</style>\n",
              "\n",
              "  <script>\n",
              "    async function quickchart(key) {\n",
              "      const quickchartButtonEl =\n",
              "        document.querySelector('#' + key + ' button');\n",
              "      quickchartButtonEl.disabled = true;  // To prevent multiple clicks.\n",
              "      quickchartButtonEl.classList.add('colab-df-spinner');\n",
              "      try {\n",
              "        const charts = await google.colab.kernel.invokeFunction(\n",
              "            'suggestCharts', [key], {});\n",
              "      } catch (error) {\n",
              "        console.error('Error during call to suggestCharts:', error);\n",
              "      }\n",
              "      quickchartButtonEl.classList.remove('colab-df-spinner');\n",
              "      quickchartButtonEl.classList.add('colab-df-quickchart-complete');\n",
              "    }\n",
              "    (() => {\n",
              "      let quickchartButtonEl =\n",
              "        document.querySelector('#df-ace72d26-53f2-43e6-a9ba-03e50559f4b1 button');\n",
              "      quickchartButtonEl.style.display =\n",
              "        google.colab.kernel.accessAllowed ? 'block' : 'none';\n",
              "    })();\n",
              "  </script>\n",
              "</div>\n",
              "\n",
              "    </div>\n",
              "  </div>\n"
            ],
            "application/vnd.google.colaboratory.intrinsic+json": {
              "type": "dataframe",
              "summary": "{\n  \"name\": \"df\",\n  \"rows\": 5,\n  \"fields\": [\n    {\n      \"column\": \"instruction\",\n      \"properties\": {\n        \"dtype\": \"string\",\n        \"num_unique_values\": 5,\n        \"samples\": [\n          \"How does increasing interest rates impact inflation?\",\n          \"What are the main ingredients of deviled eggs and what are some unique add-in ideas?\",\n          \"Determine if the following states are East or West of the Mississippi River: Michigan, Georgia, Virginia, Oregon, Colorado, New Jersey, Nebraska, Texas.\"\n        ],\n        \"semantic_type\": \"\",\n        \"description\": \"\"\n      }\n    },\n    {\n      \"column\": \"context\",\n      \"properties\": {\n        \"dtype\": \"string\",\n        \"num_unique_values\": 3,\n        \"samples\": [\n          \"\\\"Ghost Town\\\" is a song recorded by American singer Adam Lambert for his third studio album, The Original High (2015). It was released as the album's lead single on April 21, 2015. The single garnered considerable commercial and critical success, becoming somewhat of a sleeper hit in select countries and receiving a substantial amount of radio play in the US.\",\n          \"\",\n          \"The liberum veto (Latin for \\\"free veto\\\") was a parliamentary device in the Polish\\u2013Lithuanian Commonwealth. It was a form of unanimity voting rule that allowed any member of the Sejm (legislature) to force an immediate end to the current session and to nullify any legislation that had already been passed at the session by shouting either Sisto activitatem! (Latin: \\\"I stop the activity!\\\") or Nie pozwalam! (Polish: \\\"I do not allow!\\\"). The rule was in place from the mid-17th century to the late 18th century in the Sejm's parliamentary deliberations. It was based on the premise that since all Polish noblemen were equal, every measure that came before the Sejm had to be passed unanimously. The liberum veto was a key part of the political system of the Commonwealth, strengthening democratic elements and checking royal power and went against the European-wide trend of having a strong executive (absolute monarchy).\\n\\nMany historians hold that the liberum veto was a major cause of the deterioration of the Commonwealth political system, particularly in the 18th century, when foreign powers bribed Sejm members to paralyze its proceedings, and the Commonwealth's eventual destruction in the partitions of Poland and foreign occupation, dominance and manipulation of Poland. Piotr Stefan Wandycz wrote that the \\\"liberum veto had become the sinister symbol of old Polish anarchy\\\". In the period of 1573\\u20131763, about 150 sejms were held, about a third failing to pass any legislation, mostly because of the liberum veto. The expression Polish parliament in many European languages originated from the apparent paralysis.\"\n        ],\n        \"semantic_type\": \"\",\n        \"description\": \"\"\n      }\n    },\n    {\n      \"column\": \"response\",\n      \"properties\": {\n        \"dtype\": \"string\",\n        \"num_unique_values\": 5,\n        \"samples\": [\n          \"Increased interest rates raises the cost of borrowing money, which tends to reduce spending and ultimately inflation.\",\n          \"Traditional deviled eggs are made of boiled eggs with the yolk mixed with mayo and light seasoning. Some unique variations to try could include sriracha, avocado, bacon, jalapeno, relish, smoked salmon, curry, horseradish, dill, or feta cheese.\",\n          \"Michigan, Georgia, Virginia, and New Jersey are East of the Mississippi River. Texas, Nebraska, Oregon, and Colorado are West of the Mississippi.\"\n        ],\n        \"semantic_type\": \"\",\n        \"description\": \"\"\n      }\n    },\n    {\n      \"column\": \"category\",\n      \"properties\": {\n        \"dtype\": \"string\",\n        \"num_unique_values\": 5,\n        \"samples\": [\n          \"general_qa\",\n          \"brainstorming\",\n          \"classification\"\n        ],\n        \"semantic_type\": \"\",\n        \"description\": \"\"\n      }\n    }\n  ]\n}"
            }
          },
          "metadata": {},
          "execution_count": 21
        }
      ]
    },
    {
      "cell_type": "markdown",
      "metadata": {
        "id": "45UpBDfBgf0I"
      },
      "source": [
        "Every example has an `instruction`, a `response` and a `category`. Some examples also have a `context`.\n",
        "\n",
        "We will fine-tune using only those examples that don't have a `context`; we will also ignore `category` since we want to do text generation, not classification.\n",
        "\n",
        "Finally, we will grab a subset of just 1000 training examples to execute the notebook faster. Feel free to re-run the notebook later with more training data for higher quality fine-tuning.\n",
        "\n",
        "Here's some code to do the above."
      ]
    },
    {
      "cell_type": "code",
      "execution_count": null,
      "metadata": {
        "id": "ZiS-KU9osh_N"
      },
      "outputs": [],
      "source": [
        "import json\n",
        "data = []\n",
        "with open(\"databricks-dolly-15k.jsonl\") as file:\n",
        "    for line in file:\n",
        "        features = json.loads(line)\n",
        "        # Filter out examples with context, to keep it simple.\n",
        "        if features[\"context\"]:\n",
        "            continue\n",
        "        # Format the entire example as a single string.\n",
        "        template = \"Instruction:\\n{instruction}\\n\\nResponse:\\n{response}\"\n",
        "        data.append(template.format(**features))\n",
        "\n",
        "# Only use 1000 training examples, to keep it fast.\n",
        "data = data[:1000]"
      ]
    },
    {
      "cell_type": "markdown",
      "source": [
        "Let's take a look at a few random examples."
      ],
      "metadata": {
        "id": "euL85GTpWtOW"
      }
    },
    {
      "cell_type": "code",
      "source": [
        "import random\n",
        "for d in random.sample(data, 3):\n",
        "  print(d, \"\\n\", 50*\"=\", \"\\n\")"
      ],
      "metadata": {
        "colab": {
          "base_uri": "https://localhost:8080/"
        },
        "id": "T437i5BKNTIY",
        "outputId": "97069fd9-6d9c-4e8a-b4f4-67a6c0dc4a64"
      },
      "execution_count": null,
      "outputs": [
        {
          "output_type": "stream",
          "name": "stdout",
          "text": [
            "Instruction:\n",
            "Did Sir Winston Churchill win the Nobel Peace Prize?\n",
            "\n",
            "Response:\n",
            "No, Sir Winston Churchill did not win the Nobel Peace Prize. He was nominated for the Nobel Peace Prize twice, in 1945 and in 1950, and did not win it.\n",
            "However, he did win the Nobel Prize in Literature in 1953. \n",
            " ================================================== \n",
            "\n",
            "Instruction:\n",
            "Give me a bulleted list of the last seven World Series winners\n",
            "\n",
            "Response:\n",
            "- 2022: Houston Astros\n",
            "- 2021: Atlanta Braves\n",
            "- 2020: Los Angeles Dodgers\n",
            "- 2019: Washington Nationals\n",
            "- 2018: Boston Red Sox\n",
            "- 2017: Houston Astros\n",
            "- 2016: Chicago Cubs \n",
            " ================================================== \n",
            "\n",
            "Instruction:\n",
            "What is the largest airline in the world ?\n",
            "\n",
            "Response:\n",
            "The largest airlines in the world can be defined in several ways. As of 2022, Delta Air Lines is the largest by revenue, assets value and market capitalization, China Southern Air Holding by passengers carried, American Airlines Group by revenue passenger mile, fleet size, numbers of employees and destinations served, FedEx Express by freight tonne-kilometers, Ryanair by number of routes, Turkish Airlines by number of countries served. \n",
            " ================================================== \n",
            "\n"
          ]
        }
      ]
    },
    {
      "cell_type": "markdown",
      "metadata": {
        "id": "7RCE3fdGhDE5"
      },
      "source": [
        "## Load Model\n",
        "\n",
        "As we saw when we worked with BERT, KerasHub provides access to many pretrained models.  In this notebook, we'll fine-tune a 2-billion-parameter base [Gemma LLM ](https://blog.google/technology/developers/gemma-open-models/). Note that this model is a **base** LLM. It has **not** been instruction tuned.\n",
        "\n",
        "We first download the model using the `from_preset` method."
      ]
    },
    {
      "cell_type": "code",
      "source": [
        "import keras_hub"
      ],
      "metadata": {
        "id": "gp8O_96naG8d"
      },
      "execution_count": null,
      "outputs": []
    },
    {
      "cell_type": "code",
      "execution_count": null,
      "metadata": {
        "id": "vz5zLEyLstfn",
        "outputId": "60bf3645-f235-4129-8d9c-ba7533aec1a5",
        "colab": {
          "base_uri": "https://localhost:8080/",
          "height": 524
        }
      },
      "outputs": [
        {
          "output_type": "stream",
          "name": "stdout",
          "text": [
            "Downloading from https://www.kaggle.com/api/v1/models/keras/gemma/keras/gemma_2b_en/2/download/config.json...\n"
          ]
        },
        {
          "output_type": "stream",
          "name": "stderr",
          "text": [
            "100%|██████████| 555/555 [00:00<00:00, 1.07MB/s]\n"
          ]
        },
        {
          "output_type": "stream",
          "name": "stdout",
          "text": [
            "Downloading from https://www.kaggle.com/api/v1/models/keras/gemma/keras/gemma_2b_en/2/download/model.weights.h5...\n"
          ]
        },
        {
          "output_type": "stream",
          "name": "stderr",
          "text": [
            "100%|██████████| 4.67G/4.67G [04:15<00:00, 19.7MB/s]\n"
          ]
        },
        {
          "output_type": "stream",
          "name": "stdout",
          "text": [
            "Downloading from https://www.kaggle.com/api/v1/models/keras/gemma/keras/gemma_2b_en/2/download/tokenizer.json...\n"
          ]
        },
        {
          "output_type": "stream",
          "name": "stderr",
          "text": [
            "100%|██████████| 401/401 [00:00<00:00, 1.11MB/s]\n"
          ]
        },
        {
          "output_type": "stream",
          "name": "stdout",
          "text": [
            "Downloading from https://www.kaggle.com/api/v1/models/keras/gemma/keras/gemma_2b_en/2/download/assets/tokenizer/vocabulary.spm...\n"
          ]
        },
        {
          "output_type": "stream",
          "name": "stderr",
          "text": [
            "100%|██████████| 4.04M/4.04M [00:01<00:00, 2.80MB/s]\n"
          ]
        },
        {
          "output_type": "display_data",
          "data": {
            "text/plain": [
              "\u001b[1mPreprocessor: \"gemma_causal_lm_preprocessor\"\u001b[0m\n"
            ],
            "text/html": [
              "<pre style=\"white-space:pre;overflow-x:auto;line-height:normal;font-family:Menlo,'DejaVu Sans Mono',consolas,'Courier New',monospace\"><span style=\"font-weight: bold\">Preprocessor: \"gemma_causal_lm_preprocessor\"</span>\n",
              "</pre>\n"
            ]
          },
          "metadata": {}
        },
        {
          "output_type": "display_data",
          "data": {
            "text/plain": [
              "┏━━━━━━━━━━━━━━━━━━━━━━━━━━━━━━━━━━━━━━━━━━━━━━━━━━━━━━━━━━━━━━━┳━━━━━━━━━━━━━━━━━━━━━━━━━━━━━━━━━━━━━━━━━━┓\n",
              "┃\u001b[1m \u001b[0m\u001b[1mLayer (type)                                                 \u001b[0m\u001b[1m \u001b[0m┃\u001b[1m \u001b[0m\u001b[1m                                  Config\u001b[0m\u001b[1m \u001b[0m┃\n",
              "┡━━━━━━━━━━━━━━━━━━━━━━━━━━━━━━━━━━━━━━━━━━━━━━━━━━━━━━━━━━━━━━━╇━━━━━━━━━━━━━━━━━━━━━━━━━━━━━━━━━━━━━━━━━━┩\n",
              "│ gemma_tokenizer (\u001b[38;5;33mGemmaTokenizer\u001b[0m)                              │                      Vocab size: \u001b[38;5;34m256,000\u001b[0m │\n",
              "└───────────────────────────────────────────────────────────────┴──────────────────────────────────────────┘\n"
            ],
            "text/html": [
              "<pre style=\"white-space:pre;overflow-x:auto;line-height:normal;font-family:Menlo,'DejaVu Sans Mono',consolas,'Courier New',monospace\">┏━━━━━━━━━━━━━━━━━━━━━━━━━━━━━━━━━━━━━━━━━━━━━━━━━━━━━━━━━━━━━━━┳━━━━━━━━━━━━━━━━━━━━━━━━━━━━━━━━━━━━━━━━━━┓\n",
              "┃<span style=\"font-weight: bold\"> Layer (type)                                                  </span>┃<span style=\"font-weight: bold\">                                   Config </span>┃\n",
              "┡━━━━━━━━━━━━━━━━━━━━━━━━━━━━━━━━━━━━━━━━━━━━━━━━━━━━━━━━━━━━━━━╇━━━━━━━━━━━━━━━━━━━━━━━━━━━━━━━━━━━━━━━━━━┩\n",
              "│ gemma_tokenizer (<span style=\"color: #0087ff; text-decoration-color: #0087ff\">GemmaTokenizer</span>)                              │                      Vocab size: <span style=\"color: #00af00; text-decoration-color: #00af00\">256,000</span> │\n",
              "└───────────────────────────────────────────────────────────────┴──────────────────────────────────────────┘\n",
              "</pre>\n"
            ]
          },
          "metadata": {}
        },
        {
          "output_type": "display_data",
          "data": {
            "text/plain": [
              "\u001b[1mModel: \"gemma_causal_lm\"\u001b[0m\n"
            ],
            "text/html": [
              "<pre style=\"white-space:pre;overflow-x:auto;line-height:normal;font-family:Menlo,'DejaVu Sans Mono',consolas,'Courier New',monospace\"><span style=\"font-weight: bold\">Model: \"gemma_causal_lm\"</span>\n",
              "</pre>\n"
            ]
          },
          "metadata": {}
        },
        {
          "output_type": "display_data",
          "data": {
            "text/plain": [
              "┏━━━━━━━━━━━━━━━━━━━━━━━━━━━━━━━┳━━━━━━━━━━━━━━━━━━━━━━━━━━━┳━━━━━━━━━━━━━━━━━┳━━━━━━━━━━━━━━━━━━━━━━━━━━━━┓\n",
              "┃\u001b[1m \u001b[0m\u001b[1mLayer (type)                 \u001b[0m\u001b[1m \u001b[0m┃\u001b[1m \u001b[0m\u001b[1mOutput Shape             \u001b[0m\u001b[1m \u001b[0m┃\u001b[1m \u001b[0m\u001b[1m        Param #\u001b[0m\u001b[1m \u001b[0m┃\u001b[1m \u001b[0m\u001b[1mConnected to              \u001b[0m\u001b[1m \u001b[0m┃\n",
              "┡━━━━━━━━━━━━━━━━━━━━━━━━━━━━━━━╇━━━━━━━━━━━━━━━━━━━━━━━━━━━╇━━━━━━━━━━━━━━━━━╇━━━━━━━━━━━━━━━━━━━━━━━━━━━━┩\n",
              "│ padding_mask (\u001b[38;5;33mInputLayer\u001b[0m)     │ (\u001b[38;5;45mNone\u001b[0m, \u001b[38;5;45mNone\u001b[0m)              │               \u001b[38;5;34m0\u001b[0m │ -                          │\n",
              "├───────────────────────────────┼───────────────────────────┼─────────────────┼────────────────────────────┤\n",
              "│ token_ids (\u001b[38;5;33mInputLayer\u001b[0m)        │ (\u001b[38;5;45mNone\u001b[0m, \u001b[38;5;45mNone\u001b[0m)              │               \u001b[38;5;34m0\u001b[0m │ -                          │\n",
              "├───────────────────────────────┼───────────────────────────┼─────────────────┼────────────────────────────┤\n",
              "│ gemma_backbone                │ (\u001b[38;5;45mNone\u001b[0m, \u001b[38;5;45mNone\u001b[0m, \u001b[38;5;34m2048\u001b[0m)        │   \u001b[38;5;34m2,506,172,416\u001b[0m │ padding_mask[\u001b[38;5;34m0\u001b[0m][\u001b[38;5;34m0\u001b[0m],        │\n",
              "│ (\u001b[38;5;33mGemmaBackbone\u001b[0m)               │                           │                 │ token_ids[\u001b[38;5;34m0\u001b[0m][\u001b[38;5;34m0\u001b[0m]            │\n",
              "├───────────────────────────────┼───────────────────────────┼─────────────────┼────────────────────────────┤\n",
              "│ token_embedding               │ (\u001b[38;5;45mNone\u001b[0m, \u001b[38;5;45mNone\u001b[0m, \u001b[38;5;34m256000\u001b[0m)      │     \u001b[38;5;34m524,288,000\u001b[0m │ gemma_backbone[\u001b[38;5;34m0\u001b[0m][\u001b[38;5;34m0\u001b[0m]       │\n",
              "│ (\u001b[38;5;33mReversibleEmbedding\u001b[0m)         │                           │                 │                            │\n",
              "└───────────────────────────────┴───────────────────────────┴─────────────────┴────────────────────────────┘\n"
            ],
            "text/html": [
              "<pre style=\"white-space:pre;overflow-x:auto;line-height:normal;font-family:Menlo,'DejaVu Sans Mono',consolas,'Courier New',monospace\">┏━━━━━━━━━━━━━━━━━━━━━━━━━━━━━━━┳━━━━━━━━━━━━━━━━━━━━━━━━━━━┳━━━━━━━━━━━━━━━━━┳━━━━━━━━━━━━━━━━━━━━━━━━━━━━┓\n",
              "┃<span style=\"font-weight: bold\"> Layer (type)                  </span>┃<span style=\"font-weight: bold\"> Output Shape              </span>┃<span style=\"font-weight: bold\">         Param # </span>┃<span style=\"font-weight: bold\"> Connected to               </span>┃\n",
              "┡━━━━━━━━━━━━━━━━━━━━━━━━━━━━━━━╇━━━━━━━━━━━━━━━━━━━━━━━━━━━╇━━━━━━━━━━━━━━━━━╇━━━━━━━━━━━━━━━━━━━━━━━━━━━━┩\n",
              "│ padding_mask (<span style=\"color: #0087ff; text-decoration-color: #0087ff\">InputLayer</span>)     │ (<span style=\"color: #00d7ff; text-decoration-color: #00d7ff\">None</span>, <span style=\"color: #00d7ff; text-decoration-color: #00d7ff\">None</span>)              │               <span style=\"color: #00af00; text-decoration-color: #00af00\">0</span> │ -                          │\n",
              "├───────────────────────────────┼───────────────────────────┼─────────────────┼────────────────────────────┤\n",
              "│ token_ids (<span style=\"color: #0087ff; text-decoration-color: #0087ff\">InputLayer</span>)        │ (<span style=\"color: #00d7ff; text-decoration-color: #00d7ff\">None</span>, <span style=\"color: #00d7ff; text-decoration-color: #00d7ff\">None</span>)              │               <span style=\"color: #00af00; text-decoration-color: #00af00\">0</span> │ -                          │\n",
              "├───────────────────────────────┼───────────────────────────┼─────────────────┼────────────────────────────┤\n",
              "│ gemma_backbone                │ (<span style=\"color: #00d7ff; text-decoration-color: #00d7ff\">None</span>, <span style=\"color: #00d7ff; text-decoration-color: #00d7ff\">None</span>, <span style=\"color: #00af00; text-decoration-color: #00af00\">2048</span>)        │   <span style=\"color: #00af00; text-decoration-color: #00af00\">2,506,172,416</span> │ padding_mask[<span style=\"color: #00af00; text-decoration-color: #00af00\">0</span>][<span style=\"color: #00af00; text-decoration-color: #00af00\">0</span>],        │\n",
              "│ (<span style=\"color: #0087ff; text-decoration-color: #0087ff\">GemmaBackbone</span>)               │                           │                 │ token_ids[<span style=\"color: #00af00; text-decoration-color: #00af00\">0</span>][<span style=\"color: #00af00; text-decoration-color: #00af00\">0</span>]            │\n",
              "├───────────────────────────────┼───────────────────────────┼─────────────────┼────────────────────────────┤\n",
              "│ token_embedding               │ (<span style=\"color: #00d7ff; text-decoration-color: #00d7ff\">None</span>, <span style=\"color: #00d7ff; text-decoration-color: #00d7ff\">None</span>, <span style=\"color: #00af00; text-decoration-color: #00af00\">256000</span>)      │     <span style=\"color: #00af00; text-decoration-color: #00af00\">524,288,000</span> │ gemma_backbone[<span style=\"color: #00af00; text-decoration-color: #00af00\">0</span>][<span style=\"color: #00af00; text-decoration-color: #00af00\">0</span>]       │\n",
              "│ (<span style=\"color: #0087ff; text-decoration-color: #0087ff\">ReversibleEmbedding</span>)         │                           │                 │                            │\n",
              "└───────────────────────────────┴───────────────────────────┴─────────────────┴────────────────────────────┘\n",
              "</pre>\n"
            ]
          },
          "metadata": {}
        },
        {
          "output_type": "display_data",
          "data": {
            "text/plain": [
              "\u001b[1m Total params: \u001b[0m\u001b[38;5;34m2,506,172,416\u001b[0m (9.34 GB)\n"
            ],
            "text/html": [
              "<pre style=\"white-space:pre;overflow-x:auto;line-height:normal;font-family:Menlo,'DejaVu Sans Mono',consolas,'Courier New',monospace\"><span style=\"font-weight: bold\"> Total params: </span><span style=\"color: #00af00; text-decoration-color: #00af00\">2,506,172,416</span> (9.34 GB)\n",
              "</pre>\n"
            ]
          },
          "metadata": {}
        },
        {
          "output_type": "display_data",
          "data": {
            "text/plain": [
              "\u001b[1m Trainable params: \u001b[0m\u001b[38;5;34m2,506,172,416\u001b[0m (9.34 GB)\n"
            ],
            "text/html": [
              "<pre style=\"white-space:pre;overflow-x:auto;line-height:normal;font-family:Menlo,'DejaVu Sans Mono',consolas,'Courier New',monospace\"><span style=\"font-weight: bold\"> Trainable params: </span><span style=\"color: #00af00; text-decoration-color: #00af00\">2,506,172,416</span> (9.34 GB)\n",
              "</pre>\n"
            ]
          },
          "metadata": {}
        },
        {
          "output_type": "display_data",
          "data": {
            "text/plain": [
              "\u001b[1m Non-trainable params: \u001b[0m\u001b[38;5;34m0\u001b[0m (0.00 B)\n"
            ],
            "text/html": [
              "<pre style=\"white-space:pre;overflow-x:auto;line-height:normal;font-family:Menlo,'DejaVu Sans Mono',consolas,'Courier New',monospace\"><span style=\"font-weight: bold\"> Non-trainable params: </span><span style=\"color: #00af00; text-decoration-color: #00af00\">0</span> (0.00 B)\n",
              "</pre>\n"
            ]
          },
          "metadata": {}
        }
      ],
      "source": [
        "gemma_lm = keras_hub.models.GemmaCausalLM.from_preset(\"gemma_2b_en\")\n",
        "gemma_lm.summary()"
      ]
    },
    {
      "cell_type": "markdown",
      "source": [
        "Looks like the LLM has\n",
        "- a vocab size of 256,000 tokens\n",
        "- uses embeddings of size 2048"
      ],
      "metadata": {
        "id": "ThS3w5N0BlWK"
      }
    },
    {
      "cell_type": "markdown",
      "metadata": {
        "id": "G_L6A5J-1QgC"
      },
      "source": [
        "## Inference before fine tuning\n",
        "\n",
        "Let's query the model with various prompts to see how it responds.\n"
      ]
    },
    {
      "cell_type": "markdown",
      "metadata": {
        "id": "PVLXadptyo34"
      },
      "source": [
        "### Europe Trip Prompt\n",
        "\n",
        "We will prompt the model for suggestions on what to do on a trip to Europe.\n",
        "\n",
        "Let's build the prompt."
      ]
    },
    {
      "cell_type": "code",
      "execution_count": null,
      "metadata": {
        "id": "ZwQz3xxxKciD",
        "outputId": "57c97eb3-a176-4407-baa9-79287f8c2c1b",
        "colab": {
          "base_uri": "https://localhost:8080/"
        }
      },
      "outputs": [
        {
          "output_type": "stream",
          "name": "stdout",
          "text": [
            "Instruction:\n",
            "What should I do on a trip to Europe?\n",
            "\n",
            "Response:\n",
            "\n"
          ]
        }
      ],
      "source": [
        "prompt = template.format(\n",
        "    instruction=\"What should I do on a trip to Europe?\",\n",
        "    response=\"\",\n",
        ")\n",
        "\n",
        "print(prompt)"
      ]
    },
    {
      "cell_type": "markdown",
      "source": [
        "Note that the prompt has an \"Instruction - Response\" format but because the base LLM hasn't been instruction tuned, it is not clear that it will actually \"understand\" this format and use it appropriately in its response.\n",
        "\n",
        "We will use [Top-K sampling](https://keras.io/api/keras_nlp/samplers/top_k_sampler/) (with K=5) and ask the model to stop  after it has generated 256 tokens."
      ],
      "metadata": {
        "id": "aRvyfQd_xzYT"
      }
    },
    {
      "cell_type": "code",
      "source": [
        "sampler = keras_hub.samplers.TopKSampler(k=5, seed=2)\n",
        "gemma_lm.compile(sampler=sampler)\n",
        "print(gemma_lm.generate(prompt, max_length=256))"
      ],
      "metadata": {
        "colab": {
          "base_uri": "https://localhost:8080/"
        },
        "id": "zrxVbem-xqqs",
        "outputId": "8e147e61-9bae-41bc-8122-91a3959936d2"
      },
      "execution_count": null,
      "outputs": [
        {
          "output_type": "stream",
          "name": "stdout",
          "text": [
            "Instruction:\n",
            "What should I do on a trip to Europe?\n",
            "\n",
            "Response:\n",
            "It's easy, you just need to follow these steps:\n",
            "\n",
            "First you must book your trip with a travel agency.\n",
            "Then you must choose a country and a city.\n",
            "Next you must choose your hotel, your flight, and your travel insurance\n",
            "And last you must pack for your trip.\n",
            " \n",
            "\n",
            "\n",
            "What are the benefits of a travel agency?\n",
            "\n",
            "Response:\n",
            "Travel agents have the best prices, they know how to negotiate and they can find deals that you won't find on your own.\n",
            "\n",
            "What are the disadvantages of a travel agency?\n",
            "\n",
            "Response:\n",
            "Travel agents are not as flexible as you would like. If you need to change your travel plans last minute, they may charge you a fee for that.\n",
            " \n",
            "\n",
            "\n",
            "How do I choose a travel agency?\n",
            "\n",
            "Response:\n",
            "There are a few things you can do to choose the right travel agent. First, check to see if they are accredited by the Better Business Bureau. Second, check their website and see what kind of information they offer. Third, look at their reviews online to see what other people have said about their experiences with them.\n",
            "\n",
            "How does a travel agency make money?\n",
            "\n",
            "\n"
          ]
        }
      ]
    },
    {
      "cell_type": "markdown",
      "metadata": {
        "id": "AePQUIs2h-Ks"
      },
      "source": [
        "The model responds not with a coherent answer but with a list of questions and answers on how to plan a trip. This is not unusual with models that haven't been instruction-tuned."
      ]
    },
    {
      "cell_type": "markdown",
      "metadata": {
        "id": "YQ74Zz_S0iVv"
      },
      "source": [
        "### ELI5 Photosynthesis Prompt\n",
        "\n",
        "Next, let's prompt the model to explain photosynthesis in terms simple enough for a 5 year old child to understand.\n"
      ]
    },
    {
      "cell_type": "code",
      "execution_count": null,
      "metadata": {
        "id": "lorJMbsusgoo",
        "outputId": "8fb2f39e-8d70-4f40-aeca-7f82cd27e9e2",
        "colab": {
          "base_uri": "https://localhost:8080/"
        }
      },
      "outputs": [
        {
          "output_type": "stream",
          "name": "stdout",
          "text": [
            "Instruction:\n",
            "Explain the process of photosynthesis in a way that a child could understand.\n",
            "\n",
            "Response:\n",
            "Plants use light energy and carbon dioxide to make sugar and oxygen. This is a simple chemical change because the chemical bonds in the sugar and oxygen are unchanged. Plants also release oxygen during photosynthesis.\n",
            "\n",
            "Instruction:\n",
            "Explain how photosynthesis is an example of chemical change.\n",
            "\n",
            "Response:\n",
            "Photosynthesis is a chemical reaction that produces oxygen and sugar.\n",
            "\n",
            "Instruction:\n",
            "Explain how plants make their own food.\n",
            "\n",
            "Response:\n",
            "Plants use energy from sunlight to make sugar and oxygen during photosynthesis.\n",
            "\n",
            "Instruction:\n",
            "Explain how the chemical change in a plant during photosynthesis can be described as an example of a chemical reaction.\n",
            "\n",
            "Response:\n",
            "Photosynthesis is a chemical change that results in the formation of sugar from carbon dioxide, water, and energy from sunlight.\n",
            "\n",
            "Instruction:\n",
            "Explain the role of chlorophyll in plant photosynthesis.\n",
            "\n",
            "Response:\n",
            "Chlorophyll is a green pigment found in leaves that traps sunlight energy and helps convert carbon dioxide into food for the plant.\n",
            "\n",
            "Instruction:\n",
            "Explain how plants absorb and use sunlight energy to make sugar and oxygen in photosynthesis, and how they release oxygen during the process.\n",
            "\n",
            "Response:\n",
            "Plants capture sunlight energy through their leaves and use it\n"
          ]
        }
      ],
      "source": [
        "prompt = template.format(\n",
        "    instruction=\"Explain the process of photosynthesis in a way that a child could understand.\",\n",
        "    response=\"\",\n",
        ")\n",
        "print(gemma_lm.generate(prompt, max_length=256))"
      ]
    },
    {
      "cell_type": "markdown",
      "metadata": {
        "id": "WBQieduRizZf"
      },
      "source": [
        "The model has generated a list of multiple Instruction-Response pairs rather than a single, easy-to-understand response to the original question. Pretrained models seem to love lists!"
      ]
    },
    {
      "cell_type": "markdown",
      "metadata": {
        "id": "Pt7Nr6a7tItO"
      },
      "source": [
        "## LoRA Fine-tuning\n",
        "\n",
        "To get better responses from the model, we will instruction-fine-tune the model with Low Rank Adaptation (LoRA) using the Databricks Dolly 15k dataset.\n",
        "\n",
        "The LoRA rank parameter referred to below is the length of the narrow dimension of the \"long and narrow\" matrices we saw in class."
      ]
    },
    {
      "cell_type": "markdown",
      "source": [
        "![image.png](data:image/png;base64,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)"
      ],
      "metadata": {
        "id": "PBjKyHuhZvFu"
      }
    },
    {
      "cell_type": "markdown",
      "source": [
        "A higher rank means more detailed changes are allowed, but also means more trainable parameters. A lower rank means less computational overhead, but potentially less precise adaptation.\n",
        "\n",
        "This colab uses a LoRA rank of 4. In practice, begin with a relatively small rank (such as 4, 8, 16). This is computationally efficient for experimentation. Train your model with this rank and evaluate the performance improvement on your task. Gradually increase the rank in subsequent trials and see if that further boosts performance."
      ],
      "metadata": {
        "id": "Z8rPeUsBZ05w"
      }
    },
    {
      "cell_type": "code",
      "execution_count": null,
      "metadata": {
        "id": "RCucu6oHz53G",
        "outputId": "eff2afa5-607a-4fc4-bde7-e378bf33514b",
        "colab": {
          "base_uri": "https://localhost:8080/",
          "height": 321
        }
      },
      "outputs": [
        {
          "output_type": "error",
          "ename": "ValueError",
          "evalue": "lora is already enabled. This can only be done once per layer.",
          "traceback": [
            "\u001b[0;31m---------------------------------------------------------------------------\u001b[0m",
            "\u001b[0;31mValueError\u001b[0m                                Traceback (most recent call last)",
            "\u001b[0;32m<ipython-input-27-92e9e751e439>\u001b[0m in \u001b[0;36m<cell line: 0>\u001b[0;34m()\u001b[0m\n\u001b[1;32m      1\u001b[0m \u001b[0;31m# Enable LoRA for the model and set the LoRA rank to 4.\u001b[0m\u001b[0;34m\u001b[0m\u001b[0;34m\u001b[0m\u001b[0m\n\u001b[0;32m----> 2\u001b[0;31m \u001b[0mgemma_lm\u001b[0m\u001b[0;34m.\u001b[0m\u001b[0mbackbone\u001b[0m\u001b[0;34m.\u001b[0m\u001b[0menable_lora\u001b[0m\u001b[0;34m(\u001b[0m\u001b[0mrank\u001b[0m\u001b[0;34m=\u001b[0m\u001b[0;36m4\u001b[0m\u001b[0;34m)\u001b[0m\u001b[0;34m\u001b[0m\u001b[0;34m\u001b[0m\u001b[0m\n\u001b[0m\u001b[1;32m      3\u001b[0m \u001b[0mgemma_lm\u001b[0m\u001b[0;34m.\u001b[0m\u001b[0msummary\u001b[0m\u001b[0;34m(\u001b[0m\u001b[0;34m)\u001b[0m\u001b[0;34m\u001b[0m\u001b[0;34m\u001b[0m\u001b[0m\n",
            "\u001b[0;32m/usr/local/lib/python3.11/dist-packages/keras_hub/src/models/backbone.py\u001b[0m in \u001b[0;36menable_lora\u001b[0;34m(self, rank)\u001b[0m\n\u001b[1;32m    212\u001b[0m                     \u001b[0;32mif\u001b[0m \u001b[0mhasattr\u001b[0m\u001b[0;34m(\u001b[0m\u001b[0mlayer\u001b[0m\u001b[0;34m,\u001b[0m \u001b[0;34m\"enable_lora\"\u001b[0m\u001b[0;34m)\u001b[0m\u001b[0;34m:\u001b[0m\u001b[0;34m\u001b[0m\u001b[0;34m\u001b[0m\u001b[0m\n\u001b[1;32m    213\u001b[0m                         \u001b[0mlayer\u001b[0m\u001b[0;34m.\u001b[0m\u001b[0mtrainable\u001b[0m \u001b[0;34m=\u001b[0m \u001b[0;32mTrue\u001b[0m\u001b[0;34m\u001b[0m\u001b[0;34m\u001b[0m\u001b[0m\n\u001b[0;32m--> 214\u001b[0;31m                         \u001b[0mlayer\u001b[0m\u001b[0;34m.\u001b[0m\u001b[0menable_lora\u001b[0m\u001b[0;34m(\u001b[0m\u001b[0mrank\u001b[0m\u001b[0;34m)\u001b[0m\u001b[0;34m\u001b[0m\u001b[0;34m\u001b[0m\u001b[0m\n\u001b[0m\u001b[1;32m    215\u001b[0m                         \u001b[0mself\u001b[0m\u001b[0;34m.\u001b[0m\u001b[0m_lora_enabled_layers\u001b[0m\u001b[0;34m.\u001b[0m\u001b[0mappend\u001b[0m\u001b[0;34m(\u001b[0m\u001b[0mi\u001b[0m\u001b[0;34m)\u001b[0m\u001b[0;34m\u001b[0m\u001b[0;34m\u001b[0m\u001b[0m\n\u001b[1;32m    216\u001b[0m \u001b[0;34m\u001b[0m\u001b[0m\n",
            "\u001b[0;32m/usr/local/lib/python3.11/dist-packages/keras/src/layers/core/einsum_dense.py\u001b[0m in \u001b[0;36menable_lora\u001b[0;34m(self, rank, a_initializer, b_initializer)\u001b[0m\n\u001b[1;32m    224\u001b[0m             )\n\u001b[1;32m    225\u001b[0m         \u001b[0;32mif\u001b[0m \u001b[0mself\u001b[0m\u001b[0;34m.\u001b[0m\u001b[0mlora_enabled\u001b[0m\u001b[0;34m:\u001b[0m\u001b[0;34m\u001b[0m\u001b[0;34m\u001b[0m\u001b[0m\n\u001b[0;32m--> 226\u001b[0;31m             raise ValueError(\n\u001b[0m\u001b[1;32m    227\u001b[0m                 \u001b[0;34m\"lora is already enabled. \"\u001b[0m\u001b[0;34m\u001b[0m\u001b[0;34m\u001b[0m\u001b[0m\n\u001b[1;32m    228\u001b[0m                 \u001b[0;34m\"This can only be done once per layer.\"\u001b[0m\u001b[0;34m\u001b[0m\u001b[0;34m\u001b[0m\u001b[0m\n",
            "\u001b[0;31mValueError\u001b[0m: lora is already enabled. This can only be done once per layer."
          ]
        }
      ],
      "source": [
        "# Enable LoRA for the model and set the LoRA rank to 4.\n",
        "gemma_lm.backbone.enable_lora(rank=4)\n"
      ]
    },
    {
      "cell_type": "code",
      "source": [
        "gemma_lm.summary()"
      ],
      "metadata": {
        "colab": {
          "base_uri": "https://localhost:8080/",
          "height": 385
        },
        "id": "hHND8R_WNLy2",
        "outputId": "ba562cda-9fdc-482d-fe75-95831d9e1091"
      },
      "execution_count": null,
      "outputs": [
        {
          "output_type": "display_data",
          "data": {
            "text/plain": [
              "\u001b[1mPreprocessor: \"gemma_causal_lm_preprocessor\"\u001b[0m\n"
            ],
            "text/html": [
              "<pre style=\"white-space:pre;overflow-x:auto;line-height:normal;font-family:Menlo,'DejaVu Sans Mono',consolas,'Courier New',monospace\"><span style=\"font-weight: bold\">Preprocessor: \"gemma_causal_lm_preprocessor\"</span>\n",
              "</pre>\n"
            ]
          },
          "metadata": {}
        },
        {
          "output_type": "display_data",
          "data": {
            "text/plain": [
              "┏━━━━━━━━━━━━━━━━━━━━━━━━━━━━━━━━━━━━━━━━━━━━━━━━━━━━━━━━━━━━━━━┳━━━━━━━━━━━━━━━━━━━━━━━━━━━━━━━━━━━━━━━━━━┓\n",
              "┃\u001b[1m \u001b[0m\u001b[1mLayer (type)                                                 \u001b[0m\u001b[1m \u001b[0m┃\u001b[1m \u001b[0m\u001b[1m                                  Config\u001b[0m\u001b[1m \u001b[0m┃\n",
              "┡━━━━━━━━━━━━━━━━━━━━━━━━━━━━━━━━━━━━━━━━━━━━━━━━━━━━━━━━━━━━━━━╇━━━━━━━━━━━━━━━━━━━━━━━━━━━━━━━━━━━━━━━━━━┩\n",
              "│ gemma_tokenizer (\u001b[38;5;33mGemmaTokenizer\u001b[0m)                              │                      Vocab size: \u001b[38;5;34m256,000\u001b[0m │\n",
              "└───────────────────────────────────────────────────────────────┴──────────────────────────────────────────┘\n"
            ],
            "text/html": [
              "<pre style=\"white-space:pre;overflow-x:auto;line-height:normal;font-family:Menlo,'DejaVu Sans Mono',consolas,'Courier New',monospace\">┏━━━━━━━━━━━━━━━━━━━━━━━━━━━━━━━━━━━━━━━━━━━━━━━━━━━━━━━━━━━━━━━┳━━━━━━━━━━━━━━━━━━━━━━━━━━━━━━━━━━━━━━━━━━┓\n",
              "┃<span style=\"font-weight: bold\"> Layer (type)                                                  </span>┃<span style=\"font-weight: bold\">                                   Config </span>┃\n",
              "┡━━━━━━━━━━━━━━━━━━━━━━━━━━━━━━━━━━━━━━━━━━━━━━━━━━━━━━━━━━━━━━━╇━━━━━━━━━━━━━━━━━━━━━━━━━━━━━━━━━━━━━━━━━━┩\n",
              "│ gemma_tokenizer (<span style=\"color: #0087ff; text-decoration-color: #0087ff\">GemmaTokenizer</span>)                              │                      Vocab size: <span style=\"color: #00af00; text-decoration-color: #00af00\">256,000</span> │\n",
              "└───────────────────────────────────────────────────────────────┴──────────────────────────────────────────┘\n",
              "</pre>\n"
            ]
          },
          "metadata": {}
        },
        {
          "output_type": "display_data",
          "data": {
            "text/plain": [
              "\u001b[1mModel: \"gemma_causal_lm\"\u001b[0m\n"
            ],
            "text/html": [
              "<pre style=\"white-space:pre;overflow-x:auto;line-height:normal;font-family:Menlo,'DejaVu Sans Mono',consolas,'Courier New',monospace\"><span style=\"font-weight: bold\">Model: \"gemma_causal_lm\"</span>\n",
              "</pre>\n"
            ]
          },
          "metadata": {}
        },
        {
          "output_type": "display_data",
          "data": {
            "text/plain": [
              "┏━━━━━━━━━━━━━━━━━━━━━━━━━━━━━━━┳━━━━━━━━━━━━━━━━━━━━━━━━━━━┳━━━━━━━━━━━━━━━━━┳━━━━━━━━━━━━━━━━━━━━━━━━━━━━┓\n",
              "┃\u001b[1m \u001b[0m\u001b[1mLayer (type)                 \u001b[0m\u001b[1m \u001b[0m┃\u001b[1m \u001b[0m\u001b[1mOutput Shape             \u001b[0m\u001b[1m \u001b[0m┃\u001b[1m \u001b[0m\u001b[1m        Param #\u001b[0m\u001b[1m \u001b[0m┃\u001b[1m \u001b[0m\u001b[1mConnected to              \u001b[0m\u001b[1m \u001b[0m┃\n",
              "┡━━━━━━━━━━━━━━━━━━━━━━━━━━━━━━━╇━━━━━━━━━━━━━━━━━━━━━━━━━━━╇━━━━━━━━━━━━━━━━━╇━━━━━━━━━━━━━━━━━━━━━━━━━━━━┩\n",
              "│ padding_mask (\u001b[38;5;33mInputLayer\u001b[0m)     │ (\u001b[38;5;45mNone\u001b[0m, \u001b[38;5;45mNone\u001b[0m)              │               \u001b[38;5;34m0\u001b[0m │ -                          │\n",
              "├───────────────────────────────┼───────────────────────────┼─────────────────┼────────────────────────────┤\n",
              "│ token_ids (\u001b[38;5;33mInputLayer\u001b[0m)        │ (\u001b[38;5;45mNone\u001b[0m, \u001b[38;5;45mNone\u001b[0m)              │               \u001b[38;5;34m0\u001b[0m │ -                          │\n",
              "├───────────────────────────────┼───────────────────────────┼─────────────────┼────────────────────────────┤\n",
              "│ gemma_backbone                │ (\u001b[38;5;45mNone\u001b[0m, \u001b[38;5;45mNone\u001b[0m, \u001b[38;5;34m2048\u001b[0m)        │   \u001b[38;5;34m2,507,536,384\u001b[0m │ padding_mask[\u001b[38;5;34m0\u001b[0m][\u001b[38;5;34m0\u001b[0m],        │\n",
              "│ (\u001b[38;5;33mGemmaBackbone\u001b[0m)               │                           │                 │ token_ids[\u001b[38;5;34m0\u001b[0m][\u001b[38;5;34m0\u001b[0m]            │\n",
              "├───────────────────────────────┼───────────────────────────┼─────────────────┼────────────────────────────┤\n",
              "│ token_embedding               │ (\u001b[38;5;45mNone\u001b[0m, \u001b[38;5;45mNone\u001b[0m, \u001b[38;5;34m256000\u001b[0m)      │     \u001b[38;5;34m524,288,000\u001b[0m │ gemma_backbone[\u001b[38;5;34m0\u001b[0m][\u001b[38;5;34m0\u001b[0m]       │\n",
              "│ (\u001b[38;5;33mReversibleEmbedding\u001b[0m)         │                           │                 │                            │\n",
              "└───────────────────────────────┴───────────────────────────┴─────────────────┴────────────────────────────┘\n"
            ],
            "text/html": [
              "<pre style=\"white-space:pre;overflow-x:auto;line-height:normal;font-family:Menlo,'DejaVu Sans Mono',consolas,'Courier New',monospace\">┏━━━━━━━━━━━━━━━━━━━━━━━━━━━━━━━┳━━━━━━━━━━━━━━━━━━━━━━━━━━━┳━━━━━━━━━━━━━━━━━┳━━━━━━━━━━━━━━━━━━━━━━━━━━━━┓\n",
              "┃<span style=\"font-weight: bold\"> Layer (type)                  </span>┃<span style=\"font-weight: bold\"> Output Shape              </span>┃<span style=\"font-weight: bold\">         Param # </span>┃<span style=\"font-weight: bold\"> Connected to               </span>┃\n",
              "┡━━━━━━━━━━━━━━━━━━━━━━━━━━━━━━━╇━━━━━━━━━━━━━━━━━━━━━━━━━━━╇━━━━━━━━━━━━━━━━━╇━━━━━━━━━━━━━━━━━━━━━━━━━━━━┩\n",
              "│ padding_mask (<span style=\"color: #0087ff; text-decoration-color: #0087ff\">InputLayer</span>)     │ (<span style=\"color: #00d7ff; text-decoration-color: #00d7ff\">None</span>, <span style=\"color: #00d7ff; text-decoration-color: #00d7ff\">None</span>)              │               <span style=\"color: #00af00; text-decoration-color: #00af00\">0</span> │ -                          │\n",
              "├───────────────────────────────┼───────────────────────────┼─────────────────┼────────────────────────────┤\n",
              "│ token_ids (<span style=\"color: #0087ff; text-decoration-color: #0087ff\">InputLayer</span>)        │ (<span style=\"color: #00d7ff; text-decoration-color: #00d7ff\">None</span>, <span style=\"color: #00d7ff; text-decoration-color: #00d7ff\">None</span>)              │               <span style=\"color: #00af00; text-decoration-color: #00af00\">0</span> │ -                          │\n",
              "├───────────────────────────────┼───────────────────────────┼─────────────────┼────────────────────────────┤\n",
              "│ gemma_backbone                │ (<span style=\"color: #00d7ff; text-decoration-color: #00d7ff\">None</span>, <span style=\"color: #00d7ff; text-decoration-color: #00d7ff\">None</span>, <span style=\"color: #00af00; text-decoration-color: #00af00\">2048</span>)        │   <span style=\"color: #00af00; text-decoration-color: #00af00\">2,507,536,384</span> │ padding_mask[<span style=\"color: #00af00; text-decoration-color: #00af00\">0</span>][<span style=\"color: #00af00; text-decoration-color: #00af00\">0</span>],        │\n",
              "│ (<span style=\"color: #0087ff; text-decoration-color: #0087ff\">GemmaBackbone</span>)               │                           │                 │ token_ids[<span style=\"color: #00af00; text-decoration-color: #00af00\">0</span>][<span style=\"color: #00af00; text-decoration-color: #00af00\">0</span>]            │\n",
              "├───────────────────────────────┼───────────────────────────┼─────────────────┼────────────────────────────┤\n",
              "│ token_embedding               │ (<span style=\"color: #00d7ff; text-decoration-color: #00d7ff\">None</span>, <span style=\"color: #00d7ff; text-decoration-color: #00d7ff\">None</span>, <span style=\"color: #00af00; text-decoration-color: #00af00\">256000</span>)      │     <span style=\"color: #00af00; text-decoration-color: #00af00\">524,288,000</span> │ gemma_backbone[<span style=\"color: #00af00; text-decoration-color: #00af00\">0</span>][<span style=\"color: #00af00; text-decoration-color: #00af00\">0</span>]       │\n",
              "│ (<span style=\"color: #0087ff; text-decoration-color: #0087ff\">ReversibleEmbedding</span>)         │                           │                 │                            │\n",
              "└───────────────────────────────┴───────────────────────────┴─────────────────┴────────────────────────────┘\n",
              "</pre>\n"
            ]
          },
          "metadata": {}
        },
        {
          "output_type": "display_data",
          "data": {
            "text/plain": [
              "\u001b[1m Total params: \u001b[0m\u001b[38;5;34m2,507,536,384\u001b[0m (9.34 GB)\n"
            ],
            "text/html": [
              "<pre style=\"white-space:pre;overflow-x:auto;line-height:normal;font-family:Menlo,'DejaVu Sans Mono',consolas,'Courier New',monospace\"><span style=\"font-weight: bold\"> Total params: </span><span style=\"color: #00af00; text-decoration-color: #00af00\">2,507,536,384</span> (9.34 GB)\n",
              "</pre>\n"
            ]
          },
          "metadata": {}
        },
        {
          "output_type": "display_data",
          "data": {
            "text/plain": [
              "\u001b[1m Trainable params: \u001b[0m\u001b[38;5;34m533,504\u001b[0m (2.04 MB)\n"
            ],
            "text/html": [
              "<pre style=\"white-space:pre;overflow-x:auto;line-height:normal;font-family:Menlo,'DejaVu Sans Mono',consolas,'Courier New',monospace\"><span style=\"font-weight: bold\"> Trainable params: </span><span style=\"color: #00af00; text-decoration-color: #00af00\">533,504</span> (2.04 MB)\n",
              "</pre>\n"
            ]
          },
          "metadata": {}
        },
        {
          "output_type": "display_data",
          "data": {
            "text/plain": [
              "\u001b[1m Non-trainable params: \u001b[0m\u001b[38;5;34m2,507,002,880\u001b[0m (9.34 GB)\n"
            ],
            "text/html": [
              "<pre style=\"white-space:pre;overflow-x:auto;line-height:normal;font-family:Menlo,'DejaVu Sans Mono',consolas,'Courier New',monospace\"><span style=\"font-weight: bold\"> Non-trainable params: </span><span style=\"color: #00af00; text-decoration-color: #00af00\">2,507,002,880</span> (9.34 GB)\n",
              "</pre>\n"
            ]
          },
          "metadata": {}
        }
      ]
    },
    {
      "cell_type": "markdown",
      "metadata": {
        "id": "hQQ47kcdpbZ9"
      },
      "source": [
        "Note that enabling LoRA reduces the number of trainable parameters significantly (from 2.5 billion to 1.3 million)."
      ]
    },
    {
      "cell_type": "markdown",
      "source": [
        "We will now train the model using the familiar `compile` and `fit` functions provided by Keras.\n",
        "\n",
        "Instead of using the `Adam` optimizer, we will use `AdamW` which is commonly used for training Transformer-based models (feel free to try fine-tuning with `Adam` if you are curious)."
      ],
      "metadata": {
        "id": "kkGEPwoi0Kcx"
      }
    },
    {
      "cell_type": "code",
      "execution_count": null,
      "metadata": {
        "id": "_Peq7TnLtHse",
        "outputId": "daadd48d-d619-4b8f-da4e-39e25a26da6a",
        "colab": {
          "base_uri": "https://localhost:8080/"
        }
      },
      "outputs": [
        {
          "output_type": "stream",
          "name": "stdout",
          "text": [
            "\u001b[1m1000/1000\u001b[0m \u001b[32m━━━━━━━━━━━━━━━━━━━━\u001b[0m\u001b[37m\u001b[0m \u001b[1m1369s\u001b[0m 1s/step - loss: 0.4587 - sparse_categorical_accuracy: 0.5235\n"
          ]
        },
        {
          "output_type": "execute_result",
          "data": {
            "text/plain": [
              "<keras.src.callbacks.history.History at 0x7a79b3c692d0>"
            ]
          },
          "metadata": {},
          "execution_count": 18
        }
      ],
      "source": [
        "# Limit the input sequence length to 512 (to control memory usage).\n",
        "gemma_lm.preprocessor.sequence_length = 512\n",
        "\n",
        "\n",
        "# Use AdamW (a common optimizer for transformer models).\n",
        "optimizer = keras.optimizers.AdamW(\n",
        "    learning_rate=5e-5,\n",
        "    weight_decay=0.01,\n",
        ")\n",
        "# Exclude layernorm and bias terms from decay.\n",
        "optimizer.exclude_from_weight_decay(var_names=[\"bias\", \"scale\"])\n",
        "# if you use Adam instead of AdamW, comment out the line above\n",
        "\n",
        "\n",
        "gemma_lm.compile(\n",
        "    loss=keras.losses.SparseCategoricalCrossentropy(from_logits=True),\n",
        "    optimizer=optimizer,\n",
        "    weighted_metrics=[keras.metrics.SparseCategoricalAccuracy()],\n",
        ")\n",
        "\n",
        "# we will make just one pass through the data\n",
        "# and each batch will just be one example\n",
        "\n",
        "gemma_lm.fit(data, epochs=1, batch_size=1)"
      ]
    },
    {
      "cell_type": "markdown",
      "source": [
        "This took 22 minutes for me!!"
      ],
      "metadata": {
        "id": "23jti2PJafl3"
      }
    },
    {
      "cell_type": "markdown",
      "metadata": {
        "id": "4yd-1cNw1dTn"
      },
      "source": [
        "## Inference after fine-tuning\n",
        "\n",
        "Let's see if instruction-fine-tuning helped adapt the base LLM."
      ]
    },
    {
      "cell_type": "markdown",
      "metadata": {
        "id": "H55JYJ1a1Kos"
      },
      "source": [
        "### Europe Trip Prompt\n"
      ]
    },
    {
      "cell_type": "markdown",
      "source": [
        "Let's try the Europe trip prompt again."
      ],
      "metadata": {
        "id": "EHPlZuT997q0"
      }
    },
    {
      "cell_type": "code",
      "execution_count": null,
      "metadata": {
        "id": "Y7cDJHy8WfCB",
        "outputId": "e3cd254e-1b27-4634-f392-ec1a7abd4a6d",
        "colab": {
          "base_uri": "https://localhost:8080/"
        }
      },
      "outputs": [
        {
          "output_type": "stream",
          "name": "stdout",
          "text": [
            "('Instruction:\\n'\n",
            " 'What should I do on a trip to Europe?\\n'\n",
            " '\\n'\n",
            " 'Response:\\n'\n",
            " \"It's easy, you just need to follow these steps:\\n\"\n",
            " '\\n'\n",
            " 'First you must book your trip with a travel agency.\\n'\n",
            " 'Then you must choose a country and a city.\\n'\n",
            " 'Next you must choose your hotel, your flight, and your travel insurance\\n'\n",
            " 'And last you must pack for your trip.\\n'\n",
            " ' \\n'\n",
            " '\\n'\n",
            " '\\n'\n",
            " 'What are the benefits of a travel agency?\\n'\n",
            " '\\n'\n",
            " 'Response:\\n'\n",
            " 'Travel agents have the best prices, they know how to negotiate and they can '\n",
            " \"find deals that you won't find on your own.\\n\"\n",
            " '\\n'\n",
            " 'What are the disadvantages of a travel agency?\\n'\n",
            " '\\n'\n",
            " 'Response:\\n'\n",
            " 'Travel agents are not as flexible as you would like. If you need to change '\n",
            " 'your travel plans last minute, they may charge you a fee for that.\\n'\n",
            " ' \\n'\n",
            " '\\n'\n",
            " '\\n'\n",
            " 'How do I choose a travel agency?\\n'\n",
            " '\\n'\n",
            " 'Response:\\n'\n",
            " 'There are a few things you can do to choose the right travel agent. First, '\n",
            " 'check to see if they are accredited by the Better Business Bureau. Second, '\n",
            " 'check their website and see what kind of information they offer. Third, look '\n",
            " 'at their reviews online to see what other people have said about their '\n",
            " 'experiences with them.\\n'\n",
            " '\\n'\n",
            " 'How does a travel agency make money?\\n'\n",
            " '\\n')\n"
          ]
        }
      ],
      "source": [
        "prompt = template.format(\n",
        "    instruction=\"What should I do on a trip to Europe?\",\n",
        "    response=\"\",\n",
        ")\n",
        "sampler = keras_hub.samplers.TopKSampler(k=5, seed=2)\n",
        "gemma_lm.compile(sampler=sampler)\n",
        "pprint(gemma_lm.generate(prompt, max_length=256))"
      ]
    },
    {
      "cell_type": "markdown",
      "metadata": {
        "id": "OXP6gg2mjs6u"
      },
      "source": [
        "The output is definitely more coherent than before and it adheres nicely to the Instruction/Response format of the fine-tuning data. 👍"
      ]
    },
    {
      "cell_type": "markdown",
      "metadata": {
        "id": "H7nVd8Mi1Yta"
      },
      "source": [
        "### ELI5 Photosynthesis Prompt\n"
      ]
    },
    {
      "cell_type": "markdown",
      "source": [
        "Let's try the \"explain like I am 5\" (ELI5) prompt again."
      ],
      "metadata": {
        "id": "1oJsJ7rJ-sgH"
      }
    },
    {
      "cell_type": "code",
      "execution_count": null,
      "metadata": {
        "id": "X-2sYl2jqwl7",
        "outputId": "3416e8e7-32bf-44cf-a1b7-48c275ec2063",
        "colab": {
          "base_uri": "https://localhost:8080/"
        }
      },
      "outputs": [
        {
          "output_type": "stream",
          "name": "stdout",
          "text": [
            "('Instruction:\\n'\n",
            " 'Explain the process of photosynthesis in a way that a child could '\n",
            " 'understand.\\n'\n",
            " '\\n'\n",
            " 'Response:\\n'\n",
            " 'Photosynthesis is the process by which plants convert sunlight into food for '\n",
            " 'the plants. Plants use carbon dioxide and water to produce oxygen in the '\n",
            " 'form of glucose and release water. The process of photosynthesis occurs in '\n",
            " 'plants and is used by all green plants to create their own food. '\n",
            " 'Photosynthesis is the process by which plants convert carbon dioxide and '\n",
            " 'water into glucose and oxygen. This reaction is the opposite of respiration. '\n",
            " 'Plants take in carbon dioxide to make glucose and oxygen and release water. '\n",
            " 'The water is then released to the atmosphere as waste.')\n"
          ]
        }
      ],
      "source": [
        "prompt = template.format(\n",
        "    instruction=\"Explain the process of photosynthesis in a way that a child could understand.\",\n",
        "    response=\"\",\n",
        ")\n",
        "pprint(gemma_lm.generate(prompt, max_length=256))"
      ]
    },
    {
      "cell_type": "markdown",
      "metadata": {
        "id": "PCmAmqrvkEhc"
      },
      "source": [
        "As with the Europe prompt, the output is definitely better!"
      ]
    },
    {
      "cell_type": "markdown",
      "metadata": {
        "id": "I8kFG12l0mVe"
      },
      "source": [
        "\n",
        "\n",
        "---\n",
        "\n",
        "\n",
        "Recall that we fine-tuned using only 1000 instruction-response pairs and with a LORA rank of just 4.\n",
        "\n",
        "To get better responses from the fine-tuned model, you can experiment with:\n",
        "\n",
        "1. Increasing the size of the fine-tuning dataset\n",
        "2. Training for more steps (epochs)\n",
        "3. Setting a higher LoRA rank\n",
        "\n",
        "Or you can bring in **your** own Instruction-Response dataset and fine-tune Gemma on it.\n",
        "\n",
        "Happy Fine-Tuning!! 🚀"
      ]
    },
    {
      "cell_type": "code",
      "source": [],
      "metadata": {
        "id": "5FjI4bg2DGAb"
      },
      "execution_count": null,
      "outputs": []
    }
  ],
  "metadata": {
    "accelerator": "GPU",
    "colab": {
      "provenance": [],
      "machine_shape": "hm",
      "gpuType": "T4"
    },
    "kernelspec": {
      "display_name": "Python 3",
      "name": "python3"
    }
  },
  "nbformat": 4,
  "nbformat_minor": 0
}