{
  "nbformat": 4,
  "nbformat_minor": 0,
  "metadata": {
    "colab": {
      "provenance": [],
      "machine_shape": "hm",
      "gpuType": "A100"
    },
    "kernelspec": {
      "display_name": "Python 3",
      "name": "python3"
    },
    "language_info": {
      "name": "python"
    },
    "accelerator": "GPU"
  },
  "cells": [
    {
      "cell_type": "markdown",
      "source": [
        "# Music Genre Classification"
      ],
      "metadata": {
        "id": "7ejR5Ze9QqSQ"
      }
    },
    {
      "cell_type": "markdown",
      "source": [
        "## Introduction"
      ],
      "metadata": {
        "id": "vhNSYyiLQmBJ"
      }
    },
    {
      "cell_type": "markdown",
      "metadata": {
        "id": "fuUhAe9CfztS"
      },
      "source": [
        "\n",
        "In this notebook we will return to the song lyrics dataset and compare the Bag of Words model we trained previously with fine-tuning a pretrained Transformer model (BERT).\n",
        "\n",
        "**We will demonstrate that fine-tuning a pretrained model can achieve excellent accuracy with vastly fewer training samples**.\n"
      ]
    },
    {
      "cell_type": "code",
      "source": [
        "import os\n",
        "os.environ['KERAS_BACKEND'] = 'tensorflow'"
      ],
      "metadata": {
        "id": "CbS7KyMIYTsJ"
      },
      "execution_count": null,
      "outputs": []
    },
    {
      "cell_type": "code",
      "metadata": {
        "id": "EHjmcrgSjKfD"
      },
      "source": [
        "import keras\n",
        "import numpy as np\n",
        "import pandas as pd\n",
        "import matplotlib.pyplot as plt"
      ],
      "execution_count": null,
      "outputs": []
    },
    {
      "cell_type": "code",
      "source": [
        "keras.utils.set_random_seed(42)"
      ],
      "metadata": {
        "id": "vrv6fnkKFwtE"
      },
      "execution_count": null,
      "outputs": []
    },
    {
      "cell_type": "markdown",
      "source": [
        "## Retrieving and preparing the Data\n"
      ],
      "metadata": {
        "id": "M_e2yrcURl2C"
      }
    },
    {
      "cell_type": "code",
      "source": [
        "train_url = \"https://www.dropbox.com/scl/fi/ito6bnl2yaf1uw0uqibzf/lyric_genre_train.csv?rlkey=04dkn5un2djza8x0bdmfnlw3u&st=y47qh8i4&dl=1\"\n",
        "val_url = \"https://www.dropbox.com/scl/fi/xmywjzqsaa8n5sn1bs0t9/lyric_genre_val.csv?rlkey=hggbeo0s1iaxjpa6z80429xl9&st=6i7d8eau&dl=1\"\n",
        "test_url = \"https://www.dropbox.com/scl/fi/fnocl69w9ojs9s5zb0xvf/lyric_genre_test.csv?rlkey=z4hjopw7vaihoh948cbb5mvdp&st=xwond7dp&dl=1\""
      ],
      "metadata": {
        "id": "CqI5TgT9dRgu"
      },
      "execution_count": null,
      "outputs": []
    },
    {
      "cell_type": "code",
      "source": [
        "# Read data from URL\n",
        "\n",
        "train_df = pd.read_csv(train_url,index_col=0)\n",
        "val_df = pd.read_csv(val_url,index_col=0)\n",
        "test_df = pd.read_csv(test_url,index_col=0)\n",
        "\n",
        "print(f\"\"\"\n",
        "Train samples: {train_df.shape[0]}\n",
        "Validation samples: {val_df.shape[0]}\n",
        "Test samples: {test_df.shape[0]}\n",
        "\"\"\")"
      ],
      "metadata": {
        "id": "D0w6cvb-GaTF",
        "colab": {
          "base_uri": "https://localhost:8080/"
        },
        "outputId": "ad2394c0-f028-497a-ad97-4eb7d408d126"
      },
      "execution_count": null,
      "outputs": [
        {
          "output_type": "stream",
          "name": "stdout",
          "text": [
            "\n",
            "Train samples: 48991\n",
            "Validation samples: 16331\n",
            "Test samples: 21774\n",
            "\n"
          ]
        }
      ]
    },
    {
      "cell_type": "code",
      "source": [
        "train_df.head()"
      ],
      "metadata": {
        "id": "r9oz4LkrIYLo",
        "colab": {
          "base_uri": "https://localhost:8080/",
          "height": 206
        },
        "outputId": "2ee90418-828d-4ae3-b26b-c06ed80177e4"
      },
      "execution_count": null,
      "outputs": [
        {
          "output_type": "execute_result",
          "data": {
            "text/plain": [
              "                                               Lyric Genre\n",
              "0  Oh, girl. I can't get ready (Can't get ready f...   Pop\n",
              "1  We met on a rainy evening in the summertime. D...   Pop\n",
              "2  We carried you in our arms. On Independence Da...  Rock\n",
              "3  I know he loved you. A long time ago. I ain't ...   Pop\n",
              "4  Paralysis through analysis. Yellow moral uncle...  Rock"
            ],
            "text/html": [
              "\n",
              "  <div id=\"df-e8ca1a81-4767-4dc3-ab87-75b429f7e150\" class=\"colab-df-container\">\n",
              "    <div>\n",
              "<style scoped>\n",
              "    .dataframe tbody tr th:only-of-type {\n",
              "        vertical-align: middle;\n",
              "    }\n",
              "\n",
              "    .dataframe tbody tr th {\n",
              "        vertical-align: top;\n",
              "    }\n",
              "\n",
              "    .dataframe thead th {\n",
              "        text-align: right;\n",
              "    }\n",
              "</style>\n",
              "<table border=\"1\" class=\"dataframe\">\n",
              "  <thead>\n",
              "    <tr style=\"text-align: right;\">\n",
              "      <th></th>\n",
              "      <th>Lyric</th>\n",
              "      <th>Genre</th>\n",
              "    </tr>\n",
              "  </thead>\n",
              "  <tbody>\n",
              "    <tr>\n",
              "      <th>0</th>\n",
              "      <td>Oh, girl. I can't get ready (Can't get ready f...</td>\n",
              "      <td>Pop</td>\n",
              "    </tr>\n",
              "    <tr>\n",
              "      <th>1</th>\n",
              "      <td>We met on a rainy evening in the summertime. D...</td>\n",
              "      <td>Pop</td>\n",
              "    </tr>\n",
              "    <tr>\n",
              "      <th>2</th>\n",
              "      <td>We carried you in our arms. On Independence Da...</td>\n",
              "      <td>Rock</td>\n",
              "    </tr>\n",
              "    <tr>\n",
              "      <th>3</th>\n",
              "      <td>I know he loved you. A long time ago. I ain't ...</td>\n",
              "      <td>Pop</td>\n",
              "    </tr>\n",
              "    <tr>\n",
              "      <th>4</th>\n",
              "      <td>Paralysis through analysis. Yellow moral uncle...</td>\n",
              "      <td>Rock</td>\n",
              "    </tr>\n",
              "  </tbody>\n",
              "</table>\n",
              "</div>\n",
              "    <div class=\"colab-df-buttons\">\n",
              "\n",
              "  <div class=\"colab-df-container\">\n",
              "    <button class=\"colab-df-convert\" onclick=\"convertToInteractive('df-e8ca1a81-4767-4dc3-ab87-75b429f7e150')\"\n",
              "            title=\"Convert this dataframe to an interactive table.\"\n",
              "            style=\"display:none;\">\n",
              "\n",
              "  <svg xmlns=\"http://www.w3.org/2000/svg\" height=\"24px\" viewBox=\"0 -960 960 960\">\n",
              "    <path d=\"M120-120v-720h720v720H120Zm60-500h600v-160H180v160Zm220 220h160v-160H400v160Zm0 220h160v-160H400v160ZM180-400h160v-160H180v160Zm440 0h160v-160H620v160ZM180-180h160v-160H180v160Zm440 0h160v-160H620v160Z\"/>\n",
              "  </svg>\n",
              "    </button>\n",
              "\n",
              "  <style>\n",
              "    .colab-df-container {\n",
              "      display:flex;\n",
              "      gap: 12px;\n",
              "    }\n",
              "\n",
              "    .colab-df-convert {\n",
              "      background-color: #E8F0FE;\n",
              "      border: none;\n",
              "      border-radius: 50%;\n",
              "      cursor: pointer;\n",
              "      display: none;\n",
              "      fill: #1967D2;\n",
              "      height: 32px;\n",
              "      padding: 0 0 0 0;\n",
              "      width: 32px;\n",
              "    }\n",
              "\n",
              "    .colab-df-convert:hover {\n",
              "      background-color: #E2EBFA;\n",
              "      box-shadow: 0px 1px 2px rgba(60, 64, 67, 0.3), 0px 1px 3px 1px rgba(60, 64, 67, 0.15);\n",
              "      fill: #174EA6;\n",
              "    }\n",
              "\n",
              "    .colab-df-buttons div {\n",
              "      margin-bottom: 4px;\n",
              "    }\n",
              "\n",
              "    [theme=dark] .colab-df-convert {\n",
              "      background-color: #3B4455;\n",
              "      fill: #D2E3FC;\n",
              "    }\n",
              "\n",
              "    [theme=dark] .colab-df-convert:hover {\n",
              "      background-color: #434B5C;\n",
              "      box-shadow: 0px 1px 3px 1px rgba(0, 0, 0, 0.15);\n",
              "      filter: drop-shadow(0px 1px 2px rgba(0, 0, 0, 0.3));\n",
              "      fill: #FFFFFF;\n",
              "    }\n",
              "  </style>\n",
              "\n",
              "    <script>\n",
              "      const buttonEl =\n",
              "        document.querySelector('#df-e8ca1a81-4767-4dc3-ab87-75b429f7e150 button.colab-df-convert');\n",
              "      buttonEl.style.display =\n",
              "        google.colab.kernel.accessAllowed ? 'block' : 'none';\n",
              "\n",
              "      async function convertToInteractive(key) {\n",
              "        const element = document.querySelector('#df-e8ca1a81-4767-4dc3-ab87-75b429f7e150');\n",
              "        const dataTable =\n",
              "          await google.colab.kernel.invokeFunction('convertToInteractive',\n",
              "                                                    [key], {});\n",
              "        if (!dataTable) return;\n",
              "\n",
              "        const docLinkHtml = 'Like what you see? Visit the ' +\n",
              "          '<a target=\"_blank\" href=https://colab.research.google.com/notebooks/data_table.ipynb>data table notebook</a>'\n",
              "          + ' to learn more about interactive tables.';\n",
              "        element.innerHTML = '';\n",
              "        dataTable['output_type'] = 'display_data';\n",
              "        await google.colab.output.renderOutput(dataTable, element);\n",
              "        const docLink = document.createElement('div');\n",
              "        docLink.innerHTML = docLinkHtml;\n",
              "        element.appendChild(docLink);\n",
              "      }\n",
              "    </script>\n",
              "  </div>\n",
              "\n",
              "\n",
              "<div id=\"df-9e8bfe45-32cc-4743-ade2-9118ac18c41d\">\n",
              "  <button class=\"colab-df-quickchart\" onclick=\"quickchart('df-9e8bfe45-32cc-4743-ade2-9118ac18c41d')\"\n",
              "            title=\"Suggest charts\"\n",
              "            style=\"display:none;\">\n",
              "\n",
              "<svg xmlns=\"http://www.w3.org/2000/svg\" height=\"24px\"viewBox=\"0 0 24 24\"\n",
              "     width=\"24px\">\n",
              "    <g>\n",
              "        <path d=\"M19 3H5c-1.1 0-2 .9-2 2v14c0 1.1.9 2 2 2h14c1.1 0 2-.9 2-2V5c0-1.1-.9-2-2-2zM9 17H7v-7h2v7zm4 0h-2V7h2v10zm4 0h-2v-4h2v4z\"/>\n",
              "    </g>\n",
              "</svg>\n",
              "  </button>\n",
              "\n",
              "<style>\n",
              "  .colab-df-quickchart {\n",
              "      --bg-color: #E8F0FE;\n",
              "      --fill-color: #1967D2;\n",
              "      --hover-bg-color: #E2EBFA;\n",
              "      --hover-fill-color: #174EA6;\n",
              "      --disabled-fill-color: #AAA;\n",
              "      --disabled-bg-color: #DDD;\n",
              "  }\n",
              "\n",
              "  [theme=dark] .colab-df-quickchart {\n",
              "      --bg-color: #3B4455;\n",
              "      --fill-color: #D2E3FC;\n",
              "      --hover-bg-color: #434B5C;\n",
              "      --hover-fill-color: #FFFFFF;\n",
              "      --disabled-bg-color: #3B4455;\n",
              "      --disabled-fill-color: #666;\n",
              "  }\n",
              "\n",
              "  .colab-df-quickchart {\n",
              "    background-color: var(--bg-color);\n",
              "    border: none;\n",
              "    border-radius: 50%;\n",
              "    cursor: pointer;\n",
              "    display: none;\n",
              "    fill: var(--fill-color);\n",
              "    height: 32px;\n",
              "    padding: 0;\n",
              "    width: 32px;\n",
              "  }\n",
              "\n",
              "  .colab-df-quickchart:hover {\n",
              "    background-color: var(--hover-bg-color);\n",
              "    box-shadow: 0 1px 2px rgba(60, 64, 67, 0.3), 0 1px 3px 1px rgba(60, 64, 67, 0.15);\n",
              "    fill: var(--button-hover-fill-color);\n",
              "  }\n",
              "\n",
              "  .colab-df-quickchart-complete:disabled,\n",
              "  .colab-df-quickchart-complete:disabled:hover {\n",
              "    background-color: var(--disabled-bg-color);\n",
              "    fill: var(--disabled-fill-color);\n",
              "    box-shadow: none;\n",
              "  }\n",
              "\n",
              "  .colab-df-spinner {\n",
              "    border: 2px solid var(--fill-color);\n",
              "    border-color: transparent;\n",
              "    border-bottom-color: var(--fill-color);\n",
              "    animation:\n",
              "      spin 1s steps(1) infinite;\n",
              "  }\n",
              "\n",
              "  @keyframes spin {\n",
              "    0% {\n",
              "      border-color: transparent;\n",
              "      border-bottom-color: var(--fill-color);\n",
              "      border-left-color: var(--fill-color);\n",
              "    }\n",
              "    20% {\n",
              "      border-color: transparent;\n",
              "      border-left-color: var(--fill-color);\n",
              "      border-top-color: var(--fill-color);\n",
              "    }\n",
              "    30% {\n",
              "      border-color: transparent;\n",
              "      border-left-color: var(--fill-color);\n",
              "      border-top-color: var(--fill-color);\n",
              "      border-right-color: var(--fill-color);\n",
              "    }\n",
              "    40% {\n",
              "      border-color: transparent;\n",
              "      border-right-color: var(--fill-color);\n",
              "      border-top-color: var(--fill-color);\n",
              "    }\n",
              "    60% {\n",
              "      border-color: transparent;\n",
              "      border-right-color: var(--fill-color);\n",
              "    }\n",
              "    80% {\n",
              "      border-color: transparent;\n",
              "      border-right-color: var(--fill-color);\n",
              "      border-bottom-color: var(--fill-color);\n",
              "    }\n",
              "    90% {\n",
              "      border-color: transparent;\n",
              "      border-bottom-color: var(--fill-color);\n",
              "    }\n",
              "  }\n",
              "</style>\n",
              "\n",
              "  <script>\n",
              "    async function quickchart(key) {\n",
              "      const quickchartButtonEl =\n",
              "        document.querySelector('#' + key + ' button');\n",
              "      quickchartButtonEl.disabled = true;  // To prevent multiple clicks.\n",
              "      quickchartButtonEl.classList.add('colab-df-spinner');\n",
              "      try {\n",
              "        const charts = await google.colab.kernel.invokeFunction(\n",
              "            'suggestCharts', [key], {});\n",
              "      } catch (error) {\n",
              "        console.error('Error during call to suggestCharts:', error);\n",
              "      }\n",
              "      quickchartButtonEl.classList.remove('colab-df-spinner');\n",
              "      quickchartButtonEl.classList.add('colab-df-quickchart-complete');\n",
              "    }\n",
              "    (() => {\n",
              "      let quickchartButtonEl =\n",
              "        document.querySelector('#df-9e8bfe45-32cc-4743-ade2-9118ac18c41d button');\n",
              "      quickchartButtonEl.style.display =\n",
              "        google.colab.kernel.accessAllowed ? 'block' : 'none';\n",
              "    })();\n",
              "  </script>\n",
              "</div>\n",
              "\n",
              "    </div>\n",
              "  </div>\n"
            ],
            "application/vnd.google.colaboratory.intrinsic+json": {
              "type": "dataframe",
              "variable_name": "train_df",
              "summary": "{\n  \"name\": \"train_df\",\n  \"rows\": 48991,\n  \"fields\": [\n    {\n      \"column\": \"Lyric\",\n      \"properties\": {\n        \"dtype\": \"string\",\n        \"num_unique_values\": 48752,\n        \"samples\": [\n          \"Change your heart. Look around you. Change your heart. It will astound you. I need your lovin'. Like the sunshine. Everybody's gotta learn sometime. Everybody's gotta learn sometime. Everybody's gotta learn sometime. Change your heart. Look around you. Change your heart. Will astound you. I need your lovin'. Like the sunshine. Everybody's gotta learn sometime. Everybody's gotta learn sometime. Everybody's gotta learn sometime. I need your lovin'. Like the sunshine. Everybody's gotta learn sometime. Everybody's gotta learn sometime. Everybody's gotta learn sometime. Everybody's gotta learn sometime. Everybody's gotta learn sometime. Everybody's gotta learn sometime. Everybody's gotta learn sometime. Everybody's gotta learn sometime\",\n          \"Light comes in, I watch you wake. Wanting you so much my heart could break. To touch your skin, to feel your hair. I'd follow you anywhere. Light goes out, I watch you sleep. Never imagined love so deep. I close my eyes to breathe the air. I'd follow you anywhere. And the waves that wash over me, wash over you. Follow me, I'll follow you. Through your dreams to secret places. Here's my hand, just take it. Do as I do, I'll follow you. Nobody knows who made the stars. Baby the whole world is ours. From Liverpool to Leicester Square. I'd follow you anywhere. The angels that watch over me, watch over you. Follow me, I'll follow you. Through your dreams to secret places. Where nobody can trace us. We'll make it through, I'll follow you. And the waves that wash over me, wash over you. Follow me, I'll follow you. When nobody can find you. I'll be right behind you. You'll make it through (I'll follow you). Follow me (follow me), I'll follow you. Through your dreams to secret places. Here's my hand, just take it. Do as I do, I'll follow you\",\n          \"I visualize the first time we're together. I close my eyes and for a moment all I see is you. Turn off the lights, don't look outside, the world's gone crazy. But it's perfect here with you. Chorus:. I\\u2019ve never felt so alive. Like I feel right now in this moment. I\\u2019ve never felt so alive. Like I feel right here standing next to you. I\\u2019ve never felt so alive. I know what you're thinking. You think that we're different. In my reputation, in the stories. Well, at least you know it won't get boring. Like all the ones who came before me. Just let go as I crash into you. Chorus (1x). Heaven's heard me calling. The stars involve a light. Your touch is so electric. I'm looking in your eyes. I\\u2019ve never felt so alive. It's so surreal, the way you feel. How fast my heart is beating. And we're breathing together now. As we fall down, above the clouds. I swear I\\u2019ll never let you down. Chorus (1x). Heaven's heard me calling. The stars involve a light. Your touch is so electric. I'm looking in your eyes. I\\u2019ve never felt so alive (3x)\"\n        ],\n        \"semantic_type\": \"\",\n        \"description\": \"\"\n      }\n    },\n    {\n      \"column\": \"Genre\",\n      \"properties\": {\n        \"dtype\": \"category\",\n        \"num_unique_values\": 3,\n        \"samples\": [\n          \"Pop\",\n          \"Rock\",\n          \"Hip Hop\"\n        ],\n        \"semantic_type\": \"\",\n        \"description\": \"\"\n      }\n    }\n  ]\n}"
            }
          },
          "metadata": {},
          "execution_count": 23
        }
      ]
    },
    {
      "cell_type": "code",
      "source": [
        "# Let's turn the target into a dummy vector\n",
        "\n",
        "y_train = pd.get_dummies(train_df['Genre'],dtype=\"int\").to_numpy()\n",
        "y_val = pd.get_dummies(val_df['Genre'], dtype=\"int\").to_numpy()\n",
        "y_test = pd.get_dummies(test_df['Genre'], dtype=\"int\").to_numpy()"
      ],
      "metadata": {
        "id": "sia5LebDeuDM"
      },
      "execution_count": null,
      "outputs": []
    },
    {
      "cell_type": "code",
      "source": [
        "y_train"
      ],
      "metadata": {
        "colab": {
          "base_uri": "https://localhost:8080/"
        },
        "id": "HgP5nnELw0mm",
        "outputId": "e4f465a2-3306-4960-c444-eb654b21048a"
      },
      "execution_count": null,
      "outputs": [
        {
          "output_type": "execute_result",
          "data": {
            "text/plain": [
              "array([[0, 1, 0],\n",
              "       [0, 1, 0],\n",
              "       [0, 0, 1],\n",
              "       ...,\n",
              "       [0, 1, 0],\n",
              "       [0, 1, 0],\n",
              "       [0, 0, 1]])"
            ]
          },
          "metadata": {},
          "execution_count": 25
        }
      ]
    },
    {
      "cell_type": "markdown",
      "source": [
        "## Baseline Model (Bag of Words)\n"
      ],
      "metadata": {
        "id": "FIjJzeDHRre_"
      }
    },
    {
      "cell_type": "code",
      "metadata": {
        "id": "DLxsgJA3NClv"
      },
      "source": [
        "# First, we set up our Text Vectorization layer using multi-hot encoding\n",
        "\n",
        "max_tokens = 5000\n",
        "text_vectorization = keras.layers.TextVectorization(\n",
        "    max_tokens=max_tokens,\n",
        "    output_mode=\"multi_hot\")\n"
      ],
      "execution_count": null,
      "outputs": []
    },
    {
      "cell_type": "markdown",
      "source": [
        "Now let's run our STIE process on the training corpus."
      ],
      "metadata": {
        "id": "YAfZ1ctKdO6w"
      }
    },
    {
      "cell_type": "code",
      "source": [
        "# The vocabulary that will be indexed is given by the text corpus on our train dataset\n",
        "text_vectorization.adapt(train_df['Lyric'])"
      ],
      "metadata": {
        "id": "D-ikQfQAdIBP"
      },
      "execution_count": null,
      "outputs": []
    },
    {
      "cell_type": "code",
      "source": [
        "# We vectorize our input\n",
        "X_train = text_vectorization(train_df['Lyric'])\n",
        "X_val = text_vectorization(val_df['Lyric'])\n",
        "X_test = text_vectorization(test_df['Lyric'])"
      ],
      "metadata": {
        "id": "YIokUj27ARXL"
      },
      "execution_count": null,
      "outputs": []
    },
    {
      "cell_type": "code",
      "source": [
        "X_train"
      ],
      "metadata": {
        "colab": {
          "base_uri": "https://localhost:8080/"
        },
        "id": "0Vx0UX6hxS95",
        "outputId": "faa0287e-f5b1-472a-f16f-afad66229a22"
      },
      "execution_count": null,
      "outputs": [
        {
          "output_type": "execute_result",
          "data": {
            "text/plain": [
              "<tf.Tensor: shape=(48991, 5000), dtype=int64, numpy=\n",
              "array([[1, 1, 1, ..., 0, 0, 0],\n",
              "       [1, 1, 1, ..., 0, 0, 0],\n",
              "       [1, 1, 1, ..., 0, 0, 0],\n",
              "       ...,\n",
              "       [1, 1, 1, ..., 0, 0, 0],\n",
              "       [1, 1, 1, ..., 0, 0, 0],\n",
              "       [1, 1, 1, ..., 0, 0, 0]])>"
            ]
          },
          "metadata": {},
          "execution_count": 29
        }
      ]
    },
    {
      "cell_type": "code",
      "metadata": {
        "colab": {
          "base_uri": "https://localhost:8080/",
          "height": 229
        },
        "id": "HmM_1n97zW2Y",
        "outputId": "448124ce-ef2a-4205-e75b-75903b5641bd"
      },
      "source": [
        "inputs = keras.layers.Input(shape=(max_tokens, ))\n",
        "x = keras.layers.Dense(8, activation=\"relu\")(inputs)\n",
        "outputs = keras.layers.Dense(3, activation=\"softmax\")(x)\n",
        "\n",
        "model = keras.Model(inputs, outputs)\n",
        "\n",
        "model.summary()"
      ],
      "execution_count": null,
      "outputs": [
        {
          "output_type": "display_data",
          "data": {
            "text/plain": [
              "\u001b[1mModel: \"functional_3\"\u001b[0m\n"
            ],
            "text/html": [
              "<pre style=\"white-space:pre;overflow-x:auto;line-height:normal;font-family:Menlo,'DejaVu Sans Mono',consolas,'Courier New',monospace\"><span style=\"font-weight: bold\">Model: \"functional_3\"</span>\n",
              "</pre>\n"
            ]
          },
          "metadata": {}
        },
        {
          "output_type": "display_data",
          "data": {
            "text/plain": [
              "┏━━━━━━━━━━━━━━━━━━━━━━━━━━━━━━━━━━━━━━┳━━━━━━━━━━━━━━━━━━━━━━━━━━━━━┳━━━━━━━━━━━━━━━━━┓\n",
              "┃\u001b[1m \u001b[0m\u001b[1mLayer (type)                        \u001b[0m\u001b[1m \u001b[0m┃\u001b[1m \u001b[0m\u001b[1mOutput Shape               \u001b[0m\u001b[1m \u001b[0m┃\u001b[1m \u001b[0m\u001b[1m        Param #\u001b[0m\u001b[1m \u001b[0m┃\n",
              "┡━━━━━━━━━━━━━━━━━━━━━━━━━━━━━━━━━━━━━━╇━━━━━━━━━━━━━━━━━━━━━━━━━━━━━╇━━━━━━━━━━━━━━━━━┩\n",
              "│ input_layer_3 (\u001b[38;5;33mInputLayer\u001b[0m)           │ (\u001b[38;5;45mNone\u001b[0m, \u001b[38;5;34m5000\u001b[0m)                │               \u001b[38;5;34m0\u001b[0m │\n",
              "├──────────────────────────────────────┼─────────────────────────────┼─────────────────┤\n",
              "│ dense_6 (\u001b[38;5;33mDense\u001b[0m)                      │ (\u001b[38;5;45mNone\u001b[0m, \u001b[38;5;34m8\u001b[0m)                   │          \u001b[38;5;34m40,008\u001b[0m │\n",
              "├──────────────────────────────────────┼─────────────────────────────┼─────────────────┤\n",
              "│ dense_7 (\u001b[38;5;33mDense\u001b[0m)                      │ (\u001b[38;5;45mNone\u001b[0m, \u001b[38;5;34m3\u001b[0m)                   │              \u001b[38;5;34m27\u001b[0m │\n",
              "└──────────────────────────────────────┴─────────────────────────────┴─────────────────┘\n"
            ],
            "text/html": [
              "<pre style=\"white-space:pre;overflow-x:auto;line-height:normal;font-family:Menlo,'DejaVu Sans Mono',consolas,'Courier New',monospace\">┏━━━━━━━━━━━━━━━━━━━━━━━━━━━━━━━━━━━━━━┳━━━━━━━━━━━━━━━━━━━━━━━━━━━━━┳━━━━━━━━━━━━━━━━━┓\n",
              "┃<span style=\"font-weight: bold\"> Layer (type)                         </span>┃<span style=\"font-weight: bold\"> Output Shape                </span>┃<span style=\"font-weight: bold\">         Param # </span>┃\n",
              "┡━━━━━━━━━━━━━━━━━━━━━━━━━━━━━━━━━━━━━━╇━━━━━━━━━━━━━━━━━━━━━━━━━━━━━╇━━━━━━━━━━━━━━━━━┩\n",
              "│ input_layer_3 (<span style=\"color: #0087ff; text-decoration-color: #0087ff\">InputLayer</span>)           │ (<span style=\"color: #00d7ff; text-decoration-color: #00d7ff\">None</span>, <span style=\"color: #00af00; text-decoration-color: #00af00\">5000</span>)                │               <span style=\"color: #00af00; text-decoration-color: #00af00\">0</span> │\n",
              "├──────────────────────────────────────┼─────────────────────────────┼─────────────────┤\n",
              "│ dense_6 (<span style=\"color: #0087ff; text-decoration-color: #0087ff\">Dense</span>)                      │ (<span style=\"color: #00d7ff; text-decoration-color: #00d7ff\">None</span>, <span style=\"color: #00af00; text-decoration-color: #00af00\">8</span>)                   │          <span style=\"color: #00af00; text-decoration-color: #00af00\">40,008</span> │\n",
              "├──────────────────────────────────────┼─────────────────────────────┼─────────────────┤\n",
              "│ dense_7 (<span style=\"color: #0087ff; text-decoration-color: #0087ff\">Dense</span>)                      │ (<span style=\"color: #00d7ff; text-decoration-color: #00d7ff\">None</span>, <span style=\"color: #00af00; text-decoration-color: #00af00\">3</span>)                   │              <span style=\"color: #00af00; text-decoration-color: #00af00\">27</span> │\n",
              "└──────────────────────────────────────┴─────────────────────────────┴─────────────────┘\n",
              "</pre>\n"
            ]
          },
          "metadata": {}
        },
        {
          "output_type": "display_data",
          "data": {
            "text/plain": [
              "\u001b[1m Total params: \u001b[0m\u001b[38;5;34m40,035\u001b[0m (156.39 KB)\n"
            ],
            "text/html": [
              "<pre style=\"white-space:pre;overflow-x:auto;line-height:normal;font-family:Menlo,'DejaVu Sans Mono',consolas,'Courier New',monospace\"><span style=\"font-weight: bold\"> Total params: </span><span style=\"color: #00af00; text-decoration-color: #00af00\">40,035</span> (156.39 KB)\n",
              "</pre>\n"
            ]
          },
          "metadata": {}
        },
        {
          "output_type": "display_data",
          "data": {
            "text/plain": [
              "\u001b[1m Trainable params: \u001b[0m\u001b[38;5;34m40,035\u001b[0m (156.39 KB)\n"
            ],
            "text/html": [
              "<pre style=\"white-space:pre;overflow-x:auto;line-height:normal;font-family:Menlo,'DejaVu Sans Mono',consolas,'Courier New',monospace\"><span style=\"font-weight: bold\"> Trainable params: </span><span style=\"color: #00af00; text-decoration-color: #00af00\">40,035</span> (156.39 KB)\n",
              "</pre>\n"
            ]
          },
          "metadata": {}
        },
        {
          "output_type": "display_data",
          "data": {
            "text/plain": [
              "\u001b[1m Non-trainable params: \u001b[0m\u001b[38;5;34m0\u001b[0m (0.00 B)\n"
            ],
            "text/html": [
              "<pre style=\"white-space:pre;overflow-x:auto;line-height:normal;font-family:Menlo,'DejaVu Sans Mono',consolas,'Courier New',monospace\"><span style=\"font-weight: bold\"> Non-trainable params: </span><span style=\"color: #00af00; text-decoration-color: #00af00\">0</span> (0.00 B)\n",
              "</pre>\n"
            ]
          },
          "metadata": {}
        }
      ]
    },
    {
      "cell_type": "code",
      "source": [
        "model.compile(optimizer=\"adam\",\n",
        "              loss=\"categorical_crossentropy\",\n",
        "              metrics=[\"accuracy\"])"
      ],
      "metadata": {
        "id": "xaswHL4-8RKQ"
      },
      "execution_count": null,
      "outputs": []
    },
    {
      "cell_type": "markdown",
      "source": [
        "We will do something different here. Let's see what the best accuacy we can get with just *100* training data points."
      ],
      "metadata": {
        "id": "1klOzmOmgz8f"
      }
    },
    {
      "cell_type": "code",
      "source": [
        "# Fit model on the training data with 20 epochs and batch size of 32\n",
        "\n",
        "model.fit(\n",
        "    x=X_train[:100], y=y_train[:100],\n",
        "    epochs=20, batch_size=32,\n",
        "    verbose=1,\n",
        "    validation_data=(X_val, y_val),\n",
        ")\n",
        "\n",
        "print(\"\\n*** Test accuracy after training on a small sample: %.4f ***\\n\" % model.evaluate(x=X_test, y=y_test)[1])"
      ],
      "metadata": {
        "id": "3KvpfM6o8T9d",
        "colab": {
          "base_uri": "https://localhost:8080/"
        },
        "outputId": "65aeaa2e-719d-4e83-a831-54dcf6f573ba"
      },
      "execution_count": null,
      "outputs": [
        {
          "output_type": "stream",
          "name": "stdout",
          "text": [
            "Epoch 1/20\n",
            "\u001b[1m4/4\u001b[0m \u001b[32m━━━━━━━━━━━━━━━━━━━━\u001b[0m\u001b[37m\u001b[0m \u001b[1m3s\u001b[0m 655ms/step - accuracy: 0.4962 - loss: 1.0860 - val_accuracy: 0.5237 - val_loss: 1.0677\n",
            "Epoch 2/20\n",
            "\u001b[1m4/4\u001b[0m \u001b[32m━━━━━━━━━━━━━━━━━━━━\u001b[0m\u001b[37m\u001b[0m \u001b[1m1s\u001b[0m 382ms/step - accuracy: 0.6018 - loss: 1.0023 - val_accuracy: 0.5321 - val_loss: 1.0548\n",
            "Epoch 3/20\n",
            "\u001b[1m4/4\u001b[0m \u001b[32m━━━━━━━━━━━━━━━━━━━━\u001b[0m\u001b[37m\u001b[0m \u001b[1m1s\u001b[0m 377ms/step - accuracy: 0.6927 - loss: 0.9398 - val_accuracy: 0.5365 - val_loss: 1.0482\n",
            "Epoch 4/20\n",
            "\u001b[1m4/4\u001b[0m \u001b[32m━━━━━━━━━━━━━━━━━━━━\u001b[0m\u001b[37m\u001b[0m \u001b[1m1s\u001b[0m 372ms/step - accuracy: 0.7326 - loss: 0.8790 - val_accuracy: 0.5393 - val_loss: 1.0436\n",
            "Epoch 5/20\n",
            "\u001b[1m4/4\u001b[0m \u001b[32m━━━━━━━━━━━━━━━━━━━━\u001b[0m\u001b[37m\u001b[0m \u001b[1m1s\u001b[0m 372ms/step - accuracy: 0.7726 - loss: 0.8205 - val_accuracy: 0.5414 - val_loss: 1.0376\n",
            "Epoch 6/20\n",
            "\u001b[1m4/4\u001b[0m \u001b[32m━━━━━━━━━━━━━━━━━━━━\u001b[0m\u001b[37m\u001b[0m \u001b[1m1s\u001b[0m 373ms/step - accuracy: 0.8558 - loss: 0.7649 - val_accuracy: 0.5422 - val_loss: 1.0268\n",
            "Epoch 7/20\n",
            "\u001b[1m4/4\u001b[0m \u001b[32m━━━━━━━━━━━━━━━━━━━━\u001b[0m\u001b[37m\u001b[0m \u001b[1m1s\u001b[0m 379ms/step - accuracy: 0.8987 - loss: 0.7087 - val_accuracy: 0.5403 - val_loss: 1.0136\n",
            "Epoch 8/20\n",
            "\u001b[1m4/4\u001b[0m \u001b[32m━━━━━━━━━━━━━━━━━━━━\u001b[0m\u001b[37m\u001b[0m \u001b[1m1s\u001b[0m 377ms/step - accuracy: 0.9263 - loss: 0.6512 - val_accuracy: 0.5330 - val_loss: 1.0011\n",
            "Epoch 9/20\n",
            "\u001b[1m4/4\u001b[0m \u001b[32m━━━━━━━━━━━━━━━━━━━━\u001b[0m\u001b[37m\u001b[0m \u001b[1m1s\u001b[0m 378ms/step - accuracy: 0.9385 - loss: 0.5922 - val_accuracy: 0.5159 - val_loss: 0.9919\n",
            "Epoch 10/20\n",
            "\u001b[1m4/4\u001b[0m \u001b[32m━━━━━━━━━━━━━━━━━━━━\u001b[0m\u001b[37m\u001b[0m \u001b[1m1s\u001b[0m 377ms/step - accuracy: 0.9507 - loss: 0.5354 - val_accuracy: 0.5212 - val_loss: 0.9802\n",
            "Epoch 11/20\n",
            "\u001b[1m4/4\u001b[0m \u001b[32m━━━━━━━━━━━━━━━━━━━━\u001b[0m\u001b[37m\u001b[0m \u001b[1m1s\u001b[0m 375ms/step - accuracy: 0.9661 - loss: 0.4767 - val_accuracy: 0.5333 - val_loss: 0.9671\n",
            "Epoch 12/20\n",
            "\u001b[1m4/4\u001b[0m \u001b[32m━━━━━━━━━━━━━━━━━━━━\u001b[0m\u001b[37m\u001b[0m \u001b[1m1s\u001b[0m 370ms/step - accuracy: 0.9816 - loss: 0.4228 - val_accuracy: 0.5390 - val_loss: 0.9577\n",
            "Epoch 13/20\n",
            "\u001b[1m4/4\u001b[0m \u001b[32m━━━━━━━━━━━━━━━━━━━━\u001b[0m\u001b[37m\u001b[0m \u001b[1m1s\u001b[0m 369ms/step - accuracy: 0.9816 - loss: 0.3759 - val_accuracy: 0.5379 - val_loss: 0.9509\n",
            "Epoch 14/20\n",
            "\u001b[1m4/4\u001b[0m \u001b[32m━━━━━━━━━━━━━━━━━━━━\u001b[0m\u001b[37m\u001b[0m \u001b[1m1s\u001b[0m 374ms/step - accuracy: 0.9816 - loss: 0.3361 - val_accuracy: 0.5379 - val_loss: 0.9454\n",
            "Epoch 15/20\n",
            "\u001b[1m4/4\u001b[0m \u001b[32m━━━━━━━━━━━━━━━━━━━━\u001b[0m\u001b[37m\u001b[0m \u001b[1m1s\u001b[0m 372ms/step - accuracy: 0.9816 - loss: 0.3015 - val_accuracy: 0.5394 - val_loss: 0.9421\n",
            "Epoch 16/20\n",
            "\u001b[1m4/4\u001b[0m \u001b[32m━━━━━━━━━━━━━━━━━━━━\u001b[0m\u001b[37m\u001b[0m \u001b[1m1s\u001b[0m 372ms/step - accuracy: 0.9908 - loss: 0.2705 - val_accuracy: 0.5402 - val_loss: 0.9413\n",
            "Epoch 17/20\n",
            "\u001b[1m4/4\u001b[0m \u001b[32m━━━━━━━━━━━━━━━━━━━━\u001b[0m\u001b[37m\u001b[0m \u001b[1m1s\u001b[0m 371ms/step - accuracy: 1.0000 - loss: 0.2440 - val_accuracy: 0.5394 - val_loss: 0.9404\n",
            "Epoch 18/20\n",
            "\u001b[1m4/4\u001b[0m \u001b[32m━━━━━━━━━━━━━━━━━━━━\u001b[0m\u001b[37m\u001b[0m \u001b[1m1s\u001b[0m 370ms/step - accuracy: 1.0000 - loss: 0.2215 - val_accuracy: 0.5400 - val_loss: 0.9402\n",
            "Epoch 19/20\n",
            "\u001b[1m4/4\u001b[0m \u001b[32m━━━━━━━━━━━━━━━━━━━━\u001b[0m\u001b[37m\u001b[0m \u001b[1m1s\u001b[0m 379ms/step - accuracy: 1.0000 - loss: 0.2021 - val_accuracy: 0.5395 - val_loss: 0.9426\n",
            "Epoch 20/20\n",
            "\u001b[1m4/4\u001b[0m \u001b[32m━━━━━━━━━━━━━━━━━━━━\u001b[0m\u001b[37m\u001b[0m \u001b[1m1s\u001b[0m 387ms/step - accuracy: 1.0000 - loss: 0.1851 - val_accuracy: 0.5382 - val_loss: 0.9453\n",
            "\u001b[1m681/681\u001b[0m \u001b[32m━━━━━━━━━━━━━━━━━━━━\u001b[0m\u001b[37m\u001b[0m \u001b[1m2s\u001b[0m 2ms/step - accuracy: 0.5380 - loss: 0.9471\n",
            "\n",
            "*** Test accuracy after training on a small sample: 0.5354 ***\n",
            "\n"
          ]
        }
      ]
    },
    {
      "cell_type": "markdown",
      "source": [
        "Since there are only 200 data points, the NN overfits the training data like crazy and achieves 99% accuracy in 20 epochs. But the validation accuracy is stuck in the low 50s. Anything special about this number?"
      ],
      "metadata": {
        "id": "_lTiXuQCko0B"
      }
    },
    {
      "cell_type": "code",
      "source": [
        "# Let's check the proportion of each label in the training set\n",
        "train_df['Genre'].value_counts(normalize=True)"
      ],
      "metadata": {
        "colab": {
          "base_uri": "https://localhost:8080/",
          "height": 210
        },
        "id": "G0XZsXyRZ6Ns",
        "outputId": "04ef4c19-9523-4be0-f589-2b3e4c30c9ef"
      },
      "execution_count": null,
      "outputs": [
        {
          "output_type": "execute_result",
          "data": {
            "text/plain": [
              "Genre\n",
              "Rock       0.549448\n",
              "Pop        0.295136\n",
              "Hip Hop    0.155416\n",
              "Name: proportion, dtype: float64"
            ],
            "text/html": [
              "<div>\n",
              "<style scoped>\n",
              "    .dataframe tbody tr th:only-of-type {\n",
              "        vertical-align: middle;\n",
              "    }\n",
              "\n",
              "    .dataframe tbody tr th {\n",
              "        vertical-align: top;\n",
              "    }\n",
              "\n",
              "    .dataframe thead th {\n",
              "        text-align: right;\n",
              "    }\n",
              "</style>\n",
              "<table border=\"1\" class=\"dataframe\">\n",
              "  <thead>\n",
              "    <tr style=\"text-align: right;\">\n",
              "      <th></th>\n",
              "      <th>proportion</th>\n",
              "    </tr>\n",
              "    <tr>\n",
              "      <th>Genre</th>\n",
              "      <th></th>\n",
              "    </tr>\n",
              "  </thead>\n",
              "  <tbody>\n",
              "    <tr>\n",
              "      <th>Rock</th>\n",
              "      <td>0.549448</td>\n",
              "    </tr>\n",
              "    <tr>\n",
              "      <th>Pop</th>\n",
              "      <td>0.295136</td>\n",
              "    </tr>\n",
              "    <tr>\n",
              "      <th>Hip Hop</th>\n",
              "      <td>0.155416</td>\n",
              "    </tr>\n",
              "  </tbody>\n",
              "</table>\n",
              "</div><br><label><b>dtype:</b> float64</label>"
            ]
          },
          "metadata": {},
          "execution_count": 34
        }
      ]
    },
    {
      "cell_type": "markdown",
      "source": [
        "It is more or less the exact fraction of the most popular class! The model hasn't really manged to learn much ..."
      ],
      "metadata": {
        "id": "jLkHdTztZ8lJ"
      }
    },
    {
      "cell_type": "markdown",
      "source": [
        "For completeness lets see what we can do with the full dataset.\n",
        "\n",
        "We did *early stopping* and discovered that stopping at one epoch maximizes accuracy on the validation set (feel free to check this!)"
      ],
      "metadata": {
        "id": "g-NebJsSaIER"
      }
    },
    {
      "cell_type": "code",
      "source": [
        "# Fit model on the training data with 20 epochs and batch size of 32\n",
        "model.fit(\n",
        "    x=X_train, y=y_train,\n",
        "    epochs=1, batch_size=32,\n",
        "    verbose=1,\n",
        "    validation_data=(X_val, y_val),\n",
        ")\n",
        "\n",
        "print(\"\\n*** Test accuracy after training on all examples % .4f ***\\n\" % model.evaluate(x=X_test, y=y_test)[1])"
      ],
      "metadata": {
        "colab": {
          "base_uri": "https://localhost:8080/"
        },
        "id": "3Y9os-8wY_Ho",
        "outputId": "7a399bc1-796a-4f54-f3de-377f30fb0068"
      },
      "execution_count": null,
      "outputs": [
        {
          "output_type": "stream",
          "name": "stdout",
          "text": [
            "\u001b[1m1531/1531\u001b[0m \u001b[32m━━━━━━━━━━━━━━━━━━━━\u001b[0m\u001b[37m\u001b[0m \u001b[1m5s\u001b[0m 4ms/step - accuracy: 0.7145 - loss: 0.6573 - val_accuracy: 0.7493 - val_loss: 0.5742\n",
            "\u001b[1m681/681\u001b[0m \u001b[32m━━━━━━━━━━━━━━━━━━━━\u001b[0m\u001b[37m\u001b[0m \u001b[1m1s\u001b[0m 2ms/step - accuracy: 0.7469 - loss: 0.5832\n",
            "\n",
            "*** Test accuracy after training on all examples  0.7450 ***\n",
            "\n"
          ]
        }
      ]
    },
    {
      "cell_type": "markdown",
      "source": [
        "So to summarize:\n",
        "\n",
        "* BoW with 100 Examples: ~54% (i.e. no meaningful learning)\n",
        "* BoW with all 50k Examples: 74.7% (i.e. the best accuracy we have extracted from this dataset so far)"
      ],
      "metadata": {
        "id": "_eCV6296STmF"
      }
    },
    {
      "cell_type": "markdown",
      "source": [
        "# Let's Fine-Tune BERT!"
      ],
      "metadata": {
        "id": "fVNvW7IKrhyP"
      }
    },
    {
      "cell_type": "markdown",
      "source": [
        "We can download pretrained models from the [Keras Hub](https://www.kaggle.com/models?tfhub-redirect=true).\n",
        "\n",
        "\n"
      ],
      "metadata": {
        "id": "nIcQW7v0l6Ej"
      }
    },
    {
      "cell_type": "code",
      "source": [
        "pip install --upgrade keras-hub"
      ],
      "metadata": {
        "id": "bAth9IV3rhRA"
      },
      "execution_count": null,
      "outputs": []
    },
    {
      "cell_type": "code",
      "source": [
        "import keras_hub"
      ],
      "metadata": {
        "id": "m_rQKmH8ry9H"
      },
      "execution_count": null,
      "outputs": []
    },
    {
      "cell_type": "markdown",
      "source": [
        "As mentioned in class, BERT has many variants and successors. A robust, widely-used variant is **RoBERTa**.\n",
        "\n",
        "This is a pretty sizable model. As we will see shortly, it has ~124M parameters. It has been trained on English Wikipedia, BooksCorpus, CommonCraw, and OpenWebText. The latter two are essentially crawls of the open internet. See the [paper](https://arxiv.org/abs/1907.11692/) for more."
      ],
      "metadata": {
        "id": "MG9z0HhxmMnh"
      }
    },
    {
      "cell_type": "markdown",
      "source": [
        "We will be using just a couple of KerasHub-specific functions. [Getting Started with KerasHub](https://keras.io/keras_hub/getting_started/) is a good starting point to learn more."
      ],
      "metadata": {
        "id": "6C0WR_72ucn2"
      }
    },
    {
      "cell_type": "code",
      "source": [
        "# Pretrained classifier.\n",
        "classifier = keras_hub.models.RobertaClassifier.from_preset(\n",
        "    \"roberta_base_en\",\n",
        "    num_classes=3,\n",
        ")\n",
        "\n",
        "classifier.backbone.trainable = True"
      ],
      "metadata": {
        "id": "KdzOrfr8r1ZS",
        "colab": {
          "base_uri": "https://localhost:8080/"
        },
        "outputId": "8ceb6847-b98e-4cbc-e8dd-d969d535468a"
      },
      "execution_count": null,
      "outputs": [
        {
          "output_type": "stream",
          "name": "stdout",
          "text": [
            "Downloading from https://www.kaggle.com/api/v1/models/keras/roberta/keras/roberta_base_en/2/download/config.json...\n"
          ]
        },
        {
          "output_type": "stream",
          "name": "stderr",
          "text": [
            "100%|██████████| 498/498 [00:00<00:00, 943kB/s]\n"
          ]
        },
        {
          "output_type": "stream",
          "name": "stdout",
          "text": [
            "Downloading from https://www.kaggle.com/api/v1/models/keras/roberta/keras/roberta_base_en/2/download/model.weights.h5...\n"
          ]
        },
        {
          "output_type": "stream",
          "name": "stderr",
          "text": [
            "100%|██████████| 474M/474M [00:05<00:00, 94.3MB/s]\n"
          ]
        },
        {
          "output_type": "stream",
          "name": "stdout",
          "text": [
            "Downloading from https://www.kaggle.com/api/v1/models/keras/roberta/keras/roberta_base_en/2/download/tokenizer.json...\n"
          ]
        },
        {
          "output_type": "stream",
          "name": "stderr",
          "text": [
            "100%|██████████| 463/463 [00:00<00:00, 1.07MB/s]\n"
          ]
        },
        {
          "output_type": "stream",
          "name": "stdout",
          "text": [
            "Downloading from https://www.kaggle.com/api/v1/models/keras/roberta/keras/roberta_base_en/2/download/assets/tokenizer/vocabulary.json...\n"
          ]
        },
        {
          "output_type": "stream",
          "name": "stderr",
          "text": [
            "100%|██████████| 0.99M/0.99M [00:00<00:00, 4.80MB/s]\n"
          ]
        },
        {
          "output_type": "stream",
          "name": "stdout",
          "text": [
            "Downloading from https://www.kaggle.com/api/v1/models/keras/roberta/keras/roberta_base_en/2/download/assets/tokenizer/merges.txt...\n"
          ]
        },
        {
          "output_type": "stream",
          "name": "stderr",
          "text": [
            "100%|██████████| 446k/446k [00:00<00:00, 2.91MB/s]\n"
          ]
        }
      ]
    },
    {
      "cell_type": "code",
      "source": [
        "classifier.summary()"
      ],
      "metadata": {
        "colab": {
          "base_uri": "https://localhost:8080/",
          "height": 507
        },
        "id": "F4U2ugzzcN4k",
        "outputId": "8a6c168c-14dc-4f31-def8-380181ab8867"
      },
      "execution_count": null,
      "outputs": [
        {
          "output_type": "display_data",
          "data": {
            "text/plain": [
              "\u001b[1mPreprocessor: \"roberta_text_classifier_preprocessor\"\u001b[0m\n"
            ],
            "text/html": [
              "<pre style=\"white-space:pre;overflow-x:auto;line-height:normal;font-family:Menlo,'DejaVu Sans Mono',consolas,'Courier New',monospace\"><span style=\"font-weight: bold\">Preprocessor: \"roberta_text_classifier_preprocessor\"</span>\n",
              "</pre>\n"
            ]
          },
          "metadata": {}
        },
        {
          "output_type": "display_data",
          "data": {
            "text/plain": [
              "┏━━━━━━━━━━━━━━━━━━━━━━━━━━━━━━━━━━━━━━━━━━━━━━━━━━━━━━━━━━━━━━━┳━━━━━━━━━━━━━━━━━━━━━━━━━━━━━━━━━━━━━━━━━━┓\n",
              "┃\u001b[1m \u001b[0m\u001b[1mLayer (type)                                                 \u001b[0m\u001b[1m \u001b[0m┃\u001b[1m \u001b[0m\u001b[1m                                  Config\u001b[0m\u001b[1m \u001b[0m┃\n",
              "┡━━━━━━━━━━━━━━━━━━━━━━━━━━━━━━━━━━━━━━━━━━━━━━━━━━━━━━━━━━━━━━━╇━━━━━━━━━━━━━━━━━━━━━━━━━━━━━━━━━━━━━━━━━━┩\n",
              "│ roberta_tokenizer (\u001b[38;5;33mRobertaTokenizer\u001b[0m)                          │                       Vocab size: \u001b[38;5;34m50,265\u001b[0m │\n",
              "└───────────────────────────────────────────────────────────────┴──────────────────────────────────────────┘\n"
            ],
            "text/html": [
              "<pre style=\"white-space:pre;overflow-x:auto;line-height:normal;font-family:Menlo,'DejaVu Sans Mono',consolas,'Courier New',monospace\">┏━━━━━━━━━━━━━━━━━━━━━━━━━━━━━━━━━━━━━━━━━━━━━━━━━━━━━━━━━━━━━━━┳━━━━━━━━━━━━━━━━━━━━━━━━━━━━━━━━━━━━━━━━━━┓\n",
              "┃<span style=\"font-weight: bold\"> Layer (type)                                                  </span>┃<span style=\"font-weight: bold\">                                   Config </span>┃\n",
              "┡━━━━━━━━━━━━━━━━━━━━━━━━━━━━━━━━━━━━━━━━━━━━━━━━━━━━━━━━━━━━━━━╇━━━━━━━━━━━━━━━━━━━━━━━━━━━━━━━━━━━━━━━━━━┩\n",
              "│ roberta_tokenizer (<span style=\"color: #0087ff; text-decoration-color: #0087ff\">RobertaTokenizer</span>)                          │                       Vocab size: <span style=\"color: #00af00; text-decoration-color: #00af00\">50,265</span> │\n",
              "└───────────────────────────────────────────────────────────────┴──────────────────────────────────────────┘\n",
              "</pre>\n"
            ]
          },
          "metadata": {}
        },
        {
          "output_type": "display_data",
          "data": {
            "text/plain": [
              "\u001b[1mModel: \"roberta_text_classifier\"\u001b[0m\n"
            ],
            "text/html": [
              "<pre style=\"white-space:pre;overflow-x:auto;line-height:normal;font-family:Menlo,'DejaVu Sans Mono',consolas,'Courier New',monospace\"><span style=\"font-weight: bold\">Model: \"roberta_text_classifier\"</span>\n",
              "</pre>\n"
            ]
          },
          "metadata": {}
        },
        {
          "output_type": "display_data",
          "data": {
            "text/plain": [
              "┏━━━━━━━━━━━━━━━━━━━━━━━━━━━━━━━┳━━━━━━━━━━━━━━━━━━━━━━━━━━━┳━━━━━━━━━━━━━━━━━┳━━━━━━━━━━━━━━━━━━━━━━━━━━━━┓\n",
              "┃\u001b[1m \u001b[0m\u001b[1mLayer (type)                 \u001b[0m\u001b[1m \u001b[0m┃\u001b[1m \u001b[0m\u001b[1mOutput Shape             \u001b[0m\u001b[1m \u001b[0m┃\u001b[1m \u001b[0m\u001b[1m        Param #\u001b[0m\u001b[1m \u001b[0m┃\u001b[1m \u001b[0m\u001b[1mConnected to              \u001b[0m\u001b[1m \u001b[0m┃\n",
              "┡━━━━━━━━━━━━━━━━━━━━━━━━━━━━━━━╇━━━━━━━━━━━━━━━━━━━━━━━━━━━╇━━━━━━━━━━━━━━━━━╇━━━━━━━━━━━━━━━━━━━━━━━━━━━━┩\n",
              "│ padding_mask (\u001b[38;5;33mInputLayer\u001b[0m)     │ (\u001b[38;5;45mNone\u001b[0m, \u001b[38;5;45mNone\u001b[0m)              │               \u001b[38;5;34m0\u001b[0m │ -                          │\n",
              "├───────────────────────────────┼───────────────────────────┼─────────────────┼────────────────────────────┤\n",
              "│ token_ids (\u001b[38;5;33mInputLayer\u001b[0m)        │ (\u001b[38;5;45mNone\u001b[0m, \u001b[38;5;45mNone\u001b[0m)              │               \u001b[38;5;34m0\u001b[0m │ -                          │\n",
              "├───────────────────────────────┼───────────────────────────┼─────────────────┼────────────────────────────┤\n",
              "│ roberta_backbone              │ (\u001b[38;5;45mNone\u001b[0m, \u001b[38;5;45mNone\u001b[0m, \u001b[38;5;34m768\u001b[0m)         │     \u001b[38;5;34m124,052,736\u001b[0m │ padding_mask[\u001b[38;5;34m0\u001b[0m][\u001b[38;5;34m0\u001b[0m],        │\n",
              "│ (\u001b[38;5;33mRobertaBackbone\u001b[0m)             │                           │                 │ token_ids[\u001b[38;5;34m0\u001b[0m][\u001b[38;5;34m0\u001b[0m]            │\n",
              "├───────────────────────────────┼───────────────────────────┼─────────────────┼────────────────────────────┤\n",
              "│ get_item (\u001b[38;5;33mGetItem\u001b[0m)            │ (\u001b[38;5;45mNone\u001b[0m, \u001b[38;5;34m768\u001b[0m)               │               \u001b[38;5;34m0\u001b[0m │ roberta_backbone[\u001b[38;5;34m0\u001b[0m][\u001b[38;5;34m0\u001b[0m]     │\n",
              "├───────────────────────────────┼───────────────────────────┼─────────────────┼────────────────────────────┤\n",
              "│ pooled_dropout (\u001b[38;5;33mDropout\u001b[0m)      │ (\u001b[38;5;45mNone\u001b[0m, \u001b[38;5;34m768\u001b[0m)               │               \u001b[38;5;34m0\u001b[0m │ get_item[\u001b[38;5;34m0\u001b[0m][\u001b[38;5;34m0\u001b[0m]             │\n",
              "├───────────────────────────────┼───────────────────────────┼─────────────────┼────────────────────────────┤\n",
              "│ pooled_dense (\u001b[38;5;33mDense\u001b[0m)          │ (\u001b[38;5;45mNone\u001b[0m, \u001b[38;5;34m768\u001b[0m)               │         \u001b[38;5;34m590,592\u001b[0m │ pooled_dropout[\u001b[38;5;34m0\u001b[0m][\u001b[38;5;34m0\u001b[0m]       │\n",
              "├───────────────────────────────┼───────────────────────────┼─────────────────┼────────────────────────────┤\n",
              "│ output_dropout (\u001b[38;5;33mDropout\u001b[0m)      │ (\u001b[38;5;45mNone\u001b[0m, \u001b[38;5;34m768\u001b[0m)               │               \u001b[38;5;34m0\u001b[0m │ pooled_dense[\u001b[38;5;34m0\u001b[0m][\u001b[38;5;34m0\u001b[0m]         │\n",
              "├───────────────────────────────┼───────────────────────────┼─────────────────┼────────────────────────────┤\n",
              "│ logits (\u001b[38;5;33mDense\u001b[0m)                │ (\u001b[38;5;45mNone\u001b[0m, \u001b[38;5;34m3\u001b[0m)                 │           \u001b[38;5;34m2,307\u001b[0m │ output_dropout[\u001b[38;5;34m0\u001b[0m][\u001b[38;5;34m0\u001b[0m]       │\n",
              "└───────────────────────────────┴───────────────────────────┴─────────────────┴────────────────────────────┘\n"
            ],
            "text/html": [
              "<pre style=\"white-space:pre;overflow-x:auto;line-height:normal;font-family:Menlo,'DejaVu Sans Mono',consolas,'Courier New',monospace\">┏━━━━━━━━━━━━━━━━━━━━━━━━━━━━━━━┳━━━━━━━━━━━━━━━━━━━━━━━━━━━┳━━━━━━━━━━━━━━━━━┳━━━━━━━━━━━━━━━━━━━━━━━━━━━━┓\n",
              "┃<span style=\"font-weight: bold\"> Layer (type)                  </span>┃<span style=\"font-weight: bold\"> Output Shape              </span>┃<span style=\"font-weight: bold\">         Param # </span>┃<span style=\"font-weight: bold\"> Connected to               </span>┃\n",
              "┡━━━━━━━━━━━━━━━━━━━━━━━━━━━━━━━╇━━━━━━━━━━━━━━━━━━━━━━━━━━━╇━━━━━━━━━━━━━━━━━╇━━━━━━━━━━━━━━━━━━━━━━━━━━━━┩\n",
              "│ padding_mask (<span style=\"color: #0087ff; text-decoration-color: #0087ff\">InputLayer</span>)     │ (<span style=\"color: #00d7ff; text-decoration-color: #00d7ff\">None</span>, <span style=\"color: #00d7ff; text-decoration-color: #00d7ff\">None</span>)              │               <span style=\"color: #00af00; text-decoration-color: #00af00\">0</span> │ -                          │\n",
              "├───────────────────────────────┼───────────────────────────┼─────────────────┼────────────────────────────┤\n",
              "│ token_ids (<span style=\"color: #0087ff; text-decoration-color: #0087ff\">InputLayer</span>)        │ (<span style=\"color: #00d7ff; text-decoration-color: #00d7ff\">None</span>, <span style=\"color: #00d7ff; text-decoration-color: #00d7ff\">None</span>)              │               <span style=\"color: #00af00; text-decoration-color: #00af00\">0</span> │ -                          │\n",
              "├───────────────────────────────┼───────────────────────────┼─────────────────┼────────────────────────────┤\n",
              "│ roberta_backbone              │ (<span style=\"color: #00d7ff; text-decoration-color: #00d7ff\">None</span>, <span style=\"color: #00d7ff; text-decoration-color: #00d7ff\">None</span>, <span style=\"color: #00af00; text-decoration-color: #00af00\">768</span>)         │     <span style=\"color: #00af00; text-decoration-color: #00af00\">124,052,736</span> │ padding_mask[<span style=\"color: #00af00; text-decoration-color: #00af00\">0</span>][<span style=\"color: #00af00; text-decoration-color: #00af00\">0</span>],        │\n",
              "│ (<span style=\"color: #0087ff; text-decoration-color: #0087ff\">RobertaBackbone</span>)             │                           │                 │ token_ids[<span style=\"color: #00af00; text-decoration-color: #00af00\">0</span>][<span style=\"color: #00af00; text-decoration-color: #00af00\">0</span>]            │\n",
              "├───────────────────────────────┼───────────────────────────┼─────────────────┼────────────────────────────┤\n",
              "│ get_item (<span style=\"color: #0087ff; text-decoration-color: #0087ff\">GetItem</span>)            │ (<span style=\"color: #00d7ff; text-decoration-color: #00d7ff\">None</span>, <span style=\"color: #00af00; text-decoration-color: #00af00\">768</span>)               │               <span style=\"color: #00af00; text-decoration-color: #00af00\">0</span> │ roberta_backbone[<span style=\"color: #00af00; text-decoration-color: #00af00\">0</span>][<span style=\"color: #00af00; text-decoration-color: #00af00\">0</span>]     │\n",
              "├───────────────────────────────┼───────────────────────────┼─────────────────┼────────────────────────────┤\n",
              "│ pooled_dropout (<span style=\"color: #0087ff; text-decoration-color: #0087ff\">Dropout</span>)      │ (<span style=\"color: #00d7ff; text-decoration-color: #00d7ff\">None</span>, <span style=\"color: #00af00; text-decoration-color: #00af00\">768</span>)               │               <span style=\"color: #00af00; text-decoration-color: #00af00\">0</span> │ get_item[<span style=\"color: #00af00; text-decoration-color: #00af00\">0</span>][<span style=\"color: #00af00; text-decoration-color: #00af00\">0</span>]             │\n",
              "├───────────────────────────────┼───────────────────────────┼─────────────────┼────────────────────────────┤\n",
              "│ pooled_dense (<span style=\"color: #0087ff; text-decoration-color: #0087ff\">Dense</span>)          │ (<span style=\"color: #00d7ff; text-decoration-color: #00d7ff\">None</span>, <span style=\"color: #00af00; text-decoration-color: #00af00\">768</span>)               │         <span style=\"color: #00af00; text-decoration-color: #00af00\">590,592</span> │ pooled_dropout[<span style=\"color: #00af00; text-decoration-color: #00af00\">0</span>][<span style=\"color: #00af00; text-decoration-color: #00af00\">0</span>]       │\n",
              "├───────────────────────────────┼───────────────────────────┼─────────────────┼────────────────────────────┤\n",
              "│ output_dropout (<span style=\"color: #0087ff; text-decoration-color: #0087ff\">Dropout</span>)      │ (<span style=\"color: #00d7ff; text-decoration-color: #00d7ff\">None</span>, <span style=\"color: #00af00; text-decoration-color: #00af00\">768</span>)               │               <span style=\"color: #00af00; text-decoration-color: #00af00\">0</span> │ pooled_dense[<span style=\"color: #00af00; text-decoration-color: #00af00\">0</span>][<span style=\"color: #00af00; text-decoration-color: #00af00\">0</span>]         │\n",
              "├───────────────────────────────┼───────────────────────────┼─────────────────┼────────────────────────────┤\n",
              "│ logits (<span style=\"color: #0087ff; text-decoration-color: #0087ff\">Dense</span>)                │ (<span style=\"color: #00d7ff; text-decoration-color: #00d7ff\">None</span>, <span style=\"color: #00af00; text-decoration-color: #00af00\">3</span>)                 │           <span style=\"color: #00af00; text-decoration-color: #00af00\">2,307</span> │ output_dropout[<span style=\"color: #00af00; text-decoration-color: #00af00\">0</span>][<span style=\"color: #00af00; text-decoration-color: #00af00\">0</span>]       │\n",
              "└───────────────────────────────┴───────────────────────────┴─────────────────┴────────────────────────────┘\n",
              "</pre>\n"
            ]
          },
          "metadata": {}
        },
        {
          "output_type": "display_data",
          "data": {
            "text/plain": [
              "\u001b[1m Total params: \u001b[0m\u001b[38;5;34m124,645,635\u001b[0m (475.49 MB)\n"
            ],
            "text/html": [
              "<pre style=\"white-space:pre;overflow-x:auto;line-height:normal;font-family:Menlo,'DejaVu Sans Mono',consolas,'Courier New',monospace\"><span style=\"font-weight: bold\"> Total params: </span><span style=\"color: #00af00; text-decoration-color: #00af00\">124,645,635</span> (475.49 MB)\n",
              "</pre>\n"
            ]
          },
          "metadata": {}
        },
        {
          "output_type": "display_data",
          "data": {
            "text/plain": [
              "\u001b[1m Trainable params: \u001b[0m\u001b[38;5;34m124,645,635\u001b[0m (475.49 MB)\n"
            ],
            "text/html": [
              "<pre style=\"white-space:pre;overflow-x:auto;line-height:normal;font-family:Menlo,'DejaVu Sans Mono',consolas,'Courier New',monospace\"><span style=\"font-weight: bold\"> Trainable params: </span><span style=\"color: #00af00; text-decoration-color: #00af00\">124,645,635</span> (475.49 MB)\n",
              "</pre>\n"
            ]
          },
          "metadata": {}
        },
        {
          "output_type": "display_data",
          "data": {
            "text/plain": [
              "\u001b[1m Non-trainable params: \u001b[0m\u001b[38;5;34m0\u001b[0m (0.00 B)\n"
            ],
            "text/html": [
              "<pre style=\"white-space:pre;overflow-x:auto;line-height:normal;font-family:Menlo,'DejaVu Sans Mono',consolas,'Courier New',monospace\"><span style=\"font-weight: bold\"> Non-trainable params: </span><span style=\"color: #00af00; text-decoration-color: #00af00\">0</span> (0.00 B)\n",
              "</pre>\n"
            ]
          },
          "metadata": {}
        }
      ]
    },
    {
      "cell_type": "markdown",
      "source": [
        "Let's go to [Keras Hub](https://www.kaggle.com/models?tfhub-redirect=true) and peek inside the model."
      ],
      "metadata": {
        "id": "pqtmQSk7uzNN"
      }
    },
    {
      "cell_type": "markdown",
      "source": [
        "![image.png](data:image/png;base64,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)"
      ],
      "metadata": {
        "id": "bEyMLUyovQnJ"
      }
    },
    {
      "cell_type": "markdown",
      "source": [
        "We will compile this model with a very conservative learning rate (why?) and will pick sparse categorical cross entropy for our loss (what does that loss function expect as labels?)"
      ],
      "metadata": {
        "id": "HT2laXBTc2aj"
      }
    },
    {
      "cell_type": "code",
      "source": [
        "# Re-compile (e.g., with a new learning rate).\n",
        "classifier.compile(\n",
        "    loss=keras.losses.SparseCategoricalCrossentropy(from_logits='True'),\n",
        "    optimizer=keras.optimizers.Adam(1e-5),\n",
        "    metrics=[\"accuracy\"],\n",
        "    jit_compile=True,\n",
        ")"
      ],
      "metadata": {
        "id": "umsehF3xsHpM"
      },
      "execution_count": null,
      "outputs": []
    },
    {
      "cell_type": "code",
      "source": [
        "# Create a new column \"Genre Int\" that maps Rock to the integer 0,\n",
        "# Pop to 1, and Hip Hop to 2\n",
        "\n",
        "genre_mapping = {\"Rock\": 0, \"Pop\": 1, \"Hip Hop\": 2}\n",
        "train_df[\"Genre_Int\"] = train_df[\"Genre\"].map(genre_mapping)\n",
        "val_df[\"Genre_Int\"] = val_df [\"Genre\"].map(genre_mapping)\n",
        "test_df[\"Genre_Int\"] = test_df [\"Genre\"].map(genre_mapping)"
      ],
      "metadata": {
        "id": "bgb2IH7HsarY"
      },
      "execution_count": null,
      "outputs": []
    },
    {
      "cell_type": "code",
      "source": [
        "train_df = train_df.sample(frac=1, random_state=42)\n",
        "lyrics = train_df['Lyric'].tolist()\n",
        "genre = train_df['Genre_Int'].tolist()\n",
        "\n",
        "#sample_df has just 100 data points to train on\n",
        "sample_df = train_df.sample(n=100, random_state=42)\n",
        "sample_lyrics = sample_df['Lyric'].tolist()\n",
        "sample_genre = sample_df['Genre_Int'].tolist()\n",
        "\n",
        "sval_df = val_df.sample(frac=1, random_state=42)\n",
        "val_lyrics = sval_df['Lyric'].tolist()\n",
        "val_genre = sval_df['Genre_Int'].tolist()\n",
        "\n",
        "test_df = test_df.sample(frac=1, random_state=42)\n",
        "test_lyrics = test_df['Lyric'].tolist()\n",
        "test_genre = test_df['Genre_Int'].tolist()"
      ],
      "metadata": {
        "id": "6WCI9YSkdcPn"
      },
      "execution_count": null,
      "outputs": []
    },
    {
      "cell_type": "code",
      "source": [
        "sample_genre[:3]"
      ],
      "metadata": {
        "colab": {
          "base_uri": "https://localhost:8080/"
        },
        "id": "S3ibJ_XN1yW_",
        "outputId": "9572e617-58d8-4026-9308-37c6fd99b2a4"
      },
      "execution_count": null,
      "outputs": [
        {
          "output_type": "execute_result",
          "data": {
            "text/plain": [
              "[1, 0, 1]"
            ]
          },
          "metadata": {},
          "execution_count": 44
        }
      ]
    },
    {
      "cell_type": "code",
      "source": [
        "genre[:10]"
      ],
      "metadata": {
        "colab": {
          "base_uri": "https://localhost:8080/"
        },
        "id": "DICtpfE7nQXW",
        "outputId": "85dfe58a-5a84-4b90-feb4-42987dfc5cff"
      },
      "execution_count": null,
      "outputs": [
        {
          "output_type": "execute_result",
          "data": {
            "text/plain": [
              "[1, 0, 0, 0, 0, 0, 2, 0, 0, 0]"
            ]
          },
          "metadata": {},
          "execution_count": 24
        }
      ]
    },
    {
      "cell_type": "code",
      "source": [
        "# Fit the model with preprocessed data\n",
        "history = classifier.fit(\n",
        "    x=sample_lyrics,  # Use the preprocessed features\n",
        "    y=sample_genre,    # Use the numerical labels\n",
        "    batch_size=16,\n",
        "    epochs=15,\n",
        "    validation_data=(val_lyrics, val_genre)  # Preprocess validation data as well\n",
        ")"
      ],
      "metadata": {
        "colab": {
          "base_uri": "https://localhost:8080/"
        },
        "id": "5zUUM-KDsPne",
        "outputId": "d0907118-c64c-47b6-9738-8be944608e4c"
      },
      "execution_count": null,
      "outputs": [
        {
          "output_type": "stream",
          "name": "stdout",
          "text": [
            "Epoch 1/15\n",
            "\u001b[1m7/7\u001b[0m \u001b[32m━━━━━━━━━━━━━━━━━━━━\u001b[0m\u001b[37m\u001b[0m \u001b[1m184s\u001b[0m 17s/step - accuracy: 0.0727 - loss: 1.2130 - val_accuracy: 0.2947 - val_loss: 1.1258\n",
            "Epoch 2/15\n",
            "\u001b[1m7/7\u001b[0m \u001b[32m━━━━━━━━━━━━━━━━━━━━\u001b[0m\u001b[37m\u001b[0m \u001b[1m46s\u001b[0m 7s/step - accuracy: 0.4151 - loss: 1.0862 - val_accuracy: 0.5469 - val_loss: 1.0343\n",
            "Epoch 3/15\n",
            "\u001b[1m7/7\u001b[0m \u001b[32m━━━━━━━━━━━━━━━━━━━━\u001b[0m\u001b[37m\u001b[0m \u001b[1m47s\u001b[0m 8s/step - accuracy: 0.5452 - loss: 0.9695 - val_accuracy: 0.5498 - val_loss: 0.9642\n",
            "Epoch 4/15\n",
            "\u001b[1m7/7\u001b[0m \u001b[32m━━━━━━━━━━━━━━━━━━━━\u001b[0m\u001b[37m\u001b[0m \u001b[1m46s\u001b[0m 7s/step - accuracy: 0.5452 - loss: 0.9088 - val_accuracy: 0.5498 - val_loss: 0.9150\n",
            "Epoch 5/15\n",
            "\u001b[1m7/7\u001b[0m \u001b[32m━━━━━━━━━━━━━━━━━━━━\u001b[0m\u001b[37m\u001b[0m \u001b[1m46s\u001b[0m 7s/step - accuracy: 0.5452 - loss: 0.8708 - val_accuracy: 0.5498 - val_loss: 0.8726\n",
            "Epoch 6/15\n",
            "\u001b[1m7/7\u001b[0m \u001b[32m━━━━━━━━━━━━━━━━━━━━\u001b[0m\u001b[37m\u001b[0m \u001b[1m46s\u001b[0m 7s/step - accuracy: 0.5502 - loss: 0.7703 - val_accuracy: 0.5727 - val_loss: 0.8293\n",
            "Epoch 7/15\n",
            "\u001b[1m7/7\u001b[0m \u001b[32m━━━━━━━━━━━━━━━━━━━━\u001b[0m\u001b[37m\u001b[0m \u001b[1m47s\u001b[0m 8s/step - accuracy: 0.6009 - loss: 0.6969 - val_accuracy: 0.5907 - val_loss: 0.7937\n",
            "Epoch 8/15\n",
            "\u001b[1m7/7\u001b[0m \u001b[32m━━━━━━━━━━━━━━━━━━━━\u001b[0m\u001b[37m\u001b[0m \u001b[1m47s\u001b[0m 7s/step - accuracy: 0.7510 - loss: 0.5984 - val_accuracy: 0.6621 - val_loss: 0.7528\n",
            "Epoch 9/15\n",
            "\u001b[1m7/7\u001b[0m \u001b[32m━━━━━━━━━━━━━━━━━━━━\u001b[0m\u001b[37m\u001b[0m \u001b[1m46s\u001b[0m 7s/step - accuracy: 0.8691 - loss: 0.4273 - val_accuracy: 0.6833 - val_loss: 0.7563\n",
            "Epoch 10/15\n",
            "\u001b[1m7/7\u001b[0m \u001b[32m━━━━━━━━━━━━━━━━━━━━\u001b[0m\u001b[37m\u001b[0m \u001b[1m47s\u001b[0m 7s/step - accuracy: 0.9508 - loss: 0.2789 - val_accuracy: 0.6891 - val_loss: 0.7964\n",
            "Epoch 11/15\n",
            "\u001b[1m7/7\u001b[0m \u001b[32m━━━━━━━━━━━━━━━━━━━━\u001b[0m\u001b[37m\u001b[0m \u001b[1m47s\u001b[0m 7s/step - accuracy: 1.0000 - loss: 0.1427 - val_accuracy: 0.6802 - val_loss: 0.9259\n",
            "Epoch 12/15\n",
            "\u001b[1m7/7\u001b[0m \u001b[32m━━━━━━━━━━━━━━━━━━━━\u001b[0m\u001b[37m\u001b[0m \u001b[1m48s\u001b[0m 8s/step - accuracy: 1.0000 - loss: 0.0549 - val_accuracy: 0.6611 - val_loss: 1.0563\n",
            "Epoch 13/15\n",
            "\u001b[1m7/7\u001b[0m \u001b[32m━━━━━━━━━━━━━━━━━━━━\u001b[0m\u001b[37m\u001b[0m \u001b[1m47s\u001b[0m 7s/step - accuracy: 1.0000 - loss: 0.0350 - val_accuracy: 0.6914 - val_loss: 1.0753\n",
            "Epoch 14/15\n",
            "\u001b[1m7/7\u001b[0m \u001b[32m━━━━━━━━━━━━━━━━━━━━\u001b[0m\u001b[37m\u001b[0m \u001b[1m46s\u001b[0m 7s/step - accuracy: 1.0000 - loss: 0.0226 - val_accuracy: 0.6375 - val_loss: 1.2687\n",
            "Epoch 15/15\n",
            "\u001b[1m7/7\u001b[0m \u001b[32m━━━━━━━━━━━━━━━━━━━━\u001b[0m\u001b[37m\u001b[0m \u001b[1m46s\u001b[0m 7s/step - accuracy: 1.0000 - loss: 0.0180 - val_accuracy: 0.6984 - val_loss: 1.1254\n"
          ]
        }
      ]
    },
    {
      "cell_type": "markdown",
      "source": [
        "Let's examine the training dynamic here:"
      ],
      "metadata": {
        "id": "7G8jB8hihhns"
      }
    },
    {
      "cell_type": "code",
      "source": [
        "import matplotlib.pyplot as plt\n",
        "\n",
        "# Extract loss and accuracy data\n",
        "train_loss = history.history[\"loss\"]\n",
        "val_loss = history.history[\"val_loss\"]\n",
        "train_acc = history.history[\"accuracy\"]\n",
        "val_acc = history.history[\"val_accuracy\"]\n",
        "\n",
        "# Plot Loss\n",
        "plt.figure(figsize=(8, 5))\n",
        "plt.plot(train_loss, label=\"Training Loss\")\n",
        "plt.plot(val_loss, label=\"Validation Loss\")\n",
        "plt.xlabel(\"Epochs\")\n",
        "plt.ylabel(\"Loss\")\n",
        "plt.legend()\n",
        "plt.title(\"Training & Validation Loss\")\n",
        "plt.show()"
      ],
      "metadata": {
        "colab": {
          "base_uri": "https://localhost:8080/",
          "height": 487
        },
        "id": "2HL5jNVxhlOf",
        "outputId": "010df6a9-1e51-426f-ed9e-530e9d2dac12"
      },
      "execution_count": null,
      "outputs": [
        {
          "output_type": "display_data",
          "data": {
            "text/plain": [
              "<Figure size 800x500 with 1 Axes>"
            ],
            "image/png": "[encoded data removed]"
          },
          "metadata": {}
        }
      ]
    },
    {
      "cell_type": "code",
      "source": [
        "# Plot Loss\n",
        "plt.figure(figsize=(8, 5))\n",
        "plt.plot(train_acc, label=\"Training Accuracy\")\n",
        "plt.plot(val_acc, label=\"Validation Accuracy\")\n",
        "plt.xlabel(\"Epochs\")\n",
        "plt.ylabel(\"Accuracy\")\n",
        "plt.legend()\n",
        "plt.title(\"Training & Validation Accuracy\")\n",
        "plt.show()"
      ],
      "metadata": {
        "colab": {
          "base_uri": "https://localhost:8080/",
          "height": 487
        },
        "id": "dLM7Oz-wq6VN",
        "outputId": "75954932-5516-4bc7-adc8-78afd5915718"
      },
      "execution_count": null,
      "outputs": [
        {
          "output_type": "display_data",
          "data": {
            "text/plain": [
              "<Figure size 800x500 with 1 Axes>"
            ],
            "image/png": "[encoded data removed]"
          },
          "metadata": {}
        }
      ]
    },
    {
      "cell_type": "markdown",
      "source": [
        "Perhaps not surprisingly, we eventually memorize the data (the train loss goes to zero with train accuracy going to 100%) since the model has massive capacity.\n",
        "\n",
        "While the loss plot shows the validation loss bottoming out at 7 epochs, the accuracy plot shows the validation accuracy continuing to climb till the 9th epoch and not changing much from that point on. This sort of divergence between loss and accuracy plots is not uncommon. Since accuracy is the true metric we care about, I tend to place more importance on the accuracy picture. The val accuracy at the 15th epoch is close to the maximum validation accuracy achieved during the run so I am comfortable with the final model.\n"
      ],
      "metadata": {
        "id": "V0TE3PpahzH6"
      }
    },
    {
      "cell_type": "code",
      "source": [
        "classifier.evaluate(x=test_lyrics, y=test_genre)"
      ],
      "metadata": {
        "colab": {
          "base_uri": "https://localhost:8080/"
        },
        "id": "YMui6OzlVK5j",
        "outputId": "5bf27739-5dcb-45e3-f940-71b7bbe31122"
      },
      "execution_count": null,
      "outputs": [
        {
          "output_type": "stream",
          "name": "stdout",
          "text": [
            "\u001b[1m681/681\u001b[0m \u001b[32m━━━━━━━━━━━━━━━━━━━━\u001b[0m\u001b[37m\u001b[0m \u001b[1m57s\u001b[0m 74ms/step - accuracy: 0.6766 - loss: 1.1804\n"
          ]
        },
        {
          "output_type": "execute_result",
          "data": {
            "text/plain": [
              "[1.1915960311889648, 0.6775512099266052]"
            ]
          },
          "metadata": {},
          "execution_count": 28
        }
      ]
    },
    {
      "cell_type": "markdown",
      "source": [
        "We get to approximately 68% test accuracy *with just 100 training data points.* In contrast, BoW did not make any progress whatsoever with 100 data points, while it got to only about 74% accuracy with the entire dataset of ~50,000 (!) data points."
      ],
      "metadata": {
        "id": "jDJMhnTqktF-"
      }
    }
  ]
}