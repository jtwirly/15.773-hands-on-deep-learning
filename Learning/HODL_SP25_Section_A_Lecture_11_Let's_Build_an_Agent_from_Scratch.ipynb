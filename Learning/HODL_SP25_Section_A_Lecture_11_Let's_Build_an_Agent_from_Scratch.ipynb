{
  "nbformat": 4,
  "nbformat_minor": 0,
  "metadata": {
    "colab": {
      "provenance": [],
      "toc_visible": true
    },
    "kernelspec": {
      "name": "python3",
      "display_name": "Python 3"
    },
    "language_info": {
      "name": "python"
    }
  },
  "cells": [
    {
      "cell_type": "markdown",
      "source": [
        "# Let's Build an Agent from Scratch!"
      ],
      "metadata": {
        "id": "d9JAiYHRStt3"
      }
    },
    {
      "cell_type": "markdown",
      "source": [
        "\n",
        "\n",
        "---\n",
        "\n",
        "\n",
        "**VERSION HISTORY - DON'T DELETE**\n",
        "\n",
        "* V5.0 - March 9, 2025 - Removed Wikipedia tool; Fixed date bug and search tool reference in system prompt - Rama Ramakrishnan\n",
        "* V4.0 - March 9, 2025 - Added Google Search tool; use GPT 4o so updated prompts - Vivek Farias\n",
        "* V3.0 - March 9, 2025 - Replaced OOP code completely with functional code, added more explanatory notes - Rama Ramakrishnan\n",
        "* V2.0 - March 7, 2025 - \"Robustified\" the system prompt, added examples - Rama Ramakrishnan\n",
        "* V1.0 - March 6, 2025 - Initial attempt - Rama Ramakrishnan\n",
        "\n",
        "(if you see errors, please email ramar@mit.edu or vivekf@mit.edu)\n",
        "\n",
        "\n",
        "*Note to HODL teaching team*: To make edits or run the colab, please do it on a copy (File > Save a copy in Drive).\n",
        "\n",
        "---\n",
        "\n"
      ],
      "metadata": {
        "id": "ZVUIVkZmbs1o"
      }
    },
    {
      "cell_type": "markdown",
      "source": [
        "**CREDIT**: Substantially modified and extended version of https://til.simonwillison.net/llms/python-react-pattern"
      ],
      "metadata": {
        "id": "VPKHX16WDwL8"
      }
    },
    {
      "cell_type": "markdown",
      "source": [
        "## Introduction\n",
        "There are lots of software frameworks for building agents. But since they obscure a lot of the details, they are not ideal for **really** understanding what's going on.\n",
        "\n",
        "To learn the key ideas, there's nothing better than building one yourself from scratch. In this colab, we will use just basic Python code to give `GPT-4o-mini` agentic superpowers 🚀!"
      ],
      "metadata": {
        "id": "j9bND6YocZm3"
      }
    },
    {
      "cell_type": "markdown",
      "source": [
        "\n",
        "\n",
        "---\n",
        "\n",
        "Here is the overall plan for transforming `GPT-4o-mini` into an Agent.\n",
        "\n",
        "1. We will create three **tools**. As we saw in lecture, you can think of a tool as just a **function**. So, we will define three Python functions to do the following:\n",
        "  * calculate something\n",
        "  * search Google\n",
        "  * fetch a weather forecast\n",
        "\n",
        "2. We will design a prompt that \"teaches\" `GPT-4o-mini` how and when to use these functions. To do so, we will use a simplified version of a popular Agentic framework called ReAct ([academic paper](https://arxiv.org/abs/2210.03629)).\n",
        "\n",
        "3. We will write some basic code to assemble the prompt and the functions into an `ask_the_agent` function (similar to the `ask_the_LLM` function from the [\"How to use the LLM API\" colab](https://colab.research.google.com/drive/1BUSmrCy8r11HJk-7H3BYM5kmvmMp92a-?usp=sharing))\n",
        "\n",
        "\n",
        "\n",
        "---\n",
        "\n"
      ],
      "metadata": {
        "id": "Glu8l8X-eEAq"
      }
    },
    {
      "cell_type": "markdown",
      "source": [
        "## Setup"
      ],
      "metadata": {
        "id": "LNguHETVhQNa"
      }
    },
    {
      "cell_type": "code",
      "source": [
        "from google.colab import userdata\n",
        "\n",
        "from openai import OpenAI\n",
        "client = OpenAI(api_key=userdata.get('OPENAI_API_KEY'))"
      ],
      "metadata": {
        "id": "RE7OBB_8MaIf"
      },
      "execution_count": null,
      "outputs": []
    },
    {
      "cell_type": "markdown",
      "source": [
        "## Function Definitions"
      ],
      "metadata": {
        "id": "-EN0deGjhhNt"
      }
    },
    {
      "cell_type": "markdown",
      "source": [
        "### A calculator funcion"
      ],
      "metadata": {
        "id": "BCRpXwmTHxzI"
      }
    },
    {
      "cell_type": "markdown",
      "source": [
        "To evaluate any arithmetic expression written in Python syntax, the `eval` function is very handy. For example:"
      ],
      "metadata": {
        "id": "eJodtrhCoxNj"
      }
    },
    {
      "cell_type": "code",
      "source": [
        "eval('23 * 45')"
      ],
      "metadata": {
        "colab": {
          "base_uri": "https://localhost:8080/"
        },
        "id": "VREnq2vyHUwU",
        "outputId": "567c0c9b-e44a-4abf-86c1-76abeee04cce"
      },
      "execution_count": null,
      "outputs": [
        {
          "output_type": "execute_result",
          "data": {
            "text/plain": [
              "1035"
            ]
          },
          "metadata": {},
          "execution_count": 2
        }
      ]
    },
    {
      "cell_type": "markdown",
      "source": [
        "We will define a little function called `calculate` that uses `eval`."
      ],
      "metadata": {
        "id": "uqSxi9DoHgUE"
      }
    },
    {
      "cell_type": "code",
      "source": [
        "def calculate(expression):\n",
        "    return eval(expression)"
      ],
      "metadata": {
        "id": "2RtupMjCHBQE"
      },
      "execution_count": null,
      "outputs": []
    },
    {
      "cell_type": "markdown",
      "source": [
        "### A function to get the high-temperature forecast for a location using the (free) Openmeteo API\n"
      ],
      "metadata": {
        "id": "35dXwjhrIACm"
      }
    },
    {
      "cell_type": "markdown",
      "source": [
        "We will use the `openmeteo-requests` Python package for this, so let's install it first."
      ],
      "metadata": {
        "id": "HllsRnNAdmKn"
      }
    },
    {
      "cell_type": "code",
      "source": [
        "!pip install openmeteo-requests"
      ],
      "metadata": {
        "colab": {
          "base_uri": "https://localhost:8080/"
        },
        "id": "C8uGeyK1Oxhd",
        "outputId": "7505fc1d-0d43-46bd-d4c4-dfe2bae5bc38"
      },
      "execution_count": null,
      "outputs": [
        {
          "output_type": "stream",
          "name": "stdout",
          "text": [
            "Collecting openmeteo-requests\n",
            "  Downloading openmeteo_requests-1.3.0-py3-none-any.whl.metadata (9.7 kB)\n",
            "Collecting openmeteo-sdk>=1.4.0 (from openmeteo-requests)\n",
            "  Downloading openmeteo_sdk-1.19.0-py3-none-any.whl.metadata (935 bytes)\n",
            "Requirement already satisfied: requests in /usr/local/lib/python3.11/dist-packages (from openmeteo-requests) (2.32.3)\n",
            "Requirement already satisfied: flatbuffers==25.2.10 in /usr/local/lib/python3.11/dist-packages (from openmeteo-sdk>=1.4.0->openmeteo-requests) (25.2.10)\n",
            "Requirement already satisfied: charset-normalizer<4,>=2 in /usr/local/lib/python3.11/dist-packages (from requests->openmeteo-requests) (3.4.1)\n",
            "Requirement already satisfied: idna<4,>=2.5 in /usr/local/lib/python3.11/dist-packages (from requests->openmeteo-requests) (3.10)\n",
            "Requirement already satisfied: urllib3<3,>=1.21.1 in /usr/local/lib/python3.11/dist-packages (from requests->openmeteo-requests) (2.3.0)\n",
            "Requirement already satisfied: certifi>=2017.4.17 in /usr/local/lib/python3.11/dist-packages (from requests->openmeteo-requests) (2025.1.31)\n",
            "Downloading openmeteo_requests-1.3.0-py3-none-any.whl (6.0 kB)\n",
            "Downloading openmeteo_sdk-1.19.0-py3-none-any.whl (15 kB)\n",
            "Installing collected packages: openmeteo-sdk, openmeteo-requests\n",
            "Successfully installed openmeteo-requests-1.3.0 openmeteo-sdk-1.19.0\n"
          ]
        }
      ]
    },
    {
      "cell_type": "code",
      "source": [
        "import openmeteo_requests\n",
        "def get_weather(input):\n",
        "    openmeteo = openmeteo_requests.Client()\n",
        "\n",
        "    url = \"https://api.open-meteo.com/v1/forecast\"\n",
        "\n",
        "    lat, long = [float(e.strip()) for e in input.split(\",\")]\n",
        "\n",
        "    params = {\n",
        "      \"latitude\": lat,\n",
        "      \"longitude\": long,\n",
        "      \"daily\": \"temperature_2m_max\",\n",
        "      \"temperature_unit\": \"fahrenheit\"\n",
        "    }\n",
        "    responses = openmeteo.weather_api(url, params=params)\n",
        "\n",
        "    daily = responses[0].Daily()\n",
        "    daily_temperature_2m_max = daily.Variables(0).ValuesAsNumpy()\n",
        "\n",
        "    return f\"Today's high temperature: {daily_temperature_2m_max[0]}\""
      ],
      "metadata": {
        "id": "aJMzcC2oHDX3"
      },
      "execution_count": null,
      "outputs": []
    },
    {
      "cell_type": "markdown",
      "source": [
        "## And finally, a function to search Google"
      ],
      "metadata": {
        "id": "u7YqnNQicweQ"
      }
    },
    {
      "cell_type": "code",
      "source": [
        "import requests\n",
        "\n",
        "def google_search(query, num_results=3):\n",
        "    \"\"\"Fetches the top results from Google Custom Search API with longer snippets.\"\"\"\n",
        "    url = \"https://www.googleapis.com/customsearch/v1\"\n",
        "    params = {\n",
        "        \"key\": userdata.get('GOOGLE_API_KEY'),\n",
        "        \"cx\": userdata.get('GOOGLE_CSE_ID'),\n",
        "        \"q\": query,\n",
        "        \"num\": num_results,\n",
        "        \"fields\": \"items(title,snippet,link)\"\n",
        "    }\n",
        "    response = requests.get(url, params=params)\n",
        "    response.raise_for_status()\n",
        "    results = response.json().get(\"items\", [])\n",
        "\n",
        "    return \"\\n\".join([item.get(\"snippet\", \"N/A\") for item in results])"
      ],
      "metadata": {
        "id": "otyhSCM_c6Pt"
      },
      "execution_count": null,
      "outputs": []
    },
    {
      "cell_type": "markdown",
      "source": [
        "Now that we have these three functions defined, we will collect them into a dictionary to make it easy to run them later without ugly if-elif-else statements."
      ],
      "metadata": {
        "id": "HBRu--1uINB4"
      }
    },
    {
      "cell_type": "code",
      "source": [
        "available_functions = {\n",
        "    \"calculate\": calculate,\n",
        "    \"get_weather\": get_weather,\n",
        "    \"google_search\": google_search\n",
        "}"
      ],
      "metadata": {
        "id": "bpXKOkQ5HFS1"
      },
      "execution_count": null,
      "outputs": []
    },
    {
      "cell_type": "markdown",
      "source": [
        "## The System Prompt"
      ],
      "metadata": {
        "id": "RiOpcXTbhxe3"
      }
    },
    {
      "cell_type": "markdown",
      "source": [
        "It is useful for our agent to know today's date at our current location, so we can use the `datetime` and `pytz` packages to figure that out."
      ],
      "metadata": {
        "id": "qOgYipnBIimB"
      }
    },
    {
      "cell_type": "code",
      "source": [
        "from datetime import datetime\n",
        "import pytz\n",
        "\n",
        "# Define the Cambridge, MA timezone (Eastern Time Zone)\n",
        "cambridge_tz = pytz.timezone(\"America/New_York\")\n",
        "\n",
        "# Get the current date in the specified timezone\n",
        "today_date = datetime.now(cambridge_tz).strftime(\"%B %d, %Y\")\n",
        "\n",
        "today_date"
      ],
      "metadata": {
        "colab": {
          "base_uri": "https://localhost:8080/",
          "height": 35
        },
        "id": "7zE0MYvnNk7A",
        "outputId": "bf142a34-25d2-469f-dd40-3af1cd1b93e5"
      },
      "execution_count": null,
      "outputs": [
        {
          "output_type": "execute_result",
          "data": {
            "text/plain": [
              "'March 10, 2025'"
            ],
            "application/vnd.google.colaboratory.intrinsic+json": {
              "type": "string"
            }
          },
          "metadata": {},
          "execution_count": 8
        }
      ]
    },
    {
      "cell_type": "markdown",
      "source": [
        "OK, let's go through the system prompt slowly."
      ],
      "metadata": {
        "id": "aduqQBOIItn3"
      }
    },
    {
      "cell_type": "code",
      "source": [
        "system_prompt = f\"\"\"\n",
        "Today's date is {today_date}. Your training cutoff date is October 2023.\n",
        "\n",
        "If you are asked about events that you know FOR SURE happened before\n",
        "your cutoff date, answer the question directly.\n",
        "\n",
        "If you are asked the following types of questions:\n",
        "- about events that MAY have happened after your cutoff date,\n",
        "- arithmetic questions that a human cannot easily do in their head\n",
        "- about the weather at a location,\n",
        "do the following:\n",
        "\n",
        "Run in a loop of Thought, Action, PAUSE, Observation.\n",
        "You can run this loop as many times as you want.\n",
        "At the end of the final loop you output an Answer.\n",
        "\n",
        "Use Thought to describe your thoughts about the question you have been asked.\n",
        "Use Action to execute one of the functions described below - then return PAUSE.\n",
        "Observation will be the result of running those functions.\n",
        "\n",
        "Your available functions are:\n",
        "\n",
        "calculate:\n",
        "Runs a calculation and returns the number - uses Python so be sure to use floating point syntax if necessary\n",
        "e.g. calculate: 4 * 7 / 3\n",
        "\n",
        "google_search:\n",
        "This returns a search result from searching Google including the title of the page, a snippet of its content, and the page url.\n",
        "e.g., google_search: Who won the Nets Hornets game?\n",
        "\n",
        "get_weather:\n",
        "If asked about the weather for a location, first determine the latitude and longitude of the location.\n",
        "Then call get_weather: latitude, longitude\n",
        "e.g., get_weather: 37.7749,-122.4194\n",
        "\n",
        "\n",
        "Example session 1:\n",
        "\n",
        "Question: What is the capital of France?\n",
        "Thought: I know the answer to this question. The capital of France is Paris.\n",
        "I don't need to use any of the available tools to answer this question.\n",
        "Answer: The capital of France is Paris.\n",
        "\n",
        "Example session 2:\n",
        "Question: What is the square root of 36373.33?\n",
        "Thought: I need to use the calculate function to answer this question.\n",
        "Action: calculate: 36373.33**(1/2)\n",
        "PAUSE\n",
        "\n",
        "You will be called again with this:\n",
        "\n",
        "Observation: 190.717\n",
        "\n",
        "You then output:\n",
        "Answer: The square root of 36373.33 is 190.717\n",
        "\n",
        "Example session 3:\n",
        "Question: In which year was ChatGPT first released?\n",
        "Thought: This did not happen before my cutoff date. I need to use the google_search function to answer this question.\n",
        "Action: search_google: chatgpt release date\n",
        "PAUSE\n",
        "\n",
        "You will be called again with this:\n",
        "\n",
        "Observation: Web browsing and Plugins are now rolling out in beta (May 12, 2023). If you are a ChatGPT Plus user, enjoy early access to experimental new features, which may ...\n",
        "May 19, 2023 ... OpenAI released an early demo of ChatGPT on November 30, 2022, and the chatbot quickly went viral on social media as users shared examples of ...\n",
        "ChatGPT was publicly released on November 30, 2022. At the time of its release, it was described as a “research preview,” but it is still available now.\n",
        "\n",
        "You then output:\n",
        "Answer: ChatGPT was released in 2022\n",
        "\n",
        "Example session 4:\n",
        "Question: How good is the MacBook M4 Pro?\n",
        "Thought: I don't know what this product is. I need to use the google_search function to answer this question.\n",
        "Action: search_google: macbook m4 pro reviews\n",
        "PAUSE\n",
        "\n",
        "You will be called again with this:\n",
        "\n",
        "Observation: Nov 17, 2024 ... The M4 MacBook Pro raises the performance bar compared to the M3 series in several ways: Much easier to see clearly when working near windows or outside.\n",
        "Dec 16, 2024 ... This machine is a beast. My day to day use involves writing and presentations, chrome tabs, AI tools, SPSS data processing and light video editing.\n",
        "Nov 12, 2024 ... The good · RAM upgrades across the whole lineup. · M4 and M4 Max are both respectable generational upgrades and offer substantial performance ...\n",
        "\n",
        "You then output:\n",
        "Answer: The M4 MacBook Pro offers clear performance gains over the M3 lineup, with improvements in display visibility, multitasking capabilities, and RAM options. While praised for its power, some reviews suggest that the fastest model may not feel like a game-changer in everyday tasks.\n",
        "\n",
        "\"\"\".strip()"
      ],
      "metadata": {
        "id": "3e_4MM65n9y4"
      },
      "execution_count": null,
      "outputs": []
    },
    {
      "cell_type": "code",
      "source": [
        "print(system_prompt)"
      ],
      "metadata": {
        "colab": {
          "base_uri": "https://localhost:8080/"
        },
        "id": "GX1u4KDdNzmA",
        "outputId": "67064070-0bcd-4991-e302-552bbf81a5b8"
      },
      "execution_count": null,
      "outputs": [
        {
          "output_type": "stream",
          "name": "stdout",
          "text": [
            "Today's date is March 10, 2025. Your training cutoff date is October 2023.\n",
            "\n",
            "If you are asked about events that you know FOR SURE happened before\n",
            "your cutoff date, answer the question directly.\n",
            "\n",
            "If you are asked the following types of questions:\n",
            "- about events that MAY have happened after your cutoff date,\n",
            "- arithmetic questions that a human cannot easily do in their head\n",
            "- about the weather at a location,\n",
            "do the following:\n",
            "\n",
            "Run in a loop of Thought, Action, PAUSE, Observation.\n",
            "You can run this loop as many times as you want.\n",
            "At the end of the final loop you output an Answer.\n",
            "\n",
            "Use Thought to describe your thoughts about the question you have been asked.\n",
            "Use Action to execute one of the functions described below - then return PAUSE.\n",
            "Observation will be the result of running those functions.\n",
            "\n",
            "Your available functions are:\n",
            "\n",
            "calculate:\n",
            "Runs a calculation and returns the number - uses Python so be sure to use floating point syntax if necessary\n",
            "e.g. calculate: 4 * 7 / 3\n",
            "\n",
            "google_search:\n",
            "This returns a search result from searching Google including the title of the page, a snippet of its content, and the page url.\n",
            "e.g., google_search: Who won the Nets Hornets game?\n",
            "\n",
            "get_weather:\n",
            "If asked about the weather for a location, first determine the latitude and longitude of the location.\n",
            "Then call get_weather: latitude, longitude\n",
            "e.g., get_weather: 37.7749,-122.4194\n",
            "\n",
            "\n",
            "Example session 1:\n",
            "\n",
            "Question: What is the capital of France?\n",
            "Thought: I know the answer to this question. The capital of France is Paris.\n",
            "I don't need to use any of the available tools to answer this question.\n",
            "Answer: The capital of France is Paris.\n",
            "\n",
            "Example session 2:\n",
            "Question: What is the square root of 36373.33?\n",
            "Thought: I need to use the calculate function to answer this question.\n",
            "Action: calculate: 36373.33**(1/2)\n",
            "PAUSE\n",
            "\n",
            "You will be called again with this:\n",
            "\n",
            "Observation: 190.717\n",
            "\n",
            "You then output:\n",
            "Answer: The square root of 36373.33 is 190.717\n",
            "\n",
            "Example session 3:\n",
            "Question: In which year was ChatGPT first released?\n",
            "Thought: This did not happen before my cutoff date. I need to use the google_search function to answer this question.\n",
            "Action: search_google: chatgpt release date\n",
            "PAUSE\n",
            "\n",
            "You will be called again with this:\n",
            "\n",
            "Observation: Web browsing and Plugins are now rolling out in beta (May 12, 2023). If you are a ChatGPT Plus user, enjoy early access to experimental new features, which may ...\n",
            "May 19, 2023 ... OpenAI released an early demo of ChatGPT on November 30, 2022, and the chatbot quickly went viral on social media as users shared examples of ...\n",
            "ChatGPT was publicly released on November 30, 2022. At the time of its release, it was described as a “research preview,” but it is still available now.\n",
            "\n",
            "You then output:\n",
            "Answer: ChatGPT was released in 2022\n",
            "\n",
            "Example session 4:\n",
            "Question: How good is the MacBook M4 Pro?\n",
            "Thought: I don't know what this product is. I need to use the google_search function to answer this question.\n",
            "Action: search_google: macbook m4 pro reviews\n",
            "PAUSE\n",
            "\n",
            "You will be called again with this:\n",
            "\n",
            "Observation: Nov 17, 2024 ... The M4 MacBook Pro raises the performance bar compared to the M3 series in several ways: Much easier to see clearly when working near windows or outside.\n",
            "Dec 16, 2024 ... This machine is a beast. My day to day use involves writing and presentations, chrome tabs, AI tools, SPSS data processing and light video editing.\n",
            "Nov 12, 2024 ... The good · RAM upgrades across the whole lineup. · M4 and M4 Max are both respectable generational upgrades and offer substantial performance ...\n",
            "\n",
            "You then output:\n",
            "Answer: The M4 MacBook Pro offers clear performance gains over the M3 lineup, with improvements in display visibility, multitasking capabilities, and RAM options. While praised for its power, some reviews suggest that the fastest model may not feel like a game-changer in everyday tasks.\n"
          ]
        }
      ]
    },
    {
      "cell_type": "markdown",
      "source": [
        "## The \"Orchestration\" Loop"
      ],
      "metadata": {
        "id": "d6uas2P8iCzx"
      }
    },
    {
      "cell_type": "markdown",
      "source": [
        "We now write a function to \"orchestrate\" the flow (see slide below from lecture ).\n",
        "\n",
        "We will call the LLM (i.e., GPT-4.0-Mini), run a function, call the LLM again with the results and so on, till we figure out the answer."
      ],
      "metadata": {
        "id": "yl_sUZhPI0qS"
      }
    },
    {
      "cell_type": "markdown",
      "source": [
        "![image.png](data:image/png;base64,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)"
      ],
      "metadata": {
        "id": "uMVqIM5VOAJn"
      }
    },
    {
      "cell_type": "code",
      "source": [
        "# a bit later on, we will need to parse the LLM response to see if the word 'Action'\n",
        "# appears at the start of the response. We will use a regular expression for\n",
        "# this. If you aren't familiar with this, please copy-paste the two lines\n",
        "# below into an LLM and ask for an explanation.\n",
        "import re\n",
        "action_re = re.compile('^Action: (\\w+): (.*)$')\n",
        "\n",
        "\n",
        "# This function will call the LLM, run a function, call the LLM again\n",
        "# with the results and so on, till we either figure out the answer or\n",
        "# run out of \"turns\"\n",
        "\n",
        "def ask_the_agent(question, max_turns=5):\n",
        "    i = 0\n",
        "\n",
        "    # this list will contain the entire conversation\n",
        "    # between the user and the LLM\n",
        "    messages = []\n",
        "\n",
        "    # we will first put in the long prompt from above\n",
        "    # as the \"system prompt\" so that it is part of every\n",
        "    # question\n",
        "    messages.append({\"role\": \"system\", \"content\": system_prompt})\n",
        "\n",
        "\n",
        "    # we start with the opening question from the user\n",
        "    next_prompt = question\n",
        "\n",
        "    while i < max_turns:  # we allow the conversation to have 5 turns\n",
        "        i += 1\n",
        "\n",
        "        # we send the conversation-so-far to the LLM and get the response\n",
        "        messages.append({\"role\": \"user\", \"content\": next_prompt})\n",
        "        completion = client.chat.completions.create(model=\"gpt-4o-mini\",\n",
        "                                            messages=messages,\n",
        "                                            temperature=0)\n",
        "        result = completion.choices[0].message.content\n",
        "        messages.append({\"role\": \"assistant\", \"content\": result})\n",
        "        print(result)\n",
        "\n",
        "\n",
        "        # we parse the response to see if the word 'Action' appears at the start\n",
        "        # of the response\n",
        "        actions = [action_re.match(a) for a in result.split('\\n') if action_re.match(a)]\n",
        "\n",
        "        if actions: # if it does ...\n",
        "\n",
        "            # we identify which function to call and its inputs\n",
        "            action, action_input = actions[0].groups()\n",
        "\n",
        "            # if the LLM responds with an action that is not on our\n",
        "            # list of available functions, we say \"sorry\"\n",
        "            if action not in available_functions:\n",
        "                raise Exception(\"Unknown function: {}: {}\".format(action, action_input))\n",
        "\n",
        "            # otherwise, we print out what function we are going to run ...\n",
        "            print(\" -- running {} {}\".format(action, action_input))\n",
        "\n",
        "            # ... and then actually run it\n",
        "            observation = available_functions[action](action_input)\n",
        "\n",
        "            # we print out the result of running the function ...\n",
        "            print(\"Observation:\", observation)\n",
        "\n",
        "            # ... and make that the next prompt\n",
        "            next_prompt = \"Observation: {}\".format(observation)\n",
        "        else:\n",
        "            return\n",
        "\n"
      ],
      "metadata": {
        "id": "sx_MKlS7H7eW"
      },
      "execution_count": null,
      "outputs": []
    },
    {
      "cell_type": "markdown",
      "source": [
        "OK, now are all set to test the Agent out."
      ],
      "metadata": {
        "id": "_Z1uhUY5mDG1"
      }
    },
    {
      "cell_type": "markdown",
      "source": [
        "To clearly demonstrate agentic behavior, we will first pose a question to 'GPT-4o-mini' using the `ask_the_LLM` function below (copy-pasted from the [\"How to use the LLM API\" colab](https://colab.research.google.com/drive/1BUSmrCy8r11HJk-7H3BYM5kmvmMp92a-?usp=sharing)). We will then pose the same question to the Agent. Pay attention to how the responses differ."
      ],
      "metadata": {
        "id": "ng2elfxclbiH"
      }
    },
    {
      "cell_type": "code",
      "source": [
        "# copy-pasted from \"How to use the LLM API\" colab\n",
        "\n",
        "def ask_the_LLM(prompt,\n",
        "                model=\"gpt-4o-mini\",\n",
        "                temperature=0):\n",
        "\n",
        "    response = client.chat.completions.create(\n",
        "        model=model,\n",
        "        messages=[{\"role\": \"system\",\n",
        "                   \"content\": \"You are a helpful assistant.\"},\n",
        "                  {\"role\": \"user\", \"content\": prompt}],\n",
        "        temperature=temperature\n",
        "    )\n",
        "    return response.choices[0].message.content"
      ],
      "metadata": {
        "id": "vqfrxC9SFfVL"
      },
      "execution_count": null,
      "outputs": []
    },
    {
      "cell_type": "markdown",
      "source": [
        "## Examples"
      ],
      "metadata": {
        "id": "1vdSS9JSifQy"
      }
    },
    {
      "cell_type": "markdown",
      "source": [
        "### Example of the agent NOT using tools if it doesn't have to"
      ],
      "metadata": {
        "id": "Woip1mI1M61H"
      }
    },
    {
      "cell_type": "code",
      "source": [
        "ask_the_LLM(\"When was Maggie Smith born?\")"
      ],
      "metadata": {
        "colab": {
          "base_uri": "https://localhost:8080/",
          "height": 35
        },
        "id": "oBU4z0z_M10a",
        "outputId": "9345b5d9-1ccc-4fe1-9901-29b472c55ff5"
      },
      "execution_count": null,
      "outputs": [
        {
          "output_type": "execute_result",
          "data": {
            "text/plain": [
              "'Maggie Smith was born on December 28, 1934.'"
            ],
            "application/vnd.google.colaboratory.intrinsic+json": {
              "type": "string"
            }
          },
          "metadata": {},
          "execution_count": 13
        }
      ]
    },
    {
      "cell_type": "code",
      "source": [
        "ask_the_agent(\"When was Maggie Smith born?\")"
      ],
      "metadata": {
        "colab": {
          "base_uri": "https://localhost:8080/"
        },
        "id": "OB_-LEjsM8QV",
        "outputId": "d1034388-2e25-4645-ad21-96ba087c030e"
      },
      "execution_count": null,
      "outputs": [
        {
          "output_type": "stream",
          "name": "stdout",
          "text": [
            "Thought: I know that Maggie Smith is a well-known actress, and I can provide her birth date without needing to use any tools. \n",
            "Answer: Maggie Smith was born on December 28, 1934.\n"
          ]
        }
      ]
    },
    {
      "cell_type": "markdown",
      "source": [
        "### Example of the agent using web search: Ask about something that happened after GPT-4o-mini's training cutoff date"
      ],
      "metadata": {
        "id": "FWMbVc7aimy-"
      }
    },
    {
      "cell_type": "code",
      "source": [
        "ask_the_LLM(\"In which year did Maggie Smith breathe her last?\")"
      ],
      "metadata": {
        "colab": {
          "base_uri": "https://localhost:8080/",
          "height": 35
        },
        "id": "pxEK1hKeHvRg",
        "outputId": "1618a06e-2f58-4bb4-c1fa-5d5c5900ed4e"
      },
      "execution_count": null,
      "outputs": [
        {
          "output_type": "execute_result",
          "data": {
            "text/plain": [
              "'As of my last knowledge update in October 2023, Maggie Smith is still alive. Please verify with the latest sources for the most current information.'"
            ],
            "application/vnd.google.colaboratory.intrinsic+json": {
              "type": "string"
            }
          },
          "metadata": {},
          "execution_count": 15
        }
      ]
    },
    {
      "cell_type": "code",
      "source": [
        "ask_the_agent(\"In which year did Maggie Smith breathe her last?\")"
      ],
      "metadata": {
        "colab": {
          "base_uri": "https://localhost:8080/"
        },
        "id": "SaEgPek_HRZU",
        "outputId": "d2c8ffac-d803-4587-b85b-cc5a028afa6a"
      },
      "execution_count": null,
      "outputs": [
        {
          "output_type": "stream",
          "name": "stdout",
          "text": [
            "Thought: I know that Maggie Smith is a well-known actress, but I need to verify if she has passed away since my training cutoff date. I will use the google_search function to find the most current information about her status. \n",
            "Action: google_search: Maggie Smith death date\n",
            "PAUSE\n",
            " -- running google_search Maggie Smith death date\n",
            "Observation: Dame Margaret Natalie Smith (28 December 1934 – 27 September 2024) was a British actress. Known for her wit in both comedic and dramatic roles, ...\n",
            "Sep 28, 2024 ... In 2022's Downton Abbey: A New Era, her character died of the illness she revealed at the end of the 2019 film. Co-star Dame Harriet Walter told ...\n",
            "Sep 30, 2024 ... It did not specify the cause of death. American moviegoers barely knew Ms. Smith (now Dame Maggie to her countrymen) when she starred in “The ...\n",
            "Answer: Maggie Smith passed away on September 27, 2024.\n"
          ]
        }
      ]
    },
    {
      "cell_type": "markdown",
      "source": [
        "### Example of the agent using the calculator: Ask a numeric calculation question that LLMs have difficulty with"
      ],
      "metadata": {
        "id": "S6AKFcf5iwOP"
      }
    },
    {
      "cell_type": "code",
      "source": [
        "ask_the_LLM(\"What is the cube root of 473740284833?\")"
      ],
      "metadata": {
        "colab": {
          "base_uri": "https://localhost:8080/",
          "height": 53
        },
        "id": "-_8W7K1BIoO_",
        "outputId": "8a882d4b-1e85-4a4b-852d-f31ffa9c0e68"
      },
      "execution_count": null,
      "outputs": [
        {
          "output_type": "execute_result",
          "data": {
            "text/plain": [
              "'To find the cube root of \\\\( 473740284833 \\\\), we can use a calculator or perform the calculation manually.\\n\\nCalculating the cube root:\\n\\n\\\\[\\n\\\\sqrt[3]{473740284833} \\\\approx 778\\n\\\\]\\n\\nTo verify, we can cube \\\\( 778 \\\\):\\n\\n\\\\[\\n778^3 = 778 \\\\times 778 \\\\times 778 = 473740284833\\n\\\\]\\n\\nThus, the cube root of \\\\( 473740284833 \\\\) is indeed \\\\( 778 \\\\).'"
            ],
            "application/vnd.google.colaboratory.intrinsic+json": {
              "type": "string"
            }
          },
          "metadata": {},
          "execution_count": 17
        }
      ]
    },
    {
      "cell_type": "markdown",
      "source": [
        "Is this correct? Let's check."
      ],
      "metadata": {
        "id": "HZG1OX-YjFEy"
      }
    },
    {
      "cell_type": "code",
      "source": [
        "473740284833**(1/3)"
      ],
      "metadata": {
        "colab": {
          "base_uri": "https://localhost:8080/"
        },
        "id": "O1E6m7DxI-Oj",
        "outputId": "6c3a5321-5e9d-49a7-bff1-d9425d5316d3"
      },
      "execution_count": null,
      "outputs": [
        {
          "output_type": "execute_result",
          "data": {
            "text/plain": [
              "7795.550194955124"
            ]
          },
          "metadata": {},
          "execution_count": 18
        }
      ]
    },
    {
      "cell_type": "markdown",
      "source": [
        "Oops, the LLM gets it wrong. OK, let's ask our Agent."
      ],
      "metadata": {
        "id": "V56jVP1DjJsn"
      }
    },
    {
      "cell_type": "code",
      "source": [
        "ask_the_agent(\"What is the cube root of 473740284833?\")"
      ],
      "metadata": {
        "colab": {
          "base_uri": "https://localhost:8080/"
        },
        "id": "zyuKUaTlJCi8",
        "outputId": "257f272b-3f29-411a-dfd2-7e3feb5b2ffe"
      },
      "execution_count": null,
      "outputs": [
        {
          "output_type": "stream",
          "name": "stdout",
          "text": [
            "Thought: I need to use the calculate function to find the cube root of 473740284833.\n",
            "Action: calculate: 473740284833**(1/3)\n",
            "PAUSE\n",
            " -- running calculate 473740284833**(1/3)\n",
            "Observation: 7795.550194955124\n",
            "Answer: The cube root of 473740284833 is approximately 7795.55.\n"
          ]
        }
      ]
    },
    {
      "cell_type": "markdown",
      "source": [
        "Beautiful!!"
      ],
      "metadata": {
        "id": "2Qj6qRcyjQHq"
      }
    },
    {
      "cell_type": "markdown",
      "source": [
        "### Example of the agent using its knowledge **and** a tool in combination to answer a complex question"
      ],
      "metadata": {
        "id": "5ex0ewWPj8-u"
      }
    },
    {
      "cell_type": "code",
      "source": [
        "ask_the_LLM(\"What is the capital of Vermont and what is the weather there?\")"
      ],
      "metadata": {
        "colab": {
          "base_uri": "https://localhost:8080/",
          "height": 53
        },
        "id": "fhF2LtWY0O_G",
        "outputId": "84318525-e5a2-4c74-e68c-cdebca8294da"
      },
      "execution_count": null,
      "outputs": [
        {
          "output_type": "execute_result",
          "data": {
            "text/plain": [
              "'The capital of Vermont is Montpelier. As for the weather, it can vary significantly depending on the time of year. In general, Montpelier experiences cold winters with snowfall and warm summers. For the most current weather conditions, I recommend checking a reliable weather website or app, as I cannot provide real-time weather updates.'"
            ],
            "application/vnd.google.colaboratory.intrinsic+json": {
              "type": "string"
            }
          },
          "metadata": {},
          "execution_count": 20
        }
      ]
    },
    {
      "cell_type": "code",
      "source": [
        "ask_the_agent(\"What is the capital of Vermont and what is the weather there?\")"
      ],
      "metadata": {
        "colab": {
          "base_uri": "https://localhost:8080/"
        },
        "id": "0IhdSE7DUJY5",
        "outputId": "af3ef9ad-0d91-4c04-bd6c-548813a2f649"
      },
      "execution_count": null,
      "outputs": [
        {
          "output_type": "stream",
          "name": "stdout",
          "text": [
            "Thought: I know the capital of Vermont is Montpelier. However, I need to find out the current weather there, which requires using the get_weather function. \n",
            "Action: get_weather: 44.2601,-72.5714\n",
            "PAUSE\n",
            " -- running get_weather 44.2601,-72.5714\n",
            "Observation: Today's high temperature: 41.87839889526367\n",
            "Answer: The capital of Vermont is Montpelier, and today's high temperature there is approximately 41.88°F.\n"
          ]
        }
      ]
    },
    {
      "cell_type": "markdown",
      "source": [
        "Now how the agent first used its \"knowledge\" to get the latitude and longitude of Montpelier and then used the `get_weather` function. Impressive!"
      ],
      "metadata": {
        "id": "IMMNrJd4jtnW"
      }
    },
    {
      "cell_type": "markdown",
      "source": [
        "### Example of the agent using **multiple tools** to answer a complex question\n",
        "\n",
        "\n"
      ],
      "metadata": {
        "id": "IbwByjcdjTd1"
      }
    },
    {
      "cell_type": "code",
      "source": [
        "ask_the_LLM(\"In which year did Maggie Smith breathe her last \\\n",
        "and what is the cube root of that number?\")"
      ],
      "metadata": {
        "colab": {
          "base_uri": "https://localhost:8080/",
          "height": 35
        },
        "id": "IpfBaR3DKIsa",
        "outputId": "19c1765c-3ca5-4d3e-be98-c0d004e9bc05"
      },
      "execution_count": null,
      "outputs": [
        {
          "output_type": "execute_result",
          "data": {
            "text/plain": [
              "'As of my last knowledge update in October 2023, Maggie Smith is still alive. Therefore, there is no year in which she has breathed her last. If you have any other questions or need information on a different topic, feel free to ask!'"
            ],
            "application/vnd.google.colaboratory.intrinsic+json": {
              "type": "string"
            }
          },
          "metadata": {},
          "execution_count": 22
        }
      ]
    },
    {
      "cell_type": "code",
      "source": [
        "ask_the_agent(\"In which year did Maggie Smith breathe her last and what is the cube root of that number?\")"
      ],
      "metadata": {
        "colab": {
          "base_uri": "https://localhost:8080/"
        },
        "id": "32mN6FC-KBmx",
        "outputId": "6cef0927-851c-4d7e-9262-f7e810f0aab7"
      },
      "execution_count": null,
      "outputs": [
        {
          "output_type": "stream",
          "name": "stdout",
          "text": [
            "Thought: I need to find out when Maggie Smith passed away, as this information is not known to me. After that, I will calculate the cube root of that year. I will use the google_search function to find the year of her passing. \n",
            "Action: google_search: Maggie Smith death date\n",
            "PAUSE\n",
            " -- running google_search Maggie Smith death date\n",
            "Observation: Dame Margaret Natalie Smith (28 December 1934 – 27 September 2024) was a British actress. Known for her wit in both comedic and dramatic roles, ...\n",
            "Sep 28, 2024 ... In 2022's Downton Abbey: A New Era, her character died of the illness she revealed at the end of the 2019 film. Co-star Dame Harriet Walter told ...\n",
            "Sep 30, 2024 ... It did not specify the cause of death. American moviegoers barely knew Ms. Smith (now Dame Maggie to her countrymen) when she starred in “The ...\n",
            "Thought: Maggie Smith passed away on September 27, 2024. Now, I need to calculate the cube root of the year 2024. \n",
            "Action: calculate: 2024**(1/3)\n",
            "PAUSE\n",
            " -- running calculate 2024**(1/3)\n",
            "Observation: 12.649407086834739\n",
            "Answer: Maggie Smith passed away in 2024, and the cube root of that year is approximately 12.649.\n"
          ]
        }
      ]
    },
    {
      "cell_type": "code",
      "source": [
        "ask_the_agent(\"In which year did the actress for Minerva McGonagall in \\\n",
        "Harry Potter breathe her last? And what is the cube root of that number?\")"
      ],
      "metadata": {
        "colab": {
          "base_uri": "https://localhost:8080/"
        },
        "id": "P1X8zJaYicjC",
        "outputId": "2ff941bb-f104-4d4c-f644-8b573bde9a2b"
      },
      "execution_count": null,
      "outputs": [
        {
          "output_type": "stream",
          "name": "stdout",
          "text": [
            "Thought: I need to find out when the actress who played Minerva McGonagall in Harry Potter passed away. After that, I will calculate the cube root of that year. I will use the google_search function to find the actress's death year. \n",
            "\n",
            "Action: google_search: Minerva McGonagall actress death year\n",
            "PAUSE\n",
            " -- running google_search Minerva McGonagall actress death year\n",
            "Observation: She portrayed Professor Minerva McGonagall in the Harry Potter film series (2001–2011). She also acted in Death on the Nile (1978), Hook (1991), Sister Act ...\n",
            "Jul 10, 2021 ... I asked my fiancé, “hey is McGonagall's actress still alive?” “I'm pretty sure she died.” “How long ago?” “Ehh, it was fairly recently… a couple ...\n",
            "Sep 27, 2024 ... Actor Michael Gambon Smith, who played Professor McGonagall in the fantasy franchise, died at age 89 on Friday, Sept. 27, while Gambon died on the same date in ...\n",
            "Thought: The search results did not provide the name of the actress who played Minerva McGonagall, but they mentioned Michael Gambon, who played Dumbledore. I need to clarify the information about the actress. I will perform another search to find the correct actress and her death year.\n",
            "\n",
            "Action: google_search: Minerva McGonagall actress name and death year\n",
            "PAUSE\n",
            " -- running google_search Minerva McGonagall actress name and death year\n",
            "Observation: She portrayed Professor Minerva McGonagall in the Harry Potter film series (2001–2011). She also acted in Death on the Nile (1978), Hook (1991), Sister Act ...\n",
            "Jul 10, 2021 ... I asked my fiancé, “hey is McGonagall's actress still alive?” “I'm pretty sure she died.” “How long ago?” “Ehh, it was fairly recently… a couple ...\n",
            "Sep 27, 2024 ... Smith gained a new audience when she accepted the role of Professor Minerva McGonagall in the \"Harry Potter\" movie series. ... That same year she ...\n",
            "Thought: The search results still do not provide a clear answer regarding the death year of the actress who played Minerva McGonagall. I will perform another search to find the specific information about her.\n",
            "\n",
            "Action: google_search: Maggie Smith death year\n",
            "PAUSE\n",
            " -- running google_search Maggie Smith death year\n",
            "Observation: Dame Margaret Natalie Smith (28 December 1934 – 27 September 2024) was a British actress. Known for her wit in both comedic and dramatic roles, ...\n",
            "Sep 28, 2024 ... Maggie Smith in her own words through the years ... A dream 15 years ago prompted Stephen Baldwin to explore the death of 16-year-old Lucy Sands ...\n",
            "Sep 27, 2024 ... In the next eight years, she starred in six films, including Travels With My Aunt and Death on the Nile, triumphed on TV in everything from ...\n",
            "Thought: I have found the information I need. Maggie Smith, the actress who played Minerva McGonagall, passed away on September 27, 2024. Now, I need to calculate the cube root of the year 2024.\n",
            "\n",
            "Action: calculate: 2024**(1/3)\n",
            "PAUSE\n",
            " -- running calculate 2024**(1/3)\n",
            "Observation: 12.649407086834739\n",
            "Answer: The actress who played Minerva McGonagall, Maggie Smith, passed away in 2024. The cube root of 2024 is approximately 12.649.\n"
          ]
        }
      ]
    },
    {
      "cell_type": "code",
      "source": [
        "ask_the_agent(\"I made a bet on the most recent Lakers Celtics game. \\\n",
        "I win the square of the point difference if the Celtics won. Do I win or lose? How much?\")"
      ],
      "metadata": {
        "colab": {
          "base_uri": "https://localhost:8080/"
        },
        "id": "j7INo5kef2NV",
        "outputId": "d3a55113-e7f7-457e-92ac-2f7aa1183661"
      },
      "execution_count": null,
      "outputs": [
        {
          "output_type": "stream",
          "name": "stdout",
          "text": [
            "Thought: I need to find out the result of the most recent Lakers vs. Celtics game to determine if the Celtics won and what the point difference was. I will use the google_search function to find this information.\n",
            "\n",
            "Action: google_search: Lakers Celtics most recent game result March 2025\n",
            "PAUSE\n",
            " -- running google_search Lakers Celtics most recent game result March 2025\n",
            "Observation: 1 day ago ... The Celtics defeated the Lakers, 111-101 tonight in Boston. Jayson Tatum contributed a team-high 40 points to go with 12 rebounds 8 assists ...\n",
            "2 days ago ... Los Angeles Lakers vs Boston Celtics Mar 8, 2025 game result ... The Lakers stretched their winning streak to eight games by beating the New ...\n",
            "1 day ago ... ... as of March 10, 2025 | GAME RESULTS | NBA SCHEDULE March 11, 2025. EXTRA14 Update Channel New 38K views · 12:34 · Go to channel · Stephen A.\n",
            "Thought: The Celtics won the game against the Lakers with a score of 111-101. Now, I need to calculate the point difference and then find the square of that difference to determine how much I win.\n",
            "\n",
            "Action: calculate: (111 - 101) ** 2\n",
            "PAUSE\n",
            " -- running calculate (111 - 101) ** 2\n",
            "Observation: 100\n",
            "Answer: You win the bet, and the amount is $100, which is the square of the point difference (10 points) between the Celtics and the Lakers.\n"
          ]
        }
      ]
    },
    {
      "cell_type": "code",
      "source": [
        "ask_the_agent(\"I made a bet on the March 2 Celtics game. \\\n",
        "I win the square of the point difference if the Celtics won. Do I win or lose? How much?\")"
      ],
      "metadata": {
        "colab": {
          "base_uri": "https://localhost:8080/"
        },
        "id": "Cg18RBX4l7Vd",
        "outputId": "b1462731-8138-45fe-ae38-8fe3e0c6940e"
      },
      "execution_count": null,
      "outputs": [
        {
          "output_type": "stream",
          "name": "stdout",
          "text": [
            "Thought: I need to find out the result of the March 2 Celtics game to determine if the Celtics won and what the point difference was. I will use the google_search function to find this information.\n",
            "\n",
            "Action: google_search: Celtics game result March 2 2025\n",
            "PAUSE\n",
            " -- running google_search Celtics game result March 2 2025\n",
            "Observation: BOSTON (AP) Jaylen Brown scored 22 points and Derek White hit a floater from the foul line with less than a minute left on Sunday to help the Boston Celtics ...\n",
            "Game summary of the Boston Celtics vs. Denver Nuggets NBA game, final score 110-103, from March 2, 2025 on ESPN.\n",
            "Celtics bounce back. TD Garden, Boston, MA. Watch on the NBA AppGame Recap.\n",
            "Thought: The Celtics won the game against the Denver Nuggets with a final score of 110-103. Now, I need to calculate the point difference, which is 110 - 103 = 7. I will then calculate the square of the point difference to determine how much I win.\n",
            "\n",
            "Action: calculate: 7**2\n",
            "PAUSE\n",
            " -- running calculate 7**2\n",
            "Observation: 49\n",
            "Answer: The Celtics won the game against the Denver Nuggets, and the square of the point difference is 49. Therefore, you win 49.\n"
          ]
        }
      ]
    },
    {
      "cell_type": "markdown",
      "source": [
        "Our little agent called several functions in sequence and answered the question correctly!!! 🚀\n",
        "\n",
        "\n",
        "WOW. RESPECT."
      ],
      "metadata": {
        "id": "LuHIM9kzUZMT"
      }
    },
    {
      "cell_type": "markdown",
      "source": [
        "## Conclusion\n",
        "\n",
        "By just defining three functions using basic Python and setting up a prompt carefully, we were able to elicit 'agentic' behavior from GPT-4o-mini!!\n",
        "\n",
        "That said, it is quite easy to ask questions that stump this agent. For a more robust implementation, we would need to use more powerful LLMs (ideally, reasoning LLMs like OpenAI o3) and have more validation checks, fallbacks etc."
      ],
      "metadata": {
        "id": "F3W5fVO1kE7n"
      }
    },
    {
      "cell_type": "code",
      "source": [],
      "metadata": {
        "id": "CXvcbwubq-3y"
      },
      "execution_count": null,
      "outputs": []
    }
  ]
}