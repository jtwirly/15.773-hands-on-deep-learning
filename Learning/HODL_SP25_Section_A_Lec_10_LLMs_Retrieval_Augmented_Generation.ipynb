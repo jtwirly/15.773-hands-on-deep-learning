{
  "cells": [
    {
      "cell_type": "markdown",
      "id": "c4ca8276-e829-4cff-8905-47534e4b4d4e",
      "metadata": {
        "id": "c4ca8276-e829-4cff-8905-47534e4b4d4e"
      },
      "source": [
        "# Retrieval-Augmented Generation (RAG)\n",
        "\n",
        "\n",
        "\n",
        "---\n",
        "**Credit**: Adapted from this [OpenAI notebook](https://github.com/openai/openai-cookbook/blob/main/examples/Question_answering_using_embeddings.ipynb)\n",
        "\n",
        "---\n",
        "\n",
        "In this notebook we will demonstrate how to use RAG to enable `gpt-3.5-turbo` to answer questions using a set of documents as a reference.\n",
        "\n",
        "We'll be using a dataset of Wikipedia articles about the 2022 Winter Olympic Games to demonstrate (but the approach is applicable to any set of documents).\n",
        "\n",
        "Why the 2022 Winter Olympic Games?\n",
        "\n",
        "Because the training cutoff date for `gpt-3.5-turbo` is **August 2021** ([details](https://platform.openai.com/docs/models/gpt-3-5-turbo#gpt-3-5-turbo)) and it \"doesn't know\" about the 2022 Winter Olympic Games. Therefore, to get it to correctly answer questions about the 2022 Winter Olympic Games, we need to provide it information \"from the future\" :). This is where RAG comes in.\n",
        "\n",
        "\n",
        "\n",
        "\n"
      ]
    },
    {
      "cell_type": "markdown",
      "source": [
        "## Setup\n",
        "\n",
        "Let's get started by installing the openai python package and `tiktoken`, a package that can tokenize inputs using BPE, in a manner compatible with the OpenAI models\n"
      ],
      "metadata": {
        "id": "KYInMIG5qHYt"
      },
      "id": "KYInMIG5qHYt"
    },
    {
      "cell_type": "code",
      "source": [
        "!pip install --upgrade openai\n",
        "!pip install tiktoken"
      ],
      "metadata": {
        "id": "HiJ-lzBu9bUg",
        "colab": {
          "base_uri": "https://localhost:8080/"
        },
        "outputId": "a3ed2d69-f0d0-4db2-f245-7224a67ac071"
      },
      "id": "HiJ-lzBu9bUg",
      "execution_count": null,
      "outputs": [
        {
          "output_type": "stream",
          "name": "stdout",
          "text": [
            "Requirement already satisfied: openai in /usr/local/lib/python3.11/dist-packages (1.65.3)\n",
            "Requirement already satisfied: anyio<5,>=3.5.0 in /usr/local/lib/python3.11/dist-packages (from openai) (3.7.1)\n",
            "Requirement already satisfied: distro<2,>=1.7.0 in /usr/local/lib/python3.11/dist-packages (from openai) (1.9.0)\n",
            "Requirement already satisfied: httpx<1,>=0.23.0 in /usr/local/lib/python3.11/dist-packages (from openai) (0.28.1)\n",
            "Requirement already satisfied: jiter<1,>=0.4.0 in /usr/local/lib/python3.11/dist-packages (from openai) (0.8.2)\n",
            "Requirement already satisfied: pydantic<3,>=1.9.0 in /usr/local/lib/python3.11/dist-packages (from openai) (2.10.6)\n",
            "Requirement already satisfied: sniffio in /usr/local/lib/python3.11/dist-packages (from openai) (1.3.1)\n",
            "Requirement already satisfied: tqdm>4 in /usr/local/lib/python3.11/dist-packages (from openai) (4.67.1)\n",
            "Requirement already satisfied: typing-extensions<5,>=4.11 in /usr/local/lib/python3.11/dist-packages (from openai) (4.12.2)\n",
            "Requirement already satisfied: idna>=2.8 in /usr/local/lib/python3.11/dist-packages (from anyio<5,>=3.5.0->openai) (3.10)\n",
            "Requirement already satisfied: certifi in /usr/local/lib/python3.11/dist-packages (from httpx<1,>=0.23.0->openai) (2025.1.31)\n",
            "Requirement already satisfied: httpcore==1.* in /usr/local/lib/python3.11/dist-packages (from httpx<1,>=0.23.0->openai) (1.0.7)\n",
            "Requirement already satisfied: h11<0.15,>=0.13 in /usr/local/lib/python3.11/dist-packages (from httpcore==1.*->httpx<1,>=0.23.0->openai) (0.14.0)\n",
            "Requirement already satisfied: annotated-types>=0.6.0 in /usr/local/lib/python3.11/dist-packages (from pydantic<3,>=1.9.0->openai) (0.7.0)\n",
            "Requirement already satisfied: pydantic-core==2.27.2 in /usr/local/lib/python3.11/dist-packages (from pydantic<3,>=1.9.0->openai) (2.27.2)\n",
            "Requirement already satisfied: tiktoken in /usr/local/lib/python3.11/dist-packages (0.9.0)\n",
            "Requirement already satisfied: regex>=2022.1.18 in /usr/local/lib/python3.11/dist-packages (from tiktoken) (2024.11.6)\n",
            "Requirement already satisfied: requests>=2.26.0 in /usr/local/lib/python3.11/dist-packages (from tiktoken) (2.32.3)\n",
            "Requirement already satisfied: charset-normalizer<4,>=2 in /usr/local/lib/python3.11/dist-packages (from requests>=2.26.0->tiktoken) (3.4.1)\n",
            "Requirement already satisfied: idna<4,>=2.5 in /usr/local/lib/python3.11/dist-packages (from requests>=2.26.0->tiktoken) (3.10)\n",
            "Requirement already satisfied: urllib3<3,>=1.21.1 in /usr/local/lib/python3.11/dist-packages (from requests>=2.26.0->tiktoken) (2.3.0)\n",
            "Requirement already satisfied: certifi>=2017.4.17 in /usr/local/lib/python3.11/dist-packages (from requests>=2.26.0->tiktoken) (2025.1.31)\n"
          ]
        }
      ]
    },
    {
      "cell_type": "markdown",
      "source": [
        "Next, let's install our old friends :)."
      ],
      "metadata": {
        "id": "-JFSYB0nAkwW"
      },
      "id": "-JFSYB0nAkwW"
    },
    {
      "cell_type": "code",
      "execution_count": null,
      "id": "9e3839a6-9146-4f60-b74b-19abbc24278d",
      "metadata": {
        "id": "9e3839a6-9146-4f60-b74b-19abbc24278d"
      },
      "outputs": [],
      "source": [
        "import numpy as np\n",
        "import matplotlib.pyplot as plt\n",
        "import pandas as pd"
      ]
    },
    {
      "cell_type": "markdown",
      "source": [
        "\n",
        "\n",
        "---\n",
        "We will be using **pre-trained contextual embeddings** as well. In class, we discussed a model like BERT can be used to generate contextual embeddings for any text passage. In this colab, we will use the `text-embedding-ada-002` model ([link](https://openai.com/blog/new-and-improved-embedding-model)) from OpenAI to do the same thing.\n",
        "\n",
        "\n",
        "---\n",
        "\n",
        "Finally, let's set the OpenAI API key. You can get yours [here](https://platform.openai.com/account/api-keys), and then enter it under `OPENAI_API_KEY` in your Colab secrets. We will create an OpenAI API client using this key.\n",
        "\n",
        "\n",
        "\n"
      ],
      "metadata": {
        "id": "Z2bUETiOrGBK"
      },
      "id": "Z2bUETiOrGBK"
    },
    {
      "cell_type": "code",
      "source": [
        "from openai import OpenAI # for calling the OpenAI API\n",
        "\n",
        "from google.colab import userdata, drive\n",
        "\n",
        "client = OpenAI(api_key=userdata.get('OPENAI_API_KEY'))"
      ],
      "metadata": {
        "id": "4bylYKUdq8ug"
      },
      "id": "4bylYKUdq8ug",
      "execution_count": null,
      "outputs": []
    },
    {
      "cell_type": "code",
      "source": [
        "# models\n",
        "EMBEDDING_MODEL = \"text-embedding-ada-002\"\n",
        "GPT_MODEL = \"gpt-3.5-turbo\""
      ],
      "metadata": {
        "id": "gmkViSgncJ0O"
      },
      "id": "gmkViSgncJ0O",
      "execution_count": null,
      "outputs": []
    },
    {
      "cell_type": "markdown",
      "source": [
        "To query the LLM, we will re-use the helper functions we defined in the [How to use the LLM API](https://colab.research.google.com/drive/1BUSmrCy8r11HJk-7H3BYM5kmvmMp92a-?usp=sharing) colab. But since we aren't interested in looking at token probabilities in this colab, I have simplified the function to return just the text response.\n"
      ],
      "metadata": {
        "id": "qKwMS3diCUCe"
      },
      "id": "qKwMS3diCUCe"
    },
    {
      "cell_type": "code",
      "source": [
        "def ask_the_LLM(prompt,\n",
        "                model=\"gpt-3.5-turbo\",\n",
        "                temperature=0):\n",
        "\n",
        "    response = client.chat.completions.create(\n",
        "        model=model,\n",
        "        messages=[{\"role\": \"system\",\n",
        "                   \"content\": \"You are a helpful assistant.\"},\n",
        "                  {\"role\": \"user\", \"content\": prompt}],\n",
        "        temperature=temperature\n",
        "    )\n",
        "    return response.choices[0].message.content"
      ],
      "metadata": {
        "id": "8NpzH9ZBCDV3"
      },
      "id": "8NpzH9ZBCDV3",
      "execution_count": null,
      "outputs": []
    },
    {
      "cell_type": "markdown",
      "id": "9312f62f-e208-4030-a648-71ad97aee74f",
      "metadata": {
        "id": "9312f62f-e208-4030-a648-71ad97aee74f"
      },
      "source": [
        "Before we try anything fancy, let's simply ask `gpt-3.5-turbo` a question about the 2020 Summer Olympics and see how it responds.\n",
        "\n",
        "Since these Games happened **before** the model's September 2021 training cutoff date, it is likely to have been trained on information about the 2020 Summer Olympic Games. Let's find out.\n"
      ]
    },
    {
      "cell_type": "code",
      "execution_count": null,
      "id": "a167516c-7c19-4bda-afa5-031aa0ae13bb",
      "metadata": {
        "id": "a167516c-7c19-4bda-afa5-031aa0ae13bb"
      },
      "outputs": [],
      "source": [
        "query = 'Which athlete won the gold medal in the high jump at the 2020 Summer Olympics?'"
      ]
    },
    {
      "cell_type": "markdown",
      "source": [
        "OK, let's pop the question!"
      ],
      "metadata": {
        "id": "XsgijN2VElIN"
      },
      "id": "XsgijN2VElIN"
    },
    {
      "cell_type": "code",
      "source": [
        "print(ask_the_LLM(query))"
      ],
      "metadata": {
        "colab": {
          "base_uri": "https://localhost:8080/"
        },
        "id": "_vHReS8GEiWI",
        "outputId": "34db69e7-3ed5-4c21-e07a-ad3311c456b6"
      },
      "id": "_vHReS8GEiWI",
      "execution_count": null,
      "outputs": [
        {
          "output_type": "stream",
          "name": "stdout",
          "text": [
            "Mutaz Essa Barshim of Qatar and Gianmarco Tamberi of Italy both won the gold medal in the men's high jump at the 2020 Summer Olympics. They finished with the same best height and decided to share the gold medal rather than participate in a jump-off.\n"
          ]
        }
      ]
    },
    {
      "cell_type": "markdown",
      "source": [
        "We can check that this answer is in fact correct [here](https://en.wikipedia.org/wiki/Athletics_at_the_2020_Summer_Olympics_%E2%80%93_Men%27s_high_jump). Impressive. But now lets change the query around and ask something about the **2022** Winter Olmpics."
      ],
      "metadata": {
        "id": "9mFSfDRLUKgA"
      },
      "id": "9mFSfDRLUKgA"
    },
    {
      "cell_type": "code",
      "source": [
        "query = 'Which athletes won the gold medal in curling at the 2022 Winter Olympics?'\n",
        "\n",
        "ask_the_LLM(query)"
      ],
      "metadata": {
        "colab": {
          "base_uri": "https://localhost:8080/",
          "height": 35
        },
        "id": "qt4krqbQUjfd",
        "outputId": "e9393c86-cd18-478a-e536-905e744bc47f"
      },
      "id": "qt4krqbQUjfd",
      "execution_count": null,
      "outputs": [
        {
          "output_type": "execute_result",
          "data": {
            "text/plain": [
              "\"The gold medal in curling at the 2022 Winter Olympics was won by the Swedish men's team and the South Korean women's team.\""
            ],
            "application/vnd.google.colaboratory.intrinsic+json": {
              "type": "string"
            }
          },
          "metadata": {},
          "execution_count": 14
        }
      ]
    },
    {
      "cell_type": "markdown",
      "id": "47204cce-a7d5-4c81-ab6e-53323026e08c",
      "metadata": {
        "id": "47204cce-a7d5-4c81-ab6e-53323026e08c"
      },
      "source": [
        "If we fact-check this, it turns out that ....\n",
        "<br> <br> <br> <br> <br> <br> <br> <br> <br> <br> <br> <br> <br> <br> <br> <br> <br> <br> <br> <br> <br> <br> <br> <br>\n",
        "\n",
        "\n",
        "\n",
        "\n",
        "\n",
        "\n",
        "\n",
        "\n",
        "\n",
        "\n",
        "\n",
        "\n",
        "\n",
        "... Sweden did win the men's gold and the South Korean women's team did particpate, but **Great Britain won the women's gold**.\n",
        "\n",
        "\n",
        "<br>\n",
        "\n",
        "<br>\n",
        "\n",
        "\n",
        "\n",
        "`gpt-3.5-turbo` basically made this up 😀. Since this looks plausible but is factually wrong, it is called a \"hallucination\". But, as we discussed in class, this is just a label people use to describe \"plausible but wrong\" outputs rather than something deep about the model's inner workings (end of rant).\n"
      ]
    },
    {
      "cell_type": "markdown",
      "source": [
        "## Using custom data"
      ],
      "metadata": {
        "id": "C-IRkW6NFSU8"
      },
      "id": "C-IRkW6NFSU8"
    },
    {
      "cell_type": "markdown",
      "id": "1af18d66-d47a-496d-ae5f-4c5d53caa434",
      "metadata": {
        "id": "1af18d66-d47a-496d-ae5f-4c5d53caa434"
      },
      "source": [
        "To help the model answer questions involving data that it wasn't pretrained on (such as the one above), we can provide relevant custom data **in the prompt itself**. This extra information we provide in the prompt is referred to as **context**.\n",
        "\n"
      ]
    },
    {
      "cell_type": "markdown",
      "source": [
        "### Manually enriching the prompt with custom data"
      ],
      "metadata": {
        "id": "R-d2d6tgF56x"
      },
      "id": "R-d2d6tgF56x"
    },
    {
      "cell_type": "markdown",
      "source": [
        "We will first show how to do this ***manually*** by finding and adding information (that's relevant to the question) to the prompt."
      ],
      "metadata": {
        "id": "SkCRjOHPF_YP"
      },
      "id": "SkCRjOHPF_YP"
    },
    {
      "cell_type": "markdown",
      "source": [
        "First, we will use the wikipedia article for the 2022 Winter Olympics curling event as context.\n",
        "\n",
        "Second, we will **explicitly tell the model to make use of the provided context**.\n",
        "\n",
        "There's a deeper lesson here: **telling LLMs explicitly what you want them to do often helps**"
      ],
      "metadata": {
        "id": "Il-5WnlKFwip"
      },
      "id": "Il-5WnlKFwip"
    },
    {
      "cell_type": "code",
      "source": [
        "# text copied and pasted from: https://en.wikipedia.org/wiki/Curling_at_the_2022_Winter_Olympics\n",
        "# Only the portion of the article up until the medalists is included.\n",
        "\n",
        "wikipedia_article_on_curling = \"\"\"Curling at the 2022 Winter Olympics\n",
        "\n",
        "Article\n",
        "Talk\n",
        "Read\n",
        "Edit\n",
        "View history\n",
        "From Wikipedia, the free encyclopedia\n",
        "Curling\n",
        "at the XXIV Olympic Winter Games\n",
        "Curling pictogram.svg\n",
        "Curling pictogram\n",
        "Venue\tBeijing National Aquatics Centre\n",
        "Dates\t2–20 February 2022\n",
        "No. of events\t3 (1 men, 1 women, 1 mixed)\n",
        "Competitors\t114 from 14 nations\n",
        "← 20182026 →\n",
        "Men's curling\n",
        "at the XXIV Olympic Winter Games\n",
        "Medalists\n",
        "1st place, gold medalist(s)\t\t Sweden\n",
        "2nd place, silver medalist(s)\t\t Great Britain\n",
        "3rd place, bronze medalist(s)\t\t Canada\n",
        "Women's curling\n",
        "at the XXIV Olympic Winter Games\n",
        "Medalists\n",
        "1st place, gold medalist(s)\t\t Great Britain\n",
        "2nd place, silver medalist(s)\t\t Japan\n",
        "3rd place, bronze medalist(s)\t\t Sweden\n",
        "Mixed doubles's curling\n",
        "at the XXIV Olympic Winter Games\n",
        "Medalists\n",
        "1st place, gold medalist(s)\t\t Italy\n",
        "2nd place, silver medalist(s)\t\t Norway\n",
        "3rd place, bronze medalist(s)\t\t Sweden\n",
        "Curling at the\n",
        "2022 Winter Olympics\n",
        "Curling pictogram.svg\n",
        "Qualification\n",
        "Statistics\n",
        "Tournament\n",
        "Men\n",
        "Women\n",
        "Mixed doubles\n",
        "vte\n",
        "The curling competitions of the 2022 Winter Olympics were held at the \\\n",
        "Beijing National Aquatics Centre, one of the Olympic Green venues. Curling \\\n",
        "competitions were scheduled for every day of the games, from February 2 to \\\n",
        "February 20.[1] This was the eighth time that curling was part of the Olympic \\\n",
        "program.\n",
        "\n",
        "In each of the men's, women's, and mixed doubles competitions, 10 nations \\\n",
        "competed. The mixed doubles competition was expanded for its second appearance \\\n",
        "in the Olympics.[2] A total of 120 quota spots (60 per sex) were distributed to \\\n",
        "the sport of curling, an increase of four from the 2018 Winter Olympics.[3] A \\\n",
        "total of 3 events were contested, one for men, one for women, and one mixed.[4]\n",
        "\n",
        "Qualification\n",
        "Main article: Curling at the 2022 Winter Olympics – Qualification\n",
        "Qualification to the Men's and Women's curling tournaments at the Winter \\\n",
        "Olympics was determined through two methods (in addition to the host nation).\\\n",
        " Nations qualified teams by placing in the top six at the 2021 World Curling \\\n",
        " Championships. Teams could also qualify through Olympic qualification events \\\n",
        " which were held in 2021. Six nations qualified via World Championship \\\n",
        " qualification placement, while three nations qualified through qualification \\\n",
        " events. In men's and women's play, a host will be selected for the Olympic \\\n",
        " Qualification Event (OQE). They would be joined by the teams which competed \\\n",
        " at the 2021 World Championships but did not qualify for the Olympics, and \\\n",
        " two qualifiers from the Pre-Olympic Qualification Event (Pre-OQE). The \\\n",
        " Pre-OQE was open to all member associations.[5]\n",
        "\n",
        "For the mixed doubles competition in 2022, the tournament field was expanded \\\n",
        "from eight competitor nations to ten.[2] The top seven ranked teams at the \\\n",
        "2021 World Mixed Doubles Curling Championship qualified, along with two teams \\\n",
        "from the Olympic Qualification Event (OQE) – Mixed Doubles. This OQE was open \\\n",
        "to a nominated host and the fifteen nations with the highest qualification \\\n",
        "points not already qualified to the Olympics. As the host nation, China \\\n",
        "qualified teams automatically, thus making a total of ten teams per event \\\n",
        "in the curling tournaments.[6]\n",
        "\n",
        "Summary\n",
        "Nations\tMen\tWomen\tMixed doubles\tAthletes\n",
        " Australia\t\t\tYes\t2\n",
        " Canada\tYes\tYes\tYes\t12\n",
        " China\tYes\tYes\tYes\t12\n",
        " Czech Republic\t\t\tYes\t2\n",
        " Denmark\tYes\tYes\t\t10\n",
        " Great Britain\tYes\tYes\tYes\t10\n",
        " Italy\tYes\t\tYes\t6\n",
        " Japan\t\tYes\t\t5\n",
        " Norway\tYes\t\tYes\t6\n",
        " ROC\tYes\tYes\t\t10\n",
        " South Korea\t\tYes\t\t5\n",
        " Sweden\tYes\tYes\tYes\t11\n",
        " Switzerland\tYes\tYes\tYes\t12\n",
        " United States\tYes\tYes\tYes\t11\n",
        "Total: 14 NOCs\t10\t10\t10\t114\n",
        "Competition schedule\n",
        "\n",
        "The Beijing National Aquatics Centre served as the venue of the curling \\\n",
        "competitions.\n",
        "Curling competitions started two days before the Opening Ceremony and finished \\\n",
        "on the last day of the games, meaning the sport was the only one to have had a \\\n",
        "competition every day of the games. The following was the competition schedule \\\n",
        "for the curling competitions:\n",
        "\n",
        "RR\tRound robin\tSF\tSemifinals\tB\t3rd place play-off\tF\tFinal\n",
        "Date\n",
        "Event\n",
        "Wed 2\tThu 3\tFri 4\tSat 5\tSun 6\tMon 7\tTue 8\tWed 9\tThu 10\tFri 11\tSat 12\tSun 13\t\\\n",
        "Mon 14\tTue 15\tWed 16\tThu 17\tFri 18\tSat 19\tSun 20\n",
        "Men's tournament\t\t\t\t\t\t\t\tRR\tRR\tRR\tRR\tRR\tRR\tRR\tRR\tRR\tSF\tB\tF\n",
        "Women's tournament\t\t\t\t\t\t\t\t\tRR\tRR\tRR\tRR\tRR\tRR\tRR\tRR\tSF\tB\tF\n",
        "Mixed doubles\tRR\tRR\tRR\tRR\tRR\tRR\tSF\tB\tF\n",
        "Medal summary\n",
        "Medal table\n",
        "Rank\tNation\tGold\tSilver\tBronze\tTotal\n",
        "1\t Great Britain\t1\t1\t0\t2\n",
        "2\t Sweden\t1\t0\t2\t3\n",
        "3\t Italy\t1\t0\t0\t1\n",
        "4\t Japan\t0\t1\t0\t1\n",
        " Norway\t0\t1\t0\t1\n",
        "6\t Canada\t0\t0\t1\t1\n",
        "Totals (6 entries)\t3\t3\t3\t9\n",
        "Medalists\n",
        "Event\tGold\tSilver\tBronze\n",
        "Men\n",
        "details\t Sweden\n",
        "Niklas Edin\n",
        "Oskar Eriksson\n",
        "Rasmus Wranå\n",
        "Christoffer Sundgren\n",
        "Daniel Magnusson\t Great Britain\n",
        "Bruce Mouat\n",
        "Grant Hardie\n",
        "Bobby Lammie\n",
        "Hammy McMillan Jr.\n",
        "Ross Whyte\t Canada\n",
        "Brad Gushue\n",
        "Mark Nichols\n",
        "Brett Gallant\n",
        "Geoff Walker\n",
        "Marc Kennedy\n",
        "Women\n",
        "details\t Great Britain\n",
        "Eve Muirhead\n",
        "Vicky Wright\n",
        "Jennifer Dodds\n",
        "Hailey Duff\n",
        "Mili Smith\t Japan\n",
        "Satsuki Fujisawa\n",
        "Chinami Yoshida\n",
        "Yumi Suzuki\n",
        "Yurika Yoshida\n",
        "Kotomi Ishizaki\t Sweden\n",
        "Anna Hasselborg\n",
        "Sara McManus\n",
        "Agnes Knochenhauer\n",
        "Sofia Mabergs\n",
        "Johanna Heldin\n",
        "Mixed doubles\n",
        "details\t Italy\n",
        "Stefania Constantini\n",
        "Amos Mosaner\t Norway\n",
        "Kristin Skaslien\n",
        "Magnus Nedregotten\t Sweden\n",
        "Almida de Val\n",
        "Oskar Eriksson\n",
        "\"\"\""
      ],
      "metadata": {
        "id": "TGAz2Dk4UNAU"
      },
      "id": "TGAz2Dk4UNAU",
      "execution_count": null,
      "outputs": []
    },
    {
      "cell_type": "code",
      "execution_count": null,
      "id": "fceaf665-2602-4788-bc44-9eb256a6f955",
      "metadata": {
        "id": "fceaf665-2602-4788-bc44-9eb256a6f955",
        "colab": {
          "base_uri": "https://localhost:8080/"
        },
        "outputId": "59c65abb-b420-49b8-9721-07e722860ff7"
      },
      "outputs": [
        {
          "output_type": "stream",
          "name": "stdout",
          "text": [
            "Use the below article on the 2022 Winter Olympics to answer the subsequent question.\n",
            "\n",
            "Article:\n",
            "```\n",
            "Curling at the 2022 Winter Olympics\n",
            "\n",
            "Article\n",
            "Talk\n",
            "Read\n",
            "Edit\n",
            "View history\n",
            "From Wikipedia, the free encyclopedia\n",
            "Curling\n",
            "at the XXIV Olympic Winter Games\n",
            "Curling pictogram.svg\n",
            "Curling pictogram\n",
            "Venue\tBeijing National Aquatics Centre\n",
            "Dates\t2–20 February 2022\n",
            "No. of events\t3 (1 men, 1 women, 1 mixed)\n",
            "Competitors\t114 from 14 nations\n",
            "← 20182026 →\n",
            "Men's curling\n",
            "at the XXIV Olympic Winter Games\n",
            "Medalists\n",
            "1st place, gold medalist(s)\t\t Sweden\n",
            "2nd place, silver medalist(s)\t\t Great Britain\n",
            "3rd place, bronze medalist(s)\t\t Canada\n",
            "Women's curling\n",
            "at the XXIV Olympic Winter Games\n",
            "Medalists\n",
            "1st place, gold medalist(s)\t\t Great Britain\n",
            "2nd place, silver medalist(s)\t\t Japan\n",
            "3rd place, bronze medalist(s)\t\t Sweden\n",
            "Mixed doubles's curling\n",
            "at the XXIV Olympic Winter Games\n",
            "Medalists\n",
            "1st place, gold medalist(s)\t\t Italy\n",
            "2nd place, silver medalist(s)\t\t Norway\n",
            "3rd place, bronze medalist(s)\t\t Sweden\n",
            "Curling at the\n",
            "2022 Winter Olympics\n",
            "Curling pictogram.svg\n",
            "Qualification\n",
            "Statistics\n",
            "Tournament\n",
            "Men\n",
            "Women\n",
            "Mixed doubles\n",
            "vte\n",
            "The curling competitions of the 2022 Winter Olympics were held at the Beijing National Aquatics Centre, one of the Olympic Green venues. Curling competitions were scheduled for every day of the games, from February 2 to February 20.[1] This was the eighth time that curling was part of the Olympic program.\n",
            "\n",
            "In each of the men's, women's, and mixed doubles competitions, 10 nations competed. The mixed doubles competition was expanded for its second appearance in the Olympics.[2] A total of 120 quota spots (60 per sex) were distributed to the sport of curling, an increase of four from the 2018 Winter Olympics.[3] A total of 3 events were contested, one for men, one for women, and one mixed.[4]\n",
            "\n",
            "Qualification\n",
            "Main article: Curling at the 2022 Winter Olympics – Qualification\n",
            "Qualification to the Men's and Women's curling tournaments at the Winter Olympics was determined through two methods (in addition to the host nation). Nations qualified teams by placing in the top six at the 2021 World Curling  Championships. Teams could also qualify through Olympic qualification events  which were held in 2021. Six nations qualified via World Championship  qualification placement, while three nations qualified through qualification  events. In men's and women's play, a host will be selected for the Olympic  Qualification Event (OQE). They would be joined by the teams which competed  at the 2021 World Championships but did not qualify for the Olympics, and  two qualifiers from the Pre-Olympic Qualification Event (Pre-OQE). The  Pre-OQE was open to all member associations.[5]\n",
            "\n",
            "For the mixed doubles competition in 2022, the tournament field was expanded from eight competitor nations to ten.[2] The top seven ranked teams at the 2021 World Mixed Doubles Curling Championship qualified, along with two teams from the Olympic Qualification Event (OQE) – Mixed Doubles. This OQE was open to a nominated host and the fifteen nations with the highest qualification points not already qualified to the Olympics. As the host nation, China qualified teams automatically, thus making a total of ten teams per event in the curling tournaments.[6]\n",
            "\n",
            "Summary\n",
            "Nations\tMen\tWomen\tMixed doubles\tAthletes\n",
            " Australia\t\t\tYes\t2\n",
            " Canada\tYes\tYes\tYes\t12\n",
            " China\tYes\tYes\tYes\t12\n",
            " Czech Republic\t\t\tYes\t2\n",
            " Denmark\tYes\tYes\t\t10\n",
            " Great Britain\tYes\tYes\tYes\t10\n",
            " Italy\tYes\t\tYes\t6\n",
            " Japan\t\tYes\t\t5\n",
            " Norway\tYes\t\tYes\t6\n",
            " ROC\tYes\tYes\t\t10\n",
            " South Korea\t\tYes\t\t5\n",
            " Sweden\tYes\tYes\tYes\t11\n",
            " Switzerland\tYes\tYes\tYes\t12\n",
            " United States\tYes\tYes\tYes\t11\n",
            "Total: 14 NOCs\t10\t10\t10\t114\n",
            "Competition schedule\n",
            "\n",
            "The Beijing National Aquatics Centre served as the venue of the curling competitions.\n",
            "Curling competitions started two days before the Opening Ceremony and finished on the last day of the games, meaning the sport was the only one to have had a competition every day of the games. The following was the competition schedule for the curling competitions:\n",
            "\n",
            "RR\tRound robin\tSF\tSemifinals\tB\t3rd place play-off\tF\tFinal\n",
            "Date\n",
            "Event\n",
            "Wed 2\tThu 3\tFri 4\tSat 5\tSun 6\tMon 7\tTue 8\tWed 9\tThu 10\tFri 11\tSat 12\tSun 13\tMon 14\tTue 15\tWed 16\tThu 17\tFri 18\tSat 19\tSun 20\n",
            "Men's tournament\t\t\t\t\t\t\t\tRR\tRR\tRR\tRR\tRR\tRR\tRR\tRR\tRR\tSF\tB\tF\n",
            "Women's tournament\t\t\t\t\t\t\t\t\tRR\tRR\tRR\tRR\tRR\tRR\tRR\tRR\tSF\tB\tF\n",
            "Mixed doubles\tRR\tRR\tRR\tRR\tRR\tRR\tSF\tB\tF\n",
            "Medal summary\n",
            "Medal table\n",
            "Rank\tNation\tGold\tSilver\tBronze\tTotal\n",
            "1\t Great Britain\t1\t1\t0\t2\n",
            "2\t Sweden\t1\t0\t2\t3\n",
            "3\t Italy\t1\t0\t0\t1\n",
            "4\t Japan\t0\t1\t0\t1\n",
            " Norway\t0\t1\t0\t1\n",
            "6\t Canada\t0\t0\t1\t1\n",
            "Totals (6 entries)\t3\t3\t3\t9\n",
            "Medalists\n",
            "Event\tGold\tSilver\tBronze\n",
            "Men\n",
            "details\t Sweden\n",
            "Niklas Edin\n",
            "Oskar Eriksson\n",
            "Rasmus Wranå\n",
            "Christoffer Sundgren\n",
            "Daniel Magnusson\t Great Britain\n",
            "Bruce Mouat\n",
            "Grant Hardie\n",
            "Bobby Lammie\n",
            "Hammy McMillan Jr.\n",
            "Ross Whyte\t Canada\n",
            "Brad Gushue\n",
            "Mark Nichols\n",
            "Brett Gallant\n",
            "Geoff Walker\n",
            "Marc Kennedy\n",
            "Women\n",
            "details\t Great Britain\n",
            "Eve Muirhead\n",
            "Vicky Wright\n",
            "Jennifer Dodds\n",
            "Hailey Duff\n",
            "Mili Smith\t Japan\n",
            "Satsuki Fujisawa\n",
            "Chinami Yoshida\n",
            "Yumi Suzuki\n",
            "Yurika Yoshida\n",
            "Kotomi Ishizaki\t Sweden\n",
            "Anna Hasselborg\n",
            "Sara McManus\n",
            "Agnes Knochenhauer\n",
            "Sofia Mabergs\n",
            "Johanna Heldin\n",
            "Mixed doubles\n",
            "details\t Italy\n",
            "Stefania Constantini\n",
            "Amos Mosaner\t Norway\n",
            "Kristin Skaslien\n",
            "Magnus Nedregotten\t Sweden\n",
            "Almida de Val\n",
            "Oskar Eriksson\n",
            "\n",
            "```\n",
            "\n",
            "Question: Which teams won the gold medal in curling at the 2022 Winter Olympics?\n"
          ]
        }
      ],
      "source": [
        "query = f\"\"\"Use the below article on the 2022 Winter Olympics to answer the \\\n",
        "subsequent question.\n",
        "\n",
        "Article:\n",
        "```\n",
        "{wikipedia_article_on_curling}\n",
        "```\n",
        "\n",
        "Question: Which teams won the gold medal in curling at the 2022 Winter Olympics?\"\"\"\n",
        "\n",
        "print(query)"
      ]
    },
    {
      "cell_type": "markdown",
      "source": [
        "Take a moment to notice what the prompt has grown to.\n",
        "\n",
        "\n",
        "OK, let's run it."
      ],
      "metadata": {
        "id": "8KwCoDatGsFm"
      },
      "id": "8KwCoDatGsFm"
    },
    {
      "cell_type": "code",
      "source": [
        "ask_the_LLM(query)"
      ],
      "metadata": {
        "colab": {
          "base_uri": "https://localhost:8080/",
          "height": 52
        },
        "id": "QXoCMDic_vUy",
        "outputId": "732c30ce-4b65-40a4-8b48-096c51bd7392"
      },
      "id": "QXoCMDic_vUy",
      "execution_count": null,
      "outputs": [
        {
          "output_type": "execute_result",
          "data": {
            "text/plain": [
              "\"The teams that won the gold medal in curling at the 2022 Winter Olympics were:\\n\\n- Men's Curling: Sweden\\n- Women's Curling: Great Britain\\n- Mixed Doubles Curling: Italy\""
            ],
            "application/vnd.google.colaboratory.intrinsic+json": {
              "type": "string"
            }
          },
          "metadata": {},
          "execution_count": 17
        }
      ]
    },
    {
      "cell_type": "markdown",
      "source": [
        "Let's pretty-print it, taking advantage of the fact that OpenAI LLMs generate output in [Markdown](https://www.markdownguide.org/) format."
      ],
      "metadata": {
        "id": "aqI18bVwFaOs"
      },
      "id": "aqI18bVwFaOs"
    },
    {
      "cell_type": "code",
      "source": [
        "from IPython.display import Markdown, display\n",
        "\n",
        "display(Markdown(ask_the_LLM(query)))"
      ],
      "metadata": {
        "colab": {
          "base_uri": "https://localhost:8080/",
          "height": 104
        },
        "id": "eP4_8GIiuL-E",
        "outputId": "80c83b01-57ae-4f6f-db26-cace852dfbb0"
      },
      "id": "eP4_8GIiuL-E",
      "execution_count": null,
      "outputs": [
        {
          "output_type": "display_data",
          "data": {
            "text/plain": [
              "<IPython.core.display.Markdown object>"
            ],
            "text/markdown": "The teams that won the gold medal in curling at the 2022 Winter Olympics were:\n\n- Men's Curling: Sweden\n- Women's Curling: Great Britain\n- Mixed Doubles Curling: Italy"
          },
          "metadata": {}
        }
      ]
    },
    {
      "cell_type": "markdown",
      "source": [
        "Nicely done, `gpt-3.5-turbo`!\n",
        "\n",
        "---\n",
        "\n",
        "But maybe it wasn't super hard since the answer was literally in the context we provided.\n",
        "\n",
        "\n",
        "Let's make it a bit harder.\n",
        "\n",
        "\n",
        "Oskar Eriksson actually won **two** medals in the curling event. So let's be tricky and ask the LLM if any athlete won multiple medals.\n"
      ],
      "metadata": {
        "id": "m4liRh5k04OA"
      },
      "id": "m4liRh5k04OA"
    },
    {
      "cell_type": "code",
      "source": [
        "query = f\"\"\"Use the below article on the 2022 Winter Olympics to answer \\\n",
        "the subsequent question.\n",
        "\n",
        "Article:\n",
        "```\n",
        "{wikipedia_article_on_curling}\n",
        "```\n",
        "\n",
        "Question: Did any athlete win multiple medals in curling at the 2022 Winter \\\n",
        "Olympics?\"\"\""
      ],
      "metadata": {
        "id": "qpI9mMx5JSW5"
      },
      "id": "qpI9mMx5JSW5",
      "execution_count": null,
      "outputs": []
    },
    {
      "cell_type": "markdown",
      "source": [
        "Notice that the question has changed. Everything else is unchanged."
      ],
      "metadata": {
        "id": "M8gAZxH-KVhx"
      },
      "id": "M8gAZxH-KVhx"
    },
    {
      "cell_type": "code",
      "source": [
        "display(Markdown(ask_the_LLM(query)))"
      ],
      "metadata": {
        "colab": {
          "base_uri": "https://localhost:8080/",
          "height": 64
        },
        "id": "4d2uaAcjOBQZ",
        "outputId": "d3d70f8c-20e2-4680-8b05-cb665597b139"
      },
      "id": "4d2uaAcjOBQZ",
      "execution_count": null,
      "outputs": [
        {
          "output_type": "display_data",
          "data": {
            "text/plain": [
              "<IPython.core.display.Markdown object>"
            ],
            "text/markdown": "Yes, at the 2022 Winter Olympics, Oskar Eriksson from Sweden won multiple medals in curling. He won a gold medal in the mixed doubles event and a silver medal in the men's event."
          },
          "metadata": {}
        }
      ]
    },
    {
      "cell_type": "markdown",
      "source": [
        "WHOAH!!!!\n",
        "\n",
        "👏 👍\n",
        "\n",
        "Google cannot do this. In fact, poor Oskar doesn't show up anywhere on the results page summary.\n",
        "\n",
        "\n",
        "\n",
        "---\n",
        "\n",
        "\n"
      ],
      "metadata": {
        "id": "I7C-ejVqKcpU"
      },
      "id": "I7C-ejVqKcpU"
    },
    {
      "cell_type": "markdown",
      "source": [
        "### RETRIEVAL AUGMENTED GENERATION: *Automatically* enriching the prompt with custom data\n",
        "\n",
        "\n",
        "\n"
      ],
      "metadata": {
        "id": "lsFc2fnWLHyK"
      },
      "id": "lsFc2fnWLHyK"
    },
    {
      "cell_type": "markdown",
      "id": "ee85ee77-d8d2-4788-b57e-0785f2d7e2e3",
      "metadata": {
        "id": "ee85ee77-d8d2-4788-b57e-0785f2d7e2e3"
      },
      "source": [
        "**Manually** adding extra information into the prompt helps but obviously doesn't scale. So, we will now show how to **automatically** add the custom relevant data to the prompt.\n",
        "\n",
        "First thing to note. We typically can't just include **all** the custom data into the prompt due to an important reason.\n",
        "\n",
        "Every model has a limit (called the **context window**) on how many tokens you can send in and get out. For `gpt-3.5-turbo`,  the context window is 16,385 tokens ([link](https://platform.openai.com/docs/models/gpt-3-5-turbo)).\n",
        "\n",
        "Note that the context window includes both the prompt and the response - **together**, they can't exceed 16,385 tokens. Furthermore, the response cannot exceed 4096 tokens (even if the input + response are less than 16385 tokens).\n",
        "\n",
        "The size of the context window is a key reason we can't include ALL data in the prompt. Another reason is that the LLM can \"get confused\" if there's too much information in the prompt. Yet another reason is expense. OpenAI charges by the token and these charges can easily add up.\n",
        "\n",
        "In this colab, we will limit our input to ~4000 tokens to keep things simple and inexpensive.\n",
        "\n",
        "(BTW, GPT-4's context window is way bigger - it ranges up to 128K tokens, depending on the particular GPT-4 model)"
      ]
    },
    {
      "cell_type": "markdown",
      "source": [
        "If we can't include all the custom data, the logical thing to do is to only include data that's **relevant** to the question.\n",
        "\n",
        "How can we measure the relevance between a question and a piece of (our custom) data?\n",
        "\n",
        "Using pretrained contextual embeddings and our old friend, \"cosine similarity\"!\n",
        "\n",
        "\n",
        "\n",
        "---\n",
        "\n",
        "\n",
        "\n",
        "\n",
        "This is our overall process.\n",
        "\n"
      ],
      "metadata": {
        "id": "O2N4vj7pdaDh"
      },
      "id": "O2N4vj7pdaDh"
    },
    {
      "cell_type": "markdown",
      "source": [
        "**RETRIEVAL AUGMENTED GENERATION**\n",
        "\n",
        "**One-time setup**\n",
        "* Preprocess the custom dataset by splitting it into 'chunks' (e.g., paragraphs, sections etc.)\n",
        "* We calculate an embedding vector for each chunk using the `text-embedding-ada-002` model and store it somewhere handy\n",
        "\n",
        "\n",
        "**Each time we receive a question, we do this:**\n",
        "* We calculate an embedding vector for the question (again using the same `text-embedding-ada-002` model)\n",
        "* For each chunk in our custom dataset, we calculate the *cosine similarity* (more or less the dot-product) between that chunk's embedding vector and the question's embedding vector\n",
        "* We rank the chunks from most-cosine-similar to the question to least-cosine-similar\n",
        "* Starting from the most-cosine-similar chunk, include as many chunks into the prompt as can fit into the context window\n",
        "* Send the prompt into `gpt-3.5-turbo`."
      ],
      "metadata": {
        "id": "sEJbDq1EfHj3"
      },
      "id": "sEJbDq1EfHj3"
    },
    {
      "cell_type": "markdown",
      "source": [
        "![RAG](https://substackcdn.com/image/fetch/f_auto,q_auto:good,fl_progressive:steep/https%3A%2F%2Fsubstack-post-media.s3.amazonaws.com%2Fpublic%2Fimages%2F4063347e-8920-40c6-86b3-c520084b303c_1272x998.jpeg)"
      ],
      "metadata": {
        "id": "R78WL_sh5ago"
      },
      "id": "R78WL_sh5ago"
    },
    {
      "cell_type": "markdown",
      "source": [
        "Credit for 👆image: https://magazine.sebastianraschka.com/p/finetuning-large-language-models"
      ],
      "metadata": {
        "id": "-oUGGWsI5zeN"
      },
      "id": "-oUGGWsI5zeN"
    },
    {
      "cell_type": "markdown",
      "id": "0c9bfea5-a028-4191-b9f1-f210d76ec4e3",
      "metadata": {
        "id": "0c9bfea5-a028-4191-b9f1-f210d76ec4e3"
      },
      "source": [
        "#### One-time setup\n",
        "\n",
        "We first need to break up the custom dataset into \"chunks\".\n",
        "\n",
        "Approximately a paragraph of text is usually a good length, but you should experiment for your particular use case. In this example, Wikipedia articles are already grouped into headers, so these can be used to define the chunks.\n",
        "\n",
        "This preprocessing has already been done in [this notebook](https://github.com/openai/openai-cookbook/blob/main/examples/fine-tuned_qa/olympics-1-collect-data.ipynb), so we will simply load the results and use them."
      ]
    },
    {
      "cell_type": "code",
      "execution_count": null,
      "id": "cc9c8d69-e234-48b4-87e3-935970e1523a",
      "metadata": {
        "id": "cc9c8d69-e234-48b4-87e3-935970e1523a"
      },
      "outputs": [],
      "source": [
        "# OpenAI has hosted the processed dataset, so we can download it directly without having to recreate it.\n",
        "# This dataset has already been split into chunks (apparently one row for each section of the Wikipedia page)\n",
        "# and a contextual embedding for each chunk has been computed.\n",
        "# This file is ~200 MB, so may take a minute depending on your connection speed\n",
        "\n",
        "embeddings_path = \"https://cdn.openai.com/API/examples/data/winter_olympics_2022.csv\"\n",
        "\n",
        "df = pd.read_csv(embeddings_path)"
      ]
    },
    {
      "cell_type": "code",
      "source": [
        "df.info()"
      ],
      "metadata": {
        "colab": {
          "base_uri": "https://localhost:8080/"
        },
        "id": "zsWg3FwMBGUS",
        "outputId": "1d755381-39ac-4954-f668-28f217c08f9d"
      },
      "id": "zsWg3FwMBGUS",
      "execution_count": null,
      "outputs": [
        {
          "output_type": "stream",
          "name": "stdout",
          "text": [
            "<class 'pandas.core.frame.DataFrame'>\n",
            "RangeIndex: 6059 entries, 0 to 6058\n",
            "Data columns (total 2 columns):\n",
            " #   Column     Non-Null Count  Dtype \n",
            "---  ------     --------------  ----- \n",
            " 0   text       6059 non-null   object\n",
            " 1   embedding  6059 non-null   object\n",
            "dtypes: object(2)\n",
            "memory usage: 94.8+ KB\n"
          ]
        }
      ]
    },
    {
      "cell_type": "markdown",
      "source": [
        "This dataframe has just two columns: `text` and `embedding`."
      ],
      "metadata": {
        "id": "GJunfSsEQIPE"
      },
      "id": "GJunfSsEQIPE"
    },
    {
      "cell_type": "code",
      "source": [
        "df.embedding[0]"
      ],
      "metadata": {
        "colab": {
          "base_uri": "https://localhost:8080/",
          "height": 157
        },
        "id": "jqPwXu9yBkp8",
        "outputId": "3dd72ef4-dd0b-48f6-db56-1c9a00daf213"
      },
      "id": "jqPwXu9yBkp8",
      "execution_count": null,
      "outputs": [
        {
          "output_type": "execute_result",
          "data": {
            "text/plain": [
              "'[-0.005021067801862955, 0.00026050032465718687, -0.0046091326512396336, 0.016684994101524353, -0.029633380472660065, 0.03277317062020302, -0.016217919066548347, -0.01712612248957157, -0.0022461817134171724, -0.02706446312367916, 0.030411841347813606, 0.01922796480357647, -0.00896526500582695, -0.027972666546702385, -0.02758343517780304, -0.027479641139507294, 0.013921461068093777, 0.00766783207654953, 0.00015092799731064588, -0.01711314730346203, -0.003931223414838314, -0.006850448902696371, 0.010710312984883785, -0.011190364137291908, -0.017658069729804993, -0.0003863919118884951, 0.030333993956446648, -0.010009699501097202, 0.011871516704559326, -0.0029532830230891705, 0.0026273028925061226, -0.008024626411497593, -0.006370398215949535, -0.004768067970871925, -0.00601360434666276, -0.0364319309592247, 0.008011652156710625, -0.031216248869895935, 0.039130594581365585, -0.0006750708562321961, 0.010781671851873398, 0.0347193218767643, 0.000550192897208035, 0.012786206789314747, -0.018760887905955315, 0.014985356479883194, 0.005215682554990053, -0.00043464021291583776, 0.0012447251938283443, 0.043593764305114746, 0.005987655371427536, 0.034018706530332565, -0.012215335853397846, -0.0020110218320041895, -0.007875421084463596, -0.02994476445019245, -0.022536419332027435, -0.0036328136920928955, 0.009224751964211464, -0.02572810649871826, 0.003610108746215701, -0.02901061251759529, -0.0019396630814298987, 0.0204086285084486, -0.007051550783216953, -0.006467706058174372, -0.022860778495669365, 0.006256872788071632, -0.005796283949166536, -0.013110565021634102, 0.033084552735090256, 0.01972098834812641, 0.010982774198055267, 0.00486861914396286, 0.041803307831287384, 0.0005055936053395271, -0.016334688290953636, 0.00012345889990683645, -0.0011839080834761262, -0.001853708061389625, 0.010353519581258297, -0.028206203132867813, -0.006101180799305439, 0.026402771472930908, -0.0029646356124430895, 0.03552372753620148, 0.02214718982577324, 0.03295481204986572, -0.03152763471007347, -0.005686002317816019, -0.00647094938904047, 0.007135884370654821, -0.0021099511068314314, 0.016075201332569122, -0.028413793072104454, 0.019902629777789116, -0.010762210935354233, 0.019824784249067307, 0.003726877737790346, -0.010029160417616367, 0.022082317620515823, -0.005072964821010828, -0.014673972502350807, -0.008751188404858112, -0.04637027159333229, -0.01218938734382391, -0.013065155595541, -0.008271138183772564, 0.029270099475979805, 0.022263959050178528, -0.035393986850976944, 0.02729799970984459, 0.018112171441316605, -0.04896514117717743, 0.0054621947929263115, -0.027168257161974907, 0.0057281688787043095, 0.008757675997912884, -0.002562431152909994, -0.01144336350262165, -0.009782648645341396, 0.02677902765572071, 0.002659738529473543, -0.026960667222738266, 0.0326174795627594, -0.015439458191394806, -0.007304550614207983, -0.005436246283352375, 0.016736891120672226, 0.017554275691509247, 0.018384631723165512, 0.019980475306510925, -0.025261029601097107, 0.006688269786536694, -0.02592272125184536, 0.040869154036045074, -0.010502723976969719, -0.00578006636351347, -0.020434577018022537, -0.00766783207654953, 0.016892584040760994, 0.005870886612683535, -0.03054158389568329, 0.016127098351716995, 0.008634420111775398, 0.025222107768058777, -0.0069672176614403725, -0.007336986251175404, 0.010755723342299461, -0.012358053587377071, 0.004515068605542183, 0.011858542449772358, 0.030645379796624184, 0.011106031015515327, 0.005481656640768051, 0.015452432446181774, 0.021148165687918663, 0.0062049757689237595, -0.010275673121213913, 0.008569547906517982, 0.008433317765593529, 0.005183246918022633, -0.011527696624398232, -0.02401549369096756, -0.02361328899860382, 0.006328231655061245, 0.04073940962553024, -0.0032452053856104612, 0.003232231130823493, -0.014167973771691322, -0.007817036472260952, 0.01353223156183958, -0.050937239080667496, 0.004365863744169474, 0.028984664008021355, 0.049795497208833694, -0.002687309170141816, -0.010048622265458107, -0.03391491249203682, 0.01152120903134346, -0.028309999033808708, -0.01789160817861557, 0.012682412751019001, 0.026143284514546394, -0.02836189605295658, 0.016697969287633896, 0.011897465214133263, -0.018397606909275055, 0.01943555288016796, -0.009237726218998432, 0.005877373740077019, 0.012844591401517391, 0.020434577018022537, 0.017476428300142288, -0.6339778900146484, -0.013363565318286419, 0.020720012485980988, 0.00505025964230299, 0.014596126973628998, 0.00993834063410759, 0.03038589283823967, -0.012131002731621265, -0.01739858277142048, 0.016490379348397255, -0.02901061251759529, -0.004031774587929249, -0.008978239260613918, 0.0007877853931859136, -0.006120642647147179, -0.02734989859163761, -0.003451172960922122, 0.007207242771983147, 0.017372634261846542, 0.004881593398749828, 0.005254605785012245, 0.015102125704288483, -0.0008936073281802237, 0.018306786194443703, 0.02677902765572071, 0.02531292662024498, 0.010632467456161976, -0.03412250056862831, -0.004018800333142281, 0.018384631723165512, -0.011683388613164425, 0.022744009271264076, 0.0028575973119586706, 0.01752832718193531, 0.050003085285425186, -0.0058027710765600204, -0.025261029601097107, 0.0255594402551651, 0.02264021337032318, 0.02206934429705143, -0.008809573017060757, 0.008452779613435268, -0.006146591156721115, -0.015621098689734936, 0.004884837195277214, 0.011761234141886234, 0.004810234531760216, 0.03749582916498184, -0.012773232534527779, -0.042166586965322495, -0.0014093371573835611, -0.026182208210229874, -0.002565674716606736, 0.0031819555442780256, 0.011060620658099651, 0.0020142653957009315, 0.013149488717317581, 0.008796598762273788, 0.0017661313759163022, 0.005108644254505634, 0.007155345752835274, 0.007538088597357273, -0.003837159601971507, 0.00035273973480798304, -0.008284112438559532, -0.0038501338567584753, -0.03565347194671631, -0.010126468725502491, 0.031579531729221344, -0.008258163928985596, 0.01265646331012249, 0.02092760242521763, 0.0035290191881358624, -0.0036457881797105074, 0.021031396463513374, -0.0029597701504826546, 0.019370682537555695, -0.02664928324520588, -0.006824499927461147, -0.0007642694399692118, 0.003203038824722171, -0.01760617271065712, -0.00898472685366869, -0.025403747335076332, 0.024729082360863686, -0.01995452679693699, -0.021083293482661247, 0.004969170317053795, 0.01533566415309906, 0.0012787828454747796, 0.03074917383491993, 0.020473500713706017, 0.018125146627426147, -0.0015455676475539804, -0.002332136733457446, 0.028050512075424194, -0.019539348781108856, -0.0036165958736091852, 0.033447835594415665, -0.022497497498989105, 0.0010103763779625297, 0.006818012800067663, -0.007421319372951984, -0.006733679678291082, 0.009107982739806175, 0.00255594402551651, -0.025364825502038002, 0.0005295150331221521, 0.03173522278666496, -0.01294189877808094, -0.016256840899586678, -0.02105734497308731, -0.005361644085496664, 0.00858252216130495, 0.0077910879626870155, -0.02657143771648407, 0.000633309711702168, -0.009769674390554428, 0.021693088114261627, -0.00416800519451499, 0.017671044915914536, -0.015556227415800095, 0.01854032464325428, -0.00463508116081357, -0.03526424244046211, 0.030723225325345993, -0.002917603589594364, -0.00533569511026144, -0.06071988865733147, -0.003347378456965089, 0.004777798894792795, 0.005906566046178341, 0.038689468055963516, -0.005306502804160118, 0.015789765864610672, 0.025792976841330528, 0.00344792939722538, -0.0018180286278948188, 0.017982428893446922, 0.017087198793888092, -0.026130311191082, 0.004284773953258991, -0.0006126318476162851, -0.023794930428266525, -0.0016996378544718027, -0.03887110576033592, -0.028854921460151672, 0.011754747480154037, -0.012773232534527779, 0.025974618270993233, -0.024313904345035553, -0.012422925792634487, -0.0024667454417794943, -0.0105870570987463, -0.004404786508530378, 0.0002128601772710681, 0.016814738512039185, 0.01125523541122675, -0.005851425230503082, -0.005416784901171923, -0.008141394704580307, 0.0029613918159157038, 0.004103133454918861, 0.011274697259068489, 0.01865709386765957, 0.016490379348397255, 0.006928294897079468, 0.006908833514899015, 0.015128074213862419, -0.01918904110789299, 0.002753802575170994, -0.00011778263433370739, 0.02056432142853737, 0.017619146034121513, 0.007700267713516951, -0.011475799605250359, 0.012507258914411068, -0.0013598725199699402, 0.005471925716847181, 0.001042812131345272, 0.03464147448539734, -0.0005542473518289626, -0.036483827978372574, -0.0050080930814146996, -0.0028640844393521547, 0.008854983374476433, -0.01800837740302086, 0.01200774684548378, -0.00842034351080656, 0.000462210678961128, -0.006545552052557468, 0.029062509536743164, 0.012481310404837132, -0.013804691843688488, -0.011294158175587654, 0.022056369110941887, -0.005085939075797796, -0.004414517432451248, 0.02292564883828163, 0.005621130578219891, 0.022458573803305626, -0.007732703350484371, 0.0014417729107663035, 0.004073941148817539, -0.016594173386693, -0.0190722718834877, 0.016607148572802544, -0.021796882152557373, 0.017255865037441254, -0.014985356479883194, 0.029763124883174896, -0.030333993956446648, -0.05667189508676529, 0.008478728123009205, -0.012662950903177261, 0.023457597941160202, -0.01486858818680048, -0.005056747235357761, 0.0012244528625160456, -0.01813811995089054, 0.00795326754450798, -0.03220229968428612, 0.00440154317766428, -0.011365517042577267, -0.03638003394007683, -0.008809573017060757, 0.00010561919771134853, 0.02981502190232277, 0.020512422546744347, 0.0076937805861234665, -0.012585104443132877, 0.02036970481276512, 0.003125192830339074, 0.0008400881779380143, -0.02758343517780304, 0.0018666824325919151, 0.01010051928460598, -0.004262068774551153, 0.010619493201375008, -0.020473500713706017, 0.016814738512039185, -0.0022494252771139145, 0.01894252933561802, -0.00712939677760005, 0.0018942528404295444, -0.027168257161974907, 0.02325000800192356, 0.010658415965735912, -0.018683042377233505, -0.01800837740302086, -0.0285175871104002, 0.02300349622964859, -0.017346685752272606, -0.010353519581258297, 0.007881908677518368, -0.03650977835059166, 0.007505652494728565, -0.011514722369611263, 0.027090411633253098, 0.037547726184129715, 0.0033408913295716047, 0.004959439393132925, 0.0012495906557887793, 0.021472524851560593, 0.015919508412480354, -0.010016186162829399, -0.009211777709424496, 0.0011887734290212393, -0.011754747480154037, -0.03850782662630081, -0.009685341268777847, -0.04681140184402466, 0.006960730534046888, 0.010801133699715137, 0.008913367986679077, -0.005231900606304407, -0.022121241316199303, -0.007946779951453209, 0.006457975134253502, 0.011962336488068104, -0.041725460439920425, -0.014738844707608223, -0.011015210300683975, 0.002792725572362542, -0.01218938734382391, -0.020512422546744347, -0.01107359491288662, 0.017541300505399704, -0.0027294757310301065, -0.0008911745972000062, 0.0021521179005503654, -0.010145929642021656, -0.019279861822724342, 0.0010776807321235538, -0.007907857187092304, 0.0018277594354003668, 0.022899700328707695, -0.009964289143681526, -0.018799811601638794, -0.01269538700580597, -0.026195181533694267, -0.0006458786083385348, 0.002666225889697671, -0.01878683641552925, 0.04009069502353668, 0.008796598762273788, 0.008245189674198627, 0.005553015507757664, 0.01623089239001274, 0.00229645729996264, 0.0192668866366148, -0.01846247911453247, 0.01619197055697441, -0.0066266413778066635, 0.012072618119418621, -0.0005031609325669706, -0.0047745550982654095, 0.024819903075695038, 0.021654164418578148, 0.010314595885574818, 0.002221854869276285, -0.021070320159196854, -0.04032423347234726, -0.0025137774646282196, 0.07561442255973816, -0.00444370973855257, 0.01541350968182087, 0.015478381887078285, -0.008952290751039982, -0.0053648874163627625, -0.0032743976917117834, -0.01935770735144615, 0.014440434984862804, 0.020914627239108086, -0.007090474013239145, -0.0021358998492360115, 0.010249724611639977, 0.03082701936364174, 0.020784884691238403, 0.0014498819364234805, 0.006010360550135374, -0.0006507439538836479, 0.020058320835232735, 0.018397606909275055, -0.018397606909275055, -0.023185135796666145, -0.0017564005684107542, 0.04053182154893875, 0.012137490324676037, 0.013175437226891518, 0.02287375181913376, 0.014959407970309258, 0.029399842023849487, -0.017087198793888092, -0.022782931104302406, 0.0023305148351937532, 0.0028267831075936556, 0.0017515352228656411, -0.014025256037712097, 0.013415462337434292, 0.010061596520245075, 0.0171650443226099, 0.03274722024798393, -0.0034349551424384117, 0.03217634931206703, 0.001138497842475772, -0.008511163294315338, 0.03103460930287838, 0.02199149690568447, -0.0033149425871670246, -0.007687293458729982, 0.01577679067850113, 0.009146906435489655, -0.005640591960400343, 0.029477689415216446, 0.0025948670227080584, -0.050080932676792145, -0.02609138749539852, -0.0249885693192482, 0.012468336150050163, -0.023639237508177757, -0.017087198793888092, 0.015958432108163834, -0.00619524484500289, 0.021732009947299957, -0.04372350871562958, 0.010561108589172363, -0.024599337950348854, -0.008576035499572754, -0.015841662883758545, -0.03228014335036278, -0.008563061244785786, -0.008147882297635078, 0.0036814676132053137, 0.0036165958736091852, -0.01646443083882332, -0.007641883101314306, 0.0009552353876642883, -0.005857912357896566, -0.014271768741309643, -0.003584160003811121, -0.03837808221578598, 0.015166996978223324, 0.020655140280723572, 0.0034868523944169283, -0.026908770203590393, -0.014985356479883194, 0.0012293182080611587, -0.015543253161013126, 0.03059348091483116, 0.019824784249067307, -0.009575058706104755, -0.016892584040760994, -0.006668807938694954, 0.02864733152091503, 0.018838733434677124, 0.020590269938111305, 0.005929271224886179, 0.012416438199579716, 0.010723288170993328, 0.013279231265187263, -0.004521555732935667, 0.0027197450399398804, -0.015556227415800095, 0.03126814588904381, -0.010262698866426945, -0.012552669271826744, 0.004602645058184862, 0.02157631888985634, -0.0022542907390743494, 0.019202016294002533, 0.02535185031592846, -0.028050512075424194, -0.011164414696395397, 0.016166022047400475, -0.038481876254081726, 0.028906818479299545, 0.0021034639794379473, -0.009970776736736298, 0.016282789409160614, -0.004213415086269379, 0.01842355541884899, 0.026804976165294647, -0.038481876254081726, -0.01854032464325428, -0.011131979525089264, -0.00619524484500289, -0.01995452679693699, -0.02332785353064537, -0.019733963534235954, -0.010055109858512878, -0.0005124862072989345, 0.0023564635775983334, -0.00853711273521185, -0.010619493201375008, 0.007174807135015726, -0.00243430957198143, 0.019202016294002533, -0.013467359356582165, -0.00652284687384963, 0.004985388368368149, -0.019850732758641243, -0.001220398349687457, -0.005679515190422535, 0.024755030870437622, -0.00624714232981205, -0.009095008485019207, 0.006759628653526306, 0.010379468090832233, -0.02218611165881157, -0.01626981608569622, -0.00017383581143803895, -0.0019072272116318345, 0.013545205816626549, 0.011229286901652813, 0.008452779613435268, -0.019370682537555695, -0.004680491518229246, -0.012325618416070938, -0.009944827295839787, -0.016659045591950417, -0.01955232210457325, 0.0034900959581136703, 0.004505337681621313, 0.020512422546744347, 0.01712612248957157, 0.007992190308868885, -0.014323665760457516, 0.011041158810257912, 0.009490725584328175, 0.012131002731621265, -0.010334057733416557, -0.012701873667538166, 0.0008709022076800466, 0.007862446829676628, 0.023353802040219307, -0.00869929138571024, -0.015154022723436356, -0.015374586917459965, 0.005342182237654924, -0.017333710566163063, -0.0014085262082517147, -0.015672996640205383, -0.015166996978223324, -0.009146906435489655, -0.029581483453512192, -0.0031965516973286867, 0.003126814728602767, -0.02677902765572071, -0.02218611165881157, -0.008167344145476818, -0.007349960505962372, 0.010729774832725525, 0.0010582192335277796, -0.022497497498989105, -0.041595716029405594, 0.029685277491807938, 0.030930813401937485, -0.0077910879626870155, -0.014933459460735321, -0.02641574665904045, -0.010003211908042431, -0.006130373105406761, 0.01476479321718216, 0.006882884539663792, -0.007544575724750757, 0.009244213812053204, -0.0096334433183074, -0.011696362867951393, 0.029607431963086128, -0.025338875129818916, -0.001266619423404336, -0.01777483895421028, -0.016178995370864868, 0.004284773953258991, -0.00028624627157114446, -0.03362947702407837, -0.029970712959766388, -0.009789135307073593, 0.01841058023273945, -0.004735632333904505, 0.006973704788833857, -0.017307762056589127, -0.02206934429705143, 0.026156259700655937, -0.03103460930287838, 0.013986333273351192, 0.008919855579733849, 0.042945049703121185, -0.004560478497296572, -0.003237096592783928, -0.03469337150454521, 0.012079105712473392, -0.008199779316782951, 0.012591592036187649, 0.02588379755616188, 0.01429771725088358, -0.018190016970038414, -0.0040869154036045074, -0.011994772590696812, -4.60436858702451e-05, -0.01286405324935913, -0.026195181533694267, 0.026104360818862915, 0.004732388537377119, 0.014829664491117, 0.026623334735631943, -0.018721966072916985, -0.010009699501097202, 0.011417414993047714, -0.03368137404322624, 0.007213730365037918, -0.025105338543653488, 0.006818012800067663, 0.016697969287633896, 0.03404465317726135, 0.0019964256789535284, 0.008718753233551979, 0.020097244530916214, -0.03030804544687271, 0.024119287729263306, -0.01829381287097931, -0.031501684337854385, 0.027531538158655167, -0.022406676784157753, 0.009484238922595978, -0.005475169513374567, 0.014064178802073002, 0.0023532200139015913, 0.01296136062592268, -0.0062795779667794704, 0.009743725880980492, 0.014090127311646938, 0.01854032464325428, -0.029140356928110123, 0.01842355541884899, 0.01200774684548378, 0.028128357604146004, 0.005608156323432922, 0.006123885978013277, -0.02430092915892601, 0.003811210859566927, -0.02178390882909298, -0.01048974972218275, 0.010074570775032043, 0.01202720869332552, 0.0019964256789535284, -0.01494643371552229, -0.026908770203590393, -0.008426830172538757, -0.014777767471969128, 0.005400566849857569, 0.005900078918784857, -0.011456337757408619, 0.0035257753916084766, -0.022782931104302406, -0.004534529987722635, 0.01703530177474022, 0.00047113053733482957, 0.006908833514899015, 0.018929554149508476, 0.032357990741729736, -0.012714847922325134, 0.002745693549513817, 0.009678853675723076, 0.048420216888189316, -0.010081058368086815, -0.01764509454369545, -0.026882821694016457, -0.009056085720658302, 0.010742749087512493, 0.020265910774469376, -0.008102471940219402, -0.004690221976488829, -0.01048974972218275, 0.016853660345077515, -0.01533566415309906, -0.009854007512331009, 0.02924415096640587, -0.008504676632583141, -0.012559155933558941, -0.004829695913940668, -0.01947447657585144, 0.031423840671777725, -0.003493339754641056, 0.02260129153728485, 0.031060557812452316, -0.009458290413022041, 0.03054158389568329, -0.0069672176614403725, 0.00150340108666569, 0.019292835146188736, -0.05189733952283859, -0.03881920874118805, 0.03926033899188042, 0.022134214639663696, 0.006500141695141792, -0.026467643678188324, -0.009516675025224686, -0.01060651894658804, -0.003610108746215701, 0.006863423157483339, 0.0050080930814146996, -0.0011214690748602152, 0.016049252822995186, 0.022614264860749245, 0.01861817017197609, 0.01164446584880352, -0.004709683358669281, -0.02052539773285389, -0.005773579236119986, -0.03233204409480095, -0.011923413723707199, -0.009010675363242626, -0.009562084451317787, 0.045020941644907, 0.0042977482080459595, -0.012202361598610878, 0.019448528066277504, -6.999045581324026e-05, -0.020473500713706017, 0.03523829206824303, -0.0009706424316391349, -0.0017045032000169158, 0.008342497050762177, 0.02418415993452072, 0.0063249883241951466, 0.021329807117581367, -0.004855644889175892, 0.01501130498945713, 0.008083011023700237, -0.016438482329249382, 0.026350874453783035, -0.009523161686956882, 0.017178019508719444, 0.02158929407596588, -0.020252937451004982, -0.004537773784250021, -0.009101496078073978, 0.02657143771648407, 0.0011871516471728683, 0.023665186017751694, -0.016451455652713776, -0.02924415096640587, 0.004550748039036989, 0.0071423714980483055, -0.015205920673906803, 0.021809857338666916, -0.0020272398833185434, -0.03679521381855011, 0.0009974020067602396, 0.001659903908148408, -0.014479357749223709, 0.006088206544518471, -0.004742119461297989, -0.002687309170141816, -0.01594545692205429, 0.005815745797008276, -0.029789073392748833, -0.008861470967531204, -0.003963659517467022, -0.010625979863107204, 0.029711226001381874, 0.0018942528404295444, 0.010963313281536102, 0.002557565690949559, 0.008861470967531204, 0.0037333648651838303, -0.025546465069055557, 0.016697969287633896, -0.04465765878558159, -0.01903335005044937, 0.01361007709056139, -0.006477436516433954, 0.02433985285460949, -0.011735285632312298, 0.025650259107351303, -0.02603949047625065, -0.012617540545761585, 0.00509242620319128, -0.021044371649622917, -0.02418415993452072, 0.0074278065003454685, 0.004346402361989021, -0.027453692629933357, -0.008660368621349335, -0.0337592177093029, -0.011670414358377457, 0.0032452053856104612, -0.020953550934791565, -0.002452149288728833, 0.0036457881797105074, -0.03295481204986572, 0.011994772590696812, -0.008757675997912884, -0.029711226001381874, -0.0028219178784638643, 0.011002236045897007, 0.0022737521212548018, 0.0014628563076257706, 0.21755364537239075, -0.02664928324520588, 0.019733963534235954, 0.009503699839115143, -0.009990237653255463, 0.0249885693192482, 0.05516687035560608, -0.002640277147293091, -0.013804691843688488, 0.011268209666013718, -0.03264342620968819, -0.007019115146249533, -0.0076548573561012745, 0.005585451144725084, -0.0007216974045149982, -0.03212445229291916, -0.02973717637360096, -0.016075201332569122, -0.0385337732732296, 0.012195874936878681, 0.00311870570294559, -0.0040706973522901535, 0.01040541660040617, 0.004930247087031603, -0.006908833514899015, 0.023107290267944336, 0.010061596520245075, 0.01760617271065712, 0.010924389585852623, -0.0028348921332508326, -0.000670205510687083, -0.025105338543653488, -0.02722015418112278, 0.008556573651731014, 0.017048275098204613, -0.000873334938660264, 0.010463801212608814, -0.0005680326139554381, 0.019383655861020088, 0.0341484509408474, 0.01638658531010151, 0.00515405461192131, -0.004242607392370701, -0.010807621292769909, -0.013804691843688488, 0.008452779613435268, -0.008426830172538757, -0.0066428594291210175, -0.014414485543966293, -0.001837490126490593, -0.027557486668229103, -0.018475452437996864, 0.02519615739583969, 0.009140418842434883, 0.021939599886536598, -0.013350590132176876, 0.02382087893784046, 0.0061660525389015675, -0.0016882852651178837, -0.01067139022052288, -0.03090486489236355, 0.023275956511497498, 0.004622106906026602, 0.014167973771691322, 0.008206266909837723, 0.027453692629933357, 0.006818012800067663, -0.00766783207654953, -0.020823806524276733, -0.00718129426240921, 0.001738560851663351, 0.003678223816677928, -0.01911119557917118, 0.0030943788588047028, 0.0012820264091715217, -0.024352826178073883, 0.007252653129398823, 0.03103460930287838, 0.005997386295348406, 0.016178995370864868, -0.009542623534798622, 0.0067401668056845665, 0.007901369594037533, -0.006772602908313274, 0.005053503438830376, -0.017956478521227837, 0.0038598645478487015, 0.02145954966545105, -0.012598078697919846, -0.023781955242156982, 0.014271768741309643, -0.0026337900198996067, -0.014232845045626163, 0.026908770203590393, 0.015750842168927193, -0.014635049737989902, 0.022367753088474274, 0.009724264033138752, -0.011248748749494553, -0.0007585931452922523, -0.0020304834470152855, 0.06897156685590744, 0.01458315271884203, -0.010282160714268684, -0.03534208983182907, -0.027609383687376976, -0.003723634174093604, -0.0009746968862600625, 0.019656118005514145, -0.031579531729221344, 0.007823524065315723, -0.036483827978372574, 0.0013363565085455775, -0.015063202939927578, -0.009808597154915333, -0.007226704619824886, -0.008673342876136303, -0.024612313136458397, 0.0209794994443655, 0.014206896536052227, -0.006435269955545664, -0.02901061251759529, 0.0105870570987463, -0.030515635386109352, 0.007927319034934044, -0.024352826178073883, -0.048056937754154205, 0.010418390855193138, -0.018721966072916985, -0.015543253161013126, 0.0009009053464978933, 0.01454422902315855, -0.016088174656033516, 0.010165391489863396, -0.004709683358669281, 0.02304241806268692, 0.004589670803397894, -0.014038230292499065, -0.004690221976488829, -0.0320466086268425, -0.014790741726756096, -0.0236522126942873, 0.021368728950619698, -0.0008782002842053771, 0.004265312571078539, -0.0014563690638169646, 0.007388883735984564, 0.011248748749494553, 0.017515351995825768, -0.003141410881653428, -0.03010045737028122, -0.0031787119805812836, 0.00689585879445076, -0.01943555288016796, 0.015608124434947968, -0.0036847111769020557, -0.009879956021904945, -0.0005011336761526763, -0.004511824809014797, 0.048861343413591385, -0.0282321535050869, 0.0014036608627066016, 0.009672367013990879, -0.03736608475446701, -0.03988310694694519, -0.02729799970984459, -0.16337282955646515, 0.01825488917529583, 0.006198488641530275, -0.01699637807905674, -0.001960746245458722, 0.010334057733416557, 0.007090474013239145, -0.009218265302479267, -0.019098220393061638, 0.013830641284584999, 0.02166713960468769, -0.008044087328016758, -0.034745268523693085, -0.01695745624601841, -0.03163142874836922, -0.006565013434737921, -0.018683042377233505, 0.02474205568432808, -0.015024280175566673, 0.009360983036458492, 0.028024563565850258, -0.03349973261356354, -0.0029776098672300577, -0.003005180275067687, 0.01182610634714365, -0.004602645058184862, -0.01569894514977932, -0.01987668126821518, 0.01804729923605919, -0.030567532405257225, -0.010567596182227135, 0.00764837022870779, 0.03552372753620148, 0.007817036472260952, -0.009730750694870949, -0.007161832880228758, 0.008044087328016758, -0.001506644650362432, -0.008997701108455658, 0.040869154036045074, -0.014829664491117, 0.012753770686686039, -0.012513745576143265, 0.009276648983359337, -0.00849818903952837, 0.0364319309592247, 0.0035517241340130568, -0.005351913161575794, 0.0022867266088724136, -0.013214359991252422, 0.03484906256198883, -0.014751818962395191, 0.032591529190540314, -0.009750212542712688, 0.029970712959766388, 0.002781372983008623, 0.02763533405959606, -0.0033765705302357674, -0.0009349629981443286, 0.02170606143772602, -0.017463454976677895, -0.02474205568432808, 0.014310691505670547, -0.01042487844824791, 0.013130026869475842, -0.005481656640768051, -0.004615619778633118, 0.008939316496253014, -0.01192990131676197, 0.006214706227183342, 0.011865029111504555, 0.024534467607736588, 0.020784884691238403, -0.0046253502368927, 0.017009353265166283, 0.0014596126275137067, -0.00038537828368134797, -0.00195750268176198, 0.017593197524547577, 0.021757960319519043, -0.023029444739222527, 0.04930247366428375, -0.024768006056547165, 0.010249724611639977, -0.004618863109499216, 0.007966241799294949, -0.013636025600135326, 0.00851765088737011, -0.010113494470715523, -0.004615619778633118, 0.00604603998363018, -0.023756006732583046, -0.005261092912405729, -0.021732009947299957, 0.013558180071413517, -0.0016639584209769964, 0.004615619778633118, 0.026195181533694267, 0.01804729923605919, -0.006516359746456146, 0.0033133206889033318, -0.008329522795975208, 0.001116603729315102, 0.005926027428358793, 0.008725239895284176, -0.009562084451317787, 0.021200062707066536, 0.001952637336216867, 0.009127444587647915, -0.0039960951544344425, -0.013493307866156101, 0.005955219734460115, -0.006581231486052275, 0.02016211673617363, -0.014012281782925129, -0.004690221976488829, 0.011008722707629204, 0.0038760825991630554, 0.011391465552151203, 0.013480333611369133, 0.031657375395298004, -0.0011733664432540536, -0.0018066761549562216, -0.003470634575933218, -0.02134278044104576, 0.005724925082176924, -0.06108316779136658, -0.01975991204380989, 0.03671736642718315, 0.02361328899860382, 0.015374586917459965, 0.010437852703034878, 0.002096976852044463, 0.007349960505962372, 0.004537773784250021, 0.023133238777518272, -0.025870824232697487, -0.004674003925174475, 0.00576060451567173, 0.03311050310730934, 0.019824784249067307, 0.011002236045897007, 0.003902031108736992, 0.011650952510535717, -0.0009617225732654333, 0.003937710542231798, -0.005799527745693922, -0.013104078359901905, -0.010528672486543655, -0.014686946757137775, -0.004651299212127924, -0.009309085085988045, -0.020343756303191185, 0.027687231078743935, 0.015763817355036736, 0.011067107319831848, 0.015543253161013126, -0.027531538158655167, 0.013661975041031837, -0.010904928669333458, -0.0009649661369621754, 0.0007075066678225994, -0.02786887064576149, 0.0007006140658631921, 0.016088174656033516, -0.02279590629041195, 0.0008425208507105708, 0.0003776747907977551, 0.0027554244734346867, -0.013201385736465454, 0.0029516611248254776, -0.008160856552422047, -0.0010152417235076427, -0.004365863744169474, 0.018073247745633125, -0.019695039838552475, -0.005572476889938116, -0.00486861914396286, -0.00349982688203454, 0.01038595475256443, 0.0017709967214614153, -0.011962336488068104, 0.0008538734400644898, 0.007784600835293531, -0.03191686421632767, 0.0007614312926307321, 0.01011998113244772, 0.00947126466780901, -0.019539348781108856, -0.026182208210229874, 0.02701256424188614, 0.018527349457144737, -0.013311667367815971, -0.03440793603658676, 0.015621098689734936, -0.010003211908042431, 0.01144336350262165, -0.020291859284043312, -0.024651236832141876, 0.017554275691509247, -0.02044755220413208, 0.008374933153390884, -0.00934800785034895, -0.03313644975423813, 0.025948669761419296, -0.009335033595561981, -0.017009353265166283, -0.014881562441587448, 0.009594520553946495, -0.003241961821913719, 0.006383372936397791, 0.003927980083972216, -0.0002978015400003642, -0.0006556093576364219, 0.019007399678230286, -0.02275698259472847, 0.00252999528311193, 0.023924672976136208, 0.052104927599430084, -0.013117052614688873, -0.010107006877660751, 0.04465765878558159, 0.0023597071412950754, -0.011281183920800686, 0.004849157761782408, 0.03497880697250366, -0.02312026545405388, -0.0060525271110236645, -0.07867636531591415, 0.050444215536117554, 0.011612029746174812, -0.024236056953668594, -0.006889371667057276, 0.002909494563937187, 0.020901653915643692, -0.02393764816224575, 0.00604603998363018, 0.0045864274725317955, -0.0018926310585811734, 0.01813811995089054, -0.015141048468649387, 0.0029403085354715586, -0.013636025600135326, -0.025857849046587944, 0.028128357604146004, -0.012585104443132877, -0.001732073724269867, 0.008997701108455658, -0.0032938593067228794, -0.016646072268486023, 0.010658415965735912, 0.023068366572260857, -0.015685969963669777, -0.0007030467968434095, -0.01569894514977932, 0.023379750549793243, -0.011878003366291523, -0.02023996226489544, 0.03183901682496071, -0.022588316351175308, 0.00045126359327696264, 0.0052513619884848595, -0.012747284024953842, -0.029789073392748833, 0.009153393097221851, 0.0004934301832690835, 0.015841662883758545, 0.02685687318444252, -0.0217449851334095, -0.004732388537377119, -0.0008927964372560382, -0.0018910092767328024, -0.009691827930510044, 0.012468336150050163, -0.001098764012567699, 0.015763817355036736, 0.030697276815772057, -0.006707731168717146, 0.012766745872795582, 0.01060651894658804, -0.021680112928152084, -0.024716107174754143, 0.010749236680567265, 0.007187781389802694, 0.016217919066548347, 0.02693471871316433, 0.0358610600233078, 0.031190300360322, 0.044112738221883774, -0.02199149690568447, 0.007842984981834888, -0.031164351850748062, 0.015102125704288483, -0.011242261156439781, -0.018345709890127182, -0.011813132092356682, -0.02750558964908123, 0.0005201897583901882, -0.015154022723436356, 0.018397606909275055, 0.0029857188928872347, 0.01903335005044937, -0.008790112100541592, 0.026117336004972458, 0.024430671706795692, -0.0121115418151021, -0.02235477976500988, 0.001965611707419157, 0.0033765705302357674, -0.00599414249882102, -0.03199470788240433, 0.005556258838623762, 0.02061621844768524, 0.0012771610636264086, -0.05156000703573227, 0.013765769079327583, -0.007168320007622242, 0.0020207527559250593, 0.012079105712473392, 0.0072007556445896626, 0.005199464503675699, -0.012565643526613712, 0.010243237018585205, -0.0002088057080982253, 0.00071480474434793, 0.009828059002757072, 0.010522185824811459, 0.025144260376691818, 0.012020721100270748, 0.006509872619062662, -0.005789796821773052, -0.04219253733754158, -0.03168332576751709, 0.0008863092516548932, -0.025338875129818916, 0.008835522457957268, -0.009860494174063206, 0.011709337122738361, 0.01764509454369545, 0.05599723011255264, -0.038689468055963516, 0.009211777709424496, 0.012915950268507004, 0.0034349551424384117, 0.007817036472260952, -0.016983404755592346, -0.022134214639663696, 0.03220229968428612, 0.011650952510535717, 0.031086506322026253, 0.008543599396944046, -0.014142025262117386, 0.007661344949156046, -0.001054164720699191, -0.00017555896192789078, -0.0242230836302042, -0.008225727826356888, 0.006824499927461147, 0.0064904107712209225, -0.020551346242427826, -0.03630219027400017, -0.02563728578388691, 0.01959124580025673, -0.014894536696374416, 0.001391497440636158, 0.004771311767399311, 0.005533553659915924, 0.03830023482441902, 0.034667421132326126, -0.01276025827974081, 0.01247482281178236, 0.0008291410631500185, 0.007032089401036501, -0.005021067801862955, -0.004388568922877312, -0.020473500713706017, -0.03946792706847191, -0.024716107174754143, -0.020019399002194405, -0.01350628212094307, -0.033162400126457214, -0.04102484509348869, 0.007032089401036501, 0.020914627239108086, 0.02458636462688446, -0.0484461672604084, -0.0008084632572717965, 0.011501748114824295, 0.0192668866366148, 0.013136514462530613, 0.007479703985154629, 0.005926027428358793, 0.012708361260592937, 0.007058038376271725, -0.02332785353064537, -0.01541350968182087, -0.029789073392748833, -0.00036247048410587013, 0.008290600031614304, -0.006373642012476921, -0.026597386226058006, -0.003791749244555831, -0.03352568298578262, 0.015971405431628227, -0.01436258852481842, -0.011650952510535717, -0.006720705423504114, -0.016204943880438805, 0.006928294897079468, -0.024768006056547165, -0.03944197669625282, 0.006432026624679565, -0.0002667847729753703, -0.012429412454366684, 0.006603936664760113, -0.01476479321718216]'"
            ],
            "application/vnd.google.colaboratory.intrinsic+json": {
              "type": "string"
            }
          },
          "metadata": {},
          "execution_count": 24
        }
      ]
    },
    {
      "cell_type": "markdown",
      "source": [
        "Embeddings are being stored as strings! Let's convert them to actual Python lists of numbers so that we can do some math operations on them."
      ],
      "metadata": {
        "id": "JTzyiPyoBqMe"
      },
      "id": "JTzyiPyoBqMe"
    },
    {
      "cell_type": "code",
      "source": [
        "import ast  # for converting embeddings saved as strings to arrays\n",
        "df['embedding'] = df['embedding'].apply(ast.literal_eval)"
      ],
      "metadata": {
        "id": "sNJ51iPiBC27"
      },
      "id": "sNJ51iPiBC27",
      "execution_count": null,
      "outputs": []
    },
    {
      "cell_type": "markdown",
      "source": [
        "Let's print out 5 randomly chosen rows."
      ],
      "metadata": {
        "id": "pPEIe3Q8Pbud"
      },
      "id": "pPEIe3Q8Pbud"
    },
    {
      "cell_type": "code",
      "source": [
        "df.sample(5)"
      ],
      "metadata": {
        "colab": {
          "base_uri": "https://localhost:8080/",
          "height": 206
        },
        "id": "fRzEH9OnRP0I",
        "outputId": "0d366505-e1fa-4ec4-b5ac-960aa5950070"
      },
      "id": "fRzEH9OnRP0I",
      "execution_count": null,
      "outputs": [
        {
          "output_type": "execute_result",
          "data": {
            "text/plain": [
              "                                                   text  \\\n",
              "2280  Jamie Lee Rattray\\n\\n==Career stats==\\n\\n===CW...   \n",
              "2781  Montenegro at the 2022 Winter Olympics\\n\\n==Cr...   \n",
              "2529  Curling at the 2022 Winter Olympics\\n\\n==Resul...   \n",
              "5944  Latvia at the 2022 Winter Olympics\\n\\n==Luge==...   \n",
              "3053  Ice hockey at the 2022 Winter Olympics – Men's...   \n",
              "\n",
              "                                              embedding  \n",
              "2280  [-0.03914495185017586, -0.008968537673354149, ...  \n",
              "2781  [0.00504470756277442, -0.00036894812365062535,...  \n",
              "2529  [-0.02013818360865116, -0.0084348414093256, -0...  \n",
              "5944  [-0.007558159064501524, 0.0046723769046366215,...  \n",
              "3053  [-0.0061609819531440735, -0.022345054894685745...  "
            ],
            "text/html": [
              "\n",
              "  <div id=\"df-6a85c9a7-89d9-46e3-93ce-42a232a1e15e\" class=\"colab-df-container\">\n",
              "    <div>\n",
              "<style scoped>\n",
              "    .dataframe tbody tr th:only-of-type {\n",
              "        vertical-align: middle;\n",
              "    }\n",
              "\n",
              "    .dataframe tbody tr th {\n",
              "        vertical-align: top;\n",
              "    }\n",
              "\n",
              "    .dataframe thead th {\n",
              "        text-align: right;\n",
              "    }\n",
              "</style>\n",
              "<table border=\"1\" class=\"dataframe\">\n",
              "  <thead>\n",
              "    <tr style=\"text-align: right;\">\n",
              "      <th></th>\n",
              "      <th>text</th>\n",
              "      <th>embedding</th>\n",
              "    </tr>\n",
              "  </thead>\n",
              "  <tbody>\n",
              "    <tr>\n",
              "      <th>2280</th>\n",
              "      <td>Jamie Lee Rattray\\n\\n==Career stats==\\n\\n===CW...</td>\n",
              "      <td>[-0.03914495185017586, -0.008968537673354149, ...</td>\n",
              "    </tr>\n",
              "    <tr>\n",
              "      <th>2781</th>\n",
              "      <td>Montenegro at the 2022 Winter Olympics\\n\\n==Cr...</td>\n",
              "      <td>[0.00504470756277442, -0.00036894812365062535,...</td>\n",
              "    </tr>\n",
              "    <tr>\n",
              "      <th>2529</th>\n",
              "      <td>Curling at the 2022 Winter Olympics\\n\\n==Resul...</td>\n",
              "      <td>[-0.02013818360865116, -0.0084348414093256, -0...</td>\n",
              "    </tr>\n",
              "    <tr>\n",
              "      <th>5944</th>\n",
              "      <td>Latvia at the 2022 Winter Olympics\\n\\n==Luge==...</td>\n",
              "      <td>[-0.007558159064501524, 0.0046723769046366215,...</td>\n",
              "    </tr>\n",
              "    <tr>\n",
              "      <th>3053</th>\n",
              "      <td>Ice hockey at the 2022 Winter Olympics – Men's...</td>\n",
              "      <td>[-0.0061609819531440735, -0.022345054894685745...</td>\n",
              "    </tr>\n",
              "  </tbody>\n",
              "</table>\n",
              "</div>\n",
              "    <div class=\"colab-df-buttons\">\n",
              "\n",
              "  <div class=\"colab-df-container\">\n",
              "    <button class=\"colab-df-convert\" onclick=\"convertToInteractive('df-6a85c9a7-89d9-46e3-93ce-42a232a1e15e')\"\n",
              "            title=\"Convert this dataframe to an interactive table.\"\n",
              "            style=\"display:none;\">\n",
              "\n",
              "  <svg xmlns=\"http://www.w3.org/2000/svg\" height=\"24px\" viewBox=\"0 -960 960 960\">\n",
              "    <path d=\"M120-120v-720h720v720H120Zm60-500h600v-160H180v160Zm220 220h160v-160H400v160Zm0 220h160v-160H400v160ZM180-400h160v-160H180v160Zm440 0h160v-160H620v160ZM180-180h160v-160H180v160Zm440 0h160v-160H620v160Z\"/>\n",
              "  </svg>\n",
              "    </button>\n",
              "\n",
              "  <style>\n",
              "    .colab-df-container {\n",
              "      display:flex;\n",
              "      gap: 12px;\n",
              "    }\n",
              "\n",
              "    .colab-df-convert {\n",
              "      background-color: #E8F0FE;\n",
              "      border: none;\n",
              "      border-radius: 50%;\n",
              "      cursor: pointer;\n",
              "      display: none;\n",
              "      fill: #1967D2;\n",
              "      height: 32px;\n",
              "      padding: 0 0 0 0;\n",
              "      width: 32px;\n",
              "    }\n",
              "\n",
              "    .colab-df-convert:hover {\n",
              "      background-color: #E2EBFA;\n",
              "      box-shadow: 0px 1px 2px rgba(60, 64, 67, 0.3), 0px 1px 3px 1px rgba(60, 64, 67, 0.15);\n",
              "      fill: #174EA6;\n",
              "    }\n",
              "\n",
              "    .colab-df-buttons div {\n",
              "      margin-bottom: 4px;\n",
              "    }\n",
              "\n",
              "    [theme=dark] .colab-df-convert {\n",
              "      background-color: #3B4455;\n",
              "      fill: #D2E3FC;\n",
              "    }\n",
              "\n",
              "    [theme=dark] .colab-df-convert:hover {\n",
              "      background-color: #434B5C;\n",
              "      box-shadow: 0px 1px 3px 1px rgba(0, 0, 0, 0.15);\n",
              "      filter: drop-shadow(0px 1px 2px rgba(0, 0, 0, 0.3));\n",
              "      fill: #FFFFFF;\n",
              "    }\n",
              "  </style>\n",
              "\n",
              "    <script>\n",
              "      const buttonEl =\n",
              "        document.querySelector('#df-6a85c9a7-89d9-46e3-93ce-42a232a1e15e button.colab-df-convert');\n",
              "      buttonEl.style.display =\n",
              "        google.colab.kernel.accessAllowed ? 'block' : 'none';\n",
              "\n",
              "      async function convertToInteractive(key) {\n",
              "        const element = document.querySelector('#df-6a85c9a7-89d9-46e3-93ce-42a232a1e15e');\n",
              "        const dataTable =\n",
              "          await google.colab.kernel.invokeFunction('convertToInteractive',\n",
              "                                                    [key], {});\n",
              "        if (!dataTable) return;\n",
              "\n",
              "        const docLinkHtml = 'Like what you see? Visit the ' +\n",
              "          '<a target=\"_blank\" href=https://colab.research.google.com/notebooks/data_table.ipynb>data table notebook</a>'\n",
              "          + ' to learn more about interactive tables.';\n",
              "        element.innerHTML = '';\n",
              "        dataTable['output_type'] = 'display_data';\n",
              "        await google.colab.output.renderOutput(dataTable, element);\n",
              "        const docLink = document.createElement('div');\n",
              "        docLink.innerHTML = docLinkHtml;\n",
              "        element.appendChild(docLink);\n",
              "      }\n",
              "    </script>\n",
              "  </div>\n",
              "\n",
              "\n",
              "<div id=\"df-86cc020a-7b5c-4f13-9125-9f0ba1653073\">\n",
              "  <button class=\"colab-df-quickchart\" onclick=\"quickchart('df-86cc020a-7b5c-4f13-9125-9f0ba1653073')\"\n",
              "            title=\"Suggest charts\"\n",
              "            style=\"display:none;\">\n",
              "\n",
              "<svg xmlns=\"http://www.w3.org/2000/svg\" height=\"24px\"viewBox=\"0 0 24 24\"\n",
              "     width=\"24px\">\n",
              "    <g>\n",
              "        <path d=\"M19 3H5c-1.1 0-2 .9-2 2v14c0 1.1.9 2 2 2h14c1.1 0 2-.9 2-2V5c0-1.1-.9-2-2-2zM9 17H7v-7h2v7zm4 0h-2V7h2v10zm4 0h-2v-4h2v4z\"/>\n",
              "    </g>\n",
              "</svg>\n",
              "  </button>\n",
              "\n",
              "<style>\n",
              "  .colab-df-quickchart {\n",
              "      --bg-color: #E8F0FE;\n",
              "      --fill-color: #1967D2;\n",
              "      --hover-bg-color: #E2EBFA;\n",
              "      --hover-fill-color: #174EA6;\n",
              "      --disabled-fill-color: #AAA;\n",
              "      --disabled-bg-color: #DDD;\n",
              "  }\n",
              "\n",
              "  [theme=dark] .colab-df-quickchart {\n",
              "      --bg-color: #3B4455;\n",
              "      --fill-color: #D2E3FC;\n",
              "      --hover-bg-color: #434B5C;\n",
              "      --hover-fill-color: #FFFFFF;\n",
              "      --disabled-bg-color: #3B4455;\n",
              "      --disabled-fill-color: #666;\n",
              "  }\n",
              "\n",
              "  .colab-df-quickchart {\n",
              "    background-color: var(--bg-color);\n",
              "    border: none;\n",
              "    border-radius: 50%;\n",
              "    cursor: pointer;\n",
              "    display: none;\n",
              "    fill: var(--fill-color);\n",
              "    height: 32px;\n",
              "    padding: 0;\n",
              "    width: 32px;\n",
              "  }\n",
              "\n",
              "  .colab-df-quickchart:hover {\n",
              "    background-color: var(--hover-bg-color);\n",
              "    box-shadow: 0 1px 2px rgba(60, 64, 67, 0.3), 0 1px 3px 1px rgba(60, 64, 67, 0.15);\n",
              "    fill: var(--button-hover-fill-color);\n",
              "  }\n",
              "\n",
              "  .colab-df-quickchart-complete:disabled,\n",
              "  .colab-df-quickchart-complete:disabled:hover {\n",
              "    background-color: var(--disabled-bg-color);\n",
              "    fill: var(--disabled-fill-color);\n",
              "    box-shadow: none;\n",
              "  }\n",
              "\n",
              "  .colab-df-spinner {\n",
              "    border: 2px solid var(--fill-color);\n",
              "    border-color: transparent;\n",
              "    border-bottom-color: var(--fill-color);\n",
              "    animation:\n",
              "      spin 1s steps(1) infinite;\n",
              "  }\n",
              "\n",
              "  @keyframes spin {\n",
              "    0% {\n",
              "      border-color: transparent;\n",
              "      border-bottom-color: var(--fill-color);\n",
              "      border-left-color: var(--fill-color);\n",
              "    }\n",
              "    20% {\n",
              "      border-color: transparent;\n",
              "      border-left-color: var(--fill-color);\n",
              "      border-top-color: var(--fill-color);\n",
              "    }\n",
              "    30% {\n",
              "      border-color: transparent;\n",
              "      border-left-color: var(--fill-color);\n",
              "      border-top-color: var(--fill-color);\n",
              "      border-right-color: var(--fill-color);\n",
              "    }\n",
              "    40% {\n",
              "      border-color: transparent;\n",
              "      border-right-color: var(--fill-color);\n",
              "      border-top-color: var(--fill-color);\n",
              "    }\n",
              "    60% {\n",
              "      border-color: transparent;\n",
              "      border-right-color: var(--fill-color);\n",
              "    }\n",
              "    80% {\n",
              "      border-color: transparent;\n",
              "      border-right-color: var(--fill-color);\n",
              "      border-bottom-color: var(--fill-color);\n",
              "    }\n",
              "    90% {\n",
              "      border-color: transparent;\n",
              "      border-bottom-color: var(--fill-color);\n",
              "    }\n",
              "  }\n",
              "</style>\n",
              "\n",
              "  <script>\n",
              "    async function quickchart(key) {\n",
              "      const quickchartButtonEl =\n",
              "        document.querySelector('#' + key + ' button');\n",
              "      quickchartButtonEl.disabled = true;  // To prevent multiple clicks.\n",
              "      quickchartButtonEl.classList.add('colab-df-spinner');\n",
              "      try {\n",
              "        const charts = await google.colab.kernel.invokeFunction(\n",
              "            'suggestCharts', [key], {});\n",
              "      } catch (error) {\n",
              "        console.error('Error during call to suggestCharts:', error);\n",
              "      }\n",
              "      quickchartButtonEl.classList.remove('colab-df-spinner');\n",
              "      quickchartButtonEl.classList.add('colab-df-quickchart-complete');\n",
              "    }\n",
              "    (() => {\n",
              "      let quickchartButtonEl =\n",
              "        document.querySelector('#df-86cc020a-7b5c-4f13-9125-9f0ba1653073 button');\n",
              "      quickchartButtonEl.style.display =\n",
              "        google.colab.kernel.accessAllowed ? 'block' : 'none';\n",
              "    })();\n",
              "  </script>\n",
              "</div>\n",
              "\n",
              "    </div>\n",
              "  </div>\n"
            ],
            "application/vnd.google.colaboratory.intrinsic+json": {
              "type": "dataframe",
              "summary": "{\n  \"name\": \"df\",\n  \"rows\": 5,\n  \"fields\": [\n    {\n      \"column\": \"text\",\n      \"properties\": {\n        \"dtype\": \"string\",\n        \"num_unique_values\": 5,\n        \"samples\": [\n          \"Montenegro at the 2022 Winter Olympics\\n\\n==Cross-country skiing==\\n\\n{{main article|Cross-country skiing at the 2022 Winter Olympics|Cross-country skiing at the 2022 Winter Olympics \\u2013 Qualification}}\\nBy meeting the basic qualification standards, Montenegro qualified one male cross-country skier.\\n\\n;Distance\\n{|class=\\\"wikitable\\\" style=\\\"font-size:90%\\\"\\n|-\\n!Athlete\\n!Event\\n!Time\\n!Deficit\\n!Rank\\n|-align=center\\n|align=left|[[Aleksandar Grbovic]]\\n|align=left|[[Cross-country skiing at the 2022 Winter Olympics \\u2013 Men's 15 kilometre classical|Men's 15 km classical]]\\n|52:44.9\\n| +14:50.1\\n|93\\n|}\\n\\n;Sprint \\n{|class=\\\"wikitable\\\" style=\\\"font-size:90%\\\" \\n|-\\n!rowspan=\\\"2\\\"|Athlete\\n!rowspan=\\\"2\\\"|Event\\n!colspan=\\\"2\\\"|Qualification\\n!colspan=\\\"2\\\"|Quarterfinal\\n!colspan=\\\"2\\\"|Semifinal\\n!colspan=\\\"2\\\"|Final\\n|-style=\\\"font-size:95%\\\" \\n!Time\\n!Rank\\n!Time\\n!Rank\\n!Time\\n!Rank \\n!Time\\n!Rank\\n|-align=center\\n|align=left|[[Aleksandar Grbovic]]\\n|align=left|[[Cross-country skiing at the 2022 Winter Olympics \\u2013 Men's sprint|Men's sprint]]\\n|3:24.12\\n|84\\n|colspan=6|did not advance\\n|}\",\n          \"Ice hockey at the 2022 Winter Olympics \\u2013 Men's qualification\\n\\n==Pre-qualification Round 3==\\n\\n===Group G===\\n\\n| goals1      = [[Povilas Verenis|Verenis]] ([[Arnoldas Bosas|Bosas]]) (PP) \\u2013 39:53 / [[Emilijus Krakauskas|Krakauskas]] ([[Lukas \\u017dukauskas|\\u017dukauskas]], [[Patrik Misiuk|Misiuk]]) \\u2013 59:59\\n| goals2      = 02:32 \\u2013 [[Gregor Koblar|Koblar]] ([[Klemen Pretnar|Pretnar]]) / 04:01 \\u2013 [[Miha Zajc|Zajc]] ([[Ken Ograjen\\u0161ek|Ograjen\\u0161ek]], [[Kristjan \\u010cepon|\\u010cepon]]) / 10:53 \\u2013 Koblar ([[Tadej \\u010cim\\u017ear|\\u010cim\\u017ear]], Pretnar) / 12:46 \\u2013 [[Jan Urbas|Urbas]] ([[An\\u017ee Kuralt|Kuralt]]) (PP) / 21:05 \\u2013 Ograjen\\u0161ek (Urbas, [[Bla\\u017e Gregorc|Gregorc]]) (PP) / 29:31 \\u2013 [[\\u017diga Jegli\\u010d|Jegli\\u010d]] (\\u010cim\\u017ear, [[Jurij Repe|Repe]]) / 36:14 \\u2013 [[Miha Verli\\u010d|Verli\\u010d]] (Kuralt) / 43:31 \\u2013 Gregorc ([[Luka Kalan|Kalan]]) / 46:02 \\u2013 [[Robert Saboli\\u010d|Saboli\\u010d]] (Jegli\\u010d, [[Rok Ti\\u010dar|Ti\\u010dar]]) / 47:52 \\u2013 Verli\\u010d (Urbas, \\u010cepon) / 52:19 \\u2013 Jegli\\u010d (Ti\\u010dar, Saboli\\u010d) / 53:47 \\u2013 Koblar (Kalan, [[\\u017diga Pavlin|Pavlin]])\\n| official    = {{flagicon|SUI}} Joris M\\u00fcller\\n| official2   = {{flagicon|CRO}} Trpimir Piragi\\u0107\\n| linesman    = {{flagicon|NOR}} H\\u00e5var Dahl\\n| linesman2   = {{flagicon|KAZ}} Mihail Stupak\\n| stadium     = [[Podme\\u017eakla Hall]], [[Jesenice]]\\n| attendance  = 500\\n| shots1      = 9\\n| shots2      = 61\\n| penalties1  = 10\\n| penalties2  = 8\\n}}\\n----\\n{{Ice hockey box\\n| bg          = \\n| date        = 7 February 2020\\n| time        = 15:30\\n| team1       = '''{{ih-rt|JPN}}'''\\n| team2       = {{ih|LTU}}\\n| score       = 4\\u20130\\n| periods     = (4\\u20130, 0\\u20130, 0\\u20130)\\n| reference   = http://reports.iihf.hockey/Hydra/897/IHM897903_74_4_0.pdf\\n| goalie1     = [[Yuta Narisawa]]\\n| goalie2     = [[Laurynas Lubys]]\\n| progression = 1\\u20130 / 2\\u20130 / 3\\u20130 / 4\\u20130\\n| goals1      = [[Hiromichi Terao|Terao]] ([[Seiji Takahashi|Takahashi]], [[Shinya Yanadori|Yanadori]]) \\u2013 02:04 / [[Tomoya Echigo|Echigo]] (Hirano, [[Ryo Hashimoto|Hashimoto]]) (PP2) \\u2013 05:37 / [[Hiroto Sato|Sato]] ([[Makuru Furuhashi|Furuhashi]], [[Kenta Takagi|Takagi]]) (PP) \\u2013 14:04 / Takahashi (Terao) \\u2013 17:16\",\n          \"Curling at the 2022 Winter Olympics\\n\\n==Results summary==\\n\\n===Mixed doubles tournament===\\n\\n====Playoffs====\\n\\n=====Gold medal game=====\\n\\n''Tuesday, 8 February, 20:05''\\n{{#lst:Curling at the 2022 Winter Olympics \\u2013 Mixed doubles tournament|GM}}\\n{| class=\\\"wikitable\\\"\\n!colspan=4 width=400|Player percentages\\n|-\\n!colspan=2 width=200 style=\\\"white-space:nowrap;\\\"| {{flagIOC|ITA|2022 Winter}}\\n!colspan=2 width=200 style=\\\"white-space:nowrap;\\\"| {{flagIOC|NOR|2022 Winter}}\\n|-\\n| [[Stefania Constantini]] || 83%\\n| [[Kristin Skaslien]] || 70%\\n|-\\n| [[Amos Mosaner]] || 90%\\n| [[Magnus Nedregotten]] || 69%\\n|-\\n| '''Total''' || 87%\\n| '''Total''' || 69%\\n|}\"\n        ],\n        \"semantic_type\": \"\",\n        \"description\": \"\"\n      }\n    },\n    {\n      \"column\": \"embedding\",\n      \"properties\": {\n        \"dtype\": \"object\",\n        \"semantic_type\": \"\",\n        \"description\": \"\"\n      }\n    }\n  ]\n}"
            }
          },
          "metadata": {},
          "execution_count": 26
        }
      ]
    },
    {
      "cell_type": "markdown",
      "source": [
        "The text chunks can be quite long. Let's look at a few."
      ],
      "metadata": {
        "id": "NBrnuT_ORl3-"
      },
      "id": "NBrnuT_ORl3-"
    },
    {
      "cell_type": "code",
      "source": [
        "for e in df.text.sample(5):\n",
        "  display(Markdown(e))\n",
        "  print(\"\\n---\\n\")"
      ],
      "metadata": {
        "colab": {
          "base_uri": "https://localhost:8080/",
          "height": 1000
        },
        "id": "KMGvMVoFQWy-",
        "outputId": "913aaa86-11f0-4eb9-851c-b250079eec5d"
      },
      "id": "KMGvMVoFQWy-",
      "execution_count": null,
      "outputs": [
        {
          "output_type": "display_data",
          "data": {
            "text/plain": [
              "<IPython.core.display.Markdown object>"
            ],
            "text/markdown": "Miloš Roman\n\n==Career statistics==\n\n===Regular season and playoffs===\n\n{| border=\"0\" cellpadding=\"1\" cellspacing=\"0\" style=\"text-align:center; width:60em\"\n|- bgcolor=\"#e0e0e0\" \n! colspan=\"3\" bgcolor=\"#ffffff\" | \n! rowspan=\"99\" bgcolor=\"#ffffff\" | \n! colspan=\"5\" | [[Regular season]] \n! rowspan=\"99\" bgcolor=\"#ffffff\" | \n! colspan=\"5\" | [[Playoffs]] \n|- bgcolor=\"#e0e0e0\" \n! [[Season (sports)|Season]] \n! Team \n! League \n! GP \n! [[Goal (ice hockey)|G]] \n! [[Assist (ice hockey)|A]] \n! [[Point (ice hockey)|Pts]] \n! [[Penalty (ice hockey)|PIM]] \n! GP\n! G \n! A \n! Pts \n! PIM \n|-\n| 2013–14\n| [[HC Oceláři Třinec]]\n| CZE U18\n| 19\n| 10\n| 6\n| 16\n| 6\n| 2\n| 0\n| 1\n| 1\n| 0\n|- bgcolor=\"#f0f0f0\"\n| 2014–15\n| HC Oceláři Třinec\n| CZE U18\n| 36\n| 23\n| 19\n| 42\n| 18\n| 10\n| 1\n| 4\n| 5\n| 0\n|-\n| 2015–16\n| HC Oceláři Třinec\n| CZE U18\n| 1\n| 0\n| 0\n| 0\n| 0\n| 1\n| 0\n| 2\n| 2\n| 0\n|- bgcolor=\"#f0f0f0\"\n| 2015–16\n| HC Oceláři Třinec\n| CZE U20\n| 35\n| 16\n| 21\n| 37\n| 18\n| 9\n| 5\n| 5\n| 10\n| 4\n|-  \n| 2016–17\n| HC Oceláři Třinec\n| CZE U20\n| 2\n| 1\n| 2\n| 3\n| 2\n| 10\n| 6\n| 6\n| 12\n| 4\n|- bgcolor=\"#f0f0f0\"\n| [[2016–17 Czech Extraliga season|2016–17]]\n| HC Oceláři Třinec\n| [[Czech Extraliga|ELH]]\n| 1\n| 0\n| 0\n| 0\n| 0\n| —\n| —\n| —\n| —\n| —\n|-  \n| [[2016–17 Czech 1. Liga season|2016–17]]\n| [[HC Frýdek–Místek]]\n| [[1st Czech Republic Hockey League|Czech.1]]\n| 29\n| 4\n| 2\n| 6\n| 24\n| 10\n| 1\n| 1\n| 2\n| 2\n|- bgcolor=\"#f0f0f0\"\n| [[2017–18 WHL season|2017–18]]\n| [[Vancouver Giants]]\n| [[Western Hockey League|WHL]]\n| 39\n| 10\n| 22\n| 32\n| 10\n| 7\n| 3\n| 3\n| 6\n| 4\n|-  \n| [[2018–19 WHL season|2018–19]]\n| Vancouver Giants\n| WHL\n| 59\n| 27\n| 33\n| 60\n| 21\n| 22\n| 4\n| 8\n| 12\n| 12\n|- bgcolor=\"#f0f0f0\"\n| [[2019–20 WHL season|2019–20]]\n| Vancouver Giants\n| WHL\n| 62\n| 24\n| 23\n| 47\n| 28\n| —\n| —\n| —\n| —\n| —\n|-  \n| [[2020–21 Czech Extraliga season|2020–21]]\n| HC Oceláři Třinec\n| ELH\n| 34\n| 7\n| 5\n| 12\n| 10\n| 16\n| 2\n| 1\n| 3\n| 2\n|- bgcolor=\"#f0f0f0\"\n| [[2021–22 Czech Extraliga season|2021–22]]\n| HC Oceláři Třinec\n| ELH\n| 46\n| 10\n| 14\n| 24\n| 16\n| 14\n| 2\n| 3\n| 5\n| 2\n|- bgcolor=\"#e0e0e0\"\n! colspan=\"3\" | ELH totals\n! 81\n! 17\n! 19\n! 36\n! 26\n! 30\n! 4\n! 4\n! 8\n! 4\n|}"
          },
          "metadata": {}
        },
        {
          "output_type": "stream",
          "name": "stdout",
          "text": [
            "\n",
            "---\n",
            "\n"
          ]
        },
        {
          "output_type": "display_data",
          "data": {
            "text/plain": [
              "<IPython.core.display.Markdown object>"
            ],
            "text/markdown": "Mélodie Daoust\n\n==Playing career==\n\n===CWHL===\n\nShe was called up as an emergency fill-in with the [[Montreal Stars]], and scored three points in her CWHL debut on January 8 (versus the [[Burlington Barracudas]])."
          },
          "metadata": {}
        },
        {
          "output_type": "stream",
          "name": "stdout",
          "text": [
            "\n",
            "---\n",
            "\n"
          ]
        },
        {
          "output_type": "display_data",
          "data": {
            "text/plain": [
              "<IPython.core.display.Markdown object>"
            ],
            "text/markdown": "2021 Canadian Olympic Curling Trials\n\n==Qualification events==\n\n===Pre-Trials Direct-Entry Event===\n\n====Women====\n\n=====Playoffs=====\n\n{{3TeamBracket-PagePlayoff\n| RD3-legs = 0\n\n| RD1 = A vs. B\n| RD2 = Second place game\n| PRO = Qualify for [[2021 Canadian Olympic Curling Pre-Trials|Pre-Trials]]\n\n| RD1-seed1 = A\n| RD1-team1 = '''{{flagicon|NT}} [[Kerry Galusha]]'''\n| RD1-score1 = '''10'''\n| RD1-seed2 = B\n| RD1-team2 = {{flagicon|SK}} [[Jessie Hunkin|Team Silvernagle]]\n| RD1-score2 = 8\n\n| RD2-seed1 = B\n| RD2-team1 = {{flagicon|SK}} [[Jessie Hunkin|Team Silvernagle]]\n| RD2-score1 = 6\n| RD2-seed2 = C\n| RD2-team2 = '''{{flagicon|NS}} [[Jill Brothers]]'''\n| RD2-score2 = '''8'''\n\n| RD3-team1 = {{flagicon|NT}} [[Kerry Galusha]]\n| RD3-team2 = {{flagicon|NS}} [[Jill Brothers]]\n}}"
          },
          "metadata": {}
        },
        {
          "output_type": "stream",
          "name": "stdout",
          "text": [
            "\n",
            "---\n",
            "\n"
          ]
        },
        {
          "output_type": "display_data",
          "data": {
            "text/plain": [
              "<IPython.core.display.Markdown object>"
            ],
            "text/markdown": "Marius Lindvik\n\n{{short description|Norwegian ski jumper}}\n{{Use dmy dates|date=March 2022}}\n{{Infobox skier\n| name              = Marius Lindvik\n| image             = Marius Lindvik.jpg\n| nationality       = Norway\n| birth_date        = {{birth date and age|df=yes|1998|6|27}}\n| birth_place       = [[Sørum]], Norway\n| height            = 1.75 m\n| club              = [[Rælingen SK]]\n| personalbest      = {{convert|245.5|m|abbr=on}}<br />[[Letalnica bratov Gorišek|Planica]], [[2021–22 FIS Ski Jumping World Cup|27 March 2022]]\n| seasons           = [[2015–16 FIS Ski Jumping World Cup|2016]]–present\n| wins              = 8\n| teamwins          = 3\n| totalpodiums      = 20\n| teampodiums       = 9\n| individual_starts = 89\n| team_starts       = 18\n| updated           = 4 March 2023\n| medaltemplates    = \n{{MedalCountry|{{NOR}}}}\n{{MedalSport|Men's [[ski jumping]]}}\n{{MedalCompetition|[[Ski jumping at the Winter Olympics|Olympic Games]]}}\n{{MedalGold|[[2022 Winter Olympics|2022 Beijing]]|[[Ski jumping at the 2022 Winter Olympics – Men's large hill individual|LH individual]]}}\n{{MedalCompetition|[[FIS Nordic World Ski Championships|World Championships]]}}\n{{MedalSilver|[[FIS Nordic World Ski Championships 2023|2023 Planica]]|[[FIS Nordic World Ski Championships 2023 – Men's team large hill|Team LH]]}}\n{{MedalSport|Men's [[ski flying]]}}\n{{MedalCompetition|[[FIS Ski Flying World Championships|Ski Flying World Championships]]}}\n{{MedalGold|[[FIS Ski Flying World Championships 2022|2022 Vikersund]]|[[FIS Ski Flying World Championships 2022 – Individual|Individual]]}}\n{{MedalBronze|2022 Vikersund|[[FIS Ski Flying World Championships 2022 – Team|Team]]}}\n}}\n'''Marius Lindvik''' (born 27 June 1998) is a Norwegian [[Ski jumping|ski jumper]] and Olympic gold medalist."
          },
          "metadata": {}
        },
        {
          "output_type": "stream",
          "name": "stdout",
          "text": [
            "\n",
            "---\n",
            "\n"
          ]
        },
        {
          "output_type": "display_data",
          "data": {
            "text/plain": [
              "<IPython.core.display.Markdown object>"
            ],
            "text/markdown": "Therese Johaug\n\n==Cross-country skiing results==\n\n===World Cup===\n\n====Individual podiums====\n\n| bgcolor=\"#BOEOE6\" style=\"text-align: right;\" | {{dts|2020|02|18|format=dmy}}\n| style=\"text-align: left;\" | {{flagicon|SWE}} [[Åre]], Sweden\n| bgcolor=\"#BOEOE6\" | 0.7&nbsp;km Sprint F\n| bgcolor=\"#BOEOE6\" | Stage World Cup\n| bgcolor=\"#BOEOE6\" | '''1st'''\n|-\n| 132\n| bgcolor=\"#BOEOE6\" style=\"text-align: right;\" | {{dts|2020|02|20|format=dmy}}\n| style=\"text-align: left;\" | {{flagicon|NOR}} [[Meråker]], Norway\n| bgcolor=\"#BOEOE6\" | 34&nbsp;km Mass Start F\n| bgcolor=\"#BOEOE6\" | Stage World Cup\n| bgcolor=\"#BOEOE6\" | '''1st'''\n|-\n| 133\n| bgcolor=\"#BOEOE6\" style=\"text-align: right;\" | {{dts|2020|02|23|format=dmy}}\n| style=\"text-align: left;\" | {{flagicon|NOR}} [[Trondheim]], Norway\n| bgcolor=\"#BOEOE6\" | 15&nbsp;km Pursuit C\n| bgcolor=\"#BOEOE6\" | Stage World Cup\n| bgcolor=\"#BOEOE6\" | '''1st'''\n|-\n| 134\n| bgcolor=\"#BOEOE6\" style=\"text-align: right;\" | {{sort|000000002020-02-23-0001|15–23 February 2020}}\n| style=\"text-align: left;\" | {{flagicon|SWE}}{{flagicon|NOR}} [[FIS Ski Tour 2020]]\n| bgcolor=\"#BOEOE6\" | Overall Standings\n| bgcolor=\"#BOEOE6\" | World Cup\n| bgcolor=\"#BOEOE6\" | '''1st'''\n|-\n| 135\n| bgcolor=\"#BOEOE6\" style=\"text-align: right;\" | {{dts|2020|02|29|format=dmy}}\n| style=\"text-align: left;\" | {{flagicon|FIN}} [[Lahti]], Finland\n| bgcolor=\"#BOEOE6\" | 10&nbsp;km Individual C\n| bgcolor=\"#BOEOE6\" | World Cup\n| bgcolor=\"#BOEOE6\" | '''1st'''\n|-\n| 136\n| style=\"text-align: right;\" | {{dts|2020|03|07|format=dmy}}\n| style=\"text-align: left;\" | {{flagicon|NOR}} [[Oslo]], Norway\n| 30&nbsp;km Mass Start C\n| World Cup\n| 2nd\n|-\n| 137\n| rowspan=\"6\" | [[2020–21 FIS Cross-Country World Cup|2020–21]]\n| bgcolor=\"#BOEOE6\" style=\"text-align: right;\" | {{dts|2020|11|28|format=dmy}}\n| style=\"text-align: left;\" | {{flagicon|FIN}} [[Rukatunturi]], Finland\n| bgcolor=\"#BOEOE6\" | 10&nbsp;km Individual C\n| bgcolor=\"#BOEOE6\" | Stage World Cup\n| bgcolor=\"#BOEOE6\" | '''1st'''\n|-\n| 138\n| bgcolor=\"#BOEOE6\" style=\"text-align: right;\" | {{dts|2020|11|29|format=dmy}}\n| style=\"text-align: left;\" | {{flagicon|FIN}} [[Rukatunturi]], Finland\n| bgcolor=\"#BOEOE6\" | 10&nbsp;km Pursuit F\n| bgcolor=\"#BOEOE6\" | Stage World Cup\n| bgcolor=\"#BOEOE6\" | '''1st'''\n|-\n| 139\n| bgcolor=\"#BOEOE6\" style=\"text-align: right;\" | {{sort|000000002020-11-29-0001|27–29 November 2020}}\n| style=\"text-align: left;\" | {{flagicon|FIN}} [[2020 Nordic Opening|Nordic Opening]]\n| bgcolor=\"#BOEOE6\" | Overall Standings"
          },
          "metadata": {}
        },
        {
          "output_type": "stream",
          "name": "stdout",
          "text": [
            "\n",
            "---\n",
            "\n"
          ]
        }
      ]
    },
    {
      "cell_type": "markdown",
      "source": [
        "Next, we define a function to calculate the embedding using the `text-embedding-ada-002` model, given a piece of text. The API call is simple (see below). [Link](https://openai.com/blog/new-and-improved-embedding-model)."
      ],
      "metadata": {
        "id": "ygZKOYP6hFvO"
      },
      "id": "ygZKOYP6hFvO"
    },
    {
      "cell_type": "code",
      "execution_count": null,
      "id": "ba475f30-ef7f-431c-b60d-d5970b62ad09",
      "metadata": {
        "id": "ba475f30-ef7f-431c-b60d-d5970b62ad09"
      },
      "outputs": [],
      "source": [
        "def get_embedding(text, model=EMBEDDING_MODEL):\n",
        "    result = client.embeddings.create(\n",
        "      model=EMBEDDING_MODEL,  # which embedding model we want to use\n",
        "      input=text,            # feed in the text for which you want to calc the embedding\n",
        "    )\n",
        "    return result.data[0].embedding"
      ]
    },
    {
      "cell_type": "markdown",
      "source": [
        "Let's try it on \"HODL is amazing!!\" 😃"
      ],
      "metadata": {
        "id": "Gm_jlpKEIY2f"
      },
      "id": "Gm_jlpKEIY2f"
    },
    {
      "cell_type": "code",
      "source": [
        "e = get_embedding(\"HODL is amazing!!\")"
      ],
      "metadata": {
        "id": "60l0L2BwIfd4"
      },
      "id": "60l0L2BwIfd4",
      "execution_count": null,
      "outputs": []
    },
    {
      "cell_type": "markdown",
      "source": [
        "Let's see how long the embedding vector is."
      ],
      "metadata": {
        "id": "U1hadXcQiOq5"
      },
      "id": "U1hadXcQiOq5"
    },
    {
      "cell_type": "code",
      "source": [
        "len(e)"
      ],
      "metadata": {
        "id": "3Ohnow38iuj9",
        "colab": {
          "base_uri": "https://localhost:8080/"
        },
        "outputId": "b1a84f9c-6e37-48ae-b3f5-6ecdfd9bcbda"
      },
      "id": "3Ohnow38iuj9",
      "execution_count": null,
      "outputs": [
        {
          "output_type": "execute_result",
          "data": {
            "text/plain": [
              "1536"
            ]
          },
          "metadata": {},
          "execution_count": 30
        }
      ]
    },
    {
      "cell_type": "code",
      "source": [
        "f = get_embedding(\"HODL is incredible!!\")"
      ],
      "metadata": {
        "id": "4XDc41gHNpyi"
      },
      "id": "4XDc41gHNpyi",
      "execution_count": null,
      "outputs": []
    },
    {
      "cell_type": "markdown",
      "source": [
        "We will define a little function to calculate the cosine similarity. The `scipy.spatial.distance.cosine` function is handy here."
      ],
      "metadata": {
        "id": "TpGeo8e9NyPT"
      },
      "id": "TpGeo8e9NyPT"
    },
    {
      "cell_type": "code",
      "source": [
        "from scipy import spatial  # for calculating cosine similarities for search\n",
        "\n",
        "def cosine_sim(x, y):\n",
        "  return 1-spatial.distance.cosine(x, y)"
      ],
      "metadata": {
        "id": "zAwsfqyBNx1o"
      },
      "id": "zAwsfqyBNx1o",
      "execution_count": null,
      "outputs": []
    },
    {
      "cell_type": "code",
      "source": [
        "cosine_sim(e, f)"
      ],
      "metadata": {
        "colab": {
          "base_uri": "https://localhost:8080/"
        },
        "id": "wB0A4F2gTieM",
        "outputId": "4efcff0b-c646-4259-9ba6-3c61f7586d83"
      },
      "id": "wB0A4F2gTieM",
      "execution_count": null,
      "outputs": [
        {
          "output_type": "execute_result",
          "data": {
            "text/plain": [
              "0.9934409664350276"
            ]
          },
          "metadata": {},
          "execution_count": 33
        }
      ]
    },
    {
      "cell_type": "markdown",
      "source": [
        "Given a dataframe like `df` with a column of text chunks, we can use the `get_embedding` function to calculate the embeddings for all the text chunks in the column."
      ],
      "metadata": {
        "id": "Dm1_rELVhRQO"
      },
      "id": "Dm1_rELVhRQO"
    },
    {
      "cell_type": "code",
      "source": [
        "def compute_doc_embeddings(df):\n",
        "    \"\"\"\n",
        "    Create an embedding for each row in the dataframe using the OpenAI Embeddings API.\n",
        "\n",
        "    Return a dictionary that maps between each embedding vector and the index of the row that it corresponds to.\n",
        "    \"\"\"\n",
        "    return {\n",
        "        idx: get_embedding(r.text) for idx, r in df.iterrows()\n",
        "    }"
      ],
      "metadata": {
        "id": "kg73ks73hEip"
      },
      "id": "kg73ks73hEip",
      "execution_count": null,
      "outputs": []
    },
    {
      "cell_type": "markdown",
      "source": [
        "To calculate the embeddings from scratch, uncomment the below line and run. Warning - it will take some time!"
      ],
      "metadata": {
        "id": "d-oqqBSN8KKX"
      },
      "id": "d-oqqBSN8KKX"
    },
    {
      "cell_type": "code",
      "source": [
        "#document_embeddings = compute_doc_embeddings(df)\n"
      ],
      "metadata": {
        "id": "k-07jQpM8Ios"
      },
      "id": "k-07jQpM8Ios",
      "execution_count": null,
      "outputs": []
    },
    {
      "cell_type": "markdown",
      "id": "cfe9c723-f838-4c75-8ed8-286b2e491a60",
      "metadata": {
        "id": "cfe9c723-f838-4c75-8ed8-286b2e491a60"
      },
      "source": [
        "But happily for us, since OpenAI has already calculated the embeddings for us and made them available in the embedding column of the dataframe `df` we downloaded, we don't have to."
      ]
    },
    {
      "cell_type": "markdown",
      "id": "aa32cf88-9edb-4dc6-b4cf-a16a8de7d304",
      "metadata": {
        "tags": [],
        "id": "aa32cf88-9edb-4dc6-b4cf-a16a8de7d304"
      },
      "source": [
        "So we have a custom dataset split into chunks, and embedding vectors have been calculated for each.\n",
        "\n",
        "We also have a function that can calculate the embedding for any query.\n",
        "\n",
        "Next we will use these embeddings to answer our users' questions.\n"
      ]
    },
    {
      "cell_type": "markdown",
      "source": [
        "\n",
        "#### Each time we receive a question\n",
        "\n",
        "* We calculate an embedding vector for the question with the `get_embedding` funtion we defined above.\n",
        "* For each chunk in our custom dataset, we calculate the cosine similarity between that chunk's embedding vector and the question's embedding vector\n",
        "* We rank the sections from most-cosine-similar to the question to least-cosine-similar"
      ],
      "metadata": {
        "id": "ifOWmFZakFg8"
      },
      "id": "ifOWmFZakFg8"
    },
    {
      "cell_type": "markdown",
      "source": [
        "We first define a couple of helper functions."
      ],
      "metadata": {
        "id": "UrIamAaN4YdS"
      },
      "id": "UrIamAaN4YdS"
    },
    {
      "cell_type": "code",
      "source": [
        "# function to retrieve relevant chunks\n",
        "\n",
        "def chunks_ranked_by_similarity(query, df, n=100):\n",
        "\n",
        "    \"\"\"Returns a list of chunks and their cosine-similarity to the query,\n",
        "    sorted from most similar to least.\"\"\"\n",
        "\n",
        "    query_embedding = get_embedding(query)\n",
        "\n",
        "    chunks_and_similarities = [\n",
        "        (row[\"text\"], cosine_sim(query_embedding, row[\"embedding\"]))\n",
        "        for i, row in df.iterrows()\n",
        "    ]\n",
        "    chunks_and_similarities.sort(key=lambda x: x[1], reverse=True)\n",
        "    chunks, similarities = zip(*chunks_and_similarities)\n",
        "    return chunks[:n], similarities[:n]"
      ],
      "metadata": {
        "id": "_ElgwsIYcQCR"
      },
      "id": "_ElgwsIYcQCR",
      "execution_count": null,
      "outputs": []
    },
    {
      "cell_type": "markdown",
      "source": [
        "Let's examine this function to see what it pulls up as documents most similar to the query string \"curling gold medal\""
      ],
      "metadata": {
        "id": "6I5LexJy5K-j"
      },
      "id": "6I5LexJy5K-j"
    },
    {
      "cell_type": "code",
      "source": [
        "chunks, similarities = chunks_ranked_by_similarity(\"curling gold medal\", df, n=5)\n",
        "\n",
        "for chunk, similarity in zip(chunks, similarities):\n",
        "    print(f\"{similarity=:.3f}\")\n",
        "    display(Markdown(chunk))\n",
        "    print(\"\\n\" + 80*'*' + \"\\n\")"
      ],
      "metadata": {
        "colab": {
          "base_uri": "https://localhost:8080/",
          "height": 1000
        },
        "id": "8D6B-QxNUcGZ",
        "outputId": "cb9d3d5c-01cd-4895-cf23-e35d4ef4d6ee"
      },
      "id": "8D6B-QxNUcGZ",
      "execution_count": null,
      "outputs": [
        {
          "output_type": "stream",
          "name": "stdout",
          "text": [
            "similarity=0.879\n"
          ]
        },
        {
          "output_type": "display_data",
          "data": {
            "text/plain": [
              "<IPython.core.display.Markdown object>"
            ],
            "text/markdown": "Curling at the 2022 Winter Olympics\n\n==Medal summary==\n\n===Medal table===\n\n{{Medals table\n | caption        = \n | host           = \n | flag_template  = flagIOC\n | event          = 2022 Winter\n | team           = \n | gold_CAN = 0 | silver_CAN = 0 | bronze_CAN = 1\n | gold_ITA = 1 | silver_ITA = 0 | bronze_ITA = 0\n | gold_NOR = 0 | silver_NOR = 1 | bronze_NOR = 0\n | gold_SWE = 1 | silver_SWE = 0 | bronze_SWE = 2\n | gold_GBR = 1 | silver_GBR = 1 | bronze_GBR = 0\n | gold_JPN = 0 | silver_JPN = 1 | bronze_JPN - 0\n}}"
          },
          "metadata": {}
        },
        {
          "output_type": "stream",
          "name": "stdout",
          "text": [
            "\n",
            "********************************************************************************\n",
            "\n",
            "similarity=0.872\n"
          ]
        },
        {
          "output_type": "display_data",
          "data": {
            "text/plain": [
              "<IPython.core.display.Markdown object>"
            ],
            "text/markdown": "Curling at the 2022 Winter Olympics\n\n==Results summary==\n\n===Women's tournament===\n\n====Playoffs====\n\n=====Gold medal game=====\n\n''Sunday, 20 February, 9:05''\n{{#lst:Curling at the 2022 Winter Olympics – Women's tournament|GM}}\n{{Player percentages\n| team1 = {{flagIOC|JPN|2022 Winter}}\n| [[Yurika Yoshida]] | 97%\n| [[Yumi Suzuki]] | 82%\n| [[Chinami Yoshida]] | 64%\n| [[Satsuki Fujisawa]] | 69%\n| teampct1 = 78%\n| team2 = {{flagIOC|GBR|2022 Winter}}\n| [[Hailey Duff]] | 90%\n| [[Jennifer Dodds]] | 89%\n| [[Vicky Wright]] | 89%\n| [[Eve Muirhead]] | 88%\n| teampct2 = 89%\n}}"
          },
          "metadata": {}
        },
        {
          "output_type": "stream",
          "name": "stdout",
          "text": [
            "\n",
            "********************************************************************************\n",
            "\n",
            "similarity=0.869\n"
          ]
        },
        {
          "output_type": "display_data",
          "data": {
            "text/plain": [
              "<IPython.core.display.Markdown object>"
            ],
            "text/markdown": "Curling at the 2022 Winter Olympics\n\n==Results summary==\n\n===Mixed doubles tournament===\n\n====Playoffs====\n\n=====Gold medal game=====\n\n''Tuesday, 8 February, 20:05''\n{{#lst:Curling at the 2022 Winter Olympics – Mixed doubles tournament|GM}}\n{| class=\"wikitable\"\n!colspan=4 width=400|Player percentages\n|-\n!colspan=2 width=200 style=\"white-space:nowrap;\"| {{flagIOC|ITA|2022 Winter}}\n!colspan=2 width=200 style=\"white-space:nowrap;\"| {{flagIOC|NOR|2022 Winter}}\n|-\n| [[Stefania Constantini]] || 83%\n| [[Kristin Skaslien]] || 70%\n|-\n| [[Amos Mosaner]] || 90%\n| [[Magnus Nedregotten]] || 69%\n|-\n| '''Total''' || 87%\n| '''Total''' || 69%\n|}"
          },
          "metadata": {}
        },
        {
          "output_type": "stream",
          "name": "stdout",
          "text": [
            "\n",
            "********************************************************************************\n",
            "\n",
            "similarity=0.868\n"
          ]
        },
        {
          "output_type": "display_data",
          "data": {
            "text/plain": [
              "<IPython.core.display.Markdown object>"
            ],
            "text/markdown": "Curling at the 2022 Winter Olympics\n\n==Medal summary==\n\n===Medalists===\n\n{| {{MedalistTable|type=Event|columns=1}}\n|-\n|Men<br/>{{DetailsLink|Curling at the 2022 Winter Olympics – Men's tournament}}\n|{{flagIOC|SWE|2022 Winter}}<br>[[Niklas Edin]]<br>[[Oskar Eriksson]]<br>[[Rasmus Wranå]]<br>[[Christoffer Sundgren]]<br>[[Daniel Magnusson (curler)|Daniel Magnusson]]\n|{{flagIOC|GBR|2022 Winter}}<br>[[Bruce Mouat]]<br>[[Grant Hardie]]<br>[[Bobby Lammie]]<br>[[Hammy McMillan Jr.]]<br>[[Ross Whyte]]\n|{{flagIOC|CAN|2022 Winter}}<br>[[Brad Gushue]]<br>[[Mark Nichols (curler)|Mark Nichols]]<br>[[Brett Gallant]]<br>[[Geoff Walker (curler)|Geoff Walker]]<br>[[Marc Kennedy]]\n|-\n|Women<br/>{{DetailsLink|Curling at the 2022 Winter Olympics – Women's tournament}}\n|{{flagIOC|GBR|2022 Winter}}<br>[[Eve Muirhead]]<br>[[Vicky Wright]]<br>[[Jennifer Dodds]]<br>[[Hailey Duff]]<br>[[Mili Smith]]\n|{{flagIOC|JPN|2022 Winter}}<br>[[Satsuki Fujisawa]]<br>[[Chinami Yoshida]]<br>[[Yumi Suzuki]]<br>[[Yurika Yoshida]]<br>[[Kotomi Ishizaki]]\n|{{flagIOC|SWE|2022 Winter}}<br>[[Anna Hasselborg]]<br>[[Sara McManus]]<br>[[Agnes Knochenhauer]]<br>[[Sofia Mabergs]]<br>[[Johanna Heldin]]\n|-\n|Mixed doubles<br/>{{DetailsLink|Curling at the 2022 Winter Olympics – Mixed doubles tournament}}\n|{{flagIOC|ITA|2022 Winter}}<br>[[Stefania Constantini]]<br>[[Amos Mosaner]]\n|{{flagIOC|NOR|2022 Winter}}<br>[[Kristin Skaslien]]<br>[[Magnus Nedregotten]]\n|{{flagIOC|SWE|2022 Winter}}<br>[[Almida de Val]]<br>[[Oskar Eriksson]]\n|}"
          },
          "metadata": {}
        },
        {
          "output_type": "stream",
          "name": "stdout",
          "text": [
            "\n",
            "********************************************************************************\n",
            "\n",
            "similarity=0.867\n"
          ]
        },
        {
          "output_type": "display_data",
          "data": {
            "text/plain": [
              "<IPython.core.display.Markdown object>"
            ],
            "text/markdown": "Curling at the 2022 Winter Olympics\n\n==Results summary==\n\n===Men's tournament===\n\n====Playoffs====\n\n=====Gold medal game=====\n\n''Saturday, 19 February, 14:50''\n{{#lst:Curling at the 2022 Winter Olympics – Men's tournament|GM}}\n{{Player percentages\n| team1 = {{flagIOC|GBR|2022 Winter}}\n| [[Hammy McMillan Jr.]] | 95%\n| [[Bobby Lammie]] | 80%\n| [[Grant Hardie]] | 94%\n| [[Bruce Mouat]] | 89%\n| teampct1 = 90%\n| team2 = {{flagIOC|SWE|2022 Winter}}\n| [[Christoffer Sundgren]] | 99%\n| [[Rasmus Wranå]] | 95%\n| [[Oskar Eriksson]] | 93%\n| [[Niklas Edin]] | 87%\n| teampct2 = 94%\n}}"
          },
          "metadata": {}
        },
        {
          "output_type": "stream",
          "name": "stdout",
          "text": [
            "\n",
            "********************************************************************************\n",
            "\n"
          ]
        }
      ]
    },
    {
      "cell_type": "markdown",
      "id": "3cf71fae-abb1-46b2-a483-c1b2f1a915c2",
      "metadata": {
        "id": "3cf71fae-abb1-46b2-a483-c1b2f1a915c2"
      },
      "source": [
        "We can see that several relevant sections of the Wikipedia page for curling at the 2022 Winter Olympics were retrieved. Cool!"
      ]
    },
    {
      "cell_type": "markdown",
      "id": "a0efa0f6-4469-457a-89a4-a2f5736a01e0",
      "metadata": {
        "id": "a0efa0f6-4469-457a-89a4-a2f5736a01e0"
      },
      "source": [
        "#### Starting from the most-cosine-similar section, include as many sections into the prompt as can fit into the context window\n",
        "\n",
        "\n",
        "Once we've calculated the most relevant pieces of context, we construct a prompt by simply prepending them to the supplied query. We write a fewer helper functions to do just this."
      ]
    },
    {
      "cell_type": "markdown",
      "source": [
        "Since we don't want to exceed the context window, we will need to count the tokens in our prompt. We use the `tiktoken` package for this."
      ],
      "metadata": {
        "id": "8dzXzJl5RmDq"
      },
      "id": "8dzXzJl5RmDq"
    },
    {
      "cell_type": "code",
      "execution_count": null,
      "id": "b763ace2-1946-48e0-8ff1-91ba335d47a0",
      "metadata": {
        "id": "b763ace2-1946-48e0-8ff1-91ba335d47a0"
      },
      "outputs": [],
      "source": [
        "import tiktoken  # for counting tokens\n",
        "\n",
        "def num_tokens(text, model=GPT_MODEL):\n",
        "    \"\"\"Return the number of tokens in a string.\"\"\"\n",
        "    encoding = tiktoken.encoding_for_model(model)\n",
        "    return len(encoding.encode(text))"
      ]
    },
    {
      "cell_type": "markdown",
      "source": [
        "We build the prompt by first beginning with a `HEADER` string and then pull in the related chunks sorted in descending order of similarity to the query. We then add these chunks to the query until the token budget is consumed.\n",
        "\n"
      ],
      "metadata": {
        "id": "7bVyIS15gGAm"
      },
      "id": "7bVyIS15gGAm"
    },
    {
      "cell_type": "code",
      "source": [
        "HEADER = \"\"\"\n",
        "Answer the question using the provided context.\"\\n\\nContext:\\n\n",
        "\"\"\""
      ],
      "metadata": {
        "id": "pJvZaDWfEbY9"
      },
      "id": "pJvZaDWfEbY9",
      "execution_count": null,
      "outputs": []
    },
    {
      "cell_type": "code",
      "execution_count": null,
      "id": "0c5c0509-eeb9-4552-a5d4-6ace04ef73dd",
      "metadata": {
        "id": "0c5c0509-eeb9-4552-a5d4-6ace04ef73dd"
      },
      "outputs": [],
      "source": [
        "def build_prompt(query, df, model, token_budget):\n",
        "    \"\"\"Build a rich prompt, with relevant chunks pulled from a dataframe.\"\"\"\n",
        "\n",
        "    chunks, similarities = chunks_ranked_by_similarity(query, df)\n",
        "\n",
        "    question = f\"\\n\\nQuestion: {query}\"\n",
        "\n",
        "    message = HEADER\n",
        "\n",
        "    for chunk in chunks:\n",
        "      # useful to indicate the start of each new potentially relevant\n",
        "      # article here with the header 'Wikipedia article section:'\n",
        "\n",
        "        next_article = f'\\n\\nWikipedia article section:\\n\"\"\"\\n{chunk}\\n\"\"\"'\n",
        "        if (\n",
        "            num_tokens(message + next_article + question, model=model)\n",
        "            > token_budget\n",
        "        ):\n",
        "            break\n",
        "        else:\n",
        "            message += next_article\n",
        "    return message + question"
      ]
    },
    {
      "cell_type": "code",
      "source": [
        "prompt = build_prompt(\"'Which athletes won the gold medal in curling at \\\n",
        "the 2022 Winter Olympics?\", df, GPT_MODEL, 3700)\n",
        "\n",
        "print(prompt)"
      ],
      "metadata": {
        "colab": {
          "base_uri": "https://localhost:8080/"
        },
        "id": "BwNnESuSWlYD",
        "outputId": "1d2b5121-9e09-417e-de0a-cbf7a708f20d"
      },
      "id": "BwNnESuSWlYD",
      "execution_count": null,
      "outputs": [
        {
          "output_type": "stream",
          "name": "stdout",
          "text": [
            "\n",
            "Answer the question using the provided context.\"\n",
            "\n",
            "Context:\n",
            "\n",
            "\n",
            "\n",
            "Wikipedia article section:\n",
            "\"\"\"\n",
            "List of 2022 Winter Olympics medal winners\n",
            "\n",
            "==Curling==\n",
            "\n",
            "{{main|Curling at the 2022 Winter Olympics}}\n",
            "{|{{MedalistTable|type=Event|columns=1|width=225|labelwidth=200}}\n",
            "|-valign=\"top\"\n",
            "|Men<br/>{{DetailsLink|Curling at the 2022 Winter Olympics – Men's tournament}}\n",
            "|{{flagIOC|SWE|2022 Winter}}<br/>[[Niklas Edin]]<br/>[[Oskar Eriksson]]<br/>[[Rasmus Wranå]]<br/>[[Christoffer Sundgren]]<br/>[[Daniel Magnusson (curler)|Daniel Magnusson]]\n",
            "|{{flagIOC|GBR|2022 Winter}}<br/>[[Bruce Mouat]]<br/>[[Grant Hardie]]<br/>[[Bobby Lammie]]<br/>[[Hammy McMillan Jr.]]<br/>[[Ross Whyte]]\n",
            "|{{flagIOC|CAN|2022 Winter}}<br/>[[Brad Gushue]]<br/>[[Mark Nichols (curler)|Mark Nichols]]<br/>[[Brett Gallant]]<br/>[[Geoff Walker (curler)|Geoff Walker]]<br/>[[Marc Kennedy]]\n",
            "|-valign=\"top\"\n",
            "|Women<br/>{{DetailsLink|Curling at the 2022 Winter Olympics – Women's tournament}}\n",
            "|{{flagIOC|GBR|2022 Winter}}<br/>[[Eve Muirhead]]<br/>[[Vicky Wright]]<br/>[[Jennifer Dodds]]<br/>[[Hailey Duff]]<br/>[[Mili Smith]]\n",
            "|{{flagIOC|JPN|2022 Winter}}<br/>[[Satsuki Fujisawa]]<br/>[[Chinami Yoshida]]<br/>[[Yumi Suzuki]]<br/>[[Yurika Yoshida]]<br/>[[Kotomi Ishizaki]]\n",
            "|{{flagIOC|SWE|2022 Winter}}<br/>[[Anna Hasselborg]]<br/>[[Sara McManus]]<br/>[[Agnes Knochenhauer]]<br/>[[Sofia Mabergs]]<br/>[[Johanna Heldin]]\n",
            "|-valign=\"top\"\n",
            "|Mixed doubles<br/>{{DetailsLink|Curling at the 2022 Winter Olympics – Mixed doubles tournament}}\n",
            "|{{flagIOC|ITA|2022 Winter}}<br/>[[Stefania Constantini]]<br/>[[Amos Mosaner]]\n",
            "|{{flagIOC|NOR|2022 Winter}}<br/>[[Kristin Skaslien]]<br/>[[Magnus Nedregotten]]\n",
            "|{{flagIOC|SWE|2022 Winter}}<br/>[[Almida de Val]]<br/>[[Oskar Eriksson]]\n",
            "|}\n",
            "\"\"\"\n",
            "\n",
            "Wikipedia article section:\n",
            "\"\"\"\n",
            "Curling at the 2022 Winter Olympics\n",
            "\n",
            "==Medal summary==\n",
            "\n",
            "===Medal table===\n",
            "\n",
            "{{Medals table\n",
            " | caption        = \n",
            " | host           = \n",
            " | flag_template  = flagIOC\n",
            " | event          = 2022 Winter\n",
            " | team           = \n",
            " | gold_CAN = 0 | silver_CAN = 0 | bronze_CAN = 1\n",
            " | gold_ITA = 1 | silver_ITA = 0 | bronze_ITA = 0\n",
            " | gold_NOR = 0 | silver_NOR = 1 | bronze_NOR = 0\n",
            " | gold_SWE = 1 | silver_SWE = 0 | bronze_SWE = 2\n",
            " | gold_GBR = 1 | silver_GBR = 1 | bronze_GBR = 0\n",
            " | gold_JPN = 0 | silver_JPN = 1 | bronze_JPN - 0\n",
            "}}\n",
            "\"\"\"\n",
            "\n",
            "Wikipedia article section:\n",
            "\"\"\"\n",
            "Curling at the 2022 Winter Olympics\n",
            "\n",
            "==Results summary==\n",
            "\n",
            "===Women's tournament===\n",
            "\n",
            "====Playoffs====\n",
            "\n",
            "=====Gold medal game=====\n",
            "\n",
            "''Sunday, 20 February, 9:05''\n",
            "{{#lst:Curling at the 2022 Winter Olympics – Women's tournament|GM}}\n",
            "{{Player percentages\n",
            "| team1 = {{flagIOC|JPN|2022 Winter}}\n",
            "| [[Yurika Yoshida]] | 97%\n",
            "| [[Yumi Suzuki]] | 82%\n",
            "| [[Chinami Yoshida]] | 64%\n",
            "| [[Satsuki Fujisawa]] | 69%\n",
            "| teampct1 = 78%\n",
            "| team2 = {{flagIOC|GBR|2022 Winter}}\n",
            "| [[Hailey Duff]] | 90%\n",
            "| [[Jennifer Dodds]] | 89%\n",
            "| [[Vicky Wright]] | 89%\n",
            "| [[Eve Muirhead]] | 88%\n",
            "| teampct2 = 89%\n",
            "}}\n",
            "\"\"\"\n",
            "\n",
            "Wikipedia article section:\n",
            "\"\"\"\n",
            "Curling at the 2022 Winter Olympics\n",
            "\n",
            "==Medal summary==\n",
            "\n",
            "===Medalists===\n",
            "\n",
            "{| {{MedalistTable|type=Event|columns=1}}\n",
            "|-\n",
            "|Men<br/>{{DetailsLink|Curling at the 2022 Winter Olympics – Men's tournament}}\n",
            "|{{flagIOC|SWE|2022 Winter}}<br>[[Niklas Edin]]<br>[[Oskar Eriksson]]<br>[[Rasmus Wranå]]<br>[[Christoffer Sundgren]]<br>[[Daniel Magnusson (curler)|Daniel Magnusson]]\n",
            "|{{flagIOC|GBR|2022 Winter}}<br>[[Bruce Mouat]]<br>[[Grant Hardie]]<br>[[Bobby Lammie]]<br>[[Hammy McMillan Jr.]]<br>[[Ross Whyte]]\n",
            "|{{flagIOC|CAN|2022 Winter}}<br>[[Brad Gushue]]<br>[[Mark Nichols (curler)|Mark Nichols]]<br>[[Brett Gallant]]<br>[[Geoff Walker (curler)|Geoff Walker]]<br>[[Marc Kennedy]]\n",
            "|-\n",
            "|Women<br/>{{DetailsLink|Curling at the 2022 Winter Olympics – Women's tournament}}\n",
            "|{{flagIOC|GBR|2022 Winter}}<br>[[Eve Muirhead]]<br>[[Vicky Wright]]<br>[[Jennifer Dodds]]<br>[[Hailey Duff]]<br>[[Mili Smith]]\n",
            "|{{flagIOC|JPN|2022 Winter}}<br>[[Satsuki Fujisawa]]<br>[[Chinami Yoshida]]<br>[[Yumi Suzuki]]<br>[[Yurika Yoshida]]<br>[[Kotomi Ishizaki]]\n",
            "|{{flagIOC|SWE|2022 Winter}}<br>[[Anna Hasselborg]]<br>[[Sara McManus]]<br>[[Agnes Knochenhauer]]<br>[[Sofia Mabergs]]<br>[[Johanna Heldin]]\n",
            "|-\n",
            "|Mixed doubles<br/>{{DetailsLink|Curling at the 2022 Winter Olympics – Mixed doubles tournament}}\n",
            "|{{flagIOC|ITA|2022 Winter}}<br>[[Stefania Constantini]]<br>[[Amos Mosaner]]\n",
            "|{{flagIOC|NOR|2022 Winter}}<br>[[Kristin Skaslien]]<br>[[Magnus Nedregotten]]\n",
            "|{{flagIOC|SWE|2022 Winter}}<br>[[Almida de Val]]<br>[[Oskar Eriksson]]\n",
            "|}\n",
            "\"\"\"\n",
            "\n",
            "Wikipedia article section:\n",
            "\"\"\"\n",
            "Curling at the 2022 Winter Olympics\n",
            "\n",
            "==Results summary==\n",
            "\n",
            "===Men's tournament===\n",
            "\n",
            "====Playoffs====\n",
            "\n",
            "=====Gold medal game=====\n",
            "\n",
            "''Saturday, 19 February, 14:50''\n",
            "{{#lst:Curling at the 2022 Winter Olympics – Men's tournament|GM}}\n",
            "{{Player percentages\n",
            "| team1 = {{flagIOC|GBR|2022 Winter}}\n",
            "| [[Hammy McMillan Jr.]] | 95%\n",
            "| [[Bobby Lammie]] | 80%\n",
            "| [[Grant Hardie]] | 94%\n",
            "| [[Bruce Mouat]] | 89%\n",
            "| teampct1 = 90%\n",
            "| team2 = {{flagIOC|SWE|2022 Winter}}\n",
            "| [[Christoffer Sundgren]] | 99%\n",
            "| [[Rasmus Wranå]] | 95%\n",
            "| [[Oskar Eriksson]] | 93%\n",
            "| [[Niklas Edin]] | 87%\n",
            "| teampct2 = 94%\n",
            "}}\n",
            "\"\"\"\n",
            "\n",
            "Wikipedia article section:\n",
            "\"\"\"\n",
            "Curling at the 2022 Winter Olympics\n",
            "\n",
            "==Results summary==\n",
            "\n",
            "===Men's tournament===\n",
            "\n",
            "====Playoffs====\n",
            "\n",
            "=====Bronze medal game=====\n",
            "\n",
            "''Friday, 18 February, 14:05''\n",
            "{{#lst:Curling at the 2022 Winter Olympics – Men's tournament|BM}}\n",
            "{{Player percentages\n",
            "| team1 = {{flagIOC|USA|2022 Winter}}\n",
            "| [[John Landsteiner]] | 80%\n",
            "| [[Matt Hamilton (curler)|Matt Hamilton]] | 86%\n",
            "| [[Chris Plys]] | 74%\n",
            "| [[John Shuster]] | 69%\n",
            "| teampct1 = 77%\n",
            "| team2 = {{flagIOC|CAN|2022 Winter}}\n",
            "| [[Geoff Walker (curler)|Geoff Walker]] | 84%\n",
            "| [[Brett Gallant]] | 86%\n",
            "| [[Mark Nichols (curler)|Mark Nichols]] | 78%\n",
            "| [[Brad Gushue]] | 78%\n",
            "| teampct2 = 82%\n",
            "}}\n",
            "\"\"\"\n",
            "\n",
            "Wikipedia article section:\n",
            "\"\"\"\n",
            "Russian Olympic Committee athletes at the 2022 Winter Olympics\n",
            "\n",
            "==Curling==\n",
            "\n",
            "{{main|Curling at the 2022 Winter Olympics|Curling at the 2022 Winter Olympics – Qualification}}\n",
            "\n",
            "Based on results of the 2021 World Curling Championships and Olympic Qualification Event, Russian Olympic Committee has qualified for men's and women's tournaments. Russian Curling Federation announced the five men and five women participating on 4 January 2022.\n",
            "\n",
            ";Summary\n",
            "{|class=wikitable style=font-size:90%;text-align:center\n",
            "|-\n",
            "!rowspan=2|Team\n",
            "!rowspan=2|Event\n",
            "!colspan=10|Group stage\n",
            "!Semifinal\n",
            "!colspan=2|Final / {{abbr|BM|Bronze medal match}}\n",
            "|-style=\"font-size:95%\"\n",
            "!Opposition<br />Score\n",
            "!Opposition<br />Score\n",
            "!Opposition<br />Score\n",
            "!Opposition<br />Score\n",
            "!Opposition<br />Score\n",
            "!Opposition<br />Score\n",
            "!Opposition<br />Score\n",
            "!Opposition<br />Score\n",
            "!Opposition<br />Score\n",
            "!Rank\n",
            "!Opposition<br />Score\n",
            "!Opposition<br />Score\n",
            "!Rank\n",
            "|-\n",
            "|align=left|[[Sergey Glukhov]]<br>[[Evgeny Klimov (curler)|Evgeny Klimov]]<br>[[Dmitry Mironov]]<br>[[Anton Kalalb]]<br>[[Daniil Goriachev]]\n",
            "|align=left|[[Curling at the 2022 Winter Olympics – Men's tournament|Men's tournament]]\n",
            "|{{flagIOCshort|USA|2022 Winter}}<br>'''L''' 5–6\n",
            "|{{flagIOCshort|CHN|2022 Winter}}<br>'''W''' 7–4\n",
            "|{{flagIOCshort|SUI|2022 Winter}}<br>'''L''' 3–6\n",
            "|{{flagIOCshort|DEN|2022 Winter}}<br>'''W''' 10–2\n",
            "|{{flagIOCshort|ITA|2022 Winter}}<br>'''W''' 10–7\n",
            "|{{flagIOCshort|SWE|2022 Winter}}<br>'''L''' 5–7\n",
            "|{{flagIOCshort|NOR|2022 Winter}}<br>'''L''' 5–12\n",
            "|{{flagIOCshort|CAN|2022 Winter}}<br>'''W''' 7–6\n",
            "|{{flagIOCshort|GBR|2022 Winter}}<br>'''L''' 6–8\n",
            "|8\n",
            "|colspan=3|Did not advance\n",
            "|-\n",
            "|align=left|[[Alina Kovaleva]]<br>[[Yulia Portunova]]<br>[[Galina Arsenkina]]<br>[[Ekaterina Kuzmina]]<br>[[Maria Komarova]]\n",
            "|align=left|[[Curling at the 2022 Winter Olympics – Women's tournament|Women's tournament]]\n",
            "|{{flagIOCshort|USA|2022 Winter}}<br>'''L''' 3–9\n",
            "|{{flagIOCshort|SUI|2022 Winter}}<br>'''L''' 7–8\n",
            "|{{flagIOCshort|KOR|2022 Winter}}<br>'''L''' 5–9\n",
            "|{{flagIOCshort|JPN|2022 Winter}}<br>'''L''' 5–10\n",
            "|{{flagIOCshort|CAN|2022 Winter}}<br>'''L''' 5–11\n",
            "|{{flagIOCshort|DEN|2022 Winter}}<br>'''L''' 5–10\n",
            "|{{flagIOCshort|CHN|2022 Winter}}<br>'''W''' 11–5\n",
            "|{{flagIOCshort|SWE|2022 Winter}}<br>'''L''' 5–8\n",
            "|{{flagIOCshort|GBR|2022 Winter}}<br>'''L''' 4–9\n",
            "|10\n",
            "|colspan=3|Did not advance\n",
            "|}\n",
            "\"\"\"\n",
            "\n",
            "Wikipedia article section:\n",
            "\"\"\"\n",
            "Curling at the 2022 Winter Olympics\n",
            "\n",
            "==Results summary==\n",
            "\n",
            "===Women's tournament===\n",
            "\n",
            "====Playoffs====\n",
            "\n",
            "=====Bronze medal game=====\n",
            "\n",
            "''Saturday, 19 February, 20:05''\n",
            "{{#lst:Curling at the 2022 Winter Olympics – Women's tournament|BM}}\n",
            "{{Player percentages\n",
            "| team1 = {{flagIOC|SUI|2022 Winter}}\n",
            "| [[Melanie Barbezat]] | 79%\n",
            "| [[Esther Neuenschwander]] | 75%\n",
            "| [[Silvana Tirinzoni]] | 81%\n",
            "| [[Alina Pätz]] | 64%\n",
            "| teampct1 = 75%\n",
            "| team2 = {{flagIOC|SWE|2022 Winter}}\n",
            "| [[Sofia Mabergs]] | 89%\n",
            "| [[Agnes Knochenhauer]] | 80%\n",
            "| [[Sara McManus]] | 81%\n",
            "| [[Anna Hasselborg]] | 76%\n",
            "| teampct2 = 82%\n",
            "}}\n",
            "\"\"\"\n",
            "\n",
            "Wikipedia article section:\n",
            "\"\"\"\n",
            "Curling at the 2022 Winter Olympics\n",
            "\n",
            "==Teams==\n",
            "\n",
            "===Mixed doubles===\n",
            "\n",
            "{| class=wikitable\n",
            "|-\n",
            "!width=200|{{flagIOC|AUS|2022 Winter}}\n",
            "!width=200|{{flagIOC|CAN|2022 Winter}}\n",
            "!width=200|{{flagIOC|CHN|2022 Winter}}\n",
            "!width=200|{{flagIOC|CZE|2022 Winter}}\n",
            "!width=200|{{flagIOC|GBR|2022 Winter}}\n",
            "|-\n",
            "|\n",
            "'''Female:''' [[Tahli Gill]]<br>\n",
            "'''Male:''' [[Dean Hewitt]]\n",
            "|\n",
            "'''Female:''' [[Rachel Homan]]<br>\n",
            "'''Male:''' [[John Morris (curler)|John Morris]]\n",
            "|\n",
            "'''Female:''' [[Fan Suyuan]]<br>\n",
            "'''Male:''' [[Ling Zhi]]\n",
            "|\n",
            "'''Female:''' [[Zuzana Paulová]]<br>\n",
            "'''Male:''' [[Tomáš Paul]]\n",
            "|\n",
            "'''Female:''' [[Jennifer Dodds]]<br>\n",
            "'''Male:''' [[Bruce Mouat]]\n",
            "|-\n",
            "!width=200|{{flagIOC|ITA|2022 Winter}}\n",
            "!width=200|{{flagIOC|NOR|2022 Winter}}\n",
            "!width=200|{{flagIOC|SWE|2022 Winter}}\n",
            "!width=200|{{flagIOC|SUI|2022 Winter}}\n",
            "!width=200|{{flagIOC|USA|2022 Winter}}\n",
            "|-\n",
            "|\n",
            "'''Female:''' [[Stefania Constantini]]<br>\n",
            "'''Male:''' [[Amos Mosaner]]\n",
            "|\n",
            "'''Female:''' [[Kristin Skaslien]]<br>\n",
            "'''Male:''' [[Magnus Nedregotten]]\n",
            "|\n",
            "'''Female:''' [[Almida de Val]]<br>\n",
            "'''Male:''' [[Oskar Eriksson]]\n",
            "|\n",
            "'''Female:''' [[Jenny Perret]]<br>\n",
            "'''Male:''' [[Martin Rios]]\n",
            "|\n",
            "'''Female:''' [[Vicky Persinger]]<br>\n",
            "'''Male:''' [[Chris Plys]]\n",
            "|}\n",
            "\"\"\"\n",
            "\n",
            "Question: 'Which athletes won the gold medal in curling at the 2022 Winter Olympics?\n"
          ]
        }
      ]
    },
    {
      "cell_type": "markdown",
      "source": [
        "We have now obtained the sections that are most relevant to the question and crafted a rich prompt. As a final step, let's pull it all together into a little function.\n"
      ],
      "metadata": {
        "id": "8ln0tkZ3iQUp"
      },
      "id": "8ln0tkZ3iQUp"
    },
    {
      "cell_type": "code",
      "source": [
        "def ask(query, df=df, model=GPT_MODEL, token_budget=4096 - 500):\n",
        "    \"\"\"Builds the prompt and send it in to the model\"\"\"\n",
        "\n",
        "    prompt = build_prompt(query, df, model=model, token_budget=token_budget)\n",
        "\n",
        "    return ask_the_LLM(prompt)"
      ],
      "metadata": {
        "id": "HVYkznesY5xF"
      },
      "id": "HVYkznesY5xF",
      "execution_count": null,
      "outputs": []
    },
    {
      "cell_type": "markdown",
      "id": "1b022fd4-0a3c-4ae1-bed1-4c80e4f0fb56",
      "metadata": {
        "tags": [],
        "id": "1b022fd4-0a3c-4ae1-bed1-4c80e4f0fb56"
      },
      "source": [
        "#### Send the query into `gpt-3.5-turbo`!\n"
      ]
    },
    {
      "cell_type": "code",
      "source": [
        "print(ask('Which athletes won the gold medal in curling at the 2022 Winter Olympics?'))"
      ],
      "metadata": {
        "colab": {
          "base_uri": "https://localhost:8080/"
        },
        "id": "zLpVkk65DkHx",
        "outputId": "5745d4e2-f169-4310-9255-e86aa5db155c"
      },
      "id": "zLpVkk65DkHx",
      "execution_count": null,
      "outputs": [
        {
          "output_type": "stream",
          "name": "stdout",
          "text": [
            "The athletes who won the gold medal in curling at the 2022 Winter Olympics are:\n",
            "\n",
            "- Men's tournament: Team Sweden consisting of Niklas Edin, Oskar Eriksson, Rasmus Wranå, Christoffer Sundgren, and Daniel Magnusson.\n",
            "- Women's tournament: Team Italy consisting of Stefania Constantini and Amos Mosaner.\n",
            "- Mixed doubles tournament: Team Great Britain consisting of Bruce Mouat, Grant Hardie, Bobby Lammie, Hammy McMillan Jr., and Ross Whyte.\n"
          ]
        }
      ]
    },
    {
      "cell_type": "markdown",
      "source": [
        "Nice!\n"
      ],
      "metadata": {
        "id": "wF_dng2dEJFH"
      },
      "id": "wF_dng2dEJFH"
    },
    {
      "cell_type": "markdown",
      "id": "7b48d155-d2d4-447c-ab8e-5a5b4722b07c",
      "metadata": {
        "id": "7b48d155-d2d4-447c-ab8e-5a5b4722b07c"
      },
      "source": [
        "## Conclusion\n",
        "By combining pretrained contextual embeddings and `text-davinci-003`, we have created a question-answering model using Retrieval-Augmented Generation that can answer questions in natural language using a custom dataset. It also **tries** not to make stuff up and says \"I don't know\" when it doesn't know the answer! **But this is not guaranteed.**\n",
        "\n",
        "For this example we have used a dataset of Wikipedia articles, but that dataset could be replaced with books, articles, documentation, service manuals, or much much more.\n",
        "\n"
      ]
    }
  ],
  "metadata": {
    "kernelspec": {
      "display_name": "Python 3.9.9 ('openai')",
      "language": "python",
      "name": "python3"
    },
    "language_info": {
      "codemirror_mode": {
        "name": "ipython",
        "version": 3
      },
      "file_extension": ".py",
      "mimetype": "text/x-python",
      "name": "python",
      "nbconvert_exporter": "python",
      "pygments_lexer": "ipython3",
      "version": "3.9.9"
    },
    "vscode": {
      "interpreter": {
        "hash": "365536dcbde60510dc9073d6b991cd35db2d9bac356a11f5b64279a5e6708b97"
      }
    },
    "colab": {
      "provenance": []
    }
  },
  "nbformat": 4,
  "nbformat_minor": 5
}