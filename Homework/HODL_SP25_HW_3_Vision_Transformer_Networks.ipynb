{
  "cells": [
    {
      "cell_type": "markdown",
      "metadata": {
        "id": "HfYu-Hk0R8PO"
      },
      "source": [
        "# 15.777 Homework 3: Vision Transformer Networks\n"
      ]
    },
    {
      "cell_type": "code",
      "execution_count": null,
      "metadata": {
        "id": "h5kWWfR8z9uZ"
      },
      "outputs": [],
      "source": [
        "# basic python imports and packages\n",
        "import os\n",
        "import numpy as np\n",
        "import pandas as pd\n",
        "import matplotlib.pyplot as plt\n",
        "from sklearn import metrics\n",
        "import seaborn as sns\n",
        "import json"
      ]
    },
    {
      "cell_type": "code",
      "execution_count": null,
      "metadata": {
        "colab": {
          "base_uri": "https://localhost:8080/"
        },
        "id": "WKy7q7XyX9yZ",
        "outputId": "23467f5c-b3c5-4108-8122-b3780ca8c6d0"
      },
      "outputs": [
        {
          "output_type": "execute_result",
          "data": {
            "text/plain": [
              "[]"
            ]
          },
          "metadata": {},
          "execution_count": 21
        }
      ],
      "source": [
        "# install the latest version of keras and keras-hub\n",
        "!!pip install -q git+https://github.com/keras-team/keras-hub.git\n",
        "!!pip install -q --upgrade keras  # Upgrade to Keras 3."
      ]
    },
    {
      "cell_type": "code",
      "execution_count": null,
      "metadata": {
        "id": "RDa73BQXX9yZ"
      },
      "outputs": [],
      "source": [
        "# deep learning imports and packages\n",
        "os.environ[\"KERAS_BACKEND\"] = \"jax\"\n",
        "import keras\n",
        "# from keras import losses\n",
        "# from keras import ops\n",
        "# from keras import optimizers\n",
        "# from keras.optimizers import schedules\n",
        "# from keras.applications.imagenet_utils import decode_predictions\n",
        "# from keras.layers import Dropout, Dense, GlobalAveragePooling1D, Flatten, Lambda\n",
        "import keras_hub\n",
        "\n",
        "# Import tensorflow for `tf.data` and its preprocessing functions\n",
        "import tensorflow as tf\n",
        "\n",
        "# initialize the seeds of different random number generators so that the\n",
        "# results will be the same every time the notebook is run\n",
        "keras.utils.set_random_seed(42)"
      ]
    },
    {
      "cell_type": "markdown",
      "metadata": {
        "id": "Ht79CPtIP8va"
      },
      "source": [
        "## Make sure GPU is loaded correctly\n"
      ]
    },
    {
      "cell_type": "code",
      "execution_count": null,
      "metadata": {
        "colab": {
          "base_uri": "https://localhost:8080/"
        },
        "id": "a8IFEh4_Y2Ru",
        "outputId": "dda97269-3279-4e8b-d3fa-f1f893df80ec"
      },
      "outputs": [
        {
          "output_type": "stream",
          "name": "stdout",
          "text": [
            "Sat Mar  8 21:17:12 2025       \n",
            "+-----------------------------------------------------------------------------------------+\n",
            "| NVIDIA-SMI 550.54.15              Driver Version: 550.54.15      CUDA Version: 12.4     |\n",
            "|-----------------------------------------+------------------------+----------------------+\n",
            "| GPU  Name                 Persistence-M | Bus-Id          Disp.A | Volatile Uncorr. ECC |\n",
            "| Fan  Temp   Perf          Pwr:Usage/Cap |           Memory-Usage | GPU-Util  Compute M. |\n",
            "|                                         |                        |               MIG M. |\n",
            "|=========================================+========================+======================|\n",
            "|   0  NVIDIA A100-SXM4-40GB          Off |   00000000:00:04.0 Off |                    0 |\n",
            "| N/A   37C    P0             49W /  400W |   30829MiB /  40960MiB |      0%      Default |\n",
            "|                                         |                        |             Disabled |\n",
            "+-----------------------------------------+------------------------+----------------------+\n",
            "                                                                                         \n",
            "+-----------------------------------------------------------------------------------------+\n",
            "| Processes:                                                                              |\n",
            "|  GPU   GI   CI        PID   Type   Process name                              GPU Memory |\n",
            "|        ID   ID                                                               Usage      |\n",
            "|=========================================================================================|\n",
            "+-----------------------------------------------------------------------------------------+\n",
            "Successfully loaded GPU!\n",
            "Your runtime has 89.6 gigabytes of available RAM\n",
            "\n",
            "You are using a high-RAM runtime!\n"
          ]
        }
      ],
      "source": [
        "gpu_info = !nvidia-smi\n",
        "gpu_info = '\\n'.join(gpu_info)\n",
        "if gpu_info.find('failed') >= 0:\n",
        "  print('Not connected to a GPU')\n",
        "else:\n",
        "  print(gpu_info)\n",
        "  print(\"Successfully loaded GPU!\")\n",
        "\n",
        "\n",
        "from psutil import virtual_memory\n",
        "ram_gb = virtual_memory().total / 1e9\n",
        "print('Your runtime has {:.1f} gigabytes of available RAM\\n'.format(ram_gb))\n",
        "\n",
        "if ram_gb < 20:\n",
        "  print('Not using a high-RAM runtime')\n",
        "else:\n",
        "  print('You are using a high-RAM runtime!')"
      ]
    },
    {
      "cell_type": "markdown",
      "metadata": {
        "id": "PFYMkD74Q3Tl"
      },
      "source": [
        "<font color='red'> **Please be sure to make a copy of this notebook in your own Google Drive so that your work is saved!** </font>"
      ]
    },
    {
      "cell_type": "markdown",
      "metadata": {
        "id": "oWOYqBF03aBE"
      },
      "source": [
        "# Introduction\n",
        "\n",
        "Your goal in this exercise is to detect emotion from a facial image. To that end, we will use the 2013 Facial Expression Recognition (FER) dataset.\n",
        "\n",
        "The dataset consists of ~36,000 images, each annotated with one of seven labels:\n",
        "* angry\n",
        "* disgust\n",
        "* fear\n",
        "* happy\n",
        "* sad\n",
        "* surprise\n",
        "* neutral\n",
        "\n",
        "The goal of this homework assignment is to walk you through how to:\n",
        "\n",
        "1. Use transfer learning with a Vision Transformer (ViT) model to detect emotion in facial images (Problems 1 and 2)\n",
        "2. Compare transfer learning with training a model from scratch (Problem 3)\n",
        "\n",
        "This assignment will help you understand the importance of pre-trained models and fine-tuning strategies when working with transformer-based architectures.\n",
        "\n",
        "But first, let's get the data."
      ]
    },
    {
      "cell_type": "code",
      "execution_count": null,
      "metadata": {
        "id": "kklgssFnY8Ob"
      },
      "outputs": [],
      "source": [
        "\n",
        "# download the dataset\n",
        "!wget -q -O fer2013.csv -P ./ \"https://dl.dropbox.com/scl/fi/e2ik6aryemboameq1rwwn/fer2013.csv?rlkey=ux7tyge6flk9nnuul9desizgf&dl=0\""
      ]
    },
    {
      "cell_type": "markdown",
      "metadata": {
        "id": "sGMwyHWIZhGi"
      },
      "source": [
        "The data has 35887 rows and 3 columns:\n",
        "* Emotion - encoded as the numbers 0 (anger) through 6 (neutral)\n",
        "* Pixels - A space-separated list of numbers representing the pixels of this image.\n",
        "* Usage - No need to worry about this column"
      ]
    },
    {
      "cell_type": "code",
      "execution_count": null,
      "metadata": {
        "colab": {
          "base_uri": "https://localhost:8080/",
          "height": 423
        },
        "id": "U5S29hLu7djK",
        "outputId": "e0d49d22-97be-4e08-e237-2a7ccfe8f3ed"
      },
      "outputs": [
        {
          "output_type": "execute_result",
          "data": {
            "text/plain": [
              "       emotion                                             pixels        Usage\n",
              "0            0  70 80 82 72 58 58 60 63 54 58 60 48 89 115 121...     Training\n",
              "1            0  151 150 147 155 148 133 111 140 170 174 182 15...     Training\n",
              "2            2  231 212 156 164 174 138 161 173 182 200 106 38...     Training\n",
              "3            4  24 32 36 30 32 23 19 20 30 41 21 22 32 34 21 1...     Training\n",
              "4            6  4 0 0 0 0 0 0 0 0 0 0 0 3 15 23 28 48 50 58 84...     Training\n",
              "...        ...                                                ...          ...\n",
              "35882        6  50 36 17 22 23 29 33 39 34 37 37 37 39 43 48 5...  PrivateTest\n",
              "35883        3  178 174 172 173 181 188 191 194 196 199 200 20...  PrivateTest\n",
              "35884        0  17 17 16 23 28 22 19 17 25 26 20 24 31 19 27 9...  PrivateTest\n",
              "35885        3  30 28 28 29 31 30 42 68 79 81 77 67 67 71 63 6...  PrivateTest\n",
              "35886        2  19 13 14 12 13 16 21 33 50 57 71 84 97 108 122...  PrivateTest\n",
              "\n",
              "[35887 rows x 3 columns]"
            ],
            "text/html": [
              "\n",
              "  <div id=\"df-8f6cc864-aeea-4c10-bd52-49b84a612cd5\" class=\"colab-df-container\">\n",
              "    <div>\n",
              "<style scoped>\n",
              "    .dataframe tbody tr th:only-of-type {\n",
              "        vertical-align: middle;\n",
              "    }\n",
              "\n",
              "    .dataframe tbody tr th {\n",
              "        vertical-align: top;\n",
              "    }\n",
              "\n",
              "    .dataframe thead th {\n",
              "        text-align: right;\n",
              "    }\n",
              "</style>\n",
              "<table border=\"1\" class=\"dataframe\">\n",
              "  <thead>\n",
              "    <tr style=\"text-align: right;\">\n",
              "      <th></th>\n",
              "      <th>emotion</th>\n",
              "      <th>pixels</th>\n",
              "      <th>Usage</th>\n",
              "    </tr>\n",
              "  </thead>\n",
              "  <tbody>\n",
              "    <tr>\n",
              "      <th>0</th>\n",
              "      <td>0</td>\n",
              "      <td>70 80 82 72 58 58 60 63 54 58 60 48 89 115 121...</td>\n",
              "      <td>Training</td>\n",
              "    </tr>\n",
              "    <tr>\n",
              "      <th>1</th>\n",
              "      <td>0</td>\n",
              "      <td>151 150 147 155 148 133 111 140 170 174 182 15...</td>\n",
              "      <td>Training</td>\n",
              "    </tr>\n",
              "    <tr>\n",
              "      <th>2</th>\n",
              "      <td>2</td>\n",
              "      <td>231 212 156 164 174 138 161 173 182 200 106 38...</td>\n",
              "      <td>Training</td>\n",
              "    </tr>\n",
              "    <tr>\n",
              "      <th>3</th>\n",
              "      <td>4</td>\n",
              "      <td>24 32 36 30 32 23 19 20 30 41 21 22 32 34 21 1...</td>\n",
              "      <td>Training</td>\n",
              "    </tr>\n",
              "    <tr>\n",
              "      <th>4</th>\n",
              "      <td>6</td>\n",
              "      <td>4 0 0 0 0 0 0 0 0 0 0 0 3 15 23 28 48 50 58 84...</td>\n",
              "      <td>Training</td>\n",
              "    </tr>\n",
              "    <tr>\n",
              "      <th>...</th>\n",
              "      <td>...</td>\n",
              "      <td>...</td>\n",
              "      <td>...</td>\n",
              "    </tr>\n",
              "    <tr>\n",
              "      <th>35882</th>\n",
              "      <td>6</td>\n",
              "      <td>50 36 17 22 23 29 33 39 34 37 37 37 39 43 48 5...</td>\n",
              "      <td>PrivateTest</td>\n",
              "    </tr>\n",
              "    <tr>\n",
              "      <th>35883</th>\n",
              "      <td>3</td>\n",
              "      <td>178 174 172 173 181 188 191 194 196 199 200 20...</td>\n",
              "      <td>PrivateTest</td>\n",
              "    </tr>\n",
              "    <tr>\n",
              "      <th>35884</th>\n",
              "      <td>0</td>\n",
              "      <td>17 17 16 23 28 22 19 17 25 26 20 24 31 19 27 9...</td>\n",
              "      <td>PrivateTest</td>\n",
              "    </tr>\n",
              "    <tr>\n",
              "      <th>35885</th>\n",
              "      <td>3</td>\n",
              "      <td>30 28 28 29 31 30 42 68 79 81 77 67 67 71 63 6...</td>\n",
              "      <td>PrivateTest</td>\n",
              "    </tr>\n",
              "    <tr>\n",
              "      <th>35886</th>\n",
              "      <td>2</td>\n",
              "      <td>19 13 14 12 13 16 21 33 50 57 71 84 97 108 122...</td>\n",
              "      <td>PrivateTest</td>\n",
              "    </tr>\n",
              "  </tbody>\n",
              "</table>\n",
              "<p>35887 rows × 3 columns</p>\n",
              "</div>\n",
              "    <div class=\"colab-df-buttons\">\n",
              "\n",
              "  <div class=\"colab-df-container\">\n",
              "    <button class=\"colab-df-convert\" onclick=\"convertToInteractive('df-8f6cc864-aeea-4c10-bd52-49b84a612cd5')\"\n",
              "            title=\"Convert this dataframe to an interactive table.\"\n",
              "            style=\"display:none;\">\n",
              "\n",
              "  <svg xmlns=\"http://www.w3.org/2000/svg\" height=\"24px\" viewBox=\"0 -960 960 960\">\n",
              "    <path d=\"M120-120v-720h720v720H120Zm60-500h600v-160H180v160Zm220 220h160v-160H400v160Zm0 220h160v-160H400v160ZM180-400h160v-160H180v160Zm440 0h160v-160H620v160ZM180-180h160v-160H180v160Zm440 0h160v-160H620v160Z\"/>\n",
              "  </svg>\n",
              "    </button>\n",
              "\n",
              "  <style>\n",
              "    .colab-df-container {\n",
              "      display:flex;\n",
              "      gap: 12px;\n",
              "    }\n",
              "\n",
              "    .colab-df-convert {\n",
              "      background-color: #E8F0FE;\n",
              "      border: none;\n",
              "      border-radius: 50%;\n",
              "      cursor: pointer;\n",
              "      display: none;\n",
              "      fill: #1967D2;\n",
              "      height: 32px;\n",
              "      padding: 0 0 0 0;\n",
              "      width: 32px;\n",
              "    }\n",
              "\n",
              "    .colab-df-convert:hover {\n",
              "      background-color: #E2EBFA;\n",
              "      box-shadow: 0px 1px 2px rgba(60, 64, 67, 0.3), 0px 1px 3px 1px rgba(60, 64, 67, 0.15);\n",
              "      fill: #174EA6;\n",
              "    }\n",
              "\n",
              "    .colab-df-buttons div {\n",
              "      margin-bottom: 4px;\n",
              "    }\n",
              "\n",
              "    [theme=dark] .colab-df-convert {\n",
              "      background-color: #3B4455;\n",
              "      fill: #D2E3FC;\n",
              "    }\n",
              "\n",
              "    [theme=dark] .colab-df-convert:hover {\n",
              "      background-color: #434B5C;\n",
              "      box-shadow: 0px 1px 3px 1px rgba(0, 0, 0, 0.15);\n",
              "      filter: drop-shadow(0px 1px 2px rgba(0, 0, 0, 0.3));\n",
              "      fill: #FFFFFF;\n",
              "    }\n",
              "  </style>\n",
              "\n",
              "    <script>\n",
              "      const buttonEl =\n",
              "        document.querySelector('#df-8f6cc864-aeea-4c10-bd52-49b84a612cd5 button.colab-df-convert');\n",
              "      buttonEl.style.display =\n",
              "        google.colab.kernel.accessAllowed ? 'block' : 'none';\n",
              "\n",
              "      async function convertToInteractive(key) {\n",
              "        const element = document.querySelector('#df-8f6cc864-aeea-4c10-bd52-49b84a612cd5');\n",
              "        const dataTable =\n",
              "          await google.colab.kernel.invokeFunction('convertToInteractive',\n",
              "                                                    [key], {});\n",
              "        if (!dataTable) return;\n",
              "\n",
              "        const docLinkHtml = 'Like what you see? Visit the ' +\n",
              "          '<a target=\"_blank\" href=https://colab.research.google.com/notebooks/data_table.ipynb>data table notebook</a>'\n",
              "          + ' to learn more about interactive tables.';\n",
              "        element.innerHTML = '';\n",
              "        dataTable['output_type'] = 'display_data';\n",
              "        await google.colab.output.renderOutput(dataTable, element);\n",
              "        const docLink = document.createElement('div');\n",
              "        docLink.innerHTML = docLinkHtml;\n",
              "        element.appendChild(docLink);\n",
              "      }\n",
              "    </script>\n",
              "  </div>\n",
              "\n",
              "\n",
              "<div id=\"df-15698c1b-f5dd-4c76-a69c-d79e04e1d910\">\n",
              "  <button class=\"colab-df-quickchart\" onclick=\"quickchart('df-15698c1b-f5dd-4c76-a69c-d79e04e1d910')\"\n",
              "            title=\"Suggest charts\"\n",
              "            style=\"display:none;\">\n",
              "\n",
              "<svg xmlns=\"http://www.w3.org/2000/svg\" height=\"24px\"viewBox=\"0 0 24 24\"\n",
              "     width=\"24px\">\n",
              "    <g>\n",
              "        <path d=\"M19 3H5c-1.1 0-2 .9-2 2v14c0 1.1.9 2 2 2h14c1.1 0 2-.9 2-2V5c0-1.1-.9-2-2-2zM9 17H7v-7h2v7zm4 0h-2V7h2v10zm4 0h-2v-4h2v4z\"/>\n",
              "    </g>\n",
              "</svg>\n",
              "  </button>\n",
              "\n",
              "<style>\n",
              "  .colab-df-quickchart {\n",
              "      --bg-color: #E8F0FE;\n",
              "      --fill-color: #1967D2;\n",
              "      --hover-bg-color: #E2EBFA;\n",
              "      --hover-fill-color: #174EA6;\n",
              "      --disabled-fill-color: #AAA;\n",
              "      --disabled-bg-color: #DDD;\n",
              "  }\n",
              "\n",
              "  [theme=dark] .colab-df-quickchart {\n",
              "      --bg-color: #3B4455;\n",
              "      --fill-color: #D2E3FC;\n",
              "      --hover-bg-color: #434B5C;\n",
              "      --hover-fill-color: #FFFFFF;\n",
              "      --disabled-bg-color: #3B4455;\n",
              "      --disabled-fill-color: #666;\n",
              "  }\n",
              "\n",
              "  .colab-df-quickchart {\n",
              "    background-color: var(--bg-color);\n",
              "    border: none;\n",
              "    border-radius: 50%;\n",
              "    cursor: pointer;\n",
              "    display: none;\n",
              "    fill: var(--fill-color);\n",
              "    height: 32px;\n",
              "    padding: 0;\n",
              "    width: 32px;\n",
              "  }\n",
              "\n",
              "  .colab-df-quickchart:hover {\n",
              "    background-color: var(--hover-bg-color);\n",
              "    box-shadow: 0 1px 2px rgba(60, 64, 67, 0.3), 0 1px 3px 1px rgba(60, 64, 67, 0.15);\n",
              "    fill: var(--button-hover-fill-color);\n",
              "  }\n",
              "\n",
              "  .colab-df-quickchart-complete:disabled,\n",
              "  .colab-df-quickchart-complete:disabled:hover {\n",
              "    background-color: var(--disabled-bg-color);\n",
              "    fill: var(--disabled-fill-color);\n",
              "    box-shadow: none;\n",
              "  }\n",
              "\n",
              "  .colab-df-spinner {\n",
              "    border: 2px solid var(--fill-color);\n",
              "    border-color: transparent;\n",
              "    border-bottom-color: var(--fill-color);\n",
              "    animation:\n",
              "      spin 1s steps(1) infinite;\n",
              "  }\n",
              "\n",
              "  @keyframes spin {\n",
              "    0% {\n",
              "      border-color: transparent;\n",
              "      border-bottom-color: var(--fill-color);\n",
              "      border-left-color: var(--fill-color);\n",
              "    }\n",
              "    20% {\n",
              "      border-color: transparent;\n",
              "      border-left-color: var(--fill-color);\n",
              "      border-top-color: var(--fill-color);\n",
              "    }\n",
              "    30% {\n",
              "      border-color: transparent;\n",
              "      border-left-color: var(--fill-color);\n",
              "      border-top-color: var(--fill-color);\n",
              "      border-right-color: var(--fill-color);\n",
              "    }\n",
              "    40% {\n",
              "      border-color: transparent;\n",
              "      border-right-color: var(--fill-color);\n",
              "      border-top-color: var(--fill-color);\n",
              "    }\n",
              "    60% {\n",
              "      border-color: transparent;\n",
              "      border-right-color: var(--fill-color);\n",
              "    }\n",
              "    80% {\n",
              "      border-color: transparent;\n",
              "      border-right-color: var(--fill-color);\n",
              "      border-bottom-color: var(--fill-color);\n",
              "    }\n",
              "    90% {\n",
              "      border-color: transparent;\n",
              "      border-bottom-color: var(--fill-color);\n",
              "    }\n",
              "  }\n",
              "</style>\n",
              "\n",
              "  <script>\n",
              "    async function quickchart(key) {\n",
              "      const quickchartButtonEl =\n",
              "        document.querySelector('#' + key + ' button');\n",
              "      quickchartButtonEl.disabled = true;  // To prevent multiple clicks.\n",
              "      quickchartButtonEl.classList.add('colab-df-spinner');\n",
              "      try {\n",
              "        const charts = await google.colab.kernel.invokeFunction(\n",
              "            'suggestCharts', [key], {});\n",
              "      } catch (error) {\n",
              "        console.error('Error during call to suggestCharts:', error);\n",
              "      }\n",
              "      quickchartButtonEl.classList.remove('colab-df-spinner');\n",
              "      quickchartButtonEl.classList.add('colab-df-quickchart-complete');\n",
              "    }\n",
              "    (() => {\n",
              "      let quickchartButtonEl =\n",
              "        document.querySelector('#df-15698c1b-f5dd-4c76-a69c-d79e04e1d910 button');\n",
              "      quickchartButtonEl.style.display =\n",
              "        google.colab.kernel.accessAllowed ? 'block' : 'none';\n",
              "    })();\n",
              "  </script>\n",
              "</div>\n",
              "\n",
              "  <div id=\"id_72872c42-275f-40b9-a4c5-50d9f9b9f652\">\n",
              "    <style>\n",
              "      .colab-df-generate {\n",
              "        background-color: #E8F0FE;\n",
              "        border: none;\n",
              "        border-radius: 50%;\n",
              "        cursor: pointer;\n",
              "        display: none;\n",
              "        fill: #1967D2;\n",
              "        height: 32px;\n",
              "        padding: 0 0 0 0;\n",
              "        width: 32px;\n",
              "      }\n",
              "\n",
              "      .colab-df-generate:hover {\n",
              "        background-color: #E2EBFA;\n",
              "        box-shadow: 0px 1px 2px rgba(60, 64, 67, 0.3), 0px 1px 3px 1px rgba(60, 64, 67, 0.15);\n",
              "        fill: #174EA6;\n",
              "      }\n",
              "\n",
              "      [theme=dark] .colab-df-generate {\n",
              "        background-color: #3B4455;\n",
              "        fill: #D2E3FC;\n",
              "      }\n",
              "\n",
              "      [theme=dark] .colab-df-generate:hover {\n",
              "        background-color: #434B5C;\n",
              "        box-shadow: 0px 1px 3px 1px rgba(0, 0, 0, 0.15);\n",
              "        filter: drop-shadow(0px 1px 2px rgba(0, 0, 0, 0.3));\n",
              "        fill: #FFFFFF;\n",
              "      }\n",
              "    </style>\n",
              "    <button class=\"colab-df-generate\" onclick=\"generateWithVariable('data')\"\n",
              "            title=\"Generate code using this dataframe.\"\n",
              "            style=\"display:none;\">\n",
              "\n",
              "  <svg xmlns=\"http://www.w3.org/2000/svg\" height=\"24px\"viewBox=\"0 0 24 24\"\n",
              "       width=\"24px\">\n",
              "    <path d=\"M7,19H8.4L18.45,9,17,7.55,7,17.6ZM5,21V16.75L18.45,3.32a2,2,0,0,1,2.83,0l1.4,1.43a1.91,1.91,0,0,1,.58,1.4,1.91,1.91,0,0,1-.58,1.4L9.25,21ZM18.45,9,17,7.55Zm-12,3A5.31,5.31,0,0,0,4.9,8.1,5.31,5.31,0,0,0,1,6.5,5.31,5.31,0,0,0,4.9,4.9,5.31,5.31,0,0,0,6.5,1,5.31,5.31,0,0,0,8.1,4.9,5.31,5.31,0,0,0,12,6.5,5.46,5.46,0,0,0,6.5,12Z\"/>\n",
              "  </svg>\n",
              "    </button>\n",
              "    <script>\n",
              "      (() => {\n",
              "      const buttonEl =\n",
              "        document.querySelector('#id_72872c42-275f-40b9-a4c5-50d9f9b9f652 button.colab-df-generate');\n",
              "      buttonEl.style.display =\n",
              "        google.colab.kernel.accessAllowed ? 'block' : 'none';\n",
              "\n",
              "      buttonEl.onclick = () => {\n",
              "        google.colab.notebook.generateWithVariable('data');\n",
              "      }\n",
              "      })();\n",
              "    </script>\n",
              "  </div>\n",
              "\n",
              "    </div>\n",
              "  </div>\n"
            ],
            "application/vnd.google.colaboratory.intrinsic+json": {
              "type": "dataframe",
              "variable_name": "data",
              "summary": "{\n  \"name\": \"data\",\n  \"rows\": 35887,\n  \"fields\": [\n    {\n      \"column\": \"emotion\",\n      \"properties\": {\n        \"dtype\": \"number\",\n        \"std\": 1,\n        \"min\": 0,\n        \"max\": 6,\n        \"num_unique_values\": 7,\n        \"samples\": [\n          0,\n          2,\n          5\n        ],\n        \"semantic_type\": \"\",\n        \"description\": \"\"\n      }\n    },\n    {\n      \"column\": \"pixels\",\n      \"properties\": {\n        \"dtype\": \"string\",\n        \"num_unique_values\": 34034,\n        \"samples\": [\n          \"34 40 24 31 27 18 26 21 28 86 131 143 146 143 135 126 141 153 136 132 138 134 131 135 133 134 124 118 109 99 92 87 79 65 59 37 25 30 21 15 10 28 79 79 81 81 80 77 42 29 31 33 21 22 27 19 36 100 129 134 145 151 143 149 166 163 147 154 154 148 146 140 135 134 127 124 114 105 100 93 81 67 57 47 33 25 20 22 15 17 69 76 81 81 81 78 35 32 32 30 25 29 23 24 49 118 118 138 156 157 158 178 182 162 169 168 156 154 147 143 139 134 132 126 119 111 103 100 85 69 59 43 42 26 18 17 15 16 58 80 79 80 81 81 31 34 30 24 30 27 22 25 79 122 131 160 167 175 186 189 181 177 177 168 162 162 152 144 138 137 133 127 123 115 104 99 89 74 59 44 37 34 18 16 14 8 45 80 78 79 80 79 39 30 23 32 37 26 27 36 91 136 174 178 183 187 187 186 187 184 177 172 168 165 157 147 143 142 135 130 123 114 101 98 90 76 62 48 32 33 21 15 15 9 38 73 78 77 77 76 37 28 33 40 30 27 33 49 123 184 187 188 186 188 190 189 188 184 179 173 173 169 160 154 147 145 138 131 127 110 100 97 89 75 61 51 35 28 19 14 15 9 33 65 74 76 76 76 46 40 46 37 27 31 43 70 178 189 188 185 188 190 191 187 188 182 177 176 172 168 161 156 151 144 140 133 129 113 101 95 86 76 63 53 41 24 17 12 16 11 27 65 77 78 75 73 35 38 38 30 34 42 51 125 198 185 190 189 189 191 190 188 185 182 177 177 174 170 165 158 150 143 139 135 126 118 108 97 82 72 64 56 42 28 16 13 15 11 23 68 79 75 72 70 35 40 33 36 39 50 83 167 190 186 190 190 187 187 188 186 186 180 174 178 177 173 168 159 152 146 142 136 131 122 108 99 85 74 63 53 45 39 22 12 14 10 26 66 74 73 71 70 47 40 40 42 45 62 128 186 184 184 183 184 183 178 178 176 180 176 172 173 177 175 169 161 152 145 143 140 133 127 114 102 91 75 64 55 48 42 30 12 14 11 24 63 69 73 70 68 38 45 36 50 43 89 163 188 195 198 196 183 176 177 180 181 179 174 170 168 174 175 170 165 155 145 144 146 139 131 122 109 95 75 64 54 49 46 36 15 13 11 24 64 64 68 66 67 45 43 40 59 48 134 186 170 147 128 117 102 103 96 88 112 148 158 149 152 161 171 169 167 158 147 147 148 145 135 131 124 105 83 68 58 54 49 42 15 12 14 17 63 62 63 64 67 54 30 65 53 78 182 179 158 152 162 177 193 195 166 118 61 48 60 84 101 138 163 170 166 161 152 148 149 147 144 143 134 112 82 58 47 43 46 51 14 12 14 13 58 64 62 65 68 47 32 77 46 136 191 185 199 207 208 206 201 198 203 200 183 141 97 95 105 136 158 172 172 171 160 152 148 153 147 135 106 73 32 15 16 23 25 36 15 11 14 17 50 65 63 67 69 28 42 61 65 181 191 193 193 192 191 193 198 195 158 135 122 140 166 164 158 167 179 181 184 173 162 153 151 153 141 110 92 56 53 76 77 66 49 40 16 11 16 22 47 66 64 68 68 27 49 39 120 195 193 197 193 190 184 179 150 77 72 73 83 63 84 141 168 179 194 199 197 185 169 147 143 145 150 155 137 133 141 129 121 89 55 60 18 11 17 22 43 66 66 68 67 37 32 45 172 194 194 201 196 187 187 134 122 137 132 78 120 132 92 121 160 157 194 208 211 197 173 133 95 86 94 65 63 73 44 46 47 51 56 58 17 12 17 24 36 67 66 68 65 44 12 77 193 186 195 196 196 193 184 162 163 161 120 125 144 169 93 76 165 168 197 205 214 199 164 97 46 42 33 63 47 83 81 60 42 52 49 59 16 12 17 24 29 65 65 66 65 46 8 105 194 188 193 188 185 183 183 189 185 165 139 122 128 107 90 100 150 186 191 196 207 193 147 68 41 34 48 56 60 65 103 60 29 52 57 59 14 13 19 25 24 58 64 64 64 43 7 124 192 185 190 186 180 179 181 188 201 199 183 166 139 133 127 132 134 168 179 191 196 181 135 63 38 43 53 71 66 72 67 54 52 46 61 58 10 15 20 24 22 55 64 62 61 37 8 133 191 185 192 187 181 177 178 180 188 189 182 170 154 138 132 131 147 161 170 187 190 174 130 70 39 37 45 62 83 89 78 74 60 63 68 53 8 16 20 22 22 56 65 60 60 32 8 137 188 189 195 193 191 184 176 174 173 169 169 163 154 151 150 152 162 166 170 183 186 176 136 77 47 46 44 50 62 78 80 68 65 67 74 50 8 16 20 23 20 51 62 58 57 33 6 137 192 190 199 201 200 192 180 171 166 163 161 158 155 155 157 161 170 171 173 182 186 176 146 100 76 63 56 55 61 67 70 72 77 75 77 42 7 17 19 25 18 43 65 59 56 34 10 137 192 190 200 203 199 194 188 179 171 166 160 160 158 160 164 166 172 172 174 179 183 175 143 103 90 87 81 71 64 70 76 78 81 78 75 32 8 20 18 23 18 30 67 64 58 30 11 132 192 189 193 196 195 195 194 188 178 170 164 163 162 163 167 172 179 181 176 176 179 168 144 109 91 88 90 92 85 73 73 77 77 73 71 21 11 19 18 23 18 20 57 58 54 32 6 132 190 184 190 193 194 195 193 188 183 177 169 166 164 166 171 179 192 189 177 175 175 164 145 119 97 88 88 92 95 93 78 70 70 68 63 12 14 19 16 24 20 15 45 48 42 29 16 131 185 185 191 191 194 195 194 192 186 180 174 169 170 168 172 181 189 179 176 174 173 163 146 125 100 82 86 89 92 94 97 81 60 64 48 7 16 20 15 22 24 14 33 46 40 48 47 133 184 185 191 191 192 196 196 194 192 185 177 172 168 167 169 179 174 161 169 178 179 166 152 130 97 71 82 90 99 104 104 97 72 60 30 9 17 20 17 22 25 15 24 40 42 65 48 131 183 184 190 191 193 195 197 195 192 187 179 173 166 164 165 179 178 176 181 193 193 172 163 137 92 74 86 106 118 115 109 97 87 70 13 13 17 20 18 20 27 18 19 30 36 62 44 122 182 183 190 192 194 197 197 196 195 192 184 173 164 162 166 185 200 193 190 193 197 180 167 119 88 92 114 135 133 120 109 93 85 75 24 12 18 20 15 19 24 21 19 23 27 62 44 111 184 179 188 191 193 195 200 201 201 197 186 173 166 167 176 177 176 167 179 195 187 182 145 108 122 89 121 140 137 124 108 90 83 61 50 22 17 18 15 18 19 21 21 19 22 65 47 103 180 181 188 192 193 199 205 205 200 196 187 175 171 176 180 179 171 176 187 195 187 142 59 41 55 65 100 129 134 126 106 87 78 50 53 47 18 16 15 18 17 23 27 16 34 68 47 96 173 183 188 193 200 204 205 204 202 195 187 180 180 180 182 184 182 181 180 179 163 132 69 53 58 60 71 104 126 123 100 84 68 47 53 57 37 12 14 19 16 22 33 17 36 70 48 82 166 181 192 197 203 204 204 203 200 195 192 188 185 186 188 187 184 182 176 151 156 164 95 58 55 58 63 77 104 116 92 83 55 50 54 54 54 20 13 18 17 18 33 24 21 64 56 60 154 181 196 198 201 203 203 203 201 198 196 190 184 185 186 187 184 178 172 138 136 155 90 56 54 54 62 74 80 95 87 74 48 53 54 54 56 40 13 17 18 17 26 29 18 66 56 50 129 184 191 197 197 200 201 203 202 198 190 187 187 192 196 191 187 180 172 156 136 130 102 64 52 60 76 77 83 69 69 63 49 54 54 54 53 53 26 14 21 20 19 34 20 68 56 48 69 186 188 195 196 197 201 201 197 191 188 171 129 137 146 141 140 134 140 132 117 102 112 113 64 92 112 84 82 60 41 33 56 53 55 54 53 54 42 15 20 20 16 31 24 66 56 37 15 147 198 192 198 198 198 194 192 189 185 173 170 145 130 137 133 116 102 94 100 72 61 58 65 104 112 95 72 54 20 11 45 56 54 54 52 52 53 24 16 19 16 29 29 68 50 28 9 59 201 189 198 200 194 193 190 189 186 184 189 196 184 175 170 153 128 109 119 90 68 65 78 105 118 92 61 33 9 14 21 53 54 54 52 51 56 38 16 24 18 25 32 67 32 25 25 6 128 210 191 194 193 194 191 190 188 187 184 187 191 190 178 161 146 130 121 102 83 81 87 95 110 91 40 9 17 17 14 32 56 53 52 52 54 52 20 20 22 21 33 58 21 29 22 23 17 161 204 188 194 194 194 194 192 190 187 186 184 181 173 160 159 155 154 136 109 87 86 88 93 79 29 15 19 15 17 15 47 53 52 53 53 57 30 18 24 23 32 45 18 29 23 27 19 34 170 201 188 192 194 194 193 191 190 191 185 178 163 158 152 156 154 133 110 88 82 87 77 50 56 28 14 17 16 12 30 54 52 53 53 57 41 18 23 24 32 33 20 28 26 24 27 47 60 154 204 187 192 195 194 199 202 194 186 176 165 163 144 132 126 116 96 79 83 75 49 55 60 48 12 21 18 16 17 48 52 53 54 58 49 19 24 22 30 27 17 33 29 24 32 65 64 58 132 199 193 189 200 206 204 199 190 176 169 161 146 124 102 76 67 83 73 50 56 58 57 57 28 20 20 15 12 36 54 52 54 57 56 22 22 21 24 27 16 35 28 21 46 66 65 73 64 109 180 198 198 200 202 204 197 186 174 164 154 133 101 60 49 58 55 53 63 57 59 56 47 20 17 16 12 25 53 53 55 57 58 27 19 23 18 30 18 28 33 20 52 66 68 73 83 81 100 152 197 203 201 197 194 185 170 162 157 139 104 67 44 19 47 55 60 53 58 56 57 27 13 18 14 18 48 52 56 56 59 33 18 22 21 32 16 26 33 24 55 65 66 70 75 90 92 86 123 159 181 187 186 178 168 167 160 139 97 53 42 27 25 50 59 54 57 57 60 36 12 21 14 15 45 54 55 55 61 39 19 22 21 37 16 23 29 30 64 69 66 68 72 83 79 82 93 100 111 121 122 122 129 136 131 113 55 55 51 32 18 38 60 57 59 60 62 44 15 20 15 13 41 55 56 57 59 42 18 24 18\",\n          \"30 31 31 31 31 31 32 32 32 34 41 46 35 60 70 51 58 110 101 77 60 53 51 42 43 47 38 26 19 14 14 14 17 21 20 20 17 20 21 26 35 35 34 33 31 29 27 27 30 31 31 31 31 31 32 32 33 38 46 36 49 63 55 60 113 103 74 72 63 53 44 43 41 32 24 19 16 13 11 12 13 15 19 21 20 20 19 20 29 36 35 33 31 29 28 28 30 31 31 31 31 32 33 34 35 40 40 34 39 50 56 116 97 65 59 50 43 35 33 40 30 16 14 15 16 15 11 9 10 12 16 17 20 19 18 16 17 31 36 34 32 30 28 28 30 31 31 31 32 32 35 36 42 37 29 24 39 53 96 108 66 76 76 64 53 52 45 35 23 13 8 4 2 3 9 11 12 11 14 17 18 20 19 21 15 17 37 35 33 30 28 28 30 31 31 31 31 32 36 38 42 23 17 16 30 65 137 141 155 158 148 145 145 149 144 129 118 112 100 83 68 41 7 3 10 13 13 14 17 18 21 24 24 15 24 37 33 30 29 28 30 31 31 31 31 32 33 41 30 13 7 9 53 134 181 192 201 199 192 192 192 194 194 185 178 173 165 155 141 125 89 39 8 6 12 12 15 17 17 21 28 19 10 33 35 31 29 28 30 31 31 31 31 33 35 42 24 14 10 69 154 193 204 206 207 206 202 200 200 198 194 189 185 172 159 153 144 132 127 118 75 26 10 11 11 16 17 15 24 29 9 20 36 32 29 28 30 30 31 32 32 33 43 36 25 10 43 154 195 196 201 207 208 208 206 202 202 200 196 192 187 175 164 155 149 141 134 131 120 85 37 14 14 14 18 18 15 25 17 6 30 33 29 28 30 30 32 32 32 33 43 34 19 8 112 188 191 198 203 207 207 206 204 202 201 200 196 193 188 180 170 163 153 143 139 138 126 104 73 28 16 15 14 16 19 18 19 1 17 32 29 28 30 30 31 32 31 33 46 27 8 37 167 189 193 199 206 208 206 203 203 202 200 199 197 193 188 180 172 166 156 148 143 139 127 113 89 43 18 14 16 14 21 24 10 0 6 28 31 28 30 31 31 31 32 36 44 20 6 78 184 189 194 200 206 207 205 203 202 201 202 201 197 191 187 182 175 168 159 149 143 138 125 114 104 72 35 14 15 17 16 23 9 0 1 20 32 28 30 31 31 32 32 39 40 12 7 97 185 189 196 201 205 208 207 204 204 204 204 204 199 193 190 185 178 171 163 153 144 136 126 114 104 97 76 36 14 16 17 21 19 19 8 14 32 28 30 30 31 32 32 40 43 10 11 97 185 189 195 200 204 207 210 210 207 206 206 205 201 194 188 185 182 176 171 159 147 142 131 113 104 98 89 69 29 16 20 21 23 60 43 8 30 29 30 30 31 31 31 41 49 8 11 94 184 190 195 199 203 208 212 213 208 207 207 207 204 195 187 183 174 156 137 115 105 111 116 117 108 100 93 80 47 16 20 22 24 33 43 18 26 31 30 31 31 32 30 49 62 8 8 85 180 189 194 198 205 208 210 211 207 206 206 204 199 193 167 133 95 73 73 79 85 83 79 85 100 102 96 87 60 21 18 20 22 26 48 38 25 33 30 31 31 32 31 49 71 9 6 76 174 188 192 200 208 213 213 209 205 203 203 196 190 179 127 81 72 85 104 118 113 106 98 85 90 102 99 93 77 29 16 18 19 24 37 43 28 37 30 30 30 32 29 48 79 11 6 59 165 185 195 205 203 192 177 186 198 195 196 188 177 153 105 81 72 64 68 59 48 46 57 83 93 98 100 97 89 46 19 17 19 18 32 45 22 39 30 31 31 32 30 52 77 19 7 42 154 187 172 143 123 97 95 123 168 186 190 183 163 119 85 72 53 79 89 25 45 68 30 55 97 110 109 101 94 72 32 22 17 17 23 43 13 34 31 31 31 32 32 57 80 29 1 18 148 163 105 109 116 115 108 112 134 169 193 192 161 102 81 77 66 162 126 55 77 86 70 89 123 134 122 106 97 90 62 29 22 14 17 29 10 24 30 31 31 33 33 56 77 31 0 7 126 127 142 169 136 91 70 67 80 140 193 198 162 106 95 115 122 150 149 131 117 112 121 144 153 143 127 109 98 91 83 45 27 13 20 20 7 16 30 30 31 32 33 53 71 33 8 16 97 147 165 113 58 86 76 38 82 129 190 196 164 118 115 133 154 149 144 143 139 145 160 165 157 139 123 111 99 90 88 60 29 14 23 24 10 14 30 30 30 31 33 53 63 35 9 19 94 170 139 44 111 163 66 75 132 165 194 194 166 130 121 131 146 157 160 164 172 180 181 171 153 135 121 110 99 89 85 66 31 19 26 31 13 13 30 30 30 31 32 59 64 35 9 19 88 173 151 87 122 151 144 155 149 183 199 196 167 136 125 126 145 162 174 182 183 182 178 165 149 133 120 108 100 87 84 66 30 30 29 40 19 12 30 30 30 32 34 61 65 40 15 13 81 168 180 169 163 163 153 146 177 190 196 200 165 134 120 120 142 163 167 177 183 182 176 162 145 130 116 106 100 87 83 63 34 38 29 38 25 10 30 30 30 32 35 63 66 41 21 6 62 168 190 190 186 179 177 194 204 187 192 203 175 145 120 114 127 146 162 171 175 177 172 160 142 127 111 102 99 88 83 59 36 36 28 32 23 7 30 30 31 32 37 68 70 38 25 11 46 164 184 194 201 203 205 207 199 186 191 204 189 159 123 117 130 118 132 154 162 167 164 152 136 119 106 98 97 91 84 50 11 28 23 27 19 9 30 30 31 33 38 67 64 41 26 17 30 147 177 188 198 204 208 205 197 184 189 206 196 165 131 123 134 101 88 123 144 154 153 141 126 113 101 96 95 93 80 61 20 22 20 24 18 9 30 30 31 31 38 67 63 45 26 14 7 105 174 179 190 198 203 199 182 175 188 196 185 145 102 89 77 72 77 98 117 134 138 130 119 103 94 93 92 93 77 65 43 21 20 22 15 5 30 30 30 32 39 66 60 46 28 12 1 56 163 174 185 189 193 185 151 154 160 148 149 105 75 65 68 81 87 95 103 106 117 119 108 95 89 90 89 93 79 38 27 30 19 19 15 8 30 30 30 30 39 71 58 47 27 10 5 17 136 171 178 183 180 164 129 154 149 108 110 86 71 79 87 92 100 101 103 109 111 116 112 97 91 86 89 95 74 39 11 30 22 16 12 9 30 30 30 30 45 71 56 43 27 7 6 2 77 164 167 171 167 144 124 168 185 171 155 140 119 117 113 114 117 108 98 88 103 130 127 106 90 84 90 93 66 40 13 26 23 16 13 8 30 31 31 30 47 68 54 41 24 6 5 2 61 153 158 160 153 127 118 171 182 185 194 192 180 159 110 84 74 72 53 41 105 135 133 102 84 86 90 88 57 41 12 26 25 15 12 7 30 31 30 29 47 66 51 42 23 5 7 7 85 118 153 148 143 110 124 184 190 182 155 132 120 88 86 106 115 98 71 101 127 125 130 98 84 88 88 80 46 42 10 21 26 15 12 8 31 30 30 30 49 63 50 40 23 3 7 10 76 64 138 146 144 111 142 156 122 95 123 143 156 167 205 172 138 108 108 120 118 123 128 97 87 87 84 65 44 44 7 25 29 13 14 10 31 31 31 32 51 58 49 38 21 3 11 10 56 46 107 151 147 132 148 145 78 78 188 207 215 185 159 124 130 115 103 108 116 122 120 94 88 84 79 49 47 36 5 24 33 13 15 10 31 32 31 35 48 50 46 30 16 5 13 18 27 33 63 144 142 143 153 186 181 152 153 162 169 150 147 145 106 87 95 109 114 116 106 91 87 79 66 38 53 31 6 22 32 18 16 10 31 31 31 35 48 48 39 23 14 5 15 22 24 35 25 117 141 139 151 176 180 155 151 176 168 152 137 105 78 88 101 108 112 111 97 85 79 73 45 43 53 23 6 25 32 22 19 10 31 31 31 35 44 41 40 22 15 7 21 28 24 37 24 55 141 137 151 166 174 167 143 128 124 111 87 79 89 101 104 114 116 100 87 76 71 59 31 55 43 14 6 26 36 22 21 14 31 31 29 37 43 40 38 18 13 11 25 30 27 34 33 7 82 145 145 161 165 167 157 136 116 107 97 110 118 118 124 127 111 92 78 69 65 35 41 53 29 8 8 27 35 26 19 15 31 31 30 38 43 39 38 19 15 14 29 31 29 29 32 14 7 105 144 149 162 163 158 152 149 149 147 150 147 140 137 126 99 80 67 62 41 26 53 43 21 9 11 28 36 29 18 13 30 31 31 37 39 34 43 19 13 18 37 31 27 25 32 16 2 22 115 143 153 165 165 163 168 172 170 164 156 143 130 107 81 64 57 45 22 46 49 34 17 8 12 30 42 32 19 15 30 30 31 38 36 28 44 22 14 18 42 35 26 21 29 12 6 5 38 109 136 152 165 170 174 172 162 153 144 132 107 80 59 51 42 23 38 51 42 29 16 6 15 29 39 36 22 18 30 30 29 39 33 30 46 26 16 18 45 40 26 16 26 12 6 6 12 38 92 125 146 162 164 157 139 126 125 102 73 56 46 36 25 39 49 46 39 27 14 10 21 28 40 36 21 20 30 30 31 39 34 29 48 33 16 19 45 37 28 14 26 10 11 4 6 26 34 65 102 118 129 126 110 104 91 65 47 37 31 29 43 49 49 47 39 28 12 13 21 26 44 36 23 22 30 30 29 36 33 32 47 31 19 17 44 37 31 15 24 10 8 5 14 34 30 31 61 111 92 77 67 60 48 37 27 27 39 53 51 47 49 50 36 27 11 15 20 27 46 35 24 26 30 30 29 34 36 36 43 30 18 17 44 39 30 14 26 15 11 2 27 36 47 33 23 95 138 102 80 59 44 35 39 56 62 57 49 47 57 51 36 25 11 19 24 27 43 33 26 28 29 29 32 37 35 36 42 24 15 17 47 40 30 15 25 14 14 9 24 26 48 38 17 49 129 131 110 98 86 83 82 77 69 60 56 60 62 49 37 17 16 22 26 28 46 33 24 29 29 28 31 39 35 41 40 22 17 16 44 41 30 18 25 12 10 16 22 27 43 42 23 41 110 140 127 116 111 105 96 88 78 70 71 67 61 52 34 19 22 21 25 33 48 34 25 30\",\n          \"172 170 169 140 56 27 43 49 40 22 29 30 30 46 55 88 115 129 135 134 144 143 138 137 148 165 160 145 148 141 136 139 123 97 89 73 47 28 20 26 16 13 13 14 14 12 10 10 172 170 166 109 43 34 36 35 18 22 14 21 42 65 98 120 132 138 137 144 153 161 162 157 164 167 163 160 152 150 145 149 137 118 107 85 62 51 31 31 21 11 12 9 11 14 12 11 170 168 154 74 36 37 34 23 20 13 21 37 59 100 123 134 139 143 149 154 160 170 175 174 175 170 169 168 160 159 154 152 146 133 117 107 90 66 53 37 24 22 15 10 9 10 12 12 167 167 123 52 43 42 29 20 10 17 32 58 87 112 129 138 147 158 161 167 174 180 183 182 182 180 170 168 168 169 166 159 146 140 127 115 105 101 88 64 49 37 17 12 11 11 12 12 165 157 87 44 56 35 20 14 11 24 51 76 98 118 134 144 159 165 163 175 182 184 184 186 189 183 173 175 175 175 170 163 156 141 135 118 112 110 96 91 76 56 48 26 16 11 9 10 168 129 55 51 63 27 14 8 14 34 60 89 107 128 142 155 165 169 173 183 193 193 192 192 194 190 187 180 179 177 174 172 159 139 133 113 117 119 115 103 83 66 55 41 23 10 11 11 159 90 45 54 52 22 10 10 23 55 75 95 122 137 148 157 169 175 185 187 189 187 192 197 194 195 192 192 190 185 178 173 163 146 134 133 131 121 109 110 100 85 66 38 31 23 12 12 121 66 49 57 43 18 10 11 43 79 94 107 122 133 147 162 173 175 181 188 185 189 196 197 196 196 192 190 188 186 182 175 167 153 143 143 130 129 127 119 111 96 82 58 34 27 13 13 91 47 49 53 36 12 12 17 56 82 102 114 125 139 149 163 175 174 177 186 187 191 195 194 194 193 188 185 185 185 182 175 167 153 148 148 144 137 138 129 126 115 89 62 42 26 19 15 81 48 52 38 29 13 10 16 54 93 112 114 127 135 147 164 178 177 175 186 185 189 194 195 198 195 190 190 184 183 182 175 169 161 150 145 147 142 135 134 135 124 100 65 45 32 24 12 62 51 46 31 19 14 10 13 68 109 114 120 128 140 147 161 172 173 177 186 183 189 190 195 196 194 193 192 183 178 185 174 165 163 159 153 145 142 138 134 129 118 106 84 41 33 26 11 52 49 42 27 14 12 9 12 74 107 117 126 144 158 161 170 178 172 181 195 191 188 192 197 189 191 196 197 180 178 184 173 168 163 163 163 152 148 142 134 125 112 100 87 70 55 33 17 51 49 36 20 13 10 9 16 74 113 125 130 150 164 181 189 184 178 191 196 193 191 194 199 195 191 198 207 189 173 186 176 176 174 174 168 159 154 143 132 122 115 100 92 84 73 35 18 58 50 36 16 14 10 9 16 86 114 110 112 104 121 131 137 144 168 182 177 173 188 192 197 190 176 180 187 185 179 174 165 157 148 143 153 145 131 129 122 121 116 108 99 95 88 53 27 53 43 33 22 12 13 7 25 93 107 128 132 136 113 92 84 91 115 151 144 143 177 191 194 184 160 146 148 141 129 118 106 104 112 128 144 141 138 127 119 119 119 115 106 97 96 78 37 47 35 33 23 10 14 5 38 106 122 138 154 168 166 159 129 105 102 120 128 139 170 186 184 175 154 137 127 103 90 88 95 127 159 168 164 161 153 140 132 128 114 116 113 104 101 98 53 41 35 31 13 11 13 5 59 117 118 130 147 145 155 161 157 140 127 124 129 131 158 189 191 172 150 135 132 120 122 141 163 180 177 163 162 159 148 134 128 125 128 125 123 112 99 98 133 39 36 22 14 12 12 10 79 119 114 103 101 124 150 147 138 126 128 134 131 133 149 189 195 174 159 147 141 128 126 125 135 154 155 144 140 140 130 127 118 111 119 128 129 116 87 153 196 37 35 24 14 11 10 18 97 121 111 92 111 118 131 142 138 124 130 131 140 140 152 184 191 178 164 147 133 112 109 83 101 139 151 150 153 152 130 112 99 102 113 132 129 139 101 183 187 40 31 22 14 11 6 32 116 134 111 66 29 9 39 157 166 155 132 120 137 148 158 181 189 179 161 148 122 113 99 85 38 51 68 149 131 113 103 94 87 92 105 136 178 181 102 179 195 40 27 19 14 11 4 46 133 145 104 58 62 62 60 206 216 180 146 137 142 157 166 182 188 179 163 154 141 112 105 138 88 67 107 170 120 74 51 65 97 129 119 177 198 159 80 160 195 41 26 23 12 12 4 59 139 145 137 145 107 94 113 133 143 152 154 163 167 164 167 181 183 177 168 167 163 145 131 130 144 146 137 130 144 148 136 137 147 153 127 191 200 170 77 134 200 53 27 12 10 12 4 71 145 149 163 155 138 125 127 134 144 148 165 184 174 167 166 180 179 167 161 170 171 177 167 141 133 140 137 146 152 157 160 162 167 161 129 196 200 169 94 124 208 57 21 11 10 12 5 92 147 157 164 164 159 156 153 155 160 183 200 183 169 159 167 176 174 162 150 157 170 178 192 195 185 172 165 166 171 173 182 178 178 165 145 211 201 185 106 97 202 59 16 10 11 10 7 100 151 163 169 172 170 167 169 177 188 200 195 177 161 160 167 171 173 166 153 145 169 173 191 201 203 202 198 198 197 193 192 185 182 160 167 216 199 187 117 71 188 47 12 11 11 11 9 101 152 169 180 181 184 187 193 198 197 203 199 172 158 174 179 183 185 174 152 131 149 181 196 206 207 209 206 204 203 199 190 183 182 148 171 212 187 169 103 72 177 39 12 11 11 11 7 101 153 166 177 182 190 195 203 208 213 212 194 156 162 190 216 209 200 186 154 142 134 146 206 216 219 216 211 208 203 200 196 190 175 154 208 203 171 136 98 129 194 32 13 11 11 11 3 89 156 159 173 182 193 201 207 220 219 203 170 170 176 187 205 200 186 188 187 188 176 134 148 213 220 218 215 207 202 200 201 193 159 188 209 192 167 120 94 152 210 32 12 11 11 12 2 67 154 158 172 185 196 206 214 216 209 179 178 187 167 160 171 176 165 161 180 184 191 167 111 182 215 216 216 210 206 202 200 174 172 219 205 187 166 127 93 189 215 28 12 11 10 13 4 45 144 157 171 184 194 203 209 206 193 176 167 118 83 85 143 153 129 110 77 80 150 172 112 176 216 216 216 206 204 201 183 161 202 220 209 193 165 108 105 197 203 27 12 10 9 12 3 25 134 155 171 184 191 202 206 202 189 190 162 146 162 174 193 162 177 191 181 182 165 138 135 196 211 213 211 203 198 178 162 201 217 214 207 187 164 116 160 199 188 29 11 10 12 6 24 45 111 157 166 179 192 196 200 197 193 186 171 156 147 172 206 186 191 184 167 157 151 156 181 192 203 212 204 196 178 157 200 218 213 208 195 178 150 117 192 197 176 26 9 11 9 14 76 11 77 155 159 175 184 191 193 192 188 180 171 162 155 167 185 172 178 172 158 165 176 184 188 191 193 199 192 180 152 197 224 221 211 204 183 170 152 123 170 179 160 26 11 15 2 60 41 0 46 140 155 166 179 184 184 179 180 166 160 149 147 156 159 158 164 161 162 166 175 180 185 187 185 187 172 144 168 210 222 217 208 199 174 168 162 150 155 160 147 26 11 14 13 71 11 9 20 123 151 160 169 175 167 164 164 141 144 146 157 172 168 185 180 164 162 158 158 165 169 168 165 159 140 179 218 218 216 212 205 182 164 166 161 156 151 145 144 21 12 11 26 69 3 13 7 94 142 155 166 166 156 157 139 138 140 147 173 184 198 209 197 194 186 175 167 160 153 135 121 106 170 223 220 222 216 210 199 169 161 168 162 155 142 135 147 20 10 14 29 67 6 13 3 71 136 144 159 160 151 138 119 130 133 140 144 157 172 162 162 158 147 143 142 142 129 106 58 138 220 221 223 217 213 213 195 169 166 177 162 145 124 139 140 18 10 14 16 52 15 10 5 47 128 132 147 156 153 131 106 99 124 132 137 131 130 135 132 132 134 132 141 125 93 56 103 216 219 221 221 216 210 203 189 171 169 169 155 134 131 152 139 17 11 16 19 33 33 7 10 25 109 128 138 154 158 130 95 119 148 164 168 174 173 179 186 184 195 184 155 137 104 102 207 219 223 224 218 215 203 192 181 172 166 159 151 139 152 148 125 20 11 14 24 18 31 17 12 10 73 134 129 144 159 142 118 119 130 153 172 191 195 198 212 192 184 155 133 117 74 173 222 221 221 222 216 209 197 187 174 168 161 157 149 145 149 133 100 20 13 11 20 25 15 16 10 16 41 119 129 133 147 147 139 126 119 125 147 160 166 159 166 152 133 119 106 77 138 226 218 225 224 218 215 200 188 180 171 165 159 152 146 147 136 113 110 16 15 14 13 20 19 14 10 19 13 69 131 122 136 140 144 129 120 122 133 135 135 133 128 122 118 114 107 127 213 222 226 227 223 216 209 196 184 176 166 160 155 145 138 139 123 116 129 24 15 16 13 14 19 11 13 15 10 23 109 120 127 136 139 130 126 133 136 130 127 133 131 135 142 136 119 182 227 226 228 223 218 214 207 190 178 171 164 153 151 142 135 127 119 127 130 47 24 22 20 15 18 17 13 15 20 6 50 121 118 129 135 132 131 133 136 138 139 150 154 163 164 144 164 220 222 229 226 220 214 210 203 187 175 166 154 151 149 134 126 123 128 127 115 64 50 33 24 21 22 25 25 26 18 13 5 81 125 121 137 135 136 139 146 150 159 166 171 174 171 157 204 226 224 224 219 213 214 208 194 183 173 161 149 148 141 129 121 120 126 115 91 66 65 57 42 28 25 28 29 30 22 13 7 14 98 124 134 137 135 141 153 160 162 165 168 179 178 174 212 224 227 225 218 216 210 205 195 180 169 159 147 141 131 121 115 118 117 103 57 68 69 67 59 43 33 29 29 33 32 21 10 5 26 100 122 134 138 141 150 158 163 161 157 173 176 183 214 218 219 220 215 211 207 200 190 176 165 153 142 132 123 115 113 114 108 82 15 73 67 67 65 57 47 37 34 39 38 34 13 9 19 57 98 116 133 137 141 150 158 158 154 163 162 180 217 213 213 212 215 212 204 192 178 168 158 147 135 121 113 113 112 108 105 53 11\"\n        ],\n        \"semantic_type\": \"\",\n        \"description\": \"\"\n      }\n    },\n    {\n      \"column\": \"Usage\",\n      \"properties\": {\n        \"dtype\": \"category\",\n        \"num_unique_values\": 3,\n        \"samples\": [\n          \"Training\",\n          \"PublicTest\",\n          \"PrivateTest\"\n        ],\n        \"semantic_type\": \"\",\n        \"description\": \"\"\n      }\n    }\n  ]\n}"
            }
          },
          "metadata": {},
          "execution_count": 25
        }
      ],
      "source": [
        "data = pd.read_csv('fer2013.csv')\n",
        "data"
      ]
    },
    {
      "cell_type": "markdown",
      "metadata": {
        "id": "jmam5zVrqLnp"
      },
      "source": [
        "The pixel values for each image is provided as a space-separated list of numbers. How many pixels in an image?"
      ]
    },
    {
      "cell_type": "code",
      "execution_count": null,
      "metadata": {
        "colab": {
          "base_uri": "https://localhost:8080/"
        },
        "id": "bB5sxzlcqekw",
        "outputId": "a3f96efa-52f7-47ef-d2bb-84bfd9b31891"
      },
      "outputs": [
        {
          "output_type": "execute_result",
          "data": {
            "text/plain": [
              "2304"
            ]
          },
          "metadata": {},
          "execution_count": 26
        }
      ],
      "source": [
        "len(data.loc[0, 'pixels'].split(' '))"
      ]
    },
    {
      "cell_type": "markdown",
      "metadata": {
        "id": "BtEmyeIL7o9V"
      },
      "source": [
        "### Pre-Processing the Pixels (Independent Variable)\n",
        "\n",
        "Each image is encoded as a list of 2304 pixels. We will reshape this into an 48x48 image next.\n",
        "\n",
        "Recall that a color image is represented as a tensor of dimension N by M by 3, where the 3 represents the 3 color channels (red, green and blue). Our images from the FER 2013 dataset are grayscale images, with only a single channel representing the amount of black in the image. This is inconvenient to work with because many pre-trained models used in transfer learning, such as the one we will use in Problem 4, require the input image to have 3 channels.\n",
        "\n",
        "To get around this, we will take each image, a 48 x 48 tensor and transform it into a 48 x 48 x 3 tensor by simply duplicating it three times. We can think of a greyscale image is one where the red, green and blue color channels are exactly the same.\n",
        "\n",
        "The following code transforms our dataset into a tensor of shape (35887, 48, 48, 3): a list of 35887 images, each of which are a (48, 48, 3)-shape tensor."
      ]
    },
    {
      "cell_type": "code",
      "execution_count": null,
      "metadata": {
        "colab": {
          "base_uri": "https://localhost:8080/"
        },
        "id": "sG4mAu4k-k86",
        "outputId": "a53e80aa-d86a-445a-8bb1-4e5d4f868e5c"
      },
      "outputs": [
        {
          "output_type": "execute_result",
          "data": {
            "text/plain": [
              "(35887, 48, 48, 3)"
            ]
          },
          "metadata": {},
          "execution_count": 27
        }
      ],
      "source": [
        "pixels = data['pixels'].tolist()\n",
        "width, height = 48, 48\n",
        "faces = []\n",
        "for pixel_sequence in pixels:\n",
        "    face = [int(pixel) for pixel in pixel_sequence.split(' ')] # read each face as a 1-d array\n",
        "    face = np.asarray(face).reshape(width, height) # reshape the length 2304 1-d array into an 48x48 array\n",
        "    face = np.stack((face,)*3, axis=-1)\n",
        "    faces.append(face.astype('float32'))\n",
        "\n",
        "faces = np.asarray(faces)\n",
        "faces.shape"
      ]
    },
    {
      "cell_type": "markdown",
      "metadata": {
        "id": "likfKGSaJ0mq"
      },
      "source": [
        "For the first image, i.e. `faces[0]`, we can examine its first channel (corresponding to \"red\")."
      ]
    },
    {
      "cell_type": "code",
      "execution_count": null,
      "metadata": {
        "colab": {
          "base_uri": "https://localhost:8080/"
        },
        "id": "Eb5gYVXZHx1p",
        "outputId": "3d745ce8-73d9-403c-b2bd-09ee93e18e3b"
      },
      "outputs": [
        {
          "output_type": "execute_result",
          "data": {
            "text/plain": [
              "array([[ 70.,  80.,  82., ...,  52.,  43.,  41.],\n",
              "       [ 65.,  61.,  58., ...,  56.,  52.,  44.],\n",
              "       [ 50.,  43.,  54., ...,  49.,  56.,  47.],\n",
              "       ...,\n",
              "       [ 91.,  65.,  42., ...,  72.,  56.,  43.],\n",
              "       [ 77.,  82.,  79., ..., 105.,  70.,  46.],\n",
              "       [ 77.,  72.,  84., ..., 106., 109.,  82.]], dtype=float32)"
            ]
          },
          "metadata": {},
          "execution_count": 28
        }
      ],
      "source": [
        "faces[0, :, :, 0]"
      ]
    },
    {
      "cell_type": "markdown",
      "metadata": {
        "id": "_2mKW0xZJ-HB"
      },
      "source": [
        "This is the exact same as the second channel (corresponding to \"blue\"). And similarly for green."
      ]
    },
    {
      "cell_type": "code",
      "execution_count": null,
      "metadata": {
        "colab": {
          "base_uri": "https://localhost:8080/",
          "height": 553
        },
        "id": "uCHDOZcqH9fH",
        "outputId": "cb9035fb-ef45-4337-a764-66ef17f29312"
      },
      "outputs": [
        {
          "output_type": "display_data",
          "data": {
            "text/plain": [
              "<Figure size 640x480 with 1 Axes>"
            ],
            "image/png": "[encoded data removed]"
          },
          "metadata": {}
        },
        {
          "output_type": "execute_result",
          "data": {
            "text/plain": [
              "array([[ 70.,  80.,  82., ...,  52.,  43.,  41.],\n",
              "       [ 65.,  61.,  58., ...,  56.,  52.,  44.],\n",
              "       [ 50.,  43.,  54., ...,  49.,  56.,  47.],\n",
              "       ...,\n",
              "       [ 91.,  65.,  42., ...,  72.,  56.,  43.],\n",
              "       [ 77.,  82.,  79., ..., 105.,  70.,  46.],\n",
              "       [ 77.,  72.,  84., ..., 106., 109.,  82.]], dtype=float32)"
            ]
          },
          "metadata": {},
          "execution_count": 29
        }
      ],
      "source": [
        "# show image\n",
        "plt.imshow(faces[0, :, :, 1].astype('uint8'))\n",
        "plt.show()\n",
        "faces[0, :, :, 1]"
      ]
    },
    {
      "cell_type": "markdown",
      "metadata": {
        "id": "T3rDhcpVrIVh"
      },
      "source": [
        "### Pre-Processing for Emotions (Dependent Variable)\n",
        "\n",
        "Next, let's take a look at how emotion (the dependent variable) is encoded. We have that 0 = 'angry', 1 = 'disgust', ... 6 = 'neutral'."
      ]
    },
    {
      "cell_type": "code",
      "execution_count": null,
      "metadata": {
        "colab": {
          "base_uri": "https://localhost:8080/"
        },
        "id": "fMRxvh9grOBW",
        "outputId": "8bcbcb0e-3dd7-40b1-ed21-79458ca6cdd7"
      },
      "outputs": [
        {
          "output_type": "execute_result",
          "data": {
            "text/plain": [
              "array([0, 2, 4, 6, 3, 5, 1])"
            ]
          },
          "metadata": {},
          "execution_count": 30
        }
      ],
      "source": [
        "data.emotion.unique()"
      ]
    },
    {
      "cell_type": "markdown",
      "metadata": {
        "id": "xZb-BpG6rjpa"
      },
      "source": [
        "We will convert emotion to a one-hot encoding using the `pd.get_dummies` function."
      ]
    },
    {
      "cell_type": "code",
      "execution_count": null,
      "metadata": {
        "colab": {
          "base_uri": "https://localhost:8080/"
        },
        "id": "2O9Mj_fkrGig",
        "outputId": "11a82c6f-8615-404d-9279-c945d390e751"
      },
      "outputs": [
        {
          "output_type": "execute_result",
          "data": {
            "text/plain": [
              "(35887, 7)"
            ]
          },
          "metadata": {},
          "execution_count": 31
        }
      ],
      "source": [
        "emotions = pd.get_dummies(data['emotion']).to_numpy() # each emotion is 'one-hot' encoded as a 7-dim vector\n",
        "emotions_names = ('angry', 'disgust', 'fear', 'happy', 'sad', 'surprise', 'neutral')\n",
        "emotions.shape"
      ]
    },
    {
      "cell_type": "markdown",
      "metadata": {
        "id": "4WZRh-dDBvWw"
      },
      "source": [
        "### Example Images\n",
        "Lets take a look at some of these fun images!"
      ]
    },
    {
      "cell_type": "code",
      "execution_count": null,
      "metadata": {
        "colab": {
          "base_uri": "https://localhost:8080/",
          "height": 829
        },
        "id": "iqmEpir1B3Mu",
        "outputId": "6aba5d6c-ee5e-4764-92f2-f9d7ac88880e"
      },
      "outputs": [
        {
          "output_type": "display_data",
          "data": {
            "text/plain": [
              "<Figure size 1000x1000 with 9 Axes>"
            ],
            "image/png": "[encoded data removed]"
          },
          "metadata": {}
        }
      ],
      "source": [
        "fig = plt.figure(figsize=(10, 10))\n",
        "for i in range(9):\n",
        "    ax = fig.add_subplot(3, 3, i+1)\n",
        "    ax.set_title(f\"{emotions_names[np.argmax(emotions[i])]}\")\n",
        "    ax.imshow(faces[i].astype('uint8'))\n",
        "    ax.axis('off')"
      ]
    },
    {
      "cell_type": "markdown",
      "metadata": {
        "id": "Sts35VbQGJMf"
      },
      "source": [
        "### Train/Test Split\n",
        "As in the original dataset, we will reserve the first 28,709 images for training and the rest for testing."
      ]
    },
    {
      "cell_type": "code",
      "execution_count": null,
      "metadata": {
        "colab": {
          "base_uri": "https://localhost:8080/"
        },
        "id": "ux8sgM1kptNb",
        "outputId": "9823ddba-1900-40e8-9a27-7c07de4ae668"
      },
      "outputs": [
        {
          "output_type": "execute_result",
          "data": {
            "text/plain": [
              "((28709, 48, 48, 3), (28709, 7), (7178, 48, 48, 3), (7178, 7))"
            ]
          },
          "metadata": {},
          "execution_count": 33
        }
      ],
      "source": [
        "train_faces, train_emotions =  faces[:28709], emotions[:28709]\n",
        "test_faces, test_emotions =  faces[28709:], emotions[28709:]\n",
        "\n",
        "train_faces.shape, train_emotions.shape, test_faces.shape, test_emotions.shape"
      ]
    },
    {
      "cell_type": "markdown",
      "metadata": {
        "id": "ExARZ0ThX9yc"
      },
      "source": [
        "# Problem 1: Transfer Learning with Frozen Vision Transformer Model [30 Points]\n",
        "In this problem, we will build an emotion classifier using a pre-trained Vision Transformer backbone with a custom classification head. We'll keep the backbone frozen and only train the classification head.\n"
      ]
    },
    {
      "cell_type": "markdown",
      "metadata": {
        "id": "Nyoh2vt0oslm"
      },
      "source": [
        "## [OPTIONAL] Enable testing for initial experiments to save Compute Credits\n",
        "The below code is useful if you want to experiment quickly with a smaller partition of the dataset before you finalize your code.\n",
        "\n",
        "Please set the `pcnt_sample` parameter to a value between 0 and 1 (0% to 100% of the dataset) to reduce the training size, or set the `test_run` variable to `False/True` respectively."
      ]
    },
    {
      "cell_type": "code",
      "execution_count": null,
      "metadata": {
        "id": "EcMiv7Mzormx"
      },
      "outputs": [],
      "source": [
        "# randomly sample X% of training data for faster training\n",
        "pcnt_sample = 0.5\n",
        "epochs=5\n",
        "test_run = False  # set to False to train on the entire dataset\n",
        "if test_run:\n",
        "    train_size = len(train_faces)\n",
        "    test_size = len(test_faces)\n",
        "    # random indices for sampling\n",
        "    np.random.seed(42)\n",
        "    n_train_samples = int(train_size * pcnt_sample)\n",
        "    n_test_samples = int(test_size * pcnt_sample)\n",
        "    train_indices = np.random.choice(train_size, n_train_samples, replace=False)\n",
        "    test_indices = np.random.choice(test_size, n_test_samples, replace=False)\n",
        "    print(f\"Training on {n_train_samples}/{train_size} ({pcnt_sample*100}%) samples\")\n",
        "    # sample both features and labels using same indices\n",
        "    train_faces = train_faces[train_indices]\n",
        "    train_emotions = train_emotions[train_indices]\n",
        "    test_faces = test_faces[test_indices]\n",
        "    test_emotions = test_emotions[test_indices]"
      ]
    },
    {
      "cell_type": "markdown",
      "metadata": {
        "id": "qQeUsssEX9yc"
      },
      "source": [
        "## Part (a): Building the Model [10 points]\n",
        "We'll use the ViT backbone with a classification head for 7 emotion classes.\n",
        "The backbone is pre-trained on ImageNet, and we'll focus on training just the classification head.\n"
      ]
    },
    {
      "cell_type": "code",
      "execution_count": null,
      "metadata": {
        "id": "XR7p8bqIX9yc"
      },
      "outputs": [],
      "source": [
        "# Load the ViT backbone and preprocessor\n",
        "# load weights is set to False because we will train the model from scratch\n",
        "backbone = keras_hub.models.Backbone.from_preset(\"vit_base_patch16_224_imagenet\")\n",
        "preprocessor = keras_hub.models.ViTImageClassifierPreprocessor.from_preset(\"vit_base_patch16_224_imagenet\")"
      ]
    },
    {
      "cell_type": "markdown",
      "metadata": {
        "id": "PHC3B7ZVulcD"
      },
      "source": [
        "**Hint**: Refer to the Lecture 8 Colab"
      ]
    },
    {
      "cell_type": "code",
      "execution_count": null,
      "metadata": {
        "colab": {
          "base_uri": "https://localhost:8080/",
          "height": 374
        },
        "id": "WtUwn3nyX9yc",
        "outputId": "2cd227d9-b047-485f-cf2b-b66169698a13"
      },
      "outputs": [
        {
          "output_type": "display_data",
          "data": {
            "text/plain": [
              "\u001b[1mModel: \"functional_3\"\u001b[0m\n"
            ],
            "text/html": [
              "<pre style=\"white-space:pre;overflow-x:auto;line-height:normal;font-family:Menlo,'DejaVu Sans Mono',consolas,'Courier New',monospace\"><span style=\"font-weight: bold\">Model: \"functional_3\"</span>\n",
              "</pre>\n"
            ]
          },
          "metadata": {}
        },
        {
          "output_type": "display_data",
          "data": {
            "text/plain": [
              "┏━━━━━━━━━━━━━━━━━━━━━━━━━━━━━━━━━━━━━━┳━━━━━━━━━━━━━━━━━━━━━━━━━━━━━┳━━━━━━━━━━━━━━━━━┓\n",
              "┃\u001b[1m \u001b[0m\u001b[1mLayer (type)                        \u001b[0m\u001b[1m \u001b[0m┃\u001b[1m \u001b[0m\u001b[1mOutput Shape               \u001b[0m\u001b[1m \u001b[0m┃\u001b[1m \u001b[0m\u001b[1m        Param #\u001b[0m\u001b[1m \u001b[0m┃\n",
              "┡━━━━━━━━━━━━━━━━━━━━━━━━━━━━━━━━━━━━━━╇━━━━━━━━━━━━━━━━━━━━━━━━━━━━━╇━━━━━━━━━━━━━━━━━┩\n",
              "│ input (\u001b[38;5;33mInputLayer\u001b[0m)                   │ (\u001b[38;5;45mNone\u001b[0m, \u001b[38;5;34m48\u001b[0m, \u001b[38;5;34m48\u001b[0m, \u001b[38;5;34m3\u001b[0m)           │               \u001b[38;5;34m0\u001b[0m │\n",
              "├──────────────────────────────────────┼─────────────────────────────┼─────────────────┤\n",
              "│ sequential_1 (\u001b[38;5;33mSequential\u001b[0m)            │ (\u001b[38;5;45mNone\u001b[0m, \u001b[38;5;34m48\u001b[0m, \u001b[38;5;34m48\u001b[0m, \u001b[38;5;34m3\u001b[0m)           │               \u001b[38;5;34m0\u001b[0m │\n",
              "├──────────────────────────────────────┼─────────────────────────────┼─────────────────┤\n",
              "│ vi_t_image_classifier_preprocessor   │ (\u001b[38;5;45mNone\u001b[0m, \u001b[38;5;34m224\u001b[0m, \u001b[38;5;34m224\u001b[0m, \u001b[38;5;34m3\u001b[0m)         │               \u001b[38;5;34m0\u001b[0m │\n",
              "│ (\u001b[38;5;33mViTImageClassifierPreprocessor\u001b[0m)     │                             │                 │\n",
              "├──────────────────────────────────────┼─────────────────────────────┼─────────────────┤\n",
              "│ vi_t_backbone (\u001b[38;5;33mViTBackbone\u001b[0m)          │ (\u001b[38;5;45mNone\u001b[0m, \u001b[38;5;34m197\u001b[0m, \u001b[38;5;34m768\u001b[0m)            │      \u001b[38;5;34m85,798,656\u001b[0m │\n",
              "├──────────────────────────────────────┼─────────────────────────────┼─────────────────┤\n",
              "│ get_item_1 (\u001b[38;5;33mGetItem\u001b[0m)                 │ (\u001b[38;5;45mNone\u001b[0m, \u001b[38;5;34m768\u001b[0m)                 │               \u001b[38;5;34m0\u001b[0m │\n",
              "├──────────────────────────────────────┼─────────────────────────────┼─────────────────┤\n",
              "│ dense_2 (\u001b[38;5;33mDense\u001b[0m)                      │ (\u001b[38;5;45mNone\u001b[0m, \u001b[38;5;34m256\u001b[0m)                 │         \u001b[38;5;34m196,864\u001b[0m │\n",
              "├──────────────────────────────────────┼─────────────────────────────┼─────────────────┤\n",
              "│ dense_3 (\u001b[38;5;33mDense\u001b[0m)                      │ (\u001b[38;5;45mNone\u001b[0m, \u001b[38;5;34m7\u001b[0m)                   │           \u001b[38;5;34m1,799\u001b[0m │\n",
              "└──────────────────────────────────────┴─────────────────────────────┴─────────────────┘\n"
            ],
            "text/html": [
              "<pre style=\"white-space:pre;overflow-x:auto;line-height:normal;font-family:Menlo,'DejaVu Sans Mono',consolas,'Courier New',monospace\">┏━━━━━━━━━━━━━━━━━━━━━━━━━━━━━━━━━━━━━━┳━━━━━━━━━━━━━━━━━━━━━━━━━━━━━┳━━━━━━━━━━━━━━━━━┓\n",
              "┃<span style=\"font-weight: bold\"> Layer (type)                         </span>┃<span style=\"font-weight: bold\"> Output Shape                </span>┃<span style=\"font-weight: bold\">         Param # </span>┃\n",
              "┡━━━━━━━━━━━━━━━━━━━━━━━━━━━━━━━━━━━━━━╇━━━━━━━━━━━━━━━━━━━━━━━━━━━━━╇━━━━━━━━━━━━━━━━━┩\n",
              "│ input (<span style=\"color: #0087ff; text-decoration-color: #0087ff\">InputLayer</span>)                   │ (<span style=\"color: #00d7ff; text-decoration-color: #00d7ff\">None</span>, <span style=\"color: #00af00; text-decoration-color: #00af00\">48</span>, <span style=\"color: #00af00; text-decoration-color: #00af00\">48</span>, <span style=\"color: #00af00; text-decoration-color: #00af00\">3</span>)           │               <span style=\"color: #00af00; text-decoration-color: #00af00\">0</span> │\n",
              "├──────────────────────────────────────┼─────────────────────────────┼─────────────────┤\n",
              "│ sequential_1 (<span style=\"color: #0087ff; text-decoration-color: #0087ff\">Sequential</span>)            │ (<span style=\"color: #00d7ff; text-decoration-color: #00d7ff\">None</span>, <span style=\"color: #00af00; text-decoration-color: #00af00\">48</span>, <span style=\"color: #00af00; text-decoration-color: #00af00\">48</span>, <span style=\"color: #00af00; text-decoration-color: #00af00\">3</span>)           │               <span style=\"color: #00af00; text-decoration-color: #00af00\">0</span> │\n",
              "├──────────────────────────────────────┼─────────────────────────────┼─────────────────┤\n",
              "│ vi_t_image_classifier_preprocessor   │ (<span style=\"color: #00d7ff; text-decoration-color: #00d7ff\">None</span>, <span style=\"color: #00af00; text-decoration-color: #00af00\">224</span>, <span style=\"color: #00af00; text-decoration-color: #00af00\">224</span>, <span style=\"color: #00af00; text-decoration-color: #00af00\">3</span>)         │               <span style=\"color: #00af00; text-decoration-color: #00af00\">0</span> │\n",
              "│ (<span style=\"color: #0087ff; text-decoration-color: #0087ff\">ViTImageClassifierPreprocessor</span>)     │                             │                 │\n",
              "├──────────────────────────────────────┼─────────────────────────────┼─────────────────┤\n",
              "│ vi_t_backbone (<span style=\"color: #0087ff; text-decoration-color: #0087ff\">ViTBackbone</span>)          │ (<span style=\"color: #00d7ff; text-decoration-color: #00d7ff\">None</span>, <span style=\"color: #00af00; text-decoration-color: #00af00\">197</span>, <span style=\"color: #00af00; text-decoration-color: #00af00\">768</span>)            │      <span style=\"color: #00af00; text-decoration-color: #00af00\">85,798,656</span> │\n",
              "├──────────────────────────────────────┼─────────────────────────────┼─────────────────┤\n",
              "│ get_item_1 (<span style=\"color: #0087ff; text-decoration-color: #0087ff\">GetItem</span>)                 │ (<span style=\"color: #00d7ff; text-decoration-color: #00d7ff\">None</span>, <span style=\"color: #00af00; text-decoration-color: #00af00\">768</span>)                 │               <span style=\"color: #00af00; text-decoration-color: #00af00\">0</span> │\n",
              "├──────────────────────────────────────┼─────────────────────────────┼─────────────────┤\n",
              "│ dense_2 (<span style=\"color: #0087ff; text-decoration-color: #0087ff\">Dense</span>)                      │ (<span style=\"color: #00d7ff; text-decoration-color: #00d7ff\">None</span>, <span style=\"color: #00af00; text-decoration-color: #00af00\">256</span>)                 │         <span style=\"color: #00af00; text-decoration-color: #00af00\">196,864</span> │\n",
              "├──────────────────────────────────────┼─────────────────────────────┼─────────────────┤\n",
              "│ dense_3 (<span style=\"color: #0087ff; text-decoration-color: #0087ff\">Dense</span>)                      │ (<span style=\"color: #00d7ff; text-decoration-color: #00d7ff\">None</span>, <span style=\"color: #00af00; text-decoration-color: #00af00\">7</span>)                   │           <span style=\"color: #00af00; text-decoration-color: #00af00\">1,799</span> │\n",
              "└──────────────────────────────────────┴─────────────────────────────┴─────────────────┘\n",
              "</pre>\n"
            ]
          },
          "metadata": {}
        },
        {
          "output_type": "display_data",
          "data": {
            "text/plain": [
              "\u001b[1m Total params: \u001b[0m\u001b[38;5;34m85,997,319\u001b[0m (328.05 MB)\n"
            ],
            "text/html": [
              "<pre style=\"white-space:pre;overflow-x:auto;line-height:normal;font-family:Menlo,'DejaVu Sans Mono',consolas,'Courier New',monospace\"><span style=\"font-weight: bold\"> Total params: </span><span style=\"color: #00af00; text-decoration-color: #00af00\">85,997,319</span> (328.05 MB)\n",
              "</pre>\n"
            ]
          },
          "metadata": {}
        },
        {
          "output_type": "display_data",
          "data": {
            "text/plain": [
              "\u001b[1m Trainable params: \u001b[0m\u001b[38;5;34m85,997,319\u001b[0m (328.05 MB)\n"
            ],
            "text/html": [
              "<pre style=\"white-space:pre;overflow-x:auto;line-height:normal;font-family:Menlo,'DejaVu Sans Mono',consolas,'Courier New',monospace\"><span style=\"font-weight: bold\"> Trainable params: </span><span style=\"color: #00af00; text-decoration-color: #00af00\">85,997,319</span> (328.05 MB)\n",
              "</pre>\n"
            ]
          },
          "metadata": {}
        },
        {
          "output_type": "display_data",
          "data": {
            "text/plain": [
              "\u001b[1m Non-trainable params: \u001b[0m\u001b[38;5;34m0\u001b[0m (0.00 B)\n"
            ],
            "text/html": [
              "<pre style=\"white-space:pre;overflow-x:auto;line-height:normal;font-family:Menlo,'DejaVu Sans Mono',consolas,'Courier New',monospace\"><span style=\"font-weight: bold\"> Non-trainable params: </span><span style=\"color: #00af00; text-decoration-color: #00af00\">0</span> (0.00 B)\n",
              "</pre>\n"
            ]
          },
          "metadata": {}
        }
      ],
      "source": [
        "# Define data augmentation pipeline\n",
        "data_augmentation = keras.Sequential([\n",
        "    keras.layers.RandomFlip(\"horizontal\"),\n",
        "    keras.layers.RandomRotation(0.1),\n",
        "    keras.layers.RandomZoom(0.1),\n",
        "    keras.layers.RandomTranslation(0.1, 0.1),\n",
        "])\n",
        "\n",
        "# Create the model\n",
        "inputs = keras.Input(shape=(48, 48, 3), name=\"input\")\n",
        "#######################\n",
        "x = data_augmentation(inputs)                             # Apply data augmentation\n",
        "x = preprocessor(x)                                       # Preprocess input for ViT\n",
        "x = backbone(x)[:, 0, :]                                  # Run through ViT backbone, select CLS embedding\n",
        "x = keras.layers.Dense(256, activation=\"relu\")(x)         # Run through a dense layer\n",
        "outputs = keras.layers.Dense(7, activation=\"softmax\")(x)  # Final classification layer\n",
        "\n",
        "# Create the model\n",
        "model = keras.Model(inputs, outputs)\n",
        "\n",
        "\n",
        "#######################\n",
        "model.summary()"
      ]
    },
    {
      "cell_type": "markdown",
      "metadata": {
        "id": "QABhrdUWX9yc"
      },
      "source": [
        "\n",
        "## Part (b): Number of Parameters [10 points]\n",
        "Explain how many parameters the model contains. How many trainable? How many non-trainable?\n",
        "\n",
        "85,997,319 - all trainable. No non-trainable params"
      ]
    },
    {
      "cell_type": "markdown",
      "metadata": {
        "id": "9VTrZV20X9yd"
      },
      "source": [
        "## Part (c): Training and Evaluation [10 points]\n",
        "\n",
        "Let us compile our model and fit it on the training data. Since we one-hot-encoded the dependent variable, we use `categorical_crossentropy`, not `sparse_categorical_crossentropy`.\n",
        "\n",
        "Fill in the parameters of `model.compile` and `model.fit` below.\n",
        "\n",
        "* Compile the model using the `categorical_crossentropy` loss, `adam` optimizer and report the `accuracy` metric.\n",
        "* Fit the model on `train_faces`, `train_emotions` using a batch size of 64, for 5 epochs and a validation split of 20%.\n",
        "* Use `learning_rate=1e-4`"
      ]
    },
    {
      "cell_type": "code",
      "execution_count": null,
      "metadata": {
        "colab": {
          "base_uri": "https://localhost:8080/",
          "height": 374
        },
        "id": "Xn56bJW5X9yd",
        "outputId": "17399bfe-41ad-4602-c0c4-2869fe70f31e"
      },
      "outputs": [
        {
          "output_type": "display_data",
          "data": {
            "text/plain": [
              "\u001b[1mModel: \"functional_3\"\u001b[0m\n"
            ],
            "text/html": [
              "<pre style=\"white-space:pre;overflow-x:auto;line-height:normal;font-family:Menlo,'DejaVu Sans Mono',consolas,'Courier New',monospace\"><span style=\"font-weight: bold\">Model: \"functional_3\"</span>\n",
              "</pre>\n"
            ]
          },
          "metadata": {}
        },
        {
          "output_type": "display_data",
          "data": {
            "text/plain": [
              "┏━━━━━━━━━━━━━━━━━━━━━━━━━━━━━━━━━━━━━━┳━━━━━━━━━━━━━━━━━━━━━━━━━━━━━┳━━━━━━━━━━━━━━━━━┓\n",
              "┃\u001b[1m \u001b[0m\u001b[1mLayer (type)                        \u001b[0m\u001b[1m \u001b[0m┃\u001b[1m \u001b[0m\u001b[1mOutput Shape               \u001b[0m\u001b[1m \u001b[0m┃\u001b[1m \u001b[0m\u001b[1m        Param #\u001b[0m\u001b[1m \u001b[0m┃\n",
              "┡━━━━━━━━━━━━━━━━━━━━━━━━━━━━━━━━━━━━━━╇━━━━━━━━━━━━━━━━━━━━━━━━━━━━━╇━━━━━━━━━━━━━━━━━┩\n",
              "│ input (\u001b[38;5;33mInputLayer\u001b[0m)                   │ (\u001b[38;5;45mNone\u001b[0m, \u001b[38;5;34m48\u001b[0m, \u001b[38;5;34m48\u001b[0m, \u001b[38;5;34m3\u001b[0m)           │               \u001b[38;5;34m0\u001b[0m │\n",
              "├──────────────────────────────────────┼─────────────────────────────┼─────────────────┤\n",
              "│ sequential_1 (\u001b[38;5;33mSequential\u001b[0m)            │ (\u001b[38;5;45mNone\u001b[0m, \u001b[38;5;34m48\u001b[0m, \u001b[38;5;34m48\u001b[0m, \u001b[38;5;34m3\u001b[0m)           │               \u001b[38;5;34m0\u001b[0m │\n",
              "├──────────────────────────────────────┼─────────────────────────────┼─────────────────┤\n",
              "│ vi_t_image_classifier_preprocessor   │ (\u001b[38;5;45mNone\u001b[0m, \u001b[38;5;34m224\u001b[0m, \u001b[38;5;34m224\u001b[0m, \u001b[38;5;34m3\u001b[0m)         │               \u001b[38;5;34m0\u001b[0m │\n",
              "│ (\u001b[38;5;33mViTImageClassifierPreprocessor\u001b[0m)     │                             │                 │\n",
              "├──────────────────────────────────────┼─────────────────────────────┼─────────────────┤\n",
              "│ vi_t_backbone (\u001b[38;5;33mViTBackbone\u001b[0m)          │ (\u001b[38;5;45mNone\u001b[0m, \u001b[38;5;34m197\u001b[0m, \u001b[38;5;34m768\u001b[0m)            │      \u001b[38;5;34m85,798,656\u001b[0m │\n",
              "├──────────────────────────────────────┼─────────────────────────────┼─────────────────┤\n",
              "│ get_item_1 (\u001b[38;5;33mGetItem\u001b[0m)                 │ (\u001b[38;5;45mNone\u001b[0m, \u001b[38;5;34m768\u001b[0m)                 │               \u001b[38;5;34m0\u001b[0m │\n",
              "├──────────────────────────────────────┼─────────────────────────────┼─────────────────┤\n",
              "│ dense_2 (\u001b[38;5;33mDense\u001b[0m)                      │ (\u001b[38;5;45mNone\u001b[0m, \u001b[38;5;34m256\u001b[0m)                 │         \u001b[38;5;34m196,864\u001b[0m │\n",
              "├──────────────────────────────────────┼─────────────────────────────┼─────────────────┤\n",
              "│ dense_3 (\u001b[38;5;33mDense\u001b[0m)                      │ (\u001b[38;5;45mNone\u001b[0m, \u001b[38;5;34m7\u001b[0m)                   │           \u001b[38;5;34m1,799\u001b[0m │\n",
              "└──────────────────────────────────────┴─────────────────────────────┴─────────────────┘\n"
            ],
            "text/html": [
              "<pre style=\"white-space:pre;overflow-x:auto;line-height:normal;font-family:Menlo,'DejaVu Sans Mono',consolas,'Courier New',monospace\">┏━━━━━━━━━━━━━━━━━━━━━━━━━━━━━━━━━━━━━━┳━━━━━━━━━━━━━━━━━━━━━━━━━━━━━┳━━━━━━━━━━━━━━━━━┓\n",
              "┃<span style=\"font-weight: bold\"> Layer (type)                         </span>┃<span style=\"font-weight: bold\"> Output Shape                </span>┃<span style=\"font-weight: bold\">         Param # </span>┃\n",
              "┡━━━━━━━━━━━━━━━━━━━━━━━━━━━━━━━━━━━━━━╇━━━━━━━━━━━━━━━━━━━━━━━━━━━━━╇━━━━━━━━━━━━━━━━━┩\n",
              "│ input (<span style=\"color: #0087ff; text-decoration-color: #0087ff\">InputLayer</span>)                   │ (<span style=\"color: #00d7ff; text-decoration-color: #00d7ff\">None</span>, <span style=\"color: #00af00; text-decoration-color: #00af00\">48</span>, <span style=\"color: #00af00; text-decoration-color: #00af00\">48</span>, <span style=\"color: #00af00; text-decoration-color: #00af00\">3</span>)           │               <span style=\"color: #00af00; text-decoration-color: #00af00\">0</span> │\n",
              "├──────────────────────────────────────┼─────────────────────────────┼─────────────────┤\n",
              "│ sequential_1 (<span style=\"color: #0087ff; text-decoration-color: #0087ff\">Sequential</span>)            │ (<span style=\"color: #00d7ff; text-decoration-color: #00d7ff\">None</span>, <span style=\"color: #00af00; text-decoration-color: #00af00\">48</span>, <span style=\"color: #00af00; text-decoration-color: #00af00\">48</span>, <span style=\"color: #00af00; text-decoration-color: #00af00\">3</span>)           │               <span style=\"color: #00af00; text-decoration-color: #00af00\">0</span> │\n",
              "├──────────────────────────────────────┼─────────────────────────────┼─────────────────┤\n",
              "│ vi_t_image_classifier_preprocessor   │ (<span style=\"color: #00d7ff; text-decoration-color: #00d7ff\">None</span>, <span style=\"color: #00af00; text-decoration-color: #00af00\">224</span>, <span style=\"color: #00af00; text-decoration-color: #00af00\">224</span>, <span style=\"color: #00af00; text-decoration-color: #00af00\">3</span>)         │               <span style=\"color: #00af00; text-decoration-color: #00af00\">0</span> │\n",
              "│ (<span style=\"color: #0087ff; text-decoration-color: #0087ff\">ViTImageClassifierPreprocessor</span>)     │                             │                 │\n",
              "├──────────────────────────────────────┼─────────────────────────────┼─────────────────┤\n",
              "│ vi_t_backbone (<span style=\"color: #0087ff; text-decoration-color: #0087ff\">ViTBackbone</span>)          │ (<span style=\"color: #00d7ff; text-decoration-color: #00d7ff\">None</span>, <span style=\"color: #00af00; text-decoration-color: #00af00\">197</span>, <span style=\"color: #00af00; text-decoration-color: #00af00\">768</span>)            │      <span style=\"color: #00af00; text-decoration-color: #00af00\">85,798,656</span> │\n",
              "├──────────────────────────────────────┼─────────────────────────────┼─────────────────┤\n",
              "│ get_item_1 (<span style=\"color: #0087ff; text-decoration-color: #0087ff\">GetItem</span>)                 │ (<span style=\"color: #00d7ff; text-decoration-color: #00d7ff\">None</span>, <span style=\"color: #00af00; text-decoration-color: #00af00\">768</span>)                 │               <span style=\"color: #00af00; text-decoration-color: #00af00\">0</span> │\n",
              "├──────────────────────────────────────┼─────────────────────────────┼─────────────────┤\n",
              "│ dense_2 (<span style=\"color: #0087ff; text-decoration-color: #0087ff\">Dense</span>)                      │ (<span style=\"color: #00d7ff; text-decoration-color: #00d7ff\">None</span>, <span style=\"color: #00af00; text-decoration-color: #00af00\">256</span>)                 │         <span style=\"color: #00af00; text-decoration-color: #00af00\">196,864</span> │\n",
              "├──────────────────────────────────────┼─────────────────────────────┼─────────────────┤\n",
              "│ dense_3 (<span style=\"color: #0087ff; text-decoration-color: #0087ff\">Dense</span>)                      │ (<span style=\"color: #00d7ff; text-decoration-color: #00d7ff\">None</span>, <span style=\"color: #00af00; text-decoration-color: #00af00\">7</span>)                   │           <span style=\"color: #00af00; text-decoration-color: #00af00\">1,799</span> │\n",
              "└──────────────────────────────────────┴─────────────────────────────┴─────────────────┘\n",
              "</pre>\n"
            ]
          },
          "metadata": {}
        },
        {
          "output_type": "display_data",
          "data": {
            "text/plain": [
              "\u001b[1m Total params: \u001b[0m\u001b[38;5;34m85,997,319\u001b[0m (328.05 MB)\n"
            ],
            "text/html": [
              "<pre style=\"white-space:pre;overflow-x:auto;line-height:normal;font-family:Menlo,'DejaVu Sans Mono',consolas,'Courier New',monospace\"><span style=\"font-weight: bold\"> Total params: </span><span style=\"color: #00af00; text-decoration-color: #00af00\">85,997,319</span> (328.05 MB)\n",
              "</pre>\n"
            ]
          },
          "metadata": {}
        },
        {
          "output_type": "display_data",
          "data": {
            "text/plain": [
              "\u001b[1m Trainable params: \u001b[0m\u001b[38;5;34m198,663\u001b[0m (776.03 KB)\n"
            ],
            "text/html": [
              "<pre style=\"white-space:pre;overflow-x:auto;line-height:normal;font-family:Menlo,'DejaVu Sans Mono',consolas,'Courier New',monospace\"><span style=\"font-weight: bold\"> Trainable params: </span><span style=\"color: #00af00; text-decoration-color: #00af00\">198,663</span> (776.03 KB)\n",
              "</pre>\n"
            ]
          },
          "metadata": {}
        },
        {
          "output_type": "display_data",
          "data": {
            "text/plain": [
              "\u001b[1m Non-trainable params: \u001b[0m\u001b[38;5;34m85,798,656\u001b[0m (327.30 MB)\n"
            ],
            "text/html": [
              "<pre style=\"white-space:pre;overflow-x:auto;line-height:normal;font-family:Menlo,'DejaVu Sans Mono',consolas,'Courier New',monospace\"><span style=\"font-weight: bold\"> Non-trainable params: </span><span style=\"color: #00af00; text-decoration-color: #00af00\">85,798,656</span> (327.30 MB)\n",
              "</pre>\n"
            ]
          },
          "metadata": {}
        }
      ],
      "source": [
        "# Freeze the backbone\n",
        "backbone.trainable = False\n",
        "\n",
        "model.summary()\n",
        "\n",
        "model.compile(\n",
        "#######################\n",
        "    optimizer=keras.optimizers.Adam(learning_rate=1e-4),\n",
        "    loss=\"categorical_crossentropy\",\n",
        "    metrics=[\"accuracy\"],\n",
        "#######################\n",
        ")"
      ]
    },
    {
      "cell_type": "code",
      "execution_count": null,
      "metadata": {
        "colab": {
          "base_uri": "https://localhost:8080/"
        },
        "id": "IqgMFOsfX9yd",
        "outputId": "52cbef4d-ecb8-4c20-b835-06dd2b298314"
      },
      "outputs": [
        {
          "output_type": "stream",
          "name": "stdout",
          "text": [
            "Epoch 1/5\n",
            "\u001b[1m359/359\u001b[0m \u001b[32m━━━━━━━━━━━━━━━━━━━━\u001b[0m\u001b[37m\u001b[0m \u001b[1m180s\u001b[0m 471ms/step - accuracy: 0.3642 - loss: 1.6629 - val_accuracy: 0.5242 - val_loss: 1.3078\n",
            "Epoch 2/5\n",
            "\u001b[1m359/359\u001b[0m \u001b[32m━━━━━━━━━━━━━━━━━━━━\u001b[0m\u001b[37m\u001b[0m \u001b[1m159s\u001b[0m 444ms/step - accuracy: 0.4738 - loss: 1.3721 - val_accuracy: 0.5406 - val_loss: 1.2535\n",
            "Epoch 3/5\n",
            "\u001b[1m359/359\u001b[0m \u001b[32m━━━━━━━━━━━━━━━━━━━━\u001b[0m\u001b[37m\u001b[0m \u001b[1m159s\u001b[0m 444ms/step - accuracy: 0.4951 - loss: 1.3204 - val_accuracy: 0.5700 - val_loss: 1.1774\n",
            "Epoch 4/5\n",
            "\u001b[1m359/359\u001b[0m \u001b[32m━━━━━━━━━━━━━━━━━━━━\u001b[0m\u001b[37m\u001b[0m \u001b[1m158s\u001b[0m 441ms/step - accuracy: 0.5157 - loss: 1.2850 - val_accuracy: 0.5752 - val_loss: 1.1632\n",
            "Epoch 5/5\n",
            "\u001b[1m359/359\u001b[0m \u001b[32m━━━━━━━━━━━━━━━━━━━━\u001b[0m\u001b[37m\u001b[0m \u001b[1m158s\u001b[0m 441ms/step - accuracy: 0.5178 - loss: 1.2653 - val_accuracy: 0.5848 - val_loss: 1.1541\n"
          ]
        }
      ],
      "source": [
        "model_history = model.fit(\n",
        "#######################\n",
        "    train_faces,\n",
        "    train_emotions,\n",
        "    epochs=5,\n",
        "    batch_size=64,\n",
        "    validation_split=0.2\n",
        "#######################\n",
        ")"
      ]
    },
    {
      "cell_type": "markdown",
      "metadata": {
        "id": "I-6-F6CUX9yd"
      },
      "source": [
        "**Plotting the Training/Validation Accuracy Curve**\n",
        "\n",
        "Use the `plot_accuracy` function below to plot the training and validation accuracy across the training epochs."
      ]
    },
    {
      "cell_type": "code",
      "execution_count": null,
      "metadata": {
        "colab": {
          "base_uri": "https://localhost:8080/",
          "height": 472
        },
        "id": "PqUezOaBX9yd",
        "outputId": "e4122f4b-595b-4f31-d947-c4fe054c11fb"
      },
      "outputs": [
        {
          "output_type": "display_data",
          "data": {
            "text/plain": [
              "<Figure size 640x480 with 1 Axes>"
            ],
            "image/png": "[encoded data removed]"
          },
          "metadata": {}
        }
      ],
      "source": [
        "def plot_accuracy(model_history):\n",
        "    history_dict = model_history.history\n",
        "    acc = history_dict[\"accuracy\"]\n",
        "    val_acc = history_dict[\"val_accuracy\"]\n",
        "    epochs = range(1, len(acc) + 1)\n",
        "    plt.plot(epochs, acc, \"bo\", label=\"Training Accuracy\", linewidth=3)\n",
        "    plt.plot(epochs, val_acc, \"b\", label=\"Validation Accuracy\", linewidth=3)\n",
        "    plt.title(\"Training and Validation Accuracy Across Epochs\")\n",
        "    plt.xlabel(\"Epochs\")\n",
        "    plt.ylabel(\"Accuracy\")\n",
        "    plt.legend()\n",
        "    plt.show()\n",
        "\n",
        "plot_accuracy(model_history)"
      ]
    },
    {
      "cell_type": "markdown",
      "metadata": {
        "id": "ML4VF_WHX9yd"
      },
      "source": [
        "# Calculate test accuracy"
      ]
    },
    {
      "cell_type": "code",
      "execution_count": null,
      "metadata": {
        "colab": {
          "base_uri": "https://localhost:8080/"
        },
        "id": "PjGdcLpIX9ye",
        "outputId": "462cdd6f-d17e-4939-a693-ee3df35e016a"
      },
      "outputs": [
        {
          "output_type": "stream",
          "name": "stdout",
          "text": [
            "\u001b[1m225/225\u001b[0m \u001b[32m━━━━━━━━━━━━━━━━━━━━\u001b[0m\u001b[37m\u001b[0m \u001b[1m57s\u001b[0m 237ms/step - accuracy: 0.1100 - loss: 2.4187\n",
            "Test accuracy: 0.1110\n"
          ]
        }
      ],
      "source": [
        "test_loss, test_accuracy = model.evaluate(test_faces, test_emotions)\n",
        "print(f\"Test accuracy: {test_accuracy:.4f}\")"
      ]
    },
    {
      "cell_type": "markdown",
      "metadata": {
        "id": "oyfgrB02UzCF"
      },
      "source": [
        "Let's also calculate the confusion matrix and the accuracy on the test set.\n",
        "\n",
        "The function `show_confusion_matrix` has been written for you below. You can apply it to any Keras Model and it will calculate:\n",
        "* Test accuracy\n",
        "* A confusion matrix. Recall that each row of the confusion matrix are the actual labels and each column are the predictions. For example, if element in row `happy` and column `sad` is 250, then there are 250 data points in the test set where the true label is `happy` but we predicted `sad`.\n",
        "* A heatmap of the confusion matrix, where each row is normalized to add up to 1.0. For example, if element in row `happy` and column `sad` is 0.25, then that means 25% of data points with a true label of `happy` were predicted as `sad`."
      ]
    },
    {
      "cell_type": "code",
      "execution_count": null,
      "metadata": {
        "colab": {
          "base_uri": "https://localhost:8080/",
          "height": 752
        },
        "id": "5olEiOA5UzCG",
        "outputId": "e05a069a-8aa9-432e-abac-8f496d9f3e91"
      },
      "outputs": [
        {
          "output_type": "stream",
          "name": "stdout",
          "text": [
            "\u001b[1m225/225\u001b[0m \u001b[32m━━━━━━━━━━━━━━━━━━━━\u001b[0m\u001b[37m\u001b[0m \u001b[1m46s\u001b[0m 207ms/step\n",
            "*************************\n",
            "* Test Accuracy: 0.1110 *\n",
            "*************************\n"
          ]
        },
        {
          "output_type": "display_data",
          "data": {
            "text/plain": [
              "          angry  disgust  fear  happy  sad  surprise  neutral\n",
              "angry        26      293    21    125  128         9      356\n",
              "disgust       3       44     4      8   16         0       36\n",
              "fear          9      309    22     95  102        13      474\n",
              "happy        15     1077    97    158  143         9      275\n",
              "sad          32      378    28    126   61        17      605\n",
              "surprise      2      217     6    171   94         2      339\n",
              "neutral      15      453    76    135   63         7      484"
            ],
            "text/html": [
              "\n",
              "  <div id=\"df-2feffc29-a33e-4a91-9d0d-3b2593230804\" class=\"colab-df-container\">\n",
              "    <div>\n",
              "<style scoped>\n",
              "    .dataframe tbody tr th:only-of-type {\n",
              "        vertical-align: middle;\n",
              "    }\n",
              "\n",
              "    .dataframe tbody tr th {\n",
              "        vertical-align: top;\n",
              "    }\n",
              "\n",
              "    .dataframe thead th {\n",
              "        text-align: right;\n",
              "    }\n",
              "</style>\n",
              "<table border=\"1\" class=\"dataframe\">\n",
              "  <thead>\n",
              "    <tr style=\"text-align: right;\">\n",
              "      <th></th>\n",
              "      <th>angry</th>\n",
              "      <th>disgust</th>\n",
              "      <th>fear</th>\n",
              "      <th>happy</th>\n",
              "      <th>sad</th>\n",
              "      <th>surprise</th>\n",
              "      <th>neutral</th>\n",
              "    </tr>\n",
              "  </thead>\n",
              "  <tbody>\n",
              "    <tr>\n",
              "      <th>angry</th>\n",
              "      <td>26</td>\n",
              "      <td>293</td>\n",
              "      <td>21</td>\n",
              "      <td>125</td>\n",
              "      <td>128</td>\n",
              "      <td>9</td>\n",
              "      <td>356</td>\n",
              "    </tr>\n",
              "    <tr>\n",
              "      <th>disgust</th>\n",
              "      <td>3</td>\n",
              "      <td>44</td>\n",
              "      <td>4</td>\n",
              "      <td>8</td>\n",
              "      <td>16</td>\n",
              "      <td>0</td>\n",
              "      <td>36</td>\n",
              "    </tr>\n",
              "    <tr>\n",
              "      <th>fear</th>\n",
              "      <td>9</td>\n",
              "      <td>309</td>\n",
              "      <td>22</td>\n",
              "      <td>95</td>\n",
              "      <td>102</td>\n",
              "      <td>13</td>\n",
              "      <td>474</td>\n",
              "    </tr>\n",
              "    <tr>\n",
              "      <th>happy</th>\n",
              "      <td>15</td>\n",
              "      <td>1077</td>\n",
              "      <td>97</td>\n",
              "      <td>158</td>\n",
              "      <td>143</td>\n",
              "      <td>9</td>\n",
              "      <td>275</td>\n",
              "    </tr>\n",
              "    <tr>\n",
              "      <th>sad</th>\n",
              "      <td>32</td>\n",
              "      <td>378</td>\n",
              "      <td>28</td>\n",
              "      <td>126</td>\n",
              "      <td>61</td>\n",
              "      <td>17</td>\n",
              "      <td>605</td>\n",
              "    </tr>\n",
              "    <tr>\n",
              "      <th>surprise</th>\n",
              "      <td>2</td>\n",
              "      <td>217</td>\n",
              "      <td>6</td>\n",
              "      <td>171</td>\n",
              "      <td>94</td>\n",
              "      <td>2</td>\n",
              "      <td>339</td>\n",
              "    </tr>\n",
              "    <tr>\n",
              "      <th>neutral</th>\n",
              "      <td>15</td>\n",
              "      <td>453</td>\n",
              "      <td>76</td>\n",
              "      <td>135</td>\n",
              "      <td>63</td>\n",
              "      <td>7</td>\n",
              "      <td>484</td>\n",
              "    </tr>\n",
              "  </tbody>\n",
              "</table>\n",
              "</div>\n",
              "    <div class=\"colab-df-buttons\">\n",
              "\n",
              "  <div class=\"colab-df-container\">\n",
              "    <button class=\"colab-df-convert\" onclick=\"convertToInteractive('df-2feffc29-a33e-4a91-9d0d-3b2593230804')\"\n",
              "            title=\"Convert this dataframe to an interactive table.\"\n",
              "            style=\"display:none;\">\n",
              "\n",
              "  <svg xmlns=\"http://www.w3.org/2000/svg\" height=\"24px\" viewBox=\"0 -960 960 960\">\n",
              "    <path d=\"M120-120v-720h720v720H120Zm60-500h600v-160H180v160Zm220 220h160v-160H400v160Zm0 220h160v-160H400v160ZM180-400h160v-160H180v160Zm440 0h160v-160H620v160ZM180-180h160v-160H180v160Zm440 0h160v-160H620v160Z\"/>\n",
              "  </svg>\n",
              "    </button>\n",
              "\n",
              "  <style>\n",
              "    .colab-df-container {\n",
              "      display:flex;\n",
              "      gap: 12px;\n",
              "    }\n",
              "\n",
              "    .colab-df-convert {\n",
              "      background-color: #E8F0FE;\n",
              "      border: none;\n",
              "      border-radius: 50%;\n",
              "      cursor: pointer;\n",
              "      display: none;\n",
              "      fill: #1967D2;\n",
              "      height: 32px;\n",
              "      padding: 0 0 0 0;\n",
              "      width: 32px;\n",
              "    }\n",
              "\n",
              "    .colab-df-convert:hover {\n",
              "      background-color: #E2EBFA;\n",
              "      box-shadow: 0px 1px 2px rgba(60, 64, 67, 0.3), 0px 1px 3px 1px rgba(60, 64, 67, 0.15);\n",
              "      fill: #174EA6;\n",
              "    }\n",
              "\n",
              "    .colab-df-buttons div {\n",
              "      margin-bottom: 4px;\n",
              "    }\n",
              "\n",
              "    [theme=dark] .colab-df-convert {\n",
              "      background-color: #3B4455;\n",
              "      fill: #D2E3FC;\n",
              "    }\n",
              "\n",
              "    [theme=dark] .colab-df-convert:hover {\n",
              "      background-color: #434B5C;\n",
              "      box-shadow: 0px 1px 3px 1px rgba(0, 0, 0, 0.15);\n",
              "      filter: drop-shadow(0px 1px 2px rgba(0, 0, 0, 0.3));\n",
              "      fill: #FFFFFF;\n",
              "    }\n",
              "  </style>\n",
              "\n",
              "    <script>\n",
              "      const buttonEl =\n",
              "        document.querySelector('#df-2feffc29-a33e-4a91-9d0d-3b2593230804 button.colab-df-convert');\n",
              "      buttonEl.style.display =\n",
              "        google.colab.kernel.accessAllowed ? 'block' : 'none';\n",
              "\n",
              "      async function convertToInteractive(key) {\n",
              "        const element = document.querySelector('#df-2feffc29-a33e-4a91-9d0d-3b2593230804');\n",
              "        const dataTable =\n",
              "          await google.colab.kernel.invokeFunction('convertToInteractive',\n",
              "                                                    [key], {});\n",
              "        if (!dataTable) return;\n",
              "\n",
              "        const docLinkHtml = 'Like what you see? Visit the ' +\n",
              "          '<a target=\"_blank\" href=https://colab.research.google.com/notebooks/data_table.ipynb>data table notebook</a>'\n",
              "          + ' to learn more about interactive tables.';\n",
              "        element.innerHTML = '';\n",
              "        dataTable['output_type'] = 'display_data';\n",
              "        await google.colab.output.renderOutput(dataTable, element);\n",
              "        const docLink = document.createElement('div');\n",
              "        docLink.innerHTML = docLinkHtml;\n",
              "        element.appendChild(docLink);\n",
              "      }\n",
              "    </script>\n",
              "  </div>\n",
              "\n",
              "\n",
              "<div id=\"df-e208b130-04aa-4dce-b64b-8f14e2f468d6\">\n",
              "  <button class=\"colab-df-quickchart\" onclick=\"quickchart('df-e208b130-04aa-4dce-b64b-8f14e2f468d6')\"\n",
              "            title=\"Suggest charts\"\n",
              "            style=\"display:none;\">\n",
              "\n",
              "<svg xmlns=\"http://www.w3.org/2000/svg\" height=\"24px\"viewBox=\"0 0 24 24\"\n",
              "     width=\"24px\">\n",
              "    <g>\n",
              "        <path d=\"M19 3H5c-1.1 0-2 .9-2 2v14c0 1.1.9 2 2 2h14c1.1 0 2-.9 2-2V5c0-1.1-.9-2-2-2zM9 17H7v-7h2v7zm4 0h-2V7h2v10zm4 0h-2v-4h2v4z\"/>\n",
              "    </g>\n",
              "</svg>\n",
              "  </button>\n",
              "\n",
              "<style>\n",
              "  .colab-df-quickchart {\n",
              "      --bg-color: #E8F0FE;\n",
              "      --fill-color: #1967D2;\n",
              "      --hover-bg-color: #E2EBFA;\n",
              "      --hover-fill-color: #174EA6;\n",
              "      --disabled-fill-color: #AAA;\n",
              "      --disabled-bg-color: #DDD;\n",
              "  }\n",
              "\n",
              "  [theme=dark] .colab-df-quickchart {\n",
              "      --bg-color: #3B4455;\n",
              "      --fill-color: #D2E3FC;\n",
              "      --hover-bg-color: #434B5C;\n",
              "      --hover-fill-color: #FFFFFF;\n",
              "      --disabled-bg-color: #3B4455;\n",
              "      --disabled-fill-color: #666;\n",
              "  }\n",
              "\n",
              "  .colab-df-quickchart {\n",
              "    background-color: var(--bg-color);\n",
              "    border: none;\n",
              "    border-radius: 50%;\n",
              "    cursor: pointer;\n",
              "    display: none;\n",
              "    fill: var(--fill-color);\n",
              "    height: 32px;\n",
              "    padding: 0;\n",
              "    width: 32px;\n",
              "  }\n",
              "\n",
              "  .colab-df-quickchart:hover {\n",
              "    background-color: var(--hover-bg-color);\n",
              "    box-shadow: 0 1px 2px rgba(60, 64, 67, 0.3), 0 1px 3px 1px rgba(60, 64, 67, 0.15);\n",
              "    fill: var(--button-hover-fill-color);\n",
              "  }\n",
              "\n",
              "  .colab-df-quickchart-complete:disabled,\n",
              "  .colab-df-quickchart-complete:disabled:hover {\n",
              "    background-color: var(--disabled-bg-color);\n",
              "    fill: var(--disabled-fill-color);\n",
              "    box-shadow: none;\n",
              "  }\n",
              "\n",
              "  .colab-df-spinner {\n",
              "    border: 2px solid var(--fill-color);\n",
              "    border-color: transparent;\n",
              "    border-bottom-color: var(--fill-color);\n",
              "    animation:\n",
              "      spin 1s steps(1) infinite;\n",
              "  }\n",
              "\n",
              "  @keyframes spin {\n",
              "    0% {\n",
              "      border-color: transparent;\n",
              "      border-bottom-color: var(--fill-color);\n",
              "      border-left-color: var(--fill-color);\n",
              "    }\n",
              "    20% {\n",
              "      border-color: transparent;\n",
              "      border-left-color: var(--fill-color);\n",
              "      border-top-color: var(--fill-color);\n",
              "    }\n",
              "    30% {\n",
              "      border-color: transparent;\n",
              "      border-left-color: var(--fill-color);\n",
              "      border-top-color: var(--fill-color);\n",
              "      border-right-color: var(--fill-color);\n",
              "    }\n",
              "    40% {\n",
              "      border-color: transparent;\n",
              "      border-right-color: var(--fill-color);\n",
              "      border-top-color: var(--fill-color);\n",
              "    }\n",
              "    60% {\n",
              "      border-color: transparent;\n",
              "      border-right-color: var(--fill-color);\n",
              "    }\n",
              "    80% {\n",
              "      border-color: transparent;\n",
              "      border-right-color: var(--fill-color);\n",
              "      border-bottom-color: var(--fill-color);\n",
              "    }\n",
              "    90% {\n",
              "      border-color: transparent;\n",
              "      border-bottom-color: var(--fill-color);\n",
              "    }\n",
              "  }\n",
              "</style>\n",
              "\n",
              "  <script>\n",
              "    async function quickchart(key) {\n",
              "      const quickchartButtonEl =\n",
              "        document.querySelector('#' + key + ' button');\n",
              "      quickchartButtonEl.disabled = true;  // To prevent multiple clicks.\n",
              "      quickchartButtonEl.classList.add('colab-df-spinner');\n",
              "      try {\n",
              "        const charts = await google.colab.kernel.invokeFunction(\n",
              "            'suggestCharts', [key], {});\n",
              "      } catch (error) {\n",
              "        console.error('Error during call to suggestCharts:', error);\n",
              "      }\n",
              "      quickchartButtonEl.classList.remove('colab-df-spinner');\n",
              "      quickchartButtonEl.classList.add('colab-df-quickchart-complete');\n",
              "    }\n",
              "    (() => {\n",
              "      let quickchartButtonEl =\n",
              "        document.querySelector('#df-e208b130-04aa-4dce-b64b-8f14e2f468d6 button');\n",
              "      quickchartButtonEl.style.display =\n",
              "        google.colab.kernel.accessAllowed ? 'block' : 'none';\n",
              "    })();\n",
              "  </script>\n",
              "</div>\n",
              "\n",
              "    </div>\n",
              "  </div>\n"
            ],
            "application/vnd.google.colaboratory.intrinsic+json": {
              "type": "dataframe",
              "summary": "{\n  \"name\": \"show_confusion_matrix(model)\",\n  \"rows\": 7,\n  \"fields\": [\n    {\n      \"column\": \"angry\",\n      \"properties\": {\n        \"dtype\": \"number\",\n        \"std\": 11,\n        \"min\": 2,\n        \"max\": 32,\n        \"num_unique_values\": 6,\n        \"samples\": [\n          26,\n          3,\n          2\n        ],\n        \"semantic_type\": \"\",\n        \"description\": \"\"\n      }\n    },\n    {\n      \"column\": \"disgust\",\n      \"properties\": {\n        \"dtype\": \"number\",\n        \"std\": 326,\n        \"min\": 44,\n        \"max\": 1077,\n        \"num_unique_values\": 7,\n        \"samples\": [\n          293,\n          44,\n          217\n        ],\n        \"semantic_type\": \"\",\n        \"description\": \"\"\n      }\n    },\n    {\n      \"column\": \"fear\",\n      \"properties\": {\n        \"dtype\": \"number\",\n        \"std\": 35,\n        \"min\": 4,\n        \"max\": 97,\n        \"num_unique_values\": 7,\n        \"samples\": [\n          21,\n          4,\n          6\n        ],\n        \"semantic_type\": \"\",\n        \"description\": \"\"\n      }\n    },\n    {\n      \"column\": \"happy\",\n      \"properties\": {\n        \"dtype\": \"number\",\n        \"std\": 53,\n        \"min\": 8,\n        \"max\": 171,\n        \"num_unique_values\": 7,\n        \"samples\": [\n          125,\n          8,\n          171\n        ],\n        \"semantic_type\": \"\",\n        \"description\": \"\"\n      }\n    },\n    {\n      \"column\": \"sad\",\n      \"properties\": {\n        \"dtype\": \"number\",\n        \"std\": 43,\n        \"min\": 16,\n        \"max\": 143,\n        \"num_unique_values\": 7,\n        \"samples\": [\n          128,\n          16,\n          94\n        ],\n        \"semantic_type\": \"\",\n        \"description\": \"\"\n      }\n    },\n    {\n      \"column\": \"surprise\",\n      \"properties\": {\n        \"dtype\": \"number\",\n        \"std\": 5,\n        \"min\": 0,\n        \"max\": 17,\n        \"num_unique_values\": 6,\n        \"samples\": [\n          9,\n          0,\n          7\n        ],\n        \"semantic_type\": \"\",\n        \"description\": \"\"\n      }\n    },\n    {\n      \"column\": \"neutral\",\n      \"properties\": {\n        \"dtype\": \"number\",\n        \"std\": 182,\n        \"min\": 36,\n        \"max\": 605,\n        \"num_unique_values\": 7,\n        \"samples\": [\n          356,\n          36,\n          339\n        ],\n        \"semantic_type\": \"\",\n        \"description\": \"\"\n      }\n    }\n  ]\n}"
            }
          },
          "metadata": {}
        },
        {
          "output_type": "display_data",
          "data": {
            "text/plain": [
              "<Figure size 640x480 with 2 Axes>"
            ],
            "image/png": "[encoded data removed]"
          },
          "metadata": {}
        }
      ],
      "source": [
        "from IPython.display import display\n",
        "\n",
        "def show_confusion_matrix(model):\n",
        "    \"\"\"\n",
        "    Calculates the test accuracy, confusion matrix and heat map for a model.\n",
        "    \"\"\"\n",
        "    global test_faces, test_emotions, emotions_names\n",
        "\n",
        "    y_pred = model.predict(test_faces).argmax(axis=1)\n",
        "    y_actual = test_emotions.argmax(axis=1)\n",
        "\n",
        "    print('*************************\\n* Test Accuracy: %.4f *\\n*************************' % metrics.accuracy_score(y_actual, y_pred))\n",
        "\n",
        "    cm = pd.DataFrame(metrics.confusion_matrix(y_actual, y_pred), index=emotions_names, columns=emotions_names)\n",
        "    display(cm)\n",
        "\n",
        "    cm = cm.div(cm.sum(axis=1), axis=0)\n",
        "\n",
        "    sns.heatmap(cm, cmap=\"Blues\", annot=True, fmt=\".2f\")\n",
        "\n",
        "show_confusion_matrix(model)"
      ]
    },
    {
      "cell_type": "markdown",
      "metadata": {
        "id": "vBx5DzfOUzCG"
      },
      "source": [
        "Please comment briefly on the model's performance."
      ]
    },
    {
      "cell_type": "markdown",
      "metadata": {
        "id": "vk0nYXY8UzCG"
      },
      "source": [
        "<font color='red'> **Your Answer** </font>\n",
        "\n",
        "With a test accuracy of 56%, this model has a low performance. However, it is higher than the baseline (1 out of 7 or 14%)"
      ]
    },
    {
      "cell_type": "markdown",
      "metadata": {
        "id": "4Ddqer_8KbwB"
      },
      "source": [
        "# Problem 2: Transfer Learning with Fine-Tuning [40 Points]\n",
        "\n",
        "In this problem, we will unfreeze the backbone and fine-tune the entire model to see if we can improve performance further.\n",
        "\n",
        "## Part (a): Fine-Tuning with Standard Learning Rate [20 points]\n",
        "We'll use the same model architecture as in Problem 1, but this time we'll allow the backbone weights to be updated during training."
      ]
    },
    {
      "cell_type": "code",
      "execution_count": null,
      "metadata": {
        "colab": {
          "base_uri": "https://localhost:8080/",
          "height": 374
        },
        "id": "zXCMRTksbp2V",
        "outputId": "4f91cf1a-e6dc-4070-b4c7-227e9898a473"
      },
      "outputs": [
        {
          "output_type": "display_data",
          "data": {
            "text/plain": [
              "\u001b[1mModel: \"fine_tuned_vit\"\u001b[0m\n"
            ],
            "text/html": [
              "<pre style=\"white-space:pre;overflow-x:auto;line-height:normal;font-family:Menlo,'DejaVu Sans Mono',consolas,'Courier New',monospace\"><span style=\"font-weight: bold\">Model: \"fine_tuned_vit\"</span>\n",
              "</pre>\n"
            ]
          },
          "metadata": {}
        },
        {
          "output_type": "display_data",
          "data": {
            "text/plain": [
              "┏━━━━━━━━━━━━━━━━━━━━━━━━━━━━━━━━━━━━━━┳━━━━━━━━━━━━━━━━━━━━━━━━━━━━━┳━━━━━━━━━━━━━━━━━┓\n",
              "┃\u001b[1m \u001b[0m\u001b[1mLayer (type)                        \u001b[0m\u001b[1m \u001b[0m┃\u001b[1m \u001b[0m\u001b[1mOutput Shape               \u001b[0m\u001b[1m \u001b[0m┃\u001b[1m \u001b[0m\u001b[1m        Param #\u001b[0m\u001b[1m \u001b[0m┃\n",
              "┡━━━━━━━━━━━━━━━━━━━━━━━━━━━━━━━━━━━━━━╇━━━━━━━━━━━━━━━━━━━━━━━━━━━━━╇━━━━━━━━━━━━━━━━━┩\n",
              "│ input (\u001b[38;5;33mInputLayer\u001b[0m)                   │ (\u001b[38;5;45mNone\u001b[0m, \u001b[38;5;34m48\u001b[0m, \u001b[38;5;34m48\u001b[0m, \u001b[38;5;34m3\u001b[0m)           │               \u001b[38;5;34m0\u001b[0m │\n",
              "├──────────────────────────────────────┼─────────────────────────────┼─────────────────┤\n",
              "│ sequential_1 (\u001b[38;5;33mSequential\u001b[0m)            │ (\u001b[38;5;45mNone\u001b[0m, \u001b[38;5;34m48\u001b[0m, \u001b[38;5;34m48\u001b[0m, \u001b[38;5;34m3\u001b[0m)           │               \u001b[38;5;34m0\u001b[0m │\n",
              "├──────────────────────────────────────┼─────────────────────────────┼─────────────────┤\n",
              "│ vi_t_image_classifier_preprocessor   │ (\u001b[38;5;45mNone\u001b[0m, \u001b[38;5;34m224\u001b[0m, \u001b[38;5;34m224\u001b[0m, \u001b[38;5;34m3\u001b[0m)         │               \u001b[38;5;34m0\u001b[0m │\n",
              "│ (\u001b[38;5;33mViTImageClassifierPreprocessor\u001b[0m)     │                             │                 │\n",
              "├──────────────────────────────────────┼─────────────────────────────┼─────────────────┤\n",
              "│ vi_t_backbone (\u001b[38;5;33mViTBackbone\u001b[0m)          │ (\u001b[38;5;45mNone\u001b[0m, \u001b[38;5;34m197\u001b[0m, \u001b[38;5;34m768\u001b[0m)            │      \u001b[38;5;34m85,798,656\u001b[0m │\n",
              "├──────────────────────────────────────┼─────────────────────────────┼─────────────────┤\n",
              "│ get_item_2 (\u001b[38;5;33mGetItem\u001b[0m)                 │ (\u001b[38;5;45mNone\u001b[0m, \u001b[38;5;34m768\u001b[0m)                 │               \u001b[38;5;34m0\u001b[0m │\n",
              "├──────────────────────────────────────┼─────────────────────────────┼─────────────────┤\n",
              "│ dense_4 (\u001b[38;5;33mDense\u001b[0m)                      │ (\u001b[38;5;45mNone\u001b[0m, \u001b[38;5;34m256\u001b[0m)                 │         \u001b[38;5;34m196,864\u001b[0m │\n",
              "├──────────────────────────────────────┼─────────────────────────────┼─────────────────┤\n",
              "│ dense_5 (\u001b[38;5;33mDense\u001b[0m)                      │ (\u001b[38;5;45mNone\u001b[0m, \u001b[38;5;34m7\u001b[0m)                   │           \u001b[38;5;34m1,799\u001b[0m │\n",
              "└──────────────────────────────────────┴─────────────────────────────┴─────────────────┘\n"
            ],
            "text/html": [
              "<pre style=\"white-space:pre;overflow-x:auto;line-height:normal;font-family:Menlo,'DejaVu Sans Mono',consolas,'Courier New',monospace\">┏━━━━━━━━━━━━━━━━━━━━━━━━━━━━━━━━━━━━━━┳━━━━━━━━━━━━━━━━━━━━━━━━━━━━━┳━━━━━━━━━━━━━━━━━┓\n",
              "┃<span style=\"font-weight: bold\"> Layer (type)                         </span>┃<span style=\"font-weight: bold\"> Output Shape                </span>┃<span style=\"font-weight: bold\">         Param # </span>┃\n",
              "┡━━━━━━━━━━━━━━━━━━━━━━━━━━━━━━━━━━━━━━╇━━━━━━━━━━━━━━━━━━━━━━━━━━━━━╇━━━━━━━━━━━━━━━━━┩\n",
              "│ input (<span style=\"color: #0087ff; text-decoration-color: #0087ff\">InputLayer</span>)                   │ (<span style=\"color: #00d7ff; text-decoration-color: #00d7ff\">None</span>, <span style=\"color: #00af00; text-decoration-color: #00af00\">48</span>, <span style=\"color: #00af00; text-decoration-color: #00af00\">48</span>, <span style=\"color: #00af00; text-decoration-color: #00af00\">3</span>)           │               <span style=\"color: #00af00; text-decoration-color: #00af00\">0</span> │\n",
              "├──────────────────────────────────────┼─────────────────────────────┼─────────────────┤\n",
              "│ sequential_1 (<span style=\"color: #0087ff; text-decoration-color: #0087ff\">Sequential</span>)            │ (<span style=\"color: #00d7ff; text-decoration-color: #00d7ff\">None</span>, <span style=\"color: #00af00; text-decoration-color: #00af00\">48</span>, <span style=\"color: #00af00; text-decoration-color: #00af00\">48</span>, <span style=\"color: #00af00; text-decoration-color: #00af00\">3</span>)           │               <span style=\"color: #00af00; text-decoration-color: #00af00\">0</span> │\n",
              "├──────────────────────────────────────┼─────────────────────────────┼─────────────────┤\n",
              "│ vi_t_image_classifier_preprocessor   │ (<span style=\"color: #00d7ff; text-decoration-color: #00d7ff\">None</span>, <span style=\"color: #00af00; text-decoration-color: #00af00\">224</span>, <span style=\"color: #00af00; text-decoration-color: #00af00\">224</span>, <span style=\"color: #00af00; text-decoration-color: #00af00\">3</span>)         │               <span style=\"color: #00af00; text-decoration-color: #00af00\">0</span> │\n",
              "│ (<span style=\"color: #0087ff; text-decoration-color: #0087ff\">ViTImageClassifierPreprocessor</span>)     │                             │                 │\n",
              "├──────────────────────────────────────┼─────────────────────────────┼─────────────────┤\n",
              "│ vi_t_backbone (<span style=\"color: #0087ff; text-decoration-color: #0087ff\">ViTBackbone</span>)          │ (<span style=\"color: #00d7ff; text-decoration-color: #00d7ff\">None</span>, <span style=\"color: #00af00; text-decoration-color: #00af00\">197</span>, <span style=\"color: #00af00; text-decoration-color: #00af00\">768</span>)            │      <span style=\"color: #00af00; text-decoration-color: #00af00\">85,798,656</span> │\n",
              "├──────────────────────────────────────┼─────────────────────────────┼─────────────────┤\n",
              "│ get_item_2 (<span style=\"color: #0087ff; text-decoration-color: #0087ff\">GetItem</span>)                 │ (<span style=\"color: #00d7ff; text-decoration-color: #00d7ff\">None</span>, <span style=\"color: #00af00; text-decoration-color: #00af00\">768</span>)                 │               <span style=\"color: #00af00; text-decoration-color: #00af00\">0</span> │\n",
              "├──────────────────────────────────────┼─────────────────────────────┼─────────────────┤\n",
              "│ dense_4 (<span style=\"color: #0087ff; text-decoration-color: #0087ff\">Dense</span>)                      │ (<span style=\"color: #00d7ff; text-decoration-color: #00d7ff\">None</span>, <span style=\"color: #00af00; text-decoration-color: #00af00\">256</span>)                 │         <span style=\"color: #00af00; text-decoration-color: #00af00\">196,864</span> │\n",
              "├──────────────────────────────────────┼─────────────────────────────┼─────────────────┤\n",
              "│ dense_5 (<span style=\"color: #0087ff; text-decoration-color: #0087ff\">Dense</span>)                      │ (<span style=\"color: #00d7ff; text-decoration-color: #00d7ff\">None</span>, <span style=\"color: #00af00; text-decoration-color: #00af00\">7</span>)                   │           <span style=\"color: #00af00; text-decoration-color: #00af00\">1,799</span> │\n",
              "└──────────────────────────────────────┴─────────────────────────────┴─────────────────┘\n",
              "</pre>\n"
            ]
          },
          "metadata": {}
        },
        {
          "output_type": "display_data",
          "data": {
            "text/plain": [
              "\u001b[1m Total params: \u001b[0m\u001b[38;5;34m85,997,319\u001b[0m (328.05 MB)\n"
            ],
            "text/html": [
              "<pre style=\"white-space:pre;overflow-x:auto;line-height:normal;font-family:Menlo,'DejaVu Sans Mono',consolas,'Courier New',monospace\"><span style=\"font-weight: bold\"> Total params: </span><span style=\"color: #00af00; text-decoration-color: #00af00\">85,997,319</span> (328.05 MB)\n",
              "</pre>\n"
            ]
          },
          "metadata": {}
        },
        {
          "output_type": "display_data",
          "data": {
            "text/plain": [
              "\u001b[1m Trainable params: \u001b[0m\u001b[38;5;34m85,997,319\u001b[0m (328.05 MB)\n"
            ],
            "text/html": [
              "<pre style=\"white-space:pre;overflow-x:auto;line-height:normal;font-family:Menlo,'DejaVu Sans Mono',consolas,'Courier New',monospace\"><span style=\"font-weight: bold\"> Trainable params: </span><span style=\"color: #00af00; text-decoration-color: #00af00\">85,997,319</span> (328.05 MB)\n",
              "</pre>\n"
            ]
          },
          "metadata": {}
        },
        {
          "output_type": "display_data",
          "data": {
            "text/plain": [
              "\u001b[1m Non-trainable params: \u001b[0m\u001b[38;5;34m0\u001b[0m (0.00 B)\n"
            ],
            "text/html": [
              "<pre style=\"white-space:pre;overflow-x:auto;line-height:normal;font-family:Menlo,'DejaVu Sans Mono',consolas,'Courier New',monospace\"><span style=\"font-weight: bold\"> Non-trainable params: </span><span style=\"color: #00af00; text-decoration-color: #00af00\">0</span> (0.00 B)\n",
              "</pre>\n"
            ]
          },
          "metadata": {}
        }
      ],
      "source": [
        "# Fresh instance of pre-trained backbone\n",
        "backbone = keras_hub.models.Backbone.from_preset(\"vit_base_patch16_224_imagenet\", load_weights=True)\n",
        "\n",
        "# Create model with the same architecture\n",
        "inputs = keras.Input(shape=(48, 48, 3), name=\"input\")\n",
        "#######################\n",
        "x = data_augmentation(inputs)                             # Apply data augmentation\n",
        "x = preprocessor(x)                                       # Preprocess input for ViT\n",
        "x = backbone(x)[:, 0, :]                                  # Run through ViT backbone, select CLS embedding\n",
        "x = keras.layers.Dense(256, activation=\"relu\")(x)         # Run through a dense layer\n",
        "outputs = keras.layers.Dense(7, activation=\"softmax\")(x)  # Final classification layer\n",
        "#######################\n",
        "fine_tuned_model = keras.Model(inputs, outputs, name='fine_tuned_vit')\n",
        "\n",
        "fine_tuned_model.summary()"
      ]
    },
    {
      "cell_type": "code",
      "execution_count": null,
      "metadata": {
        "colab": {
          "base_uri": "https://localhost:8080/"
        },
        "id": "QjaIXSAUX9yh",
        "outputId": "c968fef7-4381-4e7d-d16b-d44a0a1e0ffc"
      },
      "outputs": [
        {
          "output_type": "stream",
          "name": "stdout",
          "text": [
            "Epoch 1/5\n",
            "\u001b[1m359/359\u001b[0m \u001b[32m━━━━━━━━━━━━━━━━━━━━\u001b[0m\u001b[37m\u001b[0m \u001b[1m707s\u001b[0m 2s/step - accuracy: 0.4800 - loss: 1.3653 - val_accuracy: 0.6162 - val_loss: 1.0117\n",
            "Epoch 2/5\n",
            "\u001b[1m359/359\u001b[0m \u001b[32m━━━━━━━━━━━━━━━━━━━━\u001b[0m\u001b[37m\u001b[0m \u001b[1m693s\u001b[0m 2s/step - accuracy: 0.6148 - loss: 1.0163 - val_accuracy: 0.6550 - val_loss: 0.9171\n",
            "Epoch 3/5\n",
            "\u001b[1m359/359\u001b[0m \u001b[32m━━━━━━━━━━━━━━━━━━━━\u001b[0m\u001b[37m\u001b[0m \u001b[1m695s\u001b[0m 2s/step - accuracy: 0.6689 - loss: 0.8962 - val_accuracy: 0.6747 - val_loss: 0.8788\n",
            "Epoch 4/5\n",
            "\u001b[1m359/359\u001b[0m \u001b[32m━━━━━━━━━━━━━━━━━━━━\u001b[0m\u001b[37m\u001b[0m \u001b[1m696s\u001b[0m 2s/step - accuracy: 0.6998 - loss: 0.8028 - val_accuracy: 0.6801 - val_loss: 0.8861\n",
            "Epoch 5/5\n",
            "\u001b[1m359/359\u001b[0m \u001b[32m━━━━━━━━━━━━━━━━━━━━\u001b[0m\u001b[37m\u001b[0m \u001b[1m694s\u001b[0m 2s/step - accuracy: 0.7265 - loss: 0.7354 - val_accuracy: 0.6876 - val_loss: 0.8701\n"
          ]
        }
      ],
      "source": [
        "# Train with same parameters\n",
        "fine_tuned_model.compile(\n",
        "#######################\n",
        "    optimizer=keras.optimizers.Adam(learning_rate=1e-4),\n",
        "    loss=\"categorical_crossentropy\",\n",
        "    metrics=[\"accuracy\"],\n",
        "#######################\n",
        ")\n",
        "\n",
        "fine_tuned_model_history = fine_tuned_model.fit(\n",
        "#######################\n",
        "    train_faces,\n",
        "    train_emotions,\n",
        "    epochs=5,\n",
        "    batch_size=64,\n",
        "    validation_split=0.2\n",
        "#######################\n",
        " )"
      ]
    },
    {
      "cell_type": "code",
      "execution_count": null,
      "metadata": {
        "colab": {
          "base_uri": "https://localhost:8080/",
          "height": 472
        },
        "id": "kVrda-J8X9yh",
        "outputId": "ae349084-9052-4ddb-b14d-fd373c64ce35"
      },
      "outputs": [
        {
          "output_type": "display_data",
          "data": {
            "text/plain": [
              "<Figure size 640x480 with 1 Axes>"
            ],
            "image/png": "[encoded data removed]"
          },
          "metadata": {}
        }
      ],
      "source": [
        "plot_accuracy(fine_tuned_model_history)"
      ]
    },
    {
      "cell_type": "code",
      "execution_count": null,
      "metadata": {
        "colab": {
          "base_uri": "https://localhost:8080/",
          "height": 751
        },
        "id": "liqjrZuWX9yh",
        "outputId": "12457b65-32c5-4665-a0ab-1eedbfba44c5"
      },
      "outputs": [
        {
          "output_type": "stream",
          "name": "stdout",
          "text": [
            "\u001b[1m225/225\u001b[0m \u001b[32m━━━━━━━━━━━━━━━━━━━━\u001b[0m\u001b[37m\u001b[0m \u001b[1m45s\u001b[0m 202ms/step\n",
            "*************************\n",
            "* Test Accuracy: 0.6739 *\n",
            "*************************\n"
          ]
        },
        {
          "output_type": "display_data",
          "data": {
            "text/plain": [
              "          angry  disgust  fear  happy  sad  surprise  neutral\n",
              "angry       692       13    40     20  107        11       75\n",
              "disgust      47       45     1      3    9         1        5\n",
              "fear        213        1   358     18  285        59       90\n",
              "happy        53        2    21   1541   24        31      102\n",
              "sad         184        8    60     34  742         8      211\n",
              "surprise     64        0    71     34   35       584       43\n",
              "neutral      98        1    28     49  179         3      875"
            ],
            "text/html": [
              "\n",
              "  <div id=\"df-3ff372fb-d7e6-4439-b1b0-2ecd8c5355d5\" class=\"colab-df-container\">\n",
              "    <div>\n",
              "<style scoped>\n",
              "    .dataframe tbody tr th:only-of-type {\n",
              "        vertical-align: middle;\n",
              "    }\n",
              "\n",
              "    .dataframe tbody tr th {\n",
              "        vertical-align: top;\n",
              "    }\n",
              "\n",
              "    .dataframe thead th {\n",
              "        text-align: right;\n",
              "    }\n",
              "</style>\n",
              "<table border=\"1\" class=\"dataframe\">\n",
              "  <thead>\n",
              "    <tr style=\"text-align: right;\">\n",
              "      <th></th>\n",
              "      <th>angry</th>\n",
              "      <th>disgust</th>\n",
              "      <th>fear</th>\n",
              "      <th>happy</th>\n",
              "      <th>sad</th>\n",
              "      <th>surprise</th>\n",
              "      <th>neutral</th>\n",
              "    </tr>\n",
              "  </thead>\n",
              "  <tbody>\n",
              "    <tr>\n",
              "      <th>angry</th>\n",
              "      <td>692</td>\n",
              "      <td>13</td>\n",
              "      <td>40</td>\n",
              "      <td>20</td>\n",
              "      <td>107</td>\n",
              "      <td>11</td>\n",
              "      <td>75</td>\n",
              "    </tr>\n",
              "    <tr>\n",
              "      <th>disgust</th>\n",
              "      <td>47</td>\n",
              "      <td>45</td>\n",
              "      <td>1</td>\n",
              "      <td>3</td>\n",
              "      <td>9</td>\n",
              "      <td>1</td>\n",
              "      <td>5</td>\n",
              "    </tr>\n",
              "    <tr>\n",
              "      <th>fear</th>\n",
              "      <td>213</td>\n",
              "      <td>1</td>\n",
              "      <td>358</td>\n",
              "      <td>18</td>\n",
              "      <td>285</td>\n",
              "      <td>59</td>\n",
              "      <td>90</td>\n",
              "    </tr>\n",
              "    <tr>\n",
              "      <th>happy</th>\n",
              "      <td>53</td>\n",
              "      <td>2</td>\n",
              "      <td>21</td>\n",
              "      <td>1541</td>\n",
              "      <td>24</td>\n",
              "      <td>31</td>\n",
              "      <td>102</td>\n",
              "    </tr>\n",
              "    <tr>\n",
              "      <th>sad</th>\n",
              "      <td>184</td>\n",
              "      <td>8</td>\n",
              "      <td>60</td>\n",
              "      <td>34</td>\n",
              "      <td>742</td>\n",
              "      <td>8</td>\n",
              "      <td>211</td>\n",
              "    </tr>\n",
              "    <tr>\n",
              "      <th>surprise</th>\n",
              "      <td>64</td>\n",
              "      <td>0</td>\n",
              "      <td>71</td>\n",
              "      <td>34</td>\n",
              "      <td>35</td>\n",
              "      <td>584</td>\n",
              "      <td>43</td>\n",
              "    </tr>\n",
              "    <tr>\n",
              "      <th>neutral</th>\n",
              "      <td>98</td>\n",
              "      <td>1</td>\n",
              "      <td>28</td>\n",
              "      <td>49</td>\n",
              "      <td>179</td>\n",
              "      <td>3</td>\n",
              "      <td>875</td>\n",
              "    </tr>\n",
              "  </tbody>\n",
              "</table>\n",
              "</div>\n",
              "    <div class=\"colab-df-buttons\">\n",
              "\n",
              "  <div class=\"colab-df-container\">\n",
              "    <button class=\"colab-df-convert\" onclick=\"convertToInteractive('df-3ff372fb-d7e6-4439-b1b0-2ecd8c5355d5')\"\n",
              "            title=\"Convert this dataframe to an interactive table.\"\n",
              "            style=\"display:none;\">\n",
              "\n",
              "  <svg xmlns=\"http://www.w3.org/2000/svg\" height=\"24px\" viewBox=\"0 -960 960 960\">\n",
              "    <path d=\"M120-120v-720h720v720H120Zm60-500h600v-160H180v160Zm220 220h160v-160H400v160Zm0 220h160v-160H400v160ZM180-400h160v-160H180v160Zm440 0h160v-160H620v160ZM180-180h160v-160H180v160Zm440 0h160v-160H620v160Z\"/>\n",
              "  </svg>\n",
              "    </button>\n",
              "\n",
              "  <style>\n",
              "    .colab-df-container {\n",
              "      display:flex;\n",
              "      gap: 12px;\n",
              "    }\n",
              "\n",
              "    .colab-df-convert {\n",
              "      background-color: #E8F0FE;\n",
              "      border: none;\n",
              "      border-radius: 50%;\n",
              "      cursor: pointer;\n",
              "      display: none;\n",
              "      fill: #1967D2;\n",
              "      height: 32px;\n",
              "      padding: 0 0 0 0;\n",
              "      width: 32px;\n",
              "    }\n",
              "\n",
              "    .colab-df-convert:hover {\n",
              "      background-color: #E2EBFA;\n",
              "      box-shadow: 0px 1px 2px rgba(60, 64, 67, 0.3), 0px 1px 3px 1px rgba(60, 64, 67, 0.15);\n",
              "      fill: #174EA6;\n",
              "    }\n",
              "\n",
              "    .colab-df-buttons div {\n",
              "      margin-bottom: 4px;\n",
              "    }\n",
              "\n",
              "    [theme=dark] .colab-df-convert {\n",
              "      background-color: #3B4455;\n",
              "      fill: #D2E3FC;\n",
              "    }\n",
              "\n",
              "    [theme=dark] .colab-df-convert:hover {\n",
              "      background-color: #434B5C;\n",
              "      box-shadow: 0px 1px 3px 1px rgba(0, 0, 0, 0.15);\n",
              "      filter: drop-shadow(0px 1px 2px rgba(0, 0, 0, 0.3));\n",
              "      fill: #FFFFFF;\n",
              "    }\n",
              "  </style>\n",
              "\n",
              "    <script>\n",
              "      const buttonEl =\n",
              "        document.querySelector('#df-3ff372fb-d7e6-4439-b1b0-2ecd8c5355d5 button.colab-df-convert');\n",
              "      buttonEl.style.display =\n",
              "        google.colab.kernel.accessAllowed ? 'block' : 'none';\n",
              "\n",
              "      async function convertToInteractive(key) {\n",
              "        const element = document.querySelector('#df-3ff372fb-d7e6-4439-b1b0-2ecd8c5355d5');\n",
              "        const dataTable =\n",
              "          await google.colab.kernel.invokeFunction('convertToInteractive',\n",
              "                                                    [key], {});\n",
              "        if (!dataTable) return;\n",
              "\n",
              "        const docLinkHtml = 'Like what you see? Visit the ' +\n",
              "          '<a target=\"_blank\" href=https://colab.research.google.com/notebooks/data_table.ipynb>data table notebook</a>'\n",
              "          + ' to learn more about interactive tables.';\n",
              "        element.innerHTML = '';\n",
              "        dataTable['output_type'] = 'display_data';\n",
              "        await google.colab.output.renderOutput(dataTable, element);\n",
              "        const docLink = document.createElement('div');\n",
              "        docLink.innerHTML = docLinkHtml;\n",
              "        element.appendChild(docLink);\n",
              "      }\n",
              "    </script>\n",
              "  </div>\n",
              "\n",
              "\n",
              "<div id=\"df-81a6a4d8-2267-47f0-8583-9094f6b21c86\">\n",
              "  <button class=\"colab-df-quickchart\" onclick=\"quickchart('df-81a6a4d8-2267-47f0-8583-9094f6b21c86')\"\n",
              "            title=\"Suggest charts\"\n",
              "            style=\"display:none;\">\n",
              "\n",
              "<svg xmlns=\"http://www.w3.org/2000/svg\" height=\"24px\"viewBox=\"0 0 24 24\"\n",
              "     width=\"24px\">\n",
              "    <g>\n",
              "        <path d=\"M19 3H5c-1.1 0-2 .9-2 2v14c0 1.1.9 2 2 2h14c1.1 0 2-.9 2-2V5c0-1.1-.9-2-2-2zM9 17H7v-7h2v7zm4 0h-2V7h2v10zm4 0h-2v-4h2v4z\"/>\n",
              "    </g>\n",
              "</svg>\n",
              "  </button>\n",
              "\n",
              "<style>\n",
              "  .colab-df-quickchart {\n",
              "      --bg-color: #E8F0FE;\n",
              "      --fill-color: #1967D2;\n",
              "      --hover-bg-color: #E2EBFA;\n",
              "      --hover-fill-color: #174EA6;\n",
              "      --disabled-fill-color: #AAA;\n",
              "      --disabled-bg-color: #DDD;\n",
              "  }\n",
              "\n",
              "  [theme=dark] .colab-df-quickchart {\n",
              "      --bg-color: #3B4455;\n",
              "      --fill-color: #D2E3FC;\n",
              "      --hover-bg-color: #434B5C;\n",
              "      --hover-fill-color: #FFFFFF;\n",
              "      --disabled-bg-color: #3B4455;\n",
              "      --disabled-fill-color: #666;\n",
              "  }\n",
              "\n",
              "  .colab-df-quickchart {\n",
              "    background-color: var(--bg-color);\n",
              "    border: none;\n",
              "    border-radius: 50%;\n",
              "    cursor: pointer;\n",
              "    display: none;\n",
              "    fill: var(--fill-color);\n",
              "    height: 32px;\n",
              "    padding: 0;\n",
              "    width: 32px;\n",
              "  }\n",
              "\n",
              "  .colab-df-quickchart:hover {\n",
              "    background-color: var(--hover-bg-color);\n",
              "    box-shadow: 0 1px 2px rgba(60, 64, 67, 0.3), 0 1px 3px 1px rgba(60, 64, 67, 0.15);\n",
              "    fill: var(--button-hover-fill-color);\n",
              "  }\n",
              "\n",
              "  .colab-df-quickchart-complete:disabled,\n",
              "  .colab-df-quickchart-complete:disabled:hover {\n",
              "    background-color: var(--disabled-bg-color);\n",
              "    fill: var(--disabled-fill-color);\n",
              "    box-shadow: none;\n",
              "  }\n",
              "\n",
              "  .colab-df-spinner {\n",
              "    border: 2px solid var(--fill-color);\n",
              "    border-color: transparent;\n",
              "    border-bottom-color: var(--fill-color);\n",
              "    animation:\n",
              "      spin 1s steps(1) infinite;\n",
              "  }\n",
              "\n",
              "  @keyframes spin {\n",
              "    0% {\n",
              "      border-color: transparent;\n",
              "      border-bottom-color: var(--fill-color);\n",
              "      border-left-color: var(--fill-color);\n",
              "    }\n",
              "    20% {\n",
              "      border-color: transparent;\n",
              "      border-left-color: var(--fill-color);\n",
              "      border-top-color: var(--fill-color);\n",
              "    }\n",
              "    30% {\n",
              "      border-color: transparent;\n",
              "      border-left-color: var(--fill-color);\n",
              "      border-top-color: var(--fill-color);\n",
              "      border-right-color: var(--fill-color);\n",
              "    }\n",
              "    40% {\n",
              "      border-color: transparent;\n",
              "      border-right-color: var(--fill-color);\n",
              "      border-top-color: var(--fill-color);\n",
              "    }\n",
              "    60% {\n",
              "      border-color: transparent;\n",
              "      border-right-color: var(--fill-color);\n",
              "    }\n",
              "    80% {\n",
              "      border-color: transparent;\n",
              "      border-right-color: var(--fill-color);\n",
              "      border-bottom-color: var(--fill-color);\n",
              "    }\n",
              "    90% {\n",
              "      border-color: transparent;\n",
              "      border-bottom-color: var(--fill-color);\n",
              "    }\n",
              "  }\n",
              "</style>\n",
              "\n",
              "  <script>\n",
              "    async function quickchart(key) {\n",
              "      const quickchartButtonEl =\n",
              "        document.querySelector('#' + key + ' button');\n",
              "      quickchartButtonEl.disabled = true;  // To prevent multiple clicks.\n",
              "      quickchartButtonEl.classList.add('colab-df-spinner');\n",
              "      try {\n",
              "        const charts = await google.colab.kernel.invokeFunction(\n",
              "            'suggestCharts', [key], {});\n",
              "      } catch (error) {\n",
              "        console.error('Error during call to suggestCharts:', error);\n",
              "      }\n",
              "      quickchartButtonEl.classList.remove('colab-df-spinner');\n",
              "      quickchartButtonEl.classList.add('colab-df-quickchart-complete');\n",
              "    }\n",
              "    (() => {\n",
              "      let quickchartButtonEl =\n",
              "        document.querySelector('#df-81a6a4d8-2267-47f0-8583-9094f6b21c86 button');\n",
              "      quickchartButtonEl.style.display =\n",
              "        google.colab.kernel.accessAllowed ? 'block' : 'none';\n",
              "    })();\n",
              "  </script>\n",
              "</div>\n",
              "\n",
              "    </div>\n",
              "  </div>\n"
            ],
            "application/vnd.google.colaboratory.intrinsic+json": {
              "type": "dataframe",
              "summary": "{\n  \"name\": \"show_confusion_matrix(fine_tuned_model)\",\n  \"rows\": 7,\n  \"fields\": [\n    {\n      \"column\": \"angry\",\n      \"properties\": {\n        \"dtype\": \"number\",\n        \"std\": 229,\n        \"min\": 47,\n        \"max\": 692,\n        \"num_unique_values\": 7,\n        \"samples\": [\n          692,\n          47,\n          64\n        ],\n        \"semantic_type\": \"\",\n        \"description\": \"\"\n      }\n    },\n    {\n      \"column\": \"disgust\",\n      \"properties\": {\n        \"dtype\": \"number\",\n        \"std\": 16,\n        \"min\": 0,\n        \"max\": 45,\n        \"num_unique_values\": 6,\n        \"samples\": [\n          13,\n          45,\n          0\n        ],\n        \"semantic_type\": \"\",\n        \"description\": \"\"\n      }\n    },\n    {\n      \"column\": \"fear\",\n      \"properties\": {\n        \"dtype\": \"number\",\n        \"std\": 123,\n        \"min\": 1,\n        \"max\": 358,\n        \"num_unique_values\": 7,\n        \"samples\": [\n          40,\n          1,\n          71\n        ],\n        \"semantic_type\": \"\",\n        \"description\": \"\"\n      }\n    },\n    {\n      \"column\": \"happy\",\n      \"properties\": {\n        \"dtype\": \"number\",\n        \"std\": 572,\n        \"min\": 3,\n        \"max\": 1541,\n        \"num_unique_values\": 6,\n        \"samples\": [\n          20,\n          3,\n          49\n        ],\n        \"semantic_type\": \"\",\n        \"description\": \"\"\n      }\n    },\n    {\n      \"column\": \"sad\",\n      \"properties\": {\n        \"dtype\": \"number\",\n        \"std\": 259,\n        \"min\": 9,\n        \"max\": 742,\n        \"num_unique_values\": 7,\n        \"samples\": [\n          107,\n          9,\n          35\n        ],\n        \"semantic_type\": \"\",\n        \"description\": \"\"\n      }\n    },\n    {\n      \"column\": \"surprise\",\n      \"properties\": {\n        \"dtype\": \"number\",\n        \"std\": 214,\n        \"min\": 1,\n        \"max\": 584,\n        \"num_unique_values\": 7,\n        \"samples\": [\n          11,\n          1,\n          584\n        ],\n        \"semantic_type\": \"\",\n        \"description\": \"\"\n      }\n    },\n    {\n      \"column\": \"neutral\",\n      \"properties\": {\n        \"dtype\": \"number\",\n        \"std\": 304,\n        \"min\": 5,\n        \"max\": 875,\n        \"num_unique_values\": 7,\n        \"samples\": [\n          75,\n          5,\n          43\n        ],\n        \"semantic_type\": \"\",\n        \"description\": \"\"\n      }\n    }\n  ]\n}"
            }
          },
          "metadata": {}
        },
        {
          "output_type": "display_data",
          "data": {
            "text/plain": [
              "<Figure size 640x480 with 2 Axes>"
            ],
            "image/png": "[encoded data removed]"
          },
          "metadata": {}
        }
      ],
      "source": [
        "show_confusion_matrix(fine_tuned_model)"
      ]
    },
    {
      "cell_type": "markdown",
      "metadata": {
        "id": "V8VUGegk6LrV"
      },
      "source": [
        "Please comment briefly on the model's performance.  \n",
        "\n",
        "<font color='red'> **Your Answer** </font>\n",
        "\n",
        "Poor accuracy, except for certain areas"
      ]
    },
    {
      "cell_type": "markdown",
      "metadata": {
        "id": "S3ADLDPucc3A"
      },
      "source": [
        "## Part (b): Fine-Tuning with Lower Learning Rate [10 points]\n",
        "When fine-tuning a pre-trained model, it's often beneficial to use a lower learning rate to prevent destroying the useful pre-trained features. Let's try the same model but with a reduced learning rate."
      ]
    },
    {
      "cell_type": "code",
      "execution_count": null,
      "metadata": {
        "id": "7wdkqcB1c-8e"
      },
      "outputs": [],
      "source": [
        "# Fresh instance of pre-trained backbone\n",
        "backbone = keras_hub.models.Backbone.from_preset(\"vit_base_patch16_224_imagenet\", load_weights=True)\n",
        "\n",
        "# Create model with the same architecture\n",
        "inputs = keras.Input(shape=(48, 48, 3), name=\"input\")\n",
        "#######################\n",
        "x = data_augmentation(inputs)                             # Apply data augmentation\n",
        "x = preprocessor(x)                                       # Preprocess input for ViT\n",
        "x = backbone(x)[:, 0, :]                                  # Run through ViT backbone, select CLS embedding\n",
        "x = keras.layers.Dense(256, activation=\"relu\")(x)         # Run through a dense layer\n",
        "outputs = keras.layers.Dense(7, activation=\"softmax\")(x)  # Final classification layer\n",
        "\n",
        "#######################\n",
        "fine_tuned_model_lr = keras.Model(inputs, outputs, name='fine_tuned_vit_lower_lr')"
      ]
    },
    {
      "cell_type": "code",
      "execution_count": null,
      "metadata": {
        "id": "yGo8Vtj_edeB",
        "colab": {
          "base_uri": "https://localhost:8080/"
        },
        "outputId": "68ae7129-7de4-4ba6-f4d9-cc0598fb68ca"
      },
      "outputs": [
        {
          "output_type": "stream",
          "name": "stdout",
          "text": [
            "Epoch 1/5\n",
            "\u001b[1m359/359\u001b[0m \u001b[32m━━━━━━━━━━━━━━━━━━━━\u001b[0m\u001b[37m\u001b[0m \u001b[1m691s\u001b[0m 2s/step - accuracy: 0.2285 - loss: 1.9323 - val_accuracy: 0.2520 - val_loss: 1.7872\n",
            "Epoch 2/5\n",
            "\u001b[1m359/359\u001b[0m \u001b[32m━━━━━━━━━━━━━━━━━━━━\u001b[0m\u001b[37m\u001b[0m \u001b[1m693s\u001b[0m 2s/step - accuracy: 0.2511 - loss: 1.7929 - val_accuracy: 0.2590 - val_loss: 1.7855\n",
            "Epoch 3/5\n",
            "\u001b[1m359/359\u001b[0m \u001b[32m━━━━━━━━━━━━━━━━━━━━\u001b[0m\u001b[37m\u001b[0m \u001b[1m693s\u001b[0m 2s/step - accuracy: 0.2529 - loss: 1.7885 - val_accuracy: 0.2529 - val_loss: 1.7914\n",
            "Epoch 4/5\n",
            "\u001b[1m359/359\u001b[0m \u001b[32m━━━━━━━━━━━━━━━━━━━━\u001b[0m\u001b[37m\u001b[0m \u001b[1m691s\u001b[0m 2s/step - accuracy: 0.2535 - loss: 1.7869 - val_accuracy: 0.2555 - val_loss: 1.7754\n",
            "Epoch 5/5\n",
            "\u001b[1m359/359\u001b[0m \u001b[32m━━━━━━━━━━━━━━━━━━━━\u001b[0m\u001b[37m\u001b[0m \u001b[1m693s\u001b[0m 2s/step - accuracy: 0.2527 - loss: 1.7877 - val_accuracy: 0.2529 - val_loss: 1.7934\n"
          ]
        }
      ],
      "source": [
        "# Backbone is trainable\n",
        "backbone.trainable = True\n",
        "\n",
        "# Train with reduced learning rate\n",
        "fine_tuned_model_lr.compile(\n",
        "#######################\n",
        "    optimizer=keras.optimizers.Adam(learning_rate=1e-3), #changed\n",
        "    loss=\"categorical_crossentropy\",\n",
        "    metrics=[\"accuracy\"],\n",
        "#######################\n",
        ")\n",
        "\n",
        "fine_tuned_model_lr_history = fine_tuned_model_lr.fit(\n",
        "#######################\n",
        "    train_faces,\n",
        "    train_emotions,\n",
        "    epochs=5,\n",
        "    batch_size=64,\n",
        "    validation_split=0.2\n",
        "#######################\n",
        ")"
      ]
    },
    {
      "cell_type": "code",
      "execution_count": null,
      "metadata": {
        "id": "VcD2uMEoef0c",
        "colab": {
          "base_uri": "https://localhost:8080/"
        },
        "outputId": "bac3def0-f9d2-4812-97c3-7eaa2c55d890"
      },
      "outputs": [
        {
          "output_type": "display_data",
          "data": {
            "text/plain": [
              "<Figure size 640x480 with 1 Axes>"
            ],
            "image/png": "[encoded data removed]"
          },
          "metadata": {}
        }
      ],
      "source": [
        "plot_accuracy(fine_tuned_model_lr_history)"
      ]
    },
    {
      "cell_type": "code",
      "execution_count": null,
      "metadata": {
        "id": "g8T-KseoeiZC",
        "colab": {
          "base_uri": "https://localhost:8080/",
          "height": 791
        },
        "outputId": "0a0e1fc3-8d17-477a-95f8-a2ecba5f5788"
      },
      "outputs": [
        {
          "output_type": "stream",
          "name": "stdout",
          "text": [
            "\u001b[1m225/225\u001b[0m \u001b[32m━━━━━━━━━━━━━━━━━━━━\u001b[0m\u001b[37m\u001b[0m \u001b[1m50s\u001b[0m 222ms/step - accuracy: 0.2465 - loss: 1.7997\n",
            "Test accuracy: 0.2488\n",
            "\u001b[1m225/225\u001b[0m \u001b[32m━━━━━━━━━━━━━━━━━━━━\u001b[0m\u001b[37m\u001b[0m \u001b[1m45s\u001b[0m 200ms/step\n",
            "*************************\n",
            "* Test Accuracy: 0.2488 *\n",
            "*************************\n"
          ]
        },
        {
          "output_type": "display_data",
          "data": {
            "text/plain": [
              "          angry  disgust  fear  happy  sad  surprise  neutral\n",
              "angry         0        0     0    949    9         0        0\n",
              "disgust       0        0     0    111    0         0        0\n",
              "fear          0        0     0   1017    7         0        0\n",
              "happy         0        0     0   1765    9         0        0\n",
              "sad           0        0     0   1226   21         0        0\n",
              "surprise      0        0     0    829    2         0        0\n",
              "neutral       0        0     0   1218   15         0        0"
            ],
            "text/html": [
              "\n",
              "  <div id=\"df-976e6b8c-dddd-4ec6-950e-de469b1973d1\" class=\"colab-df-container\">\n",
              "    <div>\n",
              "<style scoped>\n",
              "    .dataframe tbody tr th:only-of-type {\n",
              "        vertical-align: middle;\n",
              "    }\n",
              "\n",
              "    .dataframe tbody tr th {\n",
              "        vertical-align: top;\n",
              "    }\n",
              "\n",
              "    .dataframe thead th {\n",
              "        text-align: right;\n",
              "    }\n",
              "</style>\n",
              "<table border=\"1\" class=\"dataframe\">\n",
              "  <thead>\n",
              "    <tr style=\"text-align: right;\">\n",
              "      <th></th>\n",
              "      <th>angry</th>\n",
              "      <th>disgust</th>\n",
              "      <th>fear</th>\n",
              "      <th>happy</th>\n",
              "      <th>sad</th>\n",
              "      <th>surprise</th>\n",
              "      <th>neutral</th>\n",
              "    </tr>\n",
              "  </thead>\n",
              "  <tbody>\n",
              "    <tr>\n",
              "      <th>angry</th>\n",
              "      <td>0</td>\n",
              "      <td>0</td>\n",
              "      <td>0</td>\n",
              "      <td>949</td>\n",
              "      <td>9</td>\n",
              "      <td>0</td>\n",
              "      <td>0</td>\n",
              "    </tr>\n",
              "    <tr>\n",
              "      <th>disgust</th>\n",
              "      <td>0</td>\n",
              "      <td>0</td>\n",
              "      <td>0</td>\n",
              "      <td>111</td>\n",
              "      <td>0</td>\n",
              "      <td>0</td>\n",
              "      <td>0</td>\n",
              "    </tr>\n",
              "    <tr>\n",
              "      <th>fear</th>\n",
              "      <td>0</td>\n",
              "      <td>0</td>\n",
              "      <td>0</td>\n",
              "      <td>1017</td>\n",
              "      <td>7</td>\n",
              "      <td>0</td>\n",
              "      <td>0</td>\n",
              "    </tr>\n",
              "    <tr>\n",
              "      <th>happy</th>\n",
              "      <td>0</td>\n",
              "      <td>0</td>\n",
              "      <td>0</td>\n",
              "      <td>1765</td>\n",
              "      <td>9</td>\n",
              "      <td>0</td>\n",
              "      <td>0</td>\n",
              "    </tr>\n",
              "    <tr>\n",
              "      <th>sad</th>\n",
              "      <td>0</td>\n",
              "      <td>0</td>\n",
              "      <td>0</td>\n",
              "      <td>1226</td>\n",
              "      <td>21</td>\n",
              "      <td>0</td>\n",
              "      <td>0</td>\n",
              "    </tr>\n",
              "    <tr>\n",
              "      <th>surprise</th>\n",
              "      <td>0</td>\n",
              "      <td>0</td>\n",
              "      <td>0</td>\n",
              "      <td>829</td>\n",
              "      <td>2</td>\n",
              "      <td>0</td>\n",
              "      <td>0</td>\n",
              "    </tr>\n",
              "    <tr>\n",
              "      <th>neutral</th>\n",
              "      <td>0</td>\n",
              "      <td>0</td>\n",
              "      <td>0</td>\n",
              "      <td>1218</td>\n",
              "      <td>15</td>\n",
              "      <td>0</td>\n",
              "      <td>0</td>\n",
              "    </tr>\n",
              "  </tbody>\n",
              "</table>\n",
              "</div>\n",
              "    <div class=\"colab-df-buttons\">\n",
              "\n",
              "  <div class=\"colab-df-container\">\n",
              "    <button class=\"colab-df-convert\" onclick=\"convertToInteractive('df-976e6b8c-dddd-4ec6-950e-de469b1973d1')\"\n",
              "            title=\"Convert this dataframe to an interactive table.\"\n",
              "            style=\"display:none;\">\n",
              "\n",
              "  <svg xmlns=\"http://www.w3.org/2000/svg\" height=\"24px\" viewBox=\"0 -960 960 960\">\n",
              "    <path d=\"M120-120v-720h720v720H120Zm60-500h600v-160H180v160Zm220 220h160v-160H400v160Zm0 220h160v-160H400v160ZM180-400h160v-160H180v160Zm440 0h160v-160H620v160ZM180-180h160v-160H180v160Zm440 0h160v-160H620v160Z\"/>\n",
              "  </svg>\n",
              "    </button>\n",
              "\n",
              "  <style>\n",
              "    .colab-df-container {\n",
              "      display:flex;\n",
              "      gap: 12px;\n",
              "    }\n",
              "\n",
              "    .colab-df-convert {\n",
              "      background-color: #E8F0FE;\n",
              "      border: none;\n",
              "      border-radius: 50%;\n",
              "      cursor: pointer;\n",
              "      display: none;\n",
              "      fill: #1967D2;\n",
              "      height: 32px;\n",
              "      padding: 0 0 0 0;\n",
              "      width: 32px;\n",
              "    }\n",
              "\n",
              "    .colab-df-convert:hover {\n",
              "      background-color: #E2EBFA;\n",
              "      box-shadow: 0px 1px 2px rgba(60, 64, 67, 0.3), 0px 1px 3px 1px rgba(60, 64, 67, 0.15);\n",
              "      fill: #174EA6;\n",
              "    }\n",
              "\n",
              "    .colab-df-buttons div {\n",
              "      margin-bottom: 4px;\n",
              "    }\n",
              "\n",
              "    [theme=dark] .colab-df-convert {\n",
              "      background-color: #3B4455;\n",
              "      fill: #D2E3FC;\n",
              "    }\n",
              "\n",
              "    [theme=dark] .colab-df-convert:hover {\n",
              "      background-color: #434B5C;\n",
              "      box-shadow: 0px 1px 3px 1px rgba(0, 0, 0, 0.15);\n",
              "      filter: drop-shadow(0px 1px 2px rgba(0, 0, 0, 0.3));\n",
              "      fill: #FFFFFF;\n",
              "    }\n",
              "  </style>\n",
              "\n",
              "    <script>\n",
              "      const buttonEl =\n",
              "        document.querySelector('#df-976e6b8c-dddd-4ec6-950e-de469b1973d1 button.colab-df-convert');\n",
              "      buttonEl.style.display =\n",
              "        google.colab.kernel.accessAllowed ? 'block' : 'none';\n",
              "\n",
              "      async function convertToInteractive(key) {\n",
              "        const element = document.querySelector('#df-976e6b8c-dddd-4ec6-950e-de469b1973d1');\n",
              "        const dataTable =\n",
              "          await google.colab.kernel.invokeFunction('convertToInteractive',\n",
              "                                                    [key], {});\n",
              "        if (!dataTable) return;\n",
              "\n",
              "        const docLinkHtml = 'Like what you see? Visit the ' +\n",
              "          '<a target=\"_blank\" href=https://colab.research.google.com/notebooks/data_table.ipynb>data table notebook</a>'\n",
              "          + ' to learn more about interactive tables.';\n",
              "        element.innerHTML = '';\n",
              "        dataTable['output_type'] = 'display_data';\n",
              "        await google.colab.output.renderOutput(dataTable, element);\n",
              "        const docLink = document.createElement('div');\n",
              "        docLink.innerHTML = docLinkHtml;\n",
              "        element.appendChild(docLink);\n",
              "      }\n",
              "    </script>\n",
              "  </div>\n",
              "\n",
              "\n",
              "<div id=\"df-4c96deef-9b71-4b3b-bfe7-8eb6d68da7b6\">\n",
              "  <button class=\"colab-df-quickchart\" onclick=\"quickchart('df-4c96deef-9b71-4b3b-bfe7-8eb6d68da7b6')\"\n",
              "            title=\"Suggest charts\"\n",
              "            style=\"display:none;\">\n",
              "\n",
              "<svg xmlns=\"http://www.w3.org/2000/svg\" height=\"24px\"viewBox=\"0 0 24 24\"\n",
              "     width=\"24px\">\n",
              "    <g>\n",
              "        <path d=\"M19 3H5c-1.1 0-2 .9-2 2v14c0 1.1.9 2 2 2h14c1.1 0 2-.9 2-2V5c0-1.1-.9-2-2-2zM9 17H7v-7h2v7zm4 0h-2V7h2v10zm4 0h-2v-4h2v4z\"/>\n",
              "    </g>\n",
              "</svg>\n",
              "  </button>\n",
              "\n",
              "<style>\n",
              "  .colab-df-quickchart {\n",
              "      --bg-color: #E8F0FE;\n",
              "      --fill-color: #1967D2;\n",
              "      --hover-bg-color: #E2EBFA;\n",
              "      --hover-fill-color: #174EA6;\n",
              "      --disabled-fill-color: #AAA;\n",
              "      --disabled-bg-color: #DDD;\n",
              "  }\n",
              "\n",
              "  [theme=dark] .colab-df-quickchart {\n",
              "      --bg-color: #3B4455;\n",
              "      --fill-color: #D2E3FC;\n",
              "      --hover-bg-color: #434B5C;\n",
              "      --hover-fill-color: #FFFFFF;\n",
              "      --disabled-bg-color: #3B4455;\n",
              "      --disabled-fill-color: #666;\n",
              "  }\n",
              "\n",
              "  .colab-df-quickchart {\n",
              "    background-color: var(--bg-color);\n",
              "    border: none;\n",
              "    border-radius: 50%;\n",
              "    cursor: pointer;\n",
              "    display: none;\n",
              "    fill: var(--fill-color);\n",
              "    height: 32px;\n",
              "    padding: 0;\n",
              "    width: 32px;\n",
              "  }\n",
              "\n",
              "  .colab-df-quickchart:hover {\n",
              "    background-color: var(--hover-bg-color);\n",
              "    box-shadow: 0 1px 2px rgba(60, 64, 67, 0.3), 0 1px 3px 1px rgba(60, 64, 67, 0.15);\n",
              "    fill: var(--button-hover-fill-color);\n",
              "  }\n",
              "\n",
              "  .colab-df-quickchart-complete:disabled,\n",
              "  .colab-df-quickchart-complete:disabled:hover {\n",
              "    background-color: var(--disabled-bg-color);\n",
              "    fill: var(--disabled-fill-color);\n",
              "    box-shadow: none;\n",
              "  }\n",
              "\n",
              "  .colab-df-spinner {\n",
              "    border: 2px solid var(--fill-color);\n",
              "    border-color: transparent;\n",
              "    border-bottom-color: var(--fill-color);\n",
              "    animation:\n",
              "      spin 1s steps(1) infinite;\n",
              "  }\n",
              "\n",
              "  @keyframes spin {\n",
              "    0% {\n",
              "      border-color: transparent;\n",
              "      border-bottom-color: var(--fill-color);\n",
              "      border-left-color: var(--fill-color);\n",
              "    }\n",
              "    20% {\n",
              "      border-color: transparent;\n",
              "      border-left-color: var(--fill-color);\n",
              "      border-top-color: var(--fill-color);\n",
              "    }\n",
              "    30% {\n",
              "      border-color: transparent;\n",
              "      border-left-color: var(--fill-color);\n",
              "      border-top-color: var(--fill-color);\n",
              "      border-right-color: var(--fill-color);\n",
              "    }\n",
              "    40% {\n",
              "      border-color: transparent;\n",
              "      border-right-color: var(--fill-color);\n",
              "      border-top-color: var(--fill-color);\n",
              "    }\n",
              "    60% {\n",
              "      border-color: transparent;\n",
              "      border-right-color: var(--fill-color);\n",
              "    }\n",
              "    80% {\n",
              "      border-color: transparent;\n",
              "      border-right-color: var(--fill-color);\n",
              "      border-bottom-color: var(--fill-color);\n",
              "    }\n",
              "    90% {\n",
              "      border-color: transparent;\n",
              "      border-bottom-color: var(--fill-color);\n",
              "    }\n",
              "  }\n",
              "</style>\n",
              "\n",
              "  <script>\n",
              "    async function quickchart(key) {\n",
              "      const quickchartButtonEl =\n",
              "        document.querySelector('#' + key + ' button');\n",
              "      quickchartButtonEl.disabled = true;  // To prevent multiple clicks.\n",
              "      quickchartButtonEl.classList.add('colab-df-spinner');\n",
              "      try {\n",
              "        const charts = await google.colab.kernel.invokeFunction(\n",
              "            'suggestCharts', [key], {});\n",
              "      } catch (error) {\n",
              "        console.error('Error during call to suggestCharts:', error);\n",
              "      }\n",
              "      quickchartButtonEl.classList.remove('colab-df-spinner');\n",
              "      quickchartButtonEl.classList.add('colab-df-quickchart-complete');\n",
              "    }\n",
              "    (() => {\n",
              "      let quickchartButtonEl =\n",
              "        document.querySelector('#df-4c96deef-9b71-4b3b-bfe7-8eb6d68da7b6 button');\n",
              "      quickchartButtonEl.style.display =\n",
              "        google.colab.kernel.accessAllowed ? 'block' : 'none';\n",
              "    })();\n",
              "  </script>\n",
              "</div>\n",
              "\n",
              "    </div>\n",
              "  </div>\n"
            ],
            "application/vnd.google.colaboratory.intrinsic+json": {
              "type": "dataframe",
              "summary": "{\n  \"name\": \"show_confusion_matrix(fine_tuned_model_lr)\",\n  \"rows\": 7,\n  \"fields\": [\n    {\n      \"column\": \"angry\",\n      \"properties\": {\n        \"dtype\": \"number\",\n        \"std\": 0,\n        \"min\": 0,\n        \"max\": 0,\n        \"num_unique_values\": 1,\n        \"samples\": [\n          0\n        ],\n        \"semantic_type\": \"\",\n        \"description\": \"\"\n      }\n    },\n    {\n      \"column\": \"disgust\",\n      \"properties\": {\n        \"dtype\": \"number\",\n        \"std\": 0,\n        \"min\": 0,\n        \"max\": 0,\n        \"num_unique_values\": 1,\n        \"samples\": [\n          0\n        ],\n        \"semantic_type\": \"\",\n        \"description\": \"\"\n      }\n    },\n    {\n      \"column\": \"fear\",\n      \"properties\": {\n        \"dtype\": \"number\",\n        \"std\": 0,\n        \"min\": 0,\n        \"max\": 0,\n        \"num_unique_values\": 1,\n        \"samples\": [\n          0\n        ],\n        \"semantic_type\": \"\",\n        \"description\": \"\"\n      }\n    },\n    {\n      \"column\": \"happy\",\n      \"properties\": {\n        \"dtype\": \"number\",\n        \"std\": 500,\n        \"min\": 111,\n        \"max\": 1765,\n        \"num_unique_values\": 7,\n        \"samples\": [\n          949\n        ],\n        \"semantic_type\": \"\",\n        \"description\": \"\"\n      }\n    },\n    {\n      \"column\": \"sad\",\n      \"properties\": {\n        \"dtype\": \"number\",\n        \"std\": 7,\n        \"min\": 0,\n        \"max\": 21,\n        \"num_unique_values\": 6,\n        \"samples\": [\n          9\n        ],\n        \"semantic_type\": \"\",\n        \"description\": \"\"\n      }\n    },\n    {\n      \"column\": \"surprise\",\n      \"properties\": {\n        \"dtype\": \"number\",\n        \"std\": 0,\n        \"min\": 0,\n        \"max\": 0,\n        \"num_unique_values\": 1,\n        \"samples\": [\n          0\n        ],\n        \"semantic_type\": \"\",\n        \"description\": \"\"\n      }\n    },\n    {\n      \"column\": \"neutral\",\n      \"properties\": {\n        \"dtype\": \"number\",\n        \"std\": 0,\n        \"min\": 0,\n        \"max\": 0,\n        \"num_unique_values\": 1,\n        \"samples\": [\n          0\n        ],\n        \"semantic_type\": \"\",\n        \"description\": \"\"\n      }\n    }\n  ]\n}"
            }
          },
          "metadata": {}
        },
        {
          "output_type": "display_data",
          "data": {
            "text/plain": [
              "<Figure size 640x480 with 2 Axes>"
            ],
            "image/png": "[encoded data removed]"
          },
          "metadata": {}
        }
      ],
      "source": [
        "# Calculate test accuracy\n",
        "test_loss_fine_tuned_lr, test_accuracy_fine_tuned_lr = fine_tuned_model_lr.evaluate(test_faces, test_emotions)\n",
        "print(f\"Test accuracy: {test_accuracy_fine_tuned_lr:.4f}\")\n",
        "\n",
        "show_confusion_matrix(fine_tuned_model_lr)"
      ]
    },
    {
      "cell_type": "markdown",
      "metadata": {
        "id": "X8ebm6tffPGR"
      },
      "source": [
        "Please comment on the results above.\n",
        "Low accuracy"
      ]
    },
    {
      "cell_type": "markdown",
      "metadata": {
        "id": "hbHBRaJ7e05S"
      },
      "source": [
        "# Problem 3: Training from Scratch [10 Points]\n",
        "\n",
        "In this final problem, we will build a Vision Transformer model with the same architecture but without using pre-trained weights. This will demonstrate the importance of transfer learning when working with limited data.\n",
        "\n",
        "**Note:** Training a ViT from scratch is computationally expensive. We'll only train for 1 epoch to demonstrate the concept."
      ]
    },
    {
      "cell_type": "code",
      "execution_count": null,
      "metadata": {
        "id": "mjxfhHGCe3f6",
        "colab": {
          "base_uri": "https://localhost:8080/"
        },
        "outputId": "1609ce20-5dc1-46ff-9137-c546396476b7"
      },
      "outputs": [
        {
          "output_type": "display_data",
          "data": {
            "text/plain": [
              "\u001b[1mModel: \"scratch_vit\"\u001b[0m\n"
            ],
            "text/html": [
              "<pre style=\"white-space:pre;overflow-x:auto;line-height:normal;font-family:Menlo,'DejaVu Sans Mono',consolas,'Courier New',monospace\"><span style=\"font-weight: bold\">Model: \"scratch_vit\"</span>\n",
              "</pre>\n"
            ]
          },
          "metadata": {}
        },
        {
          "output_type": "display_data",
          "data": {
            "text/plain": [
              "┏━━━━━━━━━━━━━━━━━━━━━━━━━━━━━━━━━━━━━━┳━━━━━━━━━━━━━━━━━━━━━━━━━━━━━┳━━━━━━━━━━━━━━━━━┓\n",
              "┃\u001b[1m \u001b[0m\u001b[1mLayer (type)                        \u001b[0m\u001b[1m \u001b[0m┃\u001b[1m \u001b[0m\u001b[1mOutput Shape               \u001b[0m\u001b[1m \u001b[0m┃\u001b[1m \u001b[0m\u001b[1m        Param #\u001b[0m\u001b[1m \u001b[0m┃\n",
              "┡━━━━━━━━━━━━━━━━━━━━━━━━━━━━━━━━━━━━━━╇━━━━━━━━━━━━━━━━━━━━━━━━━━━━━╇━━━━━━━━━━━━━━━━━┩\n",
              "│ input (\u001b[38;5;33mInputLayer\u001b[0m)                   │ (\u001b[38;5;45mNone\u001b[0m, \u001b[38;5;34m48\u001b[0m, \u001b[38;5;34m48\u001b[0m, \u001b[38;5;34m3\u001b[0m)           │               \u001b[38;5;34m0\u001b[0m │\n",
              "├──────────────────────────────────────┼─────────────────────────────┼─────────────────┤\n",
              "│ sequential_1 (\u001b[38;5;33mSequential\u001b[0m)            │ (\u001b[38;5;45mNone\u001b[0m, \u001b[38;5;34m48\u001b[0m, \u001b[38;5;34m48\u001b[0m, \u001b[38;5;34m3\u001b[0m)           │               \u001b[38;5;34m0\u001b[0m │\n",
              "├──────────────────────────────────────┼─────────────────────────────┼─────────────────┤\n",
              "│ vi_t_image_classifier_preprocessor   │ (\u001b[38;5;45mNone\u001b[0m, \u001b[38;5;34m224\u001b[0m, \u001b[38;5;34m224\u001b[0m, \u001b[38;5;34m3\u001b[0m)         │               \u001b[38;5;34m0\u001b[0m │\n",
              "│ (\u001b[38;5;33mViTImageClassifierPreprocessor\u001b[0m)     │                             │                 │\n",
              "├──────────────────────────────────────┼─────────────────────────────┼─────────────────┤\n",
              "│ vi_t_backbone (\u001b[38;5;33mViTBackbone\u001b[0m)          │ (\u001b[38;5;45mNone\u001b[0m, \u001b[38;5;34m197\u001b[0m, \u001b[38;5;34m768\u001b[0m)            │      \u001b[38;5;34m85,798,656\u001b[0m │\n",
              "├──────────────────────────────────────┼─────────────────────────────┼─────────────────┤\n",
              "│ get_item_4 (\u001b[38;5;33mGetItem\u001b[0m)                 │ (\u001b[38;5;45mNone\u001b[0m, \u001b[38;5;34m768\u001b[0m)                 │               \u001b[38;5;34m0\u001b[0m │\n",
              "├──────────────────────────────────────┼─────────────────────────────┼─────────────────┤\n",
              "│ dense_8 (\u001b[38;5;33mDense\u001b[0m)                      │ (\u001b[38;5;45mNone\u001b[0m, \u001b[38;5;34m256\u001b[0m)                 │         \u001b[38;5;34m196,864\u001b[0m │\n",
              "├──────────────────────────────────────┼─────────────────────────────┼─────────────────┤\n",
              "│ dense_9 (\u001b[38;5;33mDense\u001b[0m)                      │ (\u001b[38;5;45mNone\u001b[0m, \u001b[38;5;34m7\u001b[0m)                   │           \u001b[38;5;34m1,799\u001b[0m │\n",
              "└──────────────────────────────────────┴─────────────────────────────┴─────────────────┘\n"
            ],
            "text/html": [
              "<pre style=\"white-space:pre;overflow-x:auto;line-height:normal;font-family:Menlo,'DejaVu Sans Mono',consolas,'Courier New',monospace\">┏━━━━━━━━━━━━━━━━━━━━━━━━━━━━━━━━━━━━━━┳━━━━━━━━━━━━━━━━━━━━━━━━━━━━━┳━━━━━━━━━━━━━━━━━┓\n",
              "┃<span style=\"font-weight: bold\"> Layer (type)                         </span>┃<span style=\"font-weight: bold\"> Output Shape                </span>┃<span style=\"font-weight: bold\">         Param # </span>┃\n",
              "┡━━━━━━━━━━━━━━━━━━━━━━━━━━━━━━━━━━━━━━╇━━━━━━━━━━━━━━━━━━━━━━━━━━━━━╇━━━━━━━━━━━━━━━━━┩\n",
              "│ input (<span style=\"color: #0087ff; text-decoration-color: #0087ff\">InputLayer</span>)                   │ (<span style=\"color: #00d7ff; text-decoration-color: #00d7ff\">None</span>, <span style=\"color: #00af00; text-decoration-color: #00af00\">48</span>, <span style=\"color: #00af00; text-decoration-color: #00af00\">48</span>, <span style=\"color: #00af00; text-decoration-color: #00af00\">3</span>)           │               <span style=\"color: #00af00; text-decoration-color: #00af00\">0</span> │\n",
              "├──────────────────────────────────────┼─────────────────────────────┼─────────────────┤\n",
              "│ sequential_1 (<span style=\"color: #0087ff; text-decoration-color: #0087ff\">Sequential</span>)            │ (<span style=\"color: #00d7ff; text-decoration-color: #00d7ff\">None</span>, <span style=\"color: #00af00; text-decoration-color: #00af00\">48</span>, <span style=\"color: #00af00; text-decoration-color: #00af00\">48</span>, <span style=\"color: #00af00; text-decoration-color: #00af00\">3</span>)           │               <span style=\"color: #00af00; text-decoration-color: #00af00\">0</span> │\n",
              "├──────────────────────────────────────┼─────────────────────────────┼─────────────────┤\n",
              "│ vi_t_image_classifier_preprocessor   │ (<span style=\"color: #00d7ff; text-decoration-color: #00d7ff\">None</span>, <span style=\"color: #00af00; text-decoration-color: #00af00\">224</span>, <span style=\"color: #00af00; text-decoration-color: #00af00\">224</span>, <span style=\"color: #00af00; text-decoration-color: #00af00\">3</span>)         │               <span style=\"color: #00af00; text-decoration-color: #00af00\">0</span> │\n",
              "│ (<span style=\"color: #0087ff; text-decoration-color: #0087ff\">ViTImageClassifierPreprocessor</span>)     │                             │                 │\n",
              "├──────────────────────────────────────┼─────────────────────────────┼─────────────────┤\n",
              "│ vi_t_backbone (<span style=\"color: #0087ff; text-decoration-color: #0087ff\">ViTBackbone</span>)          │ (<span style=\"color: #00d7ff; text-decoration-color: #00d7ff\">None</span>, <span style=\"color: #00af00; text-decoration-color: #00af00\">197</span>, <span style=\"color: #00af00; text-decoration-color: #00af00\">768</span>)            │      <span style=\"color: #00af00; text-decoration-color: #00af00\">85,798,656</span> │\n",
              "├──────────────────────────────────────┼─────────────────────────────┼─────────────────┤\n",
              "│ get_item_4 (<span style=\"color: #0087ff; text-decoration-color: #0087ff\">GetItem</span>)                 │ (<span style=\"color: #00d7ff; text-decoration-color: #00d7ff\">None</span>, <span style=\"color: #00af00; text-decoration-color: #00af00\">768</span>)                 │               <span style=\"color: #00af00; text-decoration-color: #00af00\">0</span> │\n",
              "├──────────────────────────────────────┼─────────────────────────────┼─────────────────┤\n",
              "│ dense_8 (<span style=\"color: #0087ff; text-decoration-color: #0087ff\">Dense</span>)                      │ (<span style=\"color: #00d7ff; text-decoration-color: #00d7ff\">None</span>, <span style=\"color: #00af00; text-decoration-color: #00af00\">256</span>)                 │         <span style=\"color: #00af00; text-decoration-color: #00af00\">196,864</span> │\n",
              "├──────────────────────────────────────┼─────────────────────────────┼─────────────────┤\n",
              "│ dense_9 (<span style=\"color: #0087ff; text-decoration-color: #0087ff\">Dense</span>)                      │ (<span style=\"color: #00d7ff; text-decoration-color: #00d7ff\">None</span>, <span style=\"color: #00af00; text-decoration-color: #00af00\">7</span>)                   │           <span style=\"color: #00af00; text-decoration-color: #00af00\">1,799</span> │\n",
              "└──────────────────────────────────────┴─────────────────────────────┴─────────────────┘\n",
              "</pre>\n"
            ]
          },
          "metadata": {}
        },
        {
          "output_type": "display_data",
          "data": {
            "text/plain": [
              "\u001b[1m Total params: \u001b[0m\u001b[38;5;34m85,997,319\u001b[0m (328.05 MB)\n"
            ],
            "text/html": [
              "<pre style=\"white-space:pre;overflow-x:auto;line-height:normal;font-family:Menlo,'DejaVu Sans Mono',consolas,'Courier New',monospace\"><span style=\"font-weight: bold\"> Total params: </span><span style=\"color: #00af00; text-decoration-color: #00af00\">85,997,319</span> (328.05 MB)\n",
              "</pre>\n"
            ]
          },
          "metadata": {}
        },
        {
          "output_type": "display_data",
          "data": {
            "text/plain": [
              "\u001b[1m Trainable params: \u001b[0m\u001b[38;5;34m85,997,319\u001b[0m (328.05 MB)\n"
            ],
            "text/html": [
              "<pre style=\"white-space:pre;overflow-x:auto;line-height:normal;font-family:Menlo,'DejaVu Sans Mono',consolas,'Courier New',monospace\"><span style=\"font-weight: bold\"> Trainable params: </span><span style=\"color: #00af00; text-decoration-color: #00af00\">85,997,319</span> (328.05 MB)\n",
              "</pre>\n"
            ]
          },
          "metadata": {}
        },
        {
          "output_type": "display_data",
          "data": {
            "text/plain": [
              "\u001b[1m Non-trainable params: \u001b[0m\u001b[38;5;34m0\u001b[0m (0.00 B)\n"
            ],
            "text/html": [
              "<pre style=\"white-space:pre;overflow-x:auto;line-height:normal;font-family:Menlo,'DejaVu Sans Mono',consolas,'Courier New',monospace\"><span style=\"font-weight: bold\"> Non-trainable params: </span><span style=\"color: #00af00; text-decoration-color: #00af00\">0</span> (0.00 B)\n",
              "</pre>\n"
            ]
          },
          "metadata": {}
        }
      ],
      "source": [
        "# Load the ViT backbone WITHOUT pre-trained weights\n",
        "backbone_scratch = keras_hub.models.Backbone.from_preset(\"vit_base_patch16_224_imagenet\", load_weights=False)\n",
        "\n",
        "# Create the model with the same architecture\n",
        "#######################\n",
        "x = data_augmentation(inputs)                             # Apply data augmentation\n",
        "x = preprocessor(x)                                       # Preprocess input for ViT\n",
        "x = backbone(x)[:, 0, :]                                  # Run through ViT backbone, select CLS embedding\n",
        "x = keras.layers.Dense(256, activation=\"relu\")(x)         # Run through a dense layer\n",
        "outputs = keras.layers.Dense(7, activation=\"softmax\")(x)  # Final classification layer\n",
        "\n",
        "#######################\n",
        "scratch_model = keras.Model(inputs, outputs, name='scratch_vit')\n",
        "scratch_model.summary()"
      ]
    },
    {
      "cell_type": "code",
      "execution_count": null,
      "metadata": {
        "id": "oW6HWMzKe_Fm",
        "colab": {
          "base_uri": "https://localhost:8080/"
        },
        "outputId": "702f5c40-79a4-4a1f-bae8-aa09bcee75e8"
      },
      "outputs": [
        {
          "output_type": "stream",
          "name": "stdout",
          "text": [
            "\u001b[1m957/957\u001b[0m \u001b[32m━━━━━━━━━━━━━━━━━━━━\u001b[0m\u001b[37m\u001b[0m \u001b[1m1882s\u001b[0m 2s/step - accuracy: 0.2424 - loss: 1.7992 - val_accuracy: 0.2635 - val_loss: 1.7689\n",
            "\u001b[1m225/225\u001b[0m \u001b[32m━━━━━━━━━━━━━━━━━━━━\u001b[0m\u001b[37m\u001b[0m \u001b[1m50s\u001b[0m 222ms/step - accuracy: 0.2605 - loss: 1.7741\n",
            "Test accuracy after just 1 epoch: 0.2654\n"
          ]
        }
      ],
      "source": [
        "# Train from scratch (for just 1 epoch to demonstrate)\n",
        "scratch_model.compile(\n",
        "#######################\n",
        "    optimizer=keras.optimizers.Adam(learning_rate=1e-4),\n",
        "    loss=\"categorical_crossentropy\",\n",
        "    metrics=[\"accuracy\"],\n",
        "#######################\n",
        ")\n",
        "\n",
        "# Smaller batch size may be needed due to memory constraints\n",
        "scratch_model_history = scratch_model.fit(\n",
        "#######################\n",
        "    train_faces,\n",
        "    train_emotions,\n",
        "    epochs=1,\n",
        "    batch_size=24,\n",
        "    validation_split=0.2\n",
        "#######################\n",
        ")\n",
        "\n",
        "# Calculate test accuracy\n",
        "test_loss_scratch, test_accuracy_scratch = scratch_model.evaluate(test_faces, test_emotions)\n",
        "print(f\"Test accuracy after just 1 epoch: {test_accuracy_scratch:.4f}\")"
      ]
    },
    {
      "cell_type": "markdown",
      "metadata": {
        "id": "RoojQ4qxwH1S"
      },
      "source": [
        "Please comment on the results above. Low accuracy"
      ]
    },
    {
      "cell_type": "markdown",
      "metadata": {
        "id": "SOufxJ2QiXau"
      },
      "source": [
        "# Problem 4: Overall Comparisons and Conceptual Understanding [30 Points]\n"
      ]
    },
    {
      "cell_type": "markdown",
      "metadata": {
        "id": "wtkIEafuiyzB"
      },
      "source": [
        "## Comparison of All Models [20 points]\n",
        "\n",
        "Compare the performance of all models we've trained.\n",
        "\n",
        "Please discuss:\n",
        "1. How does fine-tuning the backbone compare to just training the classification head?\n",
        "2. What effect did lowering the learning rate have during fine-tuning?\n",
        "3. Why does training from scratch perform so poorly? computer vision models with limited data?\n",
        "\n",
        "<font color='red'>**Your Answer.**</font>\n",
        "\n",
        "1. How does fine-tuning the backbone compare to just training the classification head? Fine-tuning leads to higher accuracy\n",
        "2. What effect did lowering the learning rate have during fine-tuning? Leads to better final accuracy\n",
        "3. Why does training from scratch perform so poorly? Lack of sufficient data\n",
        "4. What are the practical implications of these results when developing computer vision models with limited data? Transfer learning is essential, lower learning rates improves fine-tuning stability, training from scratch is impractical for large datasets, pre-trained models save time and resources"
      ]
    },
    {
      "cell_type": "markdown",
      "metadata": {
        "id": "K1MbyplUi2kB"
      },
      "source": [
        "# Conceptual Understanding [10 Points]\n",
        "Answer the following conceptual questions with your own words - you can **avoid too many technical details**!"
      ]
    },
    {
      "cell_type": "markdown",
      "metadata": {
        "id": "-LBKICQqX9yd"
      },
      "source": [
        "**Epochs and Batches.**\n",
        "\n",
        "In your own words, please explain the relationship between an epoch and a batch in stochastic gradient descent.\n",
        "\n",
        "<font color='red'>**Your Answer.**</font>\n",
        "\n",
        "Epochs is the number of runs\n",
        "\n",
        "Batch is the number of training samples\n",
        "\n",
        "In SGD, model updates after each batch rather than full pass, thus a relationship can be drawn of batches per epoch which is training samples divided by batch size"
      ]
    },
    {
      "cell_type": "markdown",
      "metadata": {
        "id": "MaiS-WVwX9yd"
      },
      "source": [
        "\n",
        "\n",
        "When we ran `model.fit`, we saw that there are 359 batches per epoch. Please explain how this 359 is calculated. _Hint_: There are 28,709 training data points and 20% is set aside for validation.\n",
        "\n",
        "<font color='red'>**Your Answer.**</font>\n",
        "\n",
        "Training Samples=28,709×(1−0.2)=28,709×0.8=22,967\n",
        "\n",
        "Total Training Samples / Batch Size = 22,967 / 64 = 359\n"
      ]
    }
  ],
  "metadata": {
    "accelerator": "GPU",
    "colab": {
      "gpuType": "A100",
      "machine_shape": "hm",
      "provenance": []
    },
    "kernelspec": {
      "display_name": "Python 3",
      "name": "python3"
    },
    "language_info": {
      "codemirror_mode": {
        "name": "ipython",
        "version": 3
      },
      "file_extension": ".py",
      "mimetype": "text/x-python",
      "name": "python",
      "nbconvert_exporter": "python",
      "pygments_lexer": "ipython3",
      "version": "3.12.7"
    }
  },
  "nbformat": 4,
  "nbformat_minor": 0
}