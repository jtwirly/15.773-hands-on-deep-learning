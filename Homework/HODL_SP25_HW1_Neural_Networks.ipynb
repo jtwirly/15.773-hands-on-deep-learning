{
  "cells": [
    {
      "cell_type": "markdown",
      "metadata": {
        "id": "M8zDBAOjSjrC"
      },
      "source": [
        "**Before you do anything else, make a copy of this notebook.**\n",
        "\n",
        "**Then, follow the instructions below to do the homework. Your final submission will just be a link to your copy of the notebook.**"
      ]
    },
    {
      "cell_type": "markdown",
      "metadata": {
        "id": "pAv7k5Shl7qz"
      },
      "source": [
        "## SETUP"
      ]
    },
    {
      "cell_type": "markdown",
      "metadata": {
        "id": "UnYFebfglzf2"
      },
      "source": [
        "Execute the code cells below and then proceed to the instructions."
      ]
    },
    {
      "cell_type": "code",
      "execution_count": null,
      "metadata": {
        "id": "uHCbnVkEH2YQ"
      },
      "outputs": [],
      "source": [
        "import os\n",
        "os.environ[\"KERAS_BACKEND\"] = \"tensorflow\""
      ]
    },
    {
      "cell_type": "code",
      "execution_count": null,
      "metadata": {
        "id": "m5rG6KHGID0_"
      },
      "outputs": [],
      "source": [
        "import keras\n",
        "import numpy as np\n",
        "import pandas as pd\n",
        "import matplotlib.pyplot as plt"
      ]
    },
    {
      "cell_type": "code",
      "execution_count": null,
      "metadata": {
        "id": "D0hVzbapIGJ-"
      },
      "outputs": [],
      "source": [
        "(x_train, y_train), (x_val, y_val) = keras.datasets.california_housing.load_data(\n",
        "    version=\"large\", path=\"california_housing.npz\", test_split=0.2, seed=113\n",
        ")"
      ]
    },
    {
      "cell_type": "markdown",
      "metadata": {
        "id": "fYiovT6kl5K0"
      },
      "source": [
        "## INSTRUCTIONS"
      ]
    },
    {
      "cell_type": "markdown",
      "metadata": {
        "id": "IPApvx6lne1L"
      },
      "source": [
        "### Dataset"
      ]
    },
    {
      "cell_type": "markdown",
      "metadata": {
        "id": "ev9Li6RMI3eO"
      },
      "source": [
        "Edited from https://keras.io/api/datasets/california_housing/\n",
        "\n",
        "You have downloaded the California Housing dataset. This dataset was derived from the 1990 U.S. census, using one row per census block group. A block group is the smallest geographical unit for which the U.S. Census Bureau publishes sample data (a block group typically has a population of 600 to 3,000 people).\n",
        "\n",
        "It's a regression dataset with 8 features. The target variable is the median house value in the census block group, in dollars.\n",
        "\n",
        "The 8 input features are the following:\n",
        "\n",
        "* MedInc: median income in block group\n",
        "* HouseAge: median house age in block group\n",
        "* AveRooms: average number of rooms per household\n",
        "* AveBedrms: average number of bedrooms per household\n",
        "* Population: block group population\n",
        "* AveOccup: average number of household members\n",
        "* Latitude: block group latitude\n",
        "* Longitude: block group longitude\n",
        "\n",
        "\n",
        "The 20,640 rows of data have been split into train and validation sets and stored in numpy arrays.\n",
        "* `x_train`, `x_val`: numpy arrays containing the training and validation X matrices, respectively.\n",
        "\n",
        "* `y_train`, `y_val`: numpy arrays containing the values of the dependent variable for the training and validation sets respectively. These are numbers typically between 25000 and 500000 and represent home prices in dollars."
      ]
    },
    {
      "cell_type": "markdown",
      "metadata": {
        "id": "a55H2N6NniOG"
      },
      "source": [
        "### Assignment"
      ]
    },
    {
      "cell_type": "markdown",
      "metadata": {
        "id": "m8Wwm6OYUSbi"
      },
      "source": [
        "To answer the questions below, feel free to use/re-use the code in the [Neural Heart Disease Prediction Model colab](https://colab.research.google.com/drive/1vfJMtyMg_9Dt8erei_I1M3ve9W98DdGU?usp=drive_link) that we covered in class."
      ]
    },
    {
      "cell_type": "markdown",
      "metadata": {
        "id": "N_JzW-nPJtZX"
      },
      "source": [
        "First, standardize `x_train` and `x_val` using the mean and standard deviation of `x_train`. Then complete the following three parts.\n",
        "\n",
        "Part I\n",
        "* Define a Keras model with a single hidden layer of 16 neurons\n",
        "* Use `model.compile` with `adam` as the optimizer and `mse` as the loss\n",
        "* Train the Keras model for 100 epochs with `model.fit`, using a batch size of 32.\n",
        "* Plot loss curves for the training and validation sets.\n",
        "* Evaluate the model on the validation set and report the MSE.\n",
        "\n",
        "\n",
        "Part II\n",
        "* Take the Keras model you defined in Part I and add another hidden layer of 16 neurons. Then repeat the steps from Part I.\n",
        "\n",
        "Part III\n",
        "* Take the Keras model you defined in Part I. Modify it so that the input layer is ALSO connected (directly) to the output layer i.e., the output layer should be connected to the input layer *and* the hidden layer. Then repeat the steps from Part I.\n",
        "\n",
        "Part IV\n",
        "\n",
        "Using Keras Tuner, do hyperparameter optimization across:\n",
        "- the number of layers: [1,2,3]\n",
        "- the number of units in each layer: [4, 8]\n",
        "\n",
        "(i.e., 6 hyper-parameter combinations)\n",
        "\n",
        "Answer these questions in text cells:\n",
        "* What is the optimal hyper-parameter combination?\n",
        "* What is the MSE of the optimal model?\n",
        "* How does this optimal model compare to the models found in Parts I, II and III?\n",
        "\n",
        "**COMPLETE ALL THE ABOVE BY ADDING CODE AND TEXT CELLS TO THIS NOTEBOOK BELOW THIS CELL.**"
      ]
    },
    {
      "cell_type": "markdown",
      "metadata": {
        "id": "V3zKa37K3Efv"
      },
      "source": [
        "First, standardize x_train and x_val using the mean and standard deviation of x_train. Then complete the following three parts."
      ]
    },
    {
      "cell_type": "markdown",
      "metadata": {
        "id": "duu-7vQ87TB5"
      },
      "source": [
        "NNs work best when the inputs are all roughly in the same range. So standard practice is to standardize the numeric variables."
      ]
    },
    {
      "cell_type": "markdown",
      "metadata": {
        "id": "1j5dhrj47bFk"
      },
      "source": [
        "OK, let's calculate the mean and standard deviation of every numeric variable in the training set."
      ]
    },
    {
      "cell_type": "code",
      "execution_count": null,
      "metadata": {
        "id": "DfEppBr76IeP"
      },
      "outputs": [],
      "source": [
        "means = x_train.mean(axis=0)  # Compute mean per feature\n",
        "std = x_train.std(axis=0)    # Compute std per feature"
      ]
    },
    {
      "cell_type": "code",
      "execution_count": null,
      "metadata": {
        "colab": {
          "base_uri": "https://localhost:8080/"
        },
        "id": "T0hTIms06Mw_",
        "outputId": "fe00b927-a76d-4304-c9c2-5c601b580f02"
      },
      "outputs": [
        {
          "data": {
            "text/plain": [
              "array([-119.56227  ,   35.625397 ,   28.65413  , 2644.7268   ,\n",
              "        539.5743   , 1433.2728   ,  501.45834  ,    3.8701892],\n",
              "      dtype=float32)"
            ]
          },
          "execution_count": 39,
          "metadata": {},
          "output_type": "execute_result"
        }
      ],
      "source": [
        "means"
      ]
    },
    {
      "cell_type": "code",
      "execution_count": null,
      "metadata": {
        "colab": {
          "base_uri": "https://localhost:8080/"
        },
        "id": "ExIme-nU6qDP",
        "outputId": "541dcfe6-6ca1-4d28-9f05-c64830e07509"
      },
      "outputs": [
        {
          "data": {
            "text/plain": [
              "array([2.0011013e+00, 2.1297019e+00, 1.2597047e+01, 2.2100759e+03,\n",
              "       4.2613458e+02, 1.1563269e+03, 3.8756674e+02, 1.8976454e+00],\n",
              "      dtype=float32)"
            ]
          },
          "execution_count": 40,
          "metadata": {},
          "output_type": "execute_result"
        }
      ],
      "source": [
        "std"
      ]
    },
    {
      "cell_type": "markdown",
      "metadata": {
        "id": "9nSZYb4-9LQw"
      },
      "source": [
        "Let's standardize the train and validation arrays with\n",
        " these means and standard deviations."
      ]
    },
    {
      "cell_type": "code",
      "execution_count": null,
      "metadata": {
        "id": "o0-9b9yB6NM2"
      },
      "outputs": [],
      "source": [
        "x_train= (x_train - means)/std"
      ]
    },
    {
      "cell_type": "code",
      "execution_count": null,
      "metadata": {
        "id": "JTRuuqaV6Qir"
      },
      "outputs": [],
      "source": [
        "x_val= (x_val - means)/std"
      ]
    },
    {
      "cell_type": "code",
      "execution_count": null,
      "metadata": {
        "colab": {
          "base_uri": "https://localhost:8080/"
        },
        "id": "s9Dn1rgR6SVw",
        "outputId": "152ceee2-2965-4461-8d53-8cee809a1d8c"
      },
      "outputs": [
        {
          "data": {
            "text/plain": [
              "array([[ 0.64578164, -0.7209444 ,  1.8532811 , ..., -0.33318678,\n",
              "        -0.02698463, -0.04505019],\n",
              "       [ 0.60080445, -0.7819863 , -0.60761315, ..., -0.12736262,\n",
              "         0.14330862, -0.6016874 ],\n",
              "       [-1.413086  ,  1.0023006 ,  1.8532811 , ..., -0.623762  ,\n",
              "        -0.2669433 ,  0.05375648],\n",
              "       ...,\n",
              "       [-1.3880982 ,  0.91308695,  1.8532811 , ..., -0.48193362,\n",
              "        -0.36757112,  2.313188  ],\n",
              "       [-1.3081443 ,  1.0633426 , -0.84576416, ...,  0.17359033,\n",
              "         0.60000414,  2.2547474 ],\n",
              "       [ 0.56582385, -0.66929364,  0.02745636, ...,  0.439951  ,\n",
              "         0.4580931 , -0.3996475 ]], dtype=float32)"
            ]
          },
          "execution_count": 43,
          "metadata": {},
          "output_type": "execute_result"
        }
      ],
      "source": [
        "x_train"
      ]
    },
    {
      "cell_type": "code",
      "execution_count": null,
      "metadata": {
        "colab": {
          "base_uri": "https://localhost:8080/"
        },
        "id": "RoKDKI_Y6Ukf",
        "outputId": "7df12faf-080f-46ab-fd15-de7a6804d613"
      },
      "outputs": [
        {
          "data": {
            "text/plain": [
              "array([[ 0.60080445, -0.7256391 ,  1.2975953 , ..., -0.14552358,\n",
              "        -0.11987185, -0.25494185],\n",
              "       [-0.31868744, -0.46738732, -1.163299  , ...,  0.04646365,\n",
              "        -0.03472523,  0.30654347],\n",
              "       [-0.8234106 ,  1.0257796 , -1.639601  , ..., -0.37556234,\n",
              "        -0.51722276,  0.69708   ],\n",
              "       ...,\n",
              "       [-0.8633895 ,  1.1009073 ,  1.8532811 , ..., -0.03569305,\n",
              "         0.00397778, -1.1017809 ],\n",
              "       [ 0.6257922 , -0.7444215 ,  1.8532811 , ..., -0.41447866,\n",
              "        -0.43207616, -0.6781505 ],\n",
              "       [ 1.1654922 , -1.2984898 , -1.0045315 , ..., -0.6791097 ,\n",
              "        -0.15083426, -0.43484896]], dtype=float32)"
            ]
          },
          "execution_count": 44,
          "metadata": {},
          "output_type": "execute_result"
        }
      ],
      "source": [
        "x_val"
      ]
    },
    {
      "cell_type": "code",
      "execution_count": null,
      "metadata": {
        "colab": {
          "base_uri": "https://localhost:8080/"
        },
        "id": "JxgV6JS26MCe",
        "outputId": "2c24c28d-e894-4eba-eda7-00405bb82b6b"
      },
      "outputs": [
        {
          "name": "stdout",
          "output_type": "stream",
          "text": [
            "x_train shape: (16512, 8)\n",
            "x_val shape: (4128, 8)\n",
            "y_train shape: (16512,)\n",
            "y_val shape: (4128,)\n"
          ]
        }
      ],
      "source": [
        "#Check the shape of the data\n",
        "print(f\"x_train shape: {x_train.shape}\")\n",
        "print(f\"x_val shape: {x_val.shape}\")\n",
        "print(f\"y_train shape: {y_train.shape}\")\n",
        "print(f\"y_val shape: {y_val.shape}\")"
      ]
    },
    {
      "cell_type": "code",
      "execution_count": null,
      "metadata": {
        "colab": {
          "base_uri": "https://localhost:8080/"
        },
        "id": "jKcP0L--_qJn",
        "outputId": "5e98ab23-f4db-456c-fabf-9e2223f51748"
      },
      "outputs": [
        {
          "name": "stdout",
          "output_type": "stream",
          "text": [
            "Mean after standardization (should be ~0):\n",
            "[ 3.7187963e-06 -1.5139136e-05  9.6219743e-08 -4.3830487e-06\n",
            "  7.0359974e-08 -4.2555124e-07 -2.6206983e-08  2.0552466e-06]\n",
            "\n",
            "Standard deviation after standardization (should be ~1):\n",
            "[1.0000081 1.0000014 0.9999902 1.0000006 0.9999982 1.0000005 0.9999968\n",
            " 0.9999985]\n"
          ]
        }
      ],
      "source": [
        "# Validate standardization\n",
        "print(\"Mean after standardization (should be ~0):\")\n",
        "print(x_train.mean(axis=0))\n",
        "\n",
        "print(\"\\nStandard deviation after standardization (should be ~1):\")\n",
        "print(x_train.std(axis=0))"
      ]
    },
    {
      "cell_type": "code",
      "execution_count": null,
      "metadata": {
        "id": "n38C9gRI6dpB"
      },
      "outputs": [],
      "source": [
        "# Convert to pandas dataframe for analysis\n",
        "\n",
        "# Feature names\n",
        "feature_names = [\"MedInc\", \"HouseAge\", \"AveRooms\", \"AveBedrms\", \"Population\", \"AveOccup\", \"Latitude\", \"Longitude\"]\n",
        "\n",
        "# Convert training data to DataFrame\n",
        "train_df = pd.DataFrame(x_train, columns=feature_names)\n",
        "train_df['MedianHouseValue'] = y_train  # Add target column\n",
        "\n",
        "# Convert validation data to DataFrame\n",
        "val_df = pd.DataFrame(x_val, columns=feature_names)\n",
        "val_df['MedianHouseValue'] = y_val"
      ]
    },
    {
      "cell_type": "code",
      "execution_count": null,
      "metadata": {
        "colab": {
          "base_uri": "https://localhost:8080/"
        },
        "id": "TixdIPwy67Qs",
        "outputId": "c84c04da-16f8-4d17-f2c8-f76bf969c914"
      },
      "outputs": [
        {
          "data": {
            "text/plain": [
              "(16512, 9)"
            ]
          },
          "execution_count": 48,
          "metadata": {},
          "output_type": "execute_result"
        }
      ],
      "source": [
        "#Check the shape of the data\n",
        "train_df.shape"
      ]
    },
    {
      "cell_type": "code",
      "execution_count": null,
      "metadata": {
        "colab": {
          "base_uri": "https://localhost:8080/"
        },
        "id": "BjhH6sXW7A9v",
        "outputId": "ab086c89-020b-4d51-fb44-41a18d24e910"
      },
      "outputs": [
        {
          "data": {
            "text/plain": [
              "(4128, 9)"
            ]
          },
          "execution_count": 49,
          "metadata": {},
          "output_type": "execute_result"
        }
      ],
      "source": [
        "#Check the shape of the data\n",
        "val_df.shape"
      ]
    },
    {
      "cell_type": "code",
      "execution_count": null,
      "metadata": {
        "colab": {
          "base_uri": "https://localhost:8080/"
        },
        "id": "HCxqcrdj7AxB",
        "outputId": "94ae23bc-75be-4568-b7dd-bd9d938f0ad1"
      },
      "outputs": [
        {
          "name": "stdout",
          "output_type": "stream",
          "text": [
            "     MedInc  HouseAge  AveRooms  AveBedrms  Population  AveOccup  Latitude  \\\n",
            "0  0.645782 -0.720944  1.853281  -0.143763    0.036199 -0.333187 -0.026985   \n",
            "1  0.600804 -0.781986 -0.607613  -0.381311    0.038546 -0.127363  0.143309   \n",
            "2 -1.413086  1.002301  1.853281  -0.347376   -0.264175 -0.623762 -0.266943   \n",
            "3  0.805693 -0.800769 -1.401450   0.218216    0.390547  0.138998  0.496796   \n",
            "4 -1.478049  1.077428 -0.369462  -1.006177   -1.116019 -1.098541 -1.100348   \n",
            "\n",
            "   Longitude  MedianHouseValue  \n",
            "0  -0.045050          252300.0  \n",
            "1  -0.601687          146900.0  \n",
            "2   0.053756          290900.0  \n",
            "3   0.248946          141300.0  \n",
            "4   5.645475          500001.0  \n",
            "     MedInc  HouseAge  AveRooms  AveBedrms  Population  AveOccup  Latitude  \\\n",
            "0  0.600804 -0.725639  1.297595  -0.203489   -0.132762 -0.145524 -0.119872   \n",
            "1 -0.318687 -0.467387 -1.163299   0.001029   -0.057668  0.046464 -0.034725   \n",
            "2 -0.823411  1.025780 -1.639601  -0.344661   -0.566897 -0.375562 -0.517223   \n",
            "3 -1.248176  1.044560 -0.925148   2.185569    2.385222  0.569672  2.444848   \n",
            "4  1.080540 -0.777290  0.741910  -0.570898   -0.707697 -0.678245 -0.695257   \n",
            "\n",
            "   Longitude  MedianHouseValue  \n",
            "0  -0.254942          397900.0  \n",
            "1   0.306543          227900.0  \n",
            "2   0.697080          172100.0  \n",
            "3  -0.119353          186500.0  \n",
            "4   0.605598          148900.0  \n"
          ]
        }
      ],
      "source": [
        "# Display first few rows\n",
        "print(train_df.head())\n",
        "print(val_df.head())"
      ]
    },
    {
      "cell_type": "markdown",
      "metadata": {
        "id": "IcbPuTbO3Xtp"
      },
      "source": [
        "Part I\n",
        "\n",
        "Define a Keras model with a single hidden layer of 16 neurons\n",
        "Use model.compile with adam as the optimizer and mse as the loss\n",
        "Train the Keras model for 100 epochs with model.fit, using a batch size of 32.\n",
        "Plot loss curves for the training and validation sets.\n",
        "Evaluate the model on the validation set and report the MSE."
      ]
    },
    {
      "cell_type": "markdown",
      "metadata": {
        "id": "M3-uZCZ-9nQ3"
      },
      "source": [
        "From other sheet: At this point, the data is entirely numeric.\n",
        "\n",
        "The easiest way to feed data to Keras is as Numpy arrays so we convert our two dataframes to Numpy arrays."
      ]
    },
    {
      "cell_type": "code",
      "execution_count": null,
      "metadata": {
        "id": "gWpVzhei8Szr"
      },
      "outputs": [],
      "source": [
        "train = train_df.to_numpy()\n",
        "val = val_df.to_numpy()"
      ]
    },
    {
      "cell_type": "markdown",
      "metadata": {
        "id": "u_ZfUkUL9sEG"
      },
      "source": [
        "Final step: Our features  𝑋  and dependent variable  𝑦  are both inside the train and test arrays so let's separate them out.\n",
        "\n",
        "Note that the target column is our  𝑦  variable and it is column #8 from the left (counting from 0).\n",
        "\n",
        "The np.delete function is perfect for selecting all columns except one."
      ]
    },
    {
      "cell_type": "code",
      "execution_count": null,
      "metadata": {
        "id": "hQ6AgVgB8V8-"
      },
      "outputs": [],
      "source": [
        "train_X = np.delete(train, 8, axis=1)\n",
        "val_X = np.delete(val, 8, axis=1)"
      ]
    },
    {
      "cell_type": "markdown",
      "metadata": {
        "id": "DS3CpEQL98CB"
      },
      "source": [
        "*Check* that it worked."
      ]
    },
    {
      "cell_type": "code",
      "execution_count": null,
      "metadata": {
        "colab": {
          "base_uri": "https://localhost:8080/"
        },
        "id": "UZeim8ul8j0g",
        "outputId": "1b54cdf5-0633-4fb4-eea0-20181227c037"
      },
      "outputs": [
        {
          "data": {
            "text/plain": [
              "((16512, 8), (4128, 8))"
            ]
          },
          "execution_count": 53,
          "metadata": {},
          "output_type": "execute_result"
        }
      ],
      "source": [
        "train_X.shape, val_X.shape"
      ]
    },
    {
      "cell_type": "markdown",
      "metadata": {
        "id": "taoS6zvg9_Mm"
      },
      "source": [
        "Next, select just the 8th column and define the train and test $y$ variables."
      ]
    },
    {
      "cell_type": "code",
      "execution_count": null,
      "metadata": {
        "id": "d6KAqPes8mVq"
      },
      "outputs": [],
      "source": [
        "train_y = train[:, 8]\n",
        "val_y = val[:, 8]"
      ]
    },
    {
      "cell_type": "code",
      "execution_count": null,
      "metadata": {
        "colab": {
          "base_uri": "https://localhost:8080/"
        },
        "id": "ro209_m_8pWs",
        "outputId": "309ca5be-4ea3-4d63-e7a6-3baa743112fa"
      },
      "outputs": [
        {
          "data": {
            "text/plain": [
              "((16512,), (4128,))"
            ]
          },
          "execution_count": 55,
          "metadata": {},
          "output_type": "execute_result"
        }
      ],
      "source": [
        "train_y.shape, val_y.shape"
      ]
    },
    {
      "cell_type": "markdown",
      "metadata": {
        "id": "NTurGisp-K_z"
      },
      "source": [
        "## Build a model"
      ]
    },
    {
      "cell_type": "markdown",
      "metadata": {
        "id": "0ZKoBMQ8-Jre"
      },
      "source": [
        "Creating an NN is usually just a few lines of Keras code as we saw in class.\n",
        "\n",
        "We will start with a single hidden layer.\n",
        "Since this is a binary classification problem, we will use a sigmoid activation in the output layer.\n",
        "The following model is what we created in class."
      ]
    },
    {
      "cell_type": "code",
      "execution_count": null,
      "metadata": {
        "id": "Xz5One6F3Yss"
      },
      "outputs": [],
      "source": [
        "# define the input layer\n",
        "input = keras.layers.Input(shape=train_X.shape[1:])\n",
        "\n",
        "# feed the input vector to the hidden layer\n",
        "# optional: you can give names to each layer to help\n",
        "# keep track. This doesn't affect the training etc.\n",
        "\n",
        "h = keras.layers.Dense(16, activation=\"relu\", name=\"Hidden\")(input)\n",
        "\n",
        "# feed the output of the hidden layer to the output layer\n",
        "output = keras.layers.Dense(1)(h)\n",
        "\n",
        "# tell Keras that this (input,output) pair is your model\n",
        "model = keras.Model(input, output)"
      ]
    },
    {
      "cell_type": "markdown",
      "metadata": {
        "id": "SeTI5n1m-QF3"
      },
      "source": [
        "The `model.summary()` command is a good way to get a quick overview of what you have defined."
      ]
    },
    {
      "cell_type": "code",
      "execution_count": null,
      "metadata": {
        "colab": {
          "base_uri": "https://localhost:8080/",
          "height": 232
        },
        "id": "Rz5dSrCH5AFV",
        "outputId": "d4993648-795c-41c9-deac-4866b8517118"
      },
      "outputs": [
        {
          "data": {
            "text/html": [
              "<pre style=\"white-space:pre;overflow-x:auto;line-height:normal;font-family:Menlo,'DejaVu Sans Mono',consolas,'Courier New',monospace\"><span style=\"font-weight: bold\">Model: \"functional_2\"</span>\n",
              "</pre>\n"
            ],
            "text/plain": [
              "\u001b[1mModel: \"functional_2\"\u001b[0m\n"
            ]
          },
          "metadata": {},
          "output_type": "display_data"
        },
        {
          "data": {
            "text/html": [
              "<pre style=\"white-space:pre;overflow-x:auto;line-height:normal;font-family:Menlo,'DejaVu Sans Mono',consolas,'Courier New',monospace\">┏━━━━━━━━━━━━━━━━━━━━━━━━━━━━━━━━━━━━━━┳━━━━━━━━━━━━━━━━━━━━━━━━━━━━━┳━━━━━━━━━━━━━━━━━┓\n",
              "┃<span style=\"font-weight: bold\"> Layer (type)                         </span>┃<span style=\"font-weight: bold\"> Output Shape                </span>┃<span style=\"font-weight: bold\">         Param # </span>┃\n",
              "┡━━━━━━━━━━━━━━━━━━━━━━━━━━━━━━━━━━━━━━╇━━━━━━━━━━━━━━━━━━━━━━━━━━━━━╇━━━━━━━━━━━━━━━━━┩\n",
              "│ input_layer_2 (<span style=\"color: #0087ff; text-decoration-color: #0087ff\">InputLayer</span>)           │ (<span style=\"color: #00d7ff; text-decoration-color: #00d7ff\">None</span>, <span style=\"color: #00af00; text-decoration-color: #00af00\">8</span>)                   │               <span style=\"color: #00af00; text-decoration-color: #00af00\">0</span> │\n",
              "├──────────────────────────────────────┼─────────────────────────────┼─────────────────┤\n",
              "│ Hidden (<span style=\"color: #0087ff; text-decoration-color: #0087ff\">Dense</span>)                       │ (<span style=\"color: #00d7ff; text-decoration-color: #00d7ff\">None</span>, <span style=\"color: #00af00; text-decoration-color: #00af00\">16</span>)                  │             <span style=\"color: #00af00; text-decoration-color: #00af00\">144</span> │\n",
              "├──────────────────────────────────────┼─────────────────────────────┼─────────────────┤\n",
              "│ dense_5 (<span style=\"color: #0087ff; text-decoration-color: #0087ff\">Dense</span>)                      │ (<span style=\"color: #00d7ff; text-decoration-color: #00d7ff\">None</span>, <span style=\"color: #00af00; text-decoration-color: #00af00\">1</span>)                   │              <span style=\"color: #00af00; text-decoration-color: #00af00\">17</span> │\n",
              "└──────────────────────────────────────┴─────────────────────────────┴─────────────────┘\n",
              "</pre>\n"
            ],
            "text/plain": [
              "┏━━━━━━━━━━━━━━━━━━━━━━━━━━━━━━━━━━━━━━┳━━━━━━━━━━━━━━━━━━━━━━━━━━━━━┳━━━━━━━━━━━━━━━━━┓\n",
              "┃\u001b[1m \u001b[0m\u001b[1mLayer (type)                        \u001b[0m\u001b[1m \u001b[0m┃\u001b[1m \u001b[0m\u001b[1mOutput Shape               \u001b[0m\u001b[1m \u001b[0m┃\u001b[1m \u001b[0m\u001b[1m        Param #\u001b[0m\u001b[1m \u001b[0m┃\n",
              "┡━━━━━━━━━━━━━━━━━━━━━━━━━━━━━━━━━━━━━━╇━━━━━━━━━━━━━━━━━━━━━━━━━━━━━╇━━━━━━━━━━━━━━━━━┩\n",
              "│ input_layer_2 (\u001b[38;5;33mInputLayer\u001b[0m)           │ (\u001b[38;5;45mNone\u001b[0m, \u001b[38;5;34m8\u001b[0m)                   │               \u001b[38;5;34m0\u001b[0m │\n",
              "├──────────────────────────────────────┼─────────────────────────────┼─────────────────┤\n",
              "│ Hidden (\u001b[38;5;33mDense\u001b[0m)                       │ (\u001b[38;5;45mNone\u001b[0m, \u001b[38;5;34m16\u001b[0m)                  │             \u001b[38;5;34m144\u001b[0m │\n",
              "├──────────────────────────────────────┼─────────────────────────────┼─────────────────┤\n",
              "│ dense_5 (\u001b[38;5;33mDense\u001b[0m)                      │ (\u001b[38;5;45mNone\u001b[0m, \u001b[38;5;34m1\u001b[0m)                   │              \u001b[38;5;34m17\u001b[0m │\n",
              "└──────────────────────────────────────┴─────────────────────────────┴─────────────────┘\n"
            ]
          },
          "metadata": {},
          "output_type": "display_data"
        },
        {
          "data": {
            "text/html": [
              "<pre style=\"white-space:pre;overflow-x:auto;line-height:normal;font-family:Menlo,'DejaVu Sans Mono',consolas,'Courier New',monospace\"><span style=\"font-weight: bold\"> Total params: </span><span style=\"color: #00af00; text-decoration-color: #00af00\">161</span> (644.00 B)\n",
              "</pre>\n"
            ],
            "text/plain": [
              "\u001b[1m Total params: \u001b[0m\u001b[38;5;34m161\u001b[0m (644.00 B)\n"
            ]
          },
          "metadata": {},
          "output_type": "display_data"
        },
        {
          "data": {
            "text/html": [
              "<pre style=\"white-space:pre;overflow-x:auto;line-height:normal;font-family:Menlo,'DejaVu Sans Mono',consolas,'Courier New',monospace\"><span style=\"font-weight: bold\"> Trainable params: </span><span style=\"color: #00af00; text-decoration-color: #00af00\">161</span> (644.00 B)\n",
              "</pre>\n"
            ],
            "text/plain": [
              "\u001b[1m Trainable params: \u001b[0m\u001b[38;5;34m161\u001b[0m (644.00 B)\n"
            ]
          },
          "metadata": {},
          "output_type": "display_data"
        },
        {
          "data": {
            "text/html": [
              "<pre style=\"white-space:pre;overflow-x:auto;line-height:normal;font-family:Menlo,'DejaVu Sans Mono',consolas,'Courier New',monospace\"><span style=\"font-weight: bold\"> Non-trainable params: </span><span style=\"color: #00af00; text-decoration-color: #00af00\">0</span> (0.00 B)\n",
              "</pre>\n"
            ],
            "text/plain": [
              "\u001b[1m Non-trainable params: \u001b[0m\u001b[38;5;34m0\u001b[0m (0.00 B)\n"
            ]
          },
          "metadata": {},
          "output_type": "display_data"
        }
      ],
      "source": [
        "model.summary()"
      ]
    },
    {
      "cell_type": "markdown",
      "metadata": {
        "id": "w2RRXB3e-X78"
      },
      "source": [
        "We can \"visualize\" the network graphically as well using Keras' `plot_model` function."
      ]
    },
    {
      "cell_type": "code",
      "execution_count": null,
      "metadata": {
        "colab": {
          "base_uri": "https://localhost:8080/",
          "height": 95
        },
        "id": "rsj2uVmC-XH2",
        "outputId": "4a20e072-c95c-4de4-94d4-fa5aef142a66"
      },
      "outputs": [
        {
          "data": {
            "image/png": "[encoded data removed]",
            "text/plain": [
              "<IPython.core.display.Image object>"
            ]
          },
          "execution_count": 58,
          "metadata": {},
          "output_type": "execute_result"
        }
      ],
      "source": [
        "keras.utils.plot_model(model, show_shapes=True, rankdir=\"LR\")"
      ]
    },
    {
      "cell_type": "markdown",
      "metadata": {
        "id": "-uM0_Mu2-dkX"
      },
      "source": [
        "## Set optimization parameters"
      ]
    },
    {
      "cell_type": "markdown",
      "metadata": {
        "id": "4edHh7-8-eYe"
      },
      "source": [
        "Now that the model is defined, we need to tell Keras three things:\n",
        "\n",
        "What loss function to use - mse\n",
        "Which optimizer to use - we will use a sibling of SGD called Adam which is an excellent default choice\n",
        "What metrics you want Keras to report out - in classification problems like this one, Accuracy is usually the metric you want to see.\n",
        "These three choices can be made using the model.fit function."
      ]
    },
    {
      "cell_type": "code",
      "execution_count": null,
      "metadata": {
        "id": "ATebCi7y5EdU"
      },
      "outputs": [],
      "source": [
        "model.compile(optimizer=\"adam\",\n",
        "              loss=\"mse\",\n",
        "              metrics=[\"mae\"])\n",
        "# or metrics=[\"acc\"]"
      ]
    },
    {
      "cell_type": "markdown",
      "metadata": {
        "id": "LQS0biMo-t7k"
      },
      "source": [
        "## Train the model"
      ]
    },
    {
      "cell_type": "markdown",
      "metadata": {
        "id": "3kAZlTDL-wYi"
      },
      "source": [
        "To kickoff training, we need to do three things:\n",
        "\n",
        "Set the batch size. We referred to this as a minibatch in lecture but in keeping with convention, we will simply refer to it as batch from this point on. 32 is a good default for the batch size.\n",
        "Set the number of epochs i.e., how many passes through the training data. Usually 20-30 epochs is a good starting point but since this dataset is very small, each epoch will be very quick so let's run it for 100 epochs. It will allow us to see if any overfitting happens\n",
        "Pass in the training and validation datasets we created earlier.\n",
        "OK, let's train the model using the model.fit function!\n",
        "\n",
        "We will store the output of the training process in history. It will make it easy later to investigate what happened during training."
      ]
    },
    {
      "cell_type": "code",
      "execution_count": null,
      "metadata": {
        "colab": {
          "base_uri": "https://localhost:8080/"
        },
        "id": "W2B3gu7D5K7H",
        "outputId": "3356602c-fb19-471c-dd3f-9a8d366442f2"
      },
      "outputs": [
        {
          "name": "stdout",
          "output_type": "stream",
          "text": [
            "Epoch 1/100\n",
            "\u001b[1m516/516\u001b[0m \u001b[32m━━━━━━━━━━━━━━━━━━━━\u001b[0m\u001b[37m\u001b[0m \u001b[1m3s\u001b[0m 3ms/step - loss: 55951831040.0000 - mae: 206565.9062 - val_loss: 56177102848.0000 - val_mae: 207082.5469\n",
            "Epoch 2/100\n",
            "\u001b[1m516/516\u001b[0m \u001b[32m━━━━━━━━━━━━━━━━━━━━\u001b[0m\u001b[37m\u001b[0m \u001b[1m1s\u001b[0m 2ms/step - loss: 56188518400.0000 - mae: 207264.7188 - val_loss: 56160628736.0000 - val_mae: 207046.5312\n",
            "Epoch 3/100\n",
            "\u001b[1m516/516\u001b[0m \u001b[32m━━━━━━━━━━━━━━━━━━━━\u001b[0m\u001b[37m\u001b[0m \u001b[1m1s\u001b[0m 2ms/step - loss: 55795286016.0000 - mae: 206309.1250 - val_loss: 56131084288.0000 - val_mae: 206982.7500\n",
            "Epoch 4/100\n",
            "\u001b[1m516/516\u001b[0m \u001b[32m━━━━━━━━━━━━━━━━━━━━\u001b[0m\u001b[37m\u001b[0m \u001b[1m1s\u001b[0m 2ms/step - loss: 55827431424.0000 - mae: 206148.9531 - val_loss: 56091545600.0000 - val_mae: 206897.7656\n",
            "Epoch 5/100\n",
            "\u001b[1m516/516\u001b[0m \u001b[32m━━━━━━━━━━━━━━━━━━━━\u001b[0m\u001b[37m\u001b[0m \u001b[1m1s\u001b[0m 2ms/step - loss: 56101482496.0000 - mae: 206874.7031 - val_loss: 56043974656.0000 - val_mae: 206795.5312\n",
            "Epoch 6/100\n",
            "\u001b[1m516/516\u001b[0m \u001b[32m━━━━━━━━━━━━━━━━━━━━\u001b[0m\u001b[37m\u001b[0m \u001b[1m1s\u001b[0m 2ms/step - loss: 56185425920.0000 - mae: 206978.1719 - val_loss: 55988871168.0000 - val_mae: 206677.1875\n",
            "Epoch 7/100\n",
            "\u001b[1m516/516\u001b[0m \u001b[32m━━━━━━━━━━━━━━━━━━━━\u001b[0m\u001b[37m\u001b[0m \u001b[1m1s\u001b[0m 2ms/step - loss: 56091561984.0000 - mae: 206079.8594 - val_loss: 55927042048.0000 - val_mae: 206544.2344\n",
            "Epoch 8/100\n",
            "\u001b[1m516/516\u001b[0m \u001b[32m━━━━━━━━━━━━━━━━━━━━\u001b[0m\u001b[37m\u001b[0m \u001b[1m1s\u001b[0m 2ms/step - loss: 55772618752.0000 - mae: 206121.1406 - val_loss: 55858892800.0000 - val_mae: 206397.8281\n",
            "Epoch 9/100\n",
            "\u001b[1m516/516\u001b[0m \u001b[32m━━━━━━━━━━━━━━━━━━━━\u001b[0m\u001b[37m\u001b[0m \u001b[1m1s\u001b[0m 2ms/step - loss: 56322093056.0000 - mae: 206978.1562 - val_loss: 55784251392.0000 - val_mae: 206237.1719\n",
            "Epoch 10/100\n",
            "\u001b[1m516/516\u001b[0m \u001b[32m━━━━━━━━━━━━━━━━━━━━\u001b[0m\u001b[37m\u001b[0m \u001b[1m1s\u001b[0m 2ms/step - loss: 56523821056.0000 - mae: 207410.3750 - val_loss: 55703683072.0000 - val_mae: 206063.6094\n",
            "Epoch 11/100\n",
            "\u001b[1m516/516\u001b[0m \u001b[32m━━━━━━━━━━━━━━━━━━━━\u001b[0m\u001b[37m\u001b[0m \u001b[1m1s\u001b[0m 2ms/step - loss: 55303692288.0000 - mae: 205220.2812 - val_loss: 55616913408.0000 - val_mae: 205876.7188\n",
            "Epoch 12/100\n",
            "\u001b[1m516/516\u001b[0m \u001b[32m━━━━━━━━━━━━━━━━━━━━\u001b[0m\u001b[37m\u001b[0m \u001b[1m1s\u001b[0m 2ms/step - loss: 55156568064.0000 - mae: 204830.7500 - val_loss: 55524704256.0000 - val_mae: 205677.8125\n",
            "Epoch 13/100\n",
            "\u001b[1m516/516\u001b[0m \u001b[32m━━━━━━━━━━━━━━━━━━━━\u001b[0m\u001b[37m\u001b[0m \u001b[1m1s\u001b[0m 2ms/step - loss: 55256612864.0000 - mae: 205392.5469 - val_loss: 55426703360.0000 - val_mae: 205466.2656\n",
            "Epoch 14/100\n",
            "\u001b[1m516/516\u001b[0m \u001b[32m━━━━━━━━━━━━━━━━━━━━\u001b[0m\u001b[37m\u001b[0m \u001b[1m1s\u001b[0m 2ms/step - loss: 55140179968.0000 - mae: 204600.2656 - val_loss: 55323033600.0000 - val_mae: 205242.1875\n",
            "Epoch 15/100\n",
            "\u001b[1m516/516\u001b[0m \u001b[32m━━━━━━━━━━━━━━━━━━━━\u001b[0m\u001b[37m\u001b[0m \u001b[1m1s\u001b[0m 2ms/step - loss: 55409172480.0000 - mae: 205127.9219 - val_loss: 55214018560.0000 - val_mae: 205006.1562\n",
            "Epoch 16/100\n",
            "\u001b[1m516/516\u001b[0m \u001b[32m━━━━━━━━━━━━━━━━━━━━\u001b[0m\u001b[37m\u001b[0m \u001b[1m1s\u001b[0m 2ms/step - loss: 54950768640.0000 - mae: 204644.3281 - val_loss: 55099203584.0000 - val_mae: 204757.3125\n",
            "Epoch 17/100\n",
            "\u001b[1m516/516\u001b[0m \u001b[32m━━━━━━━━━━━━━━━━━━━━\u001b[0m\u001b[37m\u001b[0m \u001b[1m1s\u001b[0m 2ms/step - loss: 55310884864.0000 - mae: 205094.2344 - val_loss: 54979227648.0000 - val_mae: 204496.7344\n",
            "Epoch 18/100\n",
            "\u001b[1m516/516\u001b[0m \u001b[32m━━━━━━━━━━━━━━━━━━━━\u001b[0m\u001b[37m\u001b[0m \u001b[1m1s\u001b[0m 2ms/step - loss: 54742081536.0000 - mae: 203797.7031 - val_loss: 54853275648.0000 - val_mae: 204223.0000\n",
            "Epoch 19/100\n",
            "\u001b[1m516/516\u001b[0m \u001b[32m━━━━━━━━━━━━━━━━━━━━\u001b[0m\u001b[37m\u001b[0m \u001b[1m1s\u001b[0m 2ms/step - loss: 54579322880.0000 - mae: 203460.6562 - val_loss: 54722093056.0000 - val_mae: 203937.3594\n",
            "Epoch 20/100\n",
            "\u001b[1m516/516\u001b[0m \u001b[32m━━━━━━━━━━━━━━━━━━━━\u001b[0m\u001b[37m\u001b[0m \u001b[1m1s\u001b[0m 2ms/step - loss: 54598184960.0000 - mae: 203295.9219 - val_loss: 54585712640.0000 - val_mae: 203639.8125\n",
            "Epoch 21/100\n",
            "\u001b[1m516/516\u001b[0m \u001b[32m━━━━━━━━━━━━━━━━━━━━\u001b[0m\u001b[37m\u001b[0m \u001b[1m1s\u001b[0m 2ms/step - loss: 54109261824.0000 - mae: 202537.0000 - val_loss: 54443683840.0000 - val_mae: 203329.5625\n",
            "Epoch 22/100\n",
            "\u001b[1m516/516\u001b[0m \u001b[32m━━━━━━━━━━━━━━━━━━━━\u001b[0m\u001b[37m\u001b[0m \u001b[1m1s\u001b[0m 2ms/step - loss: 53231104000.0000 - mae: 201159.4219 - val_loss: 54296473600.0000 - val_mae: 203007.5000\n",
            "Epoch 23/100\n",
            "\u001b[1m516/516\u001b[0m \u001b[32m━━━━━━━━━━━━━━━━━━━━\u001b[0m\u001b[37m\u001b[0m \u001b[1m1s\u001b[0m 2ms/step - loss: 54468870144.0000 - mae: 203085.2969 - val_loss: 54144217088.0000 - val_mae: 202673.5000\n",
            "Epoch 24/100\n",
            "\u001b[1m516/516\u001b[0m \u001b[32m━━━━━━━━━━━━━━━━━━━━\u001b[0m\u001b[37m\u001b[0m \u001b[1m1s\u001b[0m 2ms/step - loss: 53848915968.0000 - mae: 202123.6875 - val_loss: 53986963456.0000 - val_mae: 202327.8594\n",
            "Epoch 25/100\n",
            "\u001b[1m516/516\u001b[0m \u001b[32m━━━━━━━━━━━━━━━━━━━━\u001b[0m\u001b[37m\u001b[0m \u001b[1m1s\u001b[0m 2ms/step - loss: 53218271232.0000 - mae: 200622.4844 - val_loss: 53824323584.0000 - val_mae: 201969.7656\n",
            "Epoch 26/100\n",
            "\u001b[1m516/516\u001b[0m \u001b[32m━━━━━━━━━━━━━━━━━━━━\u001b[0m\u001b[37m\u001b[0m \u001b[1m1s\u001b[0m 2ms/step - loss: 52213567488.0000 - mae: 198577.7031 - val_loss: 53656821760.0000 - val_mae: 201600.1719\n",
            "Epoch 27/100\n",
            "\u001b[1m516/516\u001b[0m \u001b[32m━━━━━━━━━━━━━━━━━━━━\u001b[0m\u001b[37m\u001b[0m \u001b[1m1s\u001b[0m 2ms/step - loss: 53502369792.0000 - mae: 201193.6562 - val_loss: 53484232704.0000 - val_mae: 201218.3906\n",
            "Epoch 28/100\n",
            "\u001b[1m516/516\u001b[0m \u001b[32m━━━━━━━━━━━━━━━━━━━━\u001b[0m\u001b[37m\u001b[0m \u001b[1m1s\u001b[0m 2ms/step - loss: 52252860416.0000 - mae: 198802.1875 - val_loss: 53307027456.0000 - val_mae: 200825.5000\n",
            "Epoch 29/100\n",
            "\u001b[1m516/516\u001b[0m \u001b[32m━━━━━━━━━━━━━━━━━━━━\u001b[0m\u001b[37m\u001b[0m \u001b[1m1s\u001b[0m 2ms/step - loss: 52852969472.0000 - mae: 199651.6094 - val_loss: 53124800512.0000 - val_mae: 200420.4688\n",
            "Epoch 30/100\n",
            "\u001b[1m516/516\u001b[0m \u001b[32m━━━━━━━━━━━━━━━━━━━━\u001b[0m\u001b[37m\u001b[0m \u001b[1m1s\u001b[0m 2ms/step - loss: 52663783424.0000 - mae: 199414.5781 - val_loss: 52937461760.0000 - val_mae: 200002.7500\n",
            "Epoch 31/100\n",
            "\u001b[1m516/516\u001b[0m \u001b[32m━━━━━━━━━━━━━━━━━━━━\u001b[0m\u001b[37m\u001b[0m \u001b[1m1s\u001b[0m 2ms/step - loss: 53103697920.0000 - mae: 200075.7969 - val_loss: 52745457664.0000 - val_mae: 199574.0625\n",
            "Epoch 32/100\n",
            "\u001b[1m516/516\u001b[0m \u001b[32m━━━━━━━━━━━━━━━━━━━━\u001b[0m\u001b[37m\u001b[0m \u001b[1m1s\u001b[0m 2ms/step - loss: 52312641536.0000 - mae: 198489.6562 - val_loss: 52548726784.0000 - val_mae: 199133.4219\n",
            "Epoch 33/100\n",
            "\u001b[1m516/516\u001b[0m \u001b[32m━━━━━━━━━━━━━━━━━━━━\u001b[0m\u001b[37m\u001b[0m \u001b[1m1s\u001b[0m 2ms/step - loss: 51938164736.0000 - mae: 198069.0938 - val_loss: 52347723776.0000 - val_mae: 198681.8438\n",
            "Epoch 34/100\n",
            "\u001b[1m516/516\u001b[0m \u001b[32m━━━━━━━━━━━━━━━━━━━━\u001b[0m\u001b[37m\u001b[0m \u001b[1m1s\u001b[0m 2ms/step - loss: 52234608640.0000 - mae: 198540.1250 - val_loss: 52141309952.0000 - val_mae: 198216.8125\n",
            "Epoch 35/100\n",
            "\u001b[1m516/516\u001b[0m \u001b[32m━━━━━━━━━━━━━━━━━━━━\u001b[0m\u001b[37m\u001b[0m \u001b[1m1s\u001b[0m 2ms/step - loss: 52166455296.0000 - mae: 198037.4062 - val_loss: 51930820608.0000 - val_mae: 197741.1250\n",
            "Epoch 36/100\n",
            "\u001b[1m516/516\u001b[0m \u001b[32m━━━━━━━━━━━━━━━━━━━━\u001b[0m\u001b[37m\u001b[0m \u001b[1m1s\u001b[0m 2ms/step - loss: 50966138880.0000 - mae: 195696.8750 - val_loss: 51715661824.0000 - val_mae: 197253.3125\n",
            "Epoch 37/100\n",
            "\u001b[1m516/516\u001b[0m \u001b[32m━━━━━━━━━━━━━━━━━━━━\u001b[0m\u001b[37m\u001b[0m \u001b[1m1s\u001b[0m 2ms/step - loss: 51791470592.0000 - mae: 197449.5625 - val_loss: 51496996864.0000 - val_mae: 196756.0625\n",
            "Epoch 38/100\n",
            "\u001b[1m516/516\u001b[0m \u001b[32m━━━━━━━━━━━━━━━━━━━━\u001b[0m\u001b[37m\u001b[0m \u001b[1m1s\u001b[0m 2ms/step - loss: 51484938240.0000 - mae: 196659.0469 - val_loss: 51273240576.0000 - val_mae: 196245.8125\n",
            "Epoch 39/100\n",
            "\u001b[1m516/516\u001b[0m \u001b[32m━━━━━━━━━━━━━━━━━━━━\u001b[0m\u001b[37m\u001b[0m \u001b[1m1s\u001b[0m 2ms/step - loss: 50739458048.0000 - mae: 195231.5781 - val_loss: 51045191680.0000 - val_mae: 195724.2969\n",
            "Epoch 40/100\n",
            "\u001b[1m516/516\u001b[0m \u001b[32m━━━━━━━━━━━━━━━━━━━━\u001b[0m\u001b[37m\u001b[0m \u001b[1m1s\u001b[0m 2ms/step - loss: 51009867776.0000 - mae: 195485.4219 - val_loss: 50812993536.0000 - val_mae: 195191.2969\n",
            "Epoch 41/100\n",
            "\u001b[1m516/516\u001b[0m \u001b[32m━━━━━━━━━━━━━━━━━━━━\u001b[0m\u001b[37m\u001b[0m \u001b[1m1s\u001b[0m 2ms/step - loss: 50645983232.0000 - mae: 194345.0938 - val_loss: 50576666624.0000 - val_mae: 194646.9688\n",
            "Epoch 42/100\n",
            "\u001b[1m516/516\u001b[0m \u001b[32m━━━━━━━━━━━━━━━━━━━━\u001b[0m\u001b[37m\u001b[0m \u001b[1m1s\u001b[0m 2ms/step - loss: 50526961664.0000 - mae: 194351.9219 - val_loss: 50335969280.0000 - val_mae: 194091.2812\n",
            "Epoch 43/100\n",
            "\u001b[1m516/516\u001b[0m \u001b[32m━━━━━━━━━━━━━━━━━━━━\u001b[0m\u001b[37m\u001b[0m \u001b[1m1s\u001b[0m 2ms/step - loss: 50799415296.0000 - mae: 194911.9844 - val_loss: 50091884544.0000 - val_mae: 193525.7500\n",
            "Epoch 44/100\n",
            "\u001b[1m516/516\u001b[0m \u001b[32m━━━━━━━━━━━━━━━━━━━━\u001b[0m\u001b[37m\u001b[0m \u001b[1m1s\u001b[0m 2ms/step - loss: 49620828160.0000 - mae: 192522.4375 - val_loss: 49843220480.0000 - val_mae: 192947.5781\n",
            "Epoch 45/100\n",
            "\u001b[1m516/516\u001b[0m \u001b[32m━━━━━━━━━━━━━━━━━━━━\u001b[0m\u001b[37m\u001b[0m \u001b[1m1s\u001b[0m 2ms/step - loss: 50031886336.0000 - mae: 193417.3594 - val_loss: 49590972416.0000 - val_mae: 192359.4375\n",
            "Epoch 46/100\n",
            "\u001b[1m516/516\u001b[0m \u001b[32m━━━━━━━━━━━━━━━━━━━━\u001b[0m\u001b[37m\u001b[0m \u001b[1m1s\u001b[0m 2ms/step - loss: 48776761344.0000 - mae: 190638.9062 - val_loss: 49335148544.0000 - val_mae: 191760.2500\n",
            "Epoch 47/100\n",
            "\u001b[1m516/516\u001b[0m \u001b[32m━━━━━━━━━━━━━━━━━━━━\u001b[0m\u001b[37m\u001b[0m \u001b[1m1s\u001b[0m 2ms/step - loss: 48701198336.0000 - mae: 190415.0938 - val_loss: 49075302400.0000 - val_mae: 191150.1406\n",
            "Epoch 48/100\n",
            "\u001b[1m516/516\u001b[0m \u001b[32m━━━━━━━━━━━━━━━━━━━━\u001b[0m\u001b[37m\u001b[0m \u001b[1m1s\u001b[0m 2ms/step - loss: 48463503360.0000 - mae: 189661.8125 - val_loss: 48812077056.0000 - val_mae: 190529.4062\n",
            "Epoch 49/100\n",
            "\u001b[1m516/516\u001b[0m \u001b[32m━━━━━━━━━━━━━━━━━━━━\u001b[0m\u001b[37m\u001b[0m \u001b[1m1s\u001b[0m 2ms/step - loss: 49186402304.0000 - mae: 190944.8281 - val_loss: 48545144832.0000 - val_mae: 189898.0625\n",
            "Epoch 50/100\n",
            "\u001b[1m516/516\u001b[0m \u001b[32m━━━━━━━━━━━━━━━━━━━━\u001b[0m\u001b[37m\u001b[0m \u001b[1m1s\u001b[0m 2ms/step - loss: 49009729536.0000 - mae: 190629.9688 - val_loss: 48274677760.0000 - val_mae: 189256.2031\n",
            "Epoch 51/100\n",
            "\u001b[1m516/516\u001b[0m \u001b[32m━━━━━━━━━━━━━━━━━━━━\u001b[0m\u001b[37m\u001b[0m \u001b[1m1s\u001b[0m 2ms/step - loss: 48281939968.0000 - mae: 188914.8906 - val_loss: 48000774144.0000 - val_mae: 188605.1250\n",
            "Epoch 52/100\n",
            "\u001b[1m516/516\u001b[0m \u001b[32m━━━━━━━━━━━━━━━━━━━━\u001b[0m\u001b[37m\u001b[0m \u001b[1m1s\u001b[0m 2ms/step - loss: 47237300224.0000 - mae: 186492.7344 - val_loss: 47723126784.0000 - val_mae: 187941.6406\n",
            "Epoch 53/100\n",
            "\u001b[1m516/516\u001b[0m \u001b[32m━━━━━━━━━━━━━━━━━━━━\u001b[0m\u001b[37m\u001b[0m \u001b[1m1s\u001b[0m 2ms/step - loss: 47203196928.0000 - mae: 186268.2812 - val_loss: 47442292736.0000 - val_mae: 187268.7031\n",
            "Epoch 54/100\n",
            "\u001b[1m516/516\u001b[0m \u001b[32m━━━━━━━━━━━━━━━━━━━━\u001b[0m\u001b[37m\u001b[0m \u001b[1m1s\u001b[0m 2ms/step - loss: 46520340480.0000 - mae: 185049.0156 - val_loss: 47157813248.0000 - val_mae: 186584.8594\n",
            "Epoch 55/100\n",
            "\u001b[1m516/516\u001b[0m \u001b[32m━━━━━━━━━━━━━━━━━━━━\u001b[0m\u001b[37m\u001b[0m \u001b[1m1s\u001b[0m 2ms/step - loss: 46889332736.0000 - mae: 186164.6094 - val_loss: 46871232512.0000 - val_mae: 185892.2188\n",
            "Epoch 56/100\n",
            "\u001b[1m516/516\u001b[0m \u001b[32m━━━━━━━━━━━━━━━━━━━━\u001b[0m\u001b[37m\u001b[0m \u001b[1m1s\u001b[0m 2ms/step - loss: 46553055232.0000 - mae: 184758.2031 - val_loss: 46580715520.0000 - val_mae: 185187.5781\n",
            "Epoch 57/100\n",
            "\u001b[1m516/516\u001b[0m \u001b[32m━━━━━━━━━━━━━━━━━━━━\u001b[0m\u001b[37m\u001b[0m \u001b[1m1s\u001b[0m 2ms/step - loss: 46373699584.0000 - mae: 184225.3750 - val_loss: 46287486976.0000 - val_mae: 184472.8125\n",
            "Epoch 58/100\n",
            "\u001b[1m516/516\u001b[0m \u001b[32m━━━━━━━━━━━━━━━━━━━━\u001b[0m\u001b[37m\u001b[0m \u001b[1m1s\u001b[0m 2ms/step - loss: 45666004992.0000 - mae: 182875.6094 - val_loss: 45990830080.0000 - val_mae: 183748.8750\n",
            "Epoch 59/100\n",
            "\u001b[1m516/516\u001b[0m \u001b[32m━━━━━━━━━━━━━━━━━━━━\u001b[0m\u001b[37m\u001b[0m \u001b[1m1s\u001b[0m 2ms/step - loss: 46601777152.0000 - mae: 184793.2969 - val_loss: 45692362752.0000 - val_mae: 183018.1562\n",
            "Epoch 60/100\n",
            "\u001b[1m516/516\u001b[0m \u001b[32m━━━━━━━━━━━━━━━━━━━━\u001b[0m\u001b[37m\u001b[0m \u001b[1m1s\u001b[0m 2ms/step - loss: 45810421760.0000 - mae: 182920.3750 - val_loss: 45391167488.0000 - val_mae: 182278.2031\n",
            "Epoch 61/100\n",
            "\u001b[1m516/516\u001b[0m \u001b[32m━━━━━━━━━━━━━━━━━━━━\u001b[0m\u001b[37m\u001b[0m \u001b[1m1s\u001b[0m 2ms/step - loss: 44964737024.0000 - mae: 181321.7656 - val_loss: 45086539776.0000 - val_mae: 181528.8750\n",
            "Epoch 62/100\n",
            "\u001b[1m516/516\u001b[0m \u001b[32m━━━━━━━━━━━━━━━━━━━━\u001b[0m\u001b[37m\u001b[0m \u001b[1m1s\u001b[0m 2ms/step - loss: 44740567040.0000 - mae: 180180.7344 - val_loss: 44779343872.0000 - val_mae: 180771.0312\n",
            "Epoch 63/100\n",
            "\u001b[1m516/516\u001b[0m \u001b[32m━━━━━━━━━━━━━━━━━━━━\u001b[0m\u001b[37m\u001b[0m \u001b[1m1s\u001b[0m 2ms/step - loss: 45070110720.0000 - mae: 180820.8594 - val_loss: 44470034432.0000 - val_mae: 180004.9844\n",
            "Epoch 64/100\n",
            "\u001b[1m516/516\u001b[0m \u001b[32m━━━━━━━━━━━━━━━━━━━━\u001b[0m\u001b[37m\u001b[0m \u001b[1m1s\u001b[0m 2ms/step - loss: 44026806272.0000 - mae: 179216.4062 - val_loss: 44157739008.0000 - val_mae: 179228.5000\n",
            "Epoch 65/100\n",
            "\u001b[1m516/516\u001b[0m \u001b[32m━━━━━━━━━━━━━━━━━━━━\u001b[0m\u001b[37m\u001b[0m \u001b[1m1s\u001b[0m 2ms/step - loss: 43400187904.0000 - mae: 177113.2344 - val_loss: 43844268032.0000 - val_mae: 178446.9531\n",
            "Epoch 66/100\n",
            "\u001b[1m516/516\u001b[0m \u001b[32m━━━━━━━━━━━━━━━━━━━━\u001b[0m\u001b[37m\u001b[0m \u001b[1m1s\u001b[0m 2ms/step - loss: 43724484608.0000 - mae: 177777.1250 - val_loss: 43527499776.0000 - val_mae: 177653.2969\n",
            "Epoch 67/100\n",
            "\u001b[1m516/516\u001b[0m \u001b[32m━━━━━━━━━━━━━━━━━━━━\u001b[0m\u001b[37m\u001b[0m \u001b[1m1s\u001b[0m 2ms/step - loss: 43212853248.0000 - mae: 176920.3594 - val_loss: 43208773632.0000 - val_mae: 176852.2188\n",
            "Epoch 68/100\n",
            "\u001b[1m516/516\u001b[0m \u001b[32m━━━━━━━━━━━━━━━━━━━━\u001b[0m\u001b[37m\u001b[0m \u001b[1m1s\u001b[0m 2ms/step - loss: 42802614272.0000 - mae: 175379.2500 - val_loss: 42888486912.0000 - val_mae: 176044.1094\n",
            "Epoch 69/100\n",
            "\u001b[1m516/516\u001b[0m \u001b[32m━━━━━━━━━━━━━━━━━━━━\u001b[0m\u001b[37m\u001b[0m \u001b[1m1s\u001b[0m 2ms/step - loss: 42783481856.0000 - mae: 175237.1250 - val_loss: 42564722688.0000 - val_mae: 175223.0469\n",
            "Epoch 70/100\n",
            "\u001b[1m516/516\u001b[0m \u001b[32m━━━━━━━━━━━━━━━━━━━━\u001b[0m\u001b[37m\u001b[0m \u001b[1m1s\u001b[0m 2ms/step - loss: 42200170496.0000 - mae: 174325.1875 - val_loss: 42240573440.0000 - val_mae: 174396.5625\n",
            "Epoch 71/100\n",
            "\u001b[1m516/516\u001b[0m \u001b[32m━━━━━━━━━━━━━━━━━━━━\u001b[0m\u001b[37m\u001b[0m \u001b[1m1s\u001b[0m 2ms/step - loss: 41918943232.0000 - mae: 173796.2812 - val_loss: 41914265600.0000 - val_mae: 173559.5156\n",
            "Epoch 72/100\n",
            "\u001b[1m516/516\u001b[0m \u001b[32m━━━━━━━━━━━━━━━━━━━━\u001b[0m\u001b[37m\u001b[0m \u001b[1m1s\u001b[0m 2ms/step - loss: 42135396352.0000 - mae: 173994.0781 - val_loss: 41585733632.0000 - val_mae: 172712.8906\n",
            "Epoch 73/100\n",
            "\u001b[1m516/516\u001b[0m \u001b[32m━━━━━━━━━━━━━━━━━━━━\u001b[0m\u001b[37m\u001b[0m \u001b[1m1s\u001b[0m 2ms/step - loss: 41033715712.0000 - mae: 171245.1875 - val_loss: 41255182336.0000 - val_mae: 171855.8281\n",
            "Epoch 74/100\n",
            "\u001b[1m516/516\u001b[0m \u001b[32m━━━━━━━━━━━━━━━━━━━━\u001b[0m\u001b[37m\u001b[0m \u001b[1m1s\u001b[0m 2ms/step - loss: 41216180224.0000 - mae: 171122.8125 - val_loss: 40924372992.0000 - val_mae: 170993.9531\n",
            "Epoch 75/100\n",
            "\u001b[1m516/516\u001b[0m \u001b[32m━━━━━━━━━━━━━━━━━━━━\u001b[0m\u001b[37m\u001b[0m \u001b[1m1s\u001b[0m 2ms/step - loss: 40900288512.0000 - mae: 170763.1250 - val_loss: 40590512128.0000 - val_mae: 170125.3906\n",
            "Epoch 76/100\n",
            "\u001b[1m516/516\u001b[0m \u001b[32m━━━━━━━━━━━━━━━━━━━━\u001b[0m\u001b[37m\u001b[0m \u001b[1m1s\u001b[0m 2ms/step - loss: 40272953344.0000 - mae: 168881.2969 - val_loss: 40257572864.0000 - val_mae: 169252.3438\n",
            "Epoch 77/100\n",
            "\u001b[1m516/516\u001b[0m \u001b[32m━━━━━━━━━━━━━━━━━━━━\u001b[0m\u001b[37m\u001b[0m \u001b[1m1s\u001b[0m 2ms/step - loss: 40512741376.0000 - mae: 169476.4688 - val_loss: 39921827840.0000 - val_mae: 168372.3281\n",
            "Epoch 78/100\n",
            "\u001b[1m516/516\u001b[0m \u001b[32m━━━━━━━━━━━━━━━━━━━━\u001b[0m\u001b[37m\u001b[0m \u001b[1m1s\u001b[0m 2ms/step - loss: 39734079488.0000 - mae: 167949.4219 - val_loss: 39585198080.0000 - val_mae: 167486.4375\n",
            "Epoch 79/100\n",
            "\u001b[1m516/516\u001b[0m \u001b[32m━━━━━━━━━━━━━━━━━━━━\u001b[0m\u001b[37m\u001b[0m \u001b[1m1s\u001b[0m 2ms/step - loss: 39267262464.0000 - mae: 166377.6875 - val_loss: 39246618624.0000 - val_mae: 166592.1406\n",
            "Epoch 80/100\n",
            "\u001b[1m516/516\u001b[0m \u001b[32m━━━━━━━━━━━━━━━━━━━━\u001b[0m\u001b[37m\u001b[0m \u001b[1m1s\u001b[0m 2ms/step - loss: 38940233728.0000 - mae: 165580.3438 - val_loss: 38909083648.0000 - val_mae: 165694.8750\n",
            "Epoch 81/100\n",
            "\u001b[1m516/516\u001b[0m \u001b[32m━━━━━━━━━━━━━━━━━━━━\u001b[0m\u001b[37m\u001b[0m \u001b[1m1s\u001b[0m 2ms/step - loss: 39181287424.0000 - mae: 165966.4062 - val_loss: 38569693184.0000 - val_mae: 164792.2031\n",
            "Epoch 82/100\n",
            "\u001b[1m516/516\u001b[0m \u001b[32m━━━━━━━━━━━━━━━━━━━━\u001b[0m\u001b[37m\u001b[0m \u001b[1m1s\u001b[0m 2ms/step - loss: 38072283136.0000 - mae: 163634.5156 - val_loss: 38227632128.0000 - val_mae: 163878.7188\n",
            "Epoch 83/100\n",
            "\u001b[1m516/516\u001b[0m \u001b[32m━━━━━━━━━━━━━━━━━━━━\u001b[0m\u001b[37m\u001b[0m \u001b[1m1s\u001b[0m 2ms/step - loss: 37638090752.0000 - mae: 162467.4375 - val_loss: 37885571072.0000 - val_mae: 162963.0000\n",
            "Epoch 84/100\n",
            "\u001b[1m516/516\u001b[0m \u001b[32m━━━━━━━━━━━━━━━━━━━━\u001b[0m\u001b[37m\u001b[0m \u001b[1m1s\u001b[0m 2ms/step - loss: 38323056640.0000 - mae: 163604.1562 - val_loss: 37544030208.0000 - val_mae: 162045.5469\n",
            "Epoch 85/100\n",
            "\u001b[1m516/516\u001b[0m \u001b[32m━━━━━━━━━━━━━━━━━━━━\u001b[0m\u001b[37m\u001b[0m \u001b[1m1s\u001b[0m 2ms/step - loss: 36792578048.0000 - mae: 159758.3750 - val_loss: 37200715776.0000 - val_mae: 161120.5312\n",
            "Epoch 86/100\n",
            "\u001b[1m516/516\u001b[0m \u001b[32m━━━━━━━━━━━━━━━━━━━━\u001b[0m\u001b[37m\u001b[0m \u001b[1m1s\u001b[0m 2ms/step - loss: 37902008320.0000 - mae: 162983.5312 - val_loss: 36857348096.0000 - val_mae: 160190.1094\n",
            "Epoch 87/100\n",
            "\u001b[1m516/516\u001b[0m \u001b[32m━━━━━━━━━━━━━━━━━━━━\u001b[0m\u001b[37m\u001b[0m \u001b[1m1s\u001b[0m 2ms/step - loss: 36916625408.0000 - mae: 159692.3750 - val_loss: 36513189888.0000 - val_mae: 159256.8125\n",
            "Epoch 88/100\n",
            "\u001b[1m516/516\u001b[0m \u001b[32m━━━━━━━━━━━━━━━━━━━━\u001b[0m\u001b[37m\u001b[0m \u001b[1m1s\u001b[0m 2ms/step - loss: 36338778112.0000 - mae: 158723.8125 - val_loss: 36167540736.0000 - val_mae: 158314.7344\n",
            "Epoch 89/100\n",
            "\u001b[1m516/516\u001b[0m \u001b[32m━━━━━━━━━━━━━━━━━━━━\u001b[0m\u001b[37m\u001b[0m \u001b[1m1s\u001b[0m 2ms/step - loss: 36446388224.0000 - mae: 158672.7344 - val_loss: 35823276032.0000 - val_mae: 157370.1562\n",
            "Epoch 90/100\n",
            "\u001b[1m516/516\u001b[0m \u001b[32m━━━━━━━━━━━━━━━━━━━━\u001b[0m\u001b[37m\u001b[0m \u001b[1m1s\u001b[0m 2ms/step - loss: 36213755904.0000 - mae: 158035.7188 - val_loss: 35478503424.0000 - val_mae: 156421.0625\n",
            "Epoch 91/100\n",
            "\u001b[1m516/516\u001b[0m \u001b[32m━━━━━━━━━━━━━━━━━━━━\u001b[0m\u001b[37m\u001b[0m \u001b[1m1s\u001b[0m 2ms/step - loss: 35551318016.0000 - mae: 156422.0625 - val_loss: 35130892288.0000 - val_mae: 155459.8906\n",
            "Epoch 92/100\n",
            "\u001b[1m516/516\u001b[0m \u001b[32m━━━━━━━━━━━━━━━━━━━━\u001b[0m\u001b[37m\u001b[0m \u001b[1m1s\u001b[0m 2ms/step - loss: 35124715520.0000 - mae: 155603.4219 - val_loss: 34784817152.0000 - val_mae: 154499.4375\n",
            "Epoch 93/100\n",
            "\u001b[1m516/516\u001b[0m \u001b[32m━━━━━━━━━━━━━━━━━━━━\u001b[0m\u001b[37m\u001b[0m \u001b[1m1s\u001b[0m 2ms/step - loss: 33905545216.0000 - mae: 151823.6562 - val_loss: 34437955584.0000 - val_mae: 153532.4688\n",
            "Epoch 94/100\n",
            "\u001b[1m516/516\u001b[0m \u001b[32m━━━━━━━━━━━━━━━━━━━━\u001b[0m\u001b[37m\u001b[0m \u001b[1m1s\u001b[0m 2ms/step - loss: 34418491392.0000 - mae: 153514.5938 - val_loss: 34090512384.0000 - val_mae: 152561.0000\n",
            "Epoch 95/100\n",
            "\u001b[1m516/516\u001b[0m \u001b[32m━━━━━━━━━━━━━━━━━━━━\u001b[0m\u001b[37m\u001b[0m \u001b[1m1s\u001b[0m 2ms/step - loss: 33739759616.0000 - mae: 151588.9062 - val_loss: 33742974976.0000 - val_mae: 151583.3906\n",
            "Epoch 96/100\n",
            "\u001b[1m516/516\u001b[0m \u001b[32m━━━━━━━━━━━━━━━━━━━━\u001b[0m\u001b[37m\u001b[0m \u001b[1m1s\u001b[0m 2ms/step - loss: 33780830208.0000 - mae: 151155.8438 - val_loss: 33394520064.0000 - val_mae: 150602.1719\n",
            "Epoch 97/100\n",
            "\u001b[1m516/516\u001b[0m \u001b[32m━━━━━━━━━━━━━━━━━━━━\u001b[0m\u001b[37m\u001b[0m \u001b[1m1s\u001b[0m 2ms/step - loss: 33742368768.0000 - mae: 151502.7031 - val_loss: 33048051712.0000 - val_mae: 149621.8594\n",
            "Epoch 98/100\n",
            "\u001b[1m516/516\u001b[0m \u001b[32m━━━━━━━━━━━━━━━━━━━━\u001b[0m\u001b[37m\u001b[0m \u001b[1m1s\u001b[0m 2ms/step - loss: 33242288128.0000 - mae: 149606.0000 - val_loss: 32700907520.0000 - val_mae: 148636.5156\n",
            "Epoch 99/100\n",
            "\u001b[1m516/516\u001b[0m \u001b[32m━━━━━━━━━━━━━━━━━━━━\u001b[0m\u001b[37m\u001b[0m \u001b[1m1s\u001b[0m 2ms/step - loss: 32421009408.0000 - mae: 147454.6719 - val_loss: 32354371584.0000 - val_mae: 147647.3438\n",
            "Epoch 100/100\n",
            "\u001b[1m516/516\u001b[0m \u001b[32m━━━━━━━━━━━━━━━━━━━━\u001b[0m\u001b[37m\u001b[0m \u001b[1m1s\u001b[0m 2ms/step - loss: 32091404288.0000 - mae: 146258.4375 - val_loss: 32007038976.0000 - val_mae: 146650.0312\n"
          ]
        }
      ],
      "source": [
        "history = model.fit(train_X,              # the array with the input X columns\n",
        "                    train_y,              # the array with the output y column\n",
        "                    epochs=100,           # number of epochs to run\n",
        "                    batch_size=32,        # number of samples (ie data points) per batch\n",
        "                    verbose=1,            # verbosity during training\n",
        "                    validation_data=(val_X, val_y)) # validation data"
      ]
    },
    {
      "cell_type": "markdown",
      "metadata": {
        "id": "sx5xs9_Z-1m7"
      },
      "source": [
        "Let's take a moment to understand the numbers being reported.\n",
        "\n",
        "Plotting metrics like loss and accuracy as a function of the # of epochs is a good way to understand how training has progressed.\n"
      ]
    },
    {
      "cell_type": "code",
      "execution_count": null,
      "metadata": {
        "colab": {
          "base_uri": "https://localhost:8080/"
        },
        "id": "lKVBtKli5OnV",
        "outputId": "3369690a-3033-45e5-a24f-38cc18f78a59"
      },
      "outputs": [
        {
          "data": {
            "text/plain": [
              "dict_keys(['loss', 'mae', 'val_loss', 'val_mae'])"
            ]
          },
          "execution_count": 61,
          "metadata": {},
          "output_type": "execute_result"
        }
      ],
      "source": [
        "history_dict = history.history\n",
        "history_dict.keys()"
      ]
    },
    {
      "cell_type": "code",
      "execution_count": null,
      "metadata": {
        "colab": {
          "base_uri": "https://localhost:8080/",
          "height": 472
        },
        "id": "2YBsdL3L5PpO",
        "outputId": "a70eddc1-c71a-4135-f9c4-c9c1445a7801"
      },
      "outputs": [
        {
          "data": {
            "image/png": "[encoded data removed]",
            "text/plain": [
              "<Figure size 640x480 with 1 Axes>"
            ]
          },
          "metadata": {},
          "output_type": "display_data"
        }
      ],
      "source": [
        "# https://github.com/fchollet/deep-learning-with-python-notebooks/\n",
        "\n",
        "loss_values = history_dict[\"loss\"]\n",
        "val_loss_values = history_dict[\"val_loss\"]\n",
        "epochs = range(1, len(loss_values) + 1)\n",
        "plt.plot(epochs, loss_values, \"bo\", label=\"Training loss\")\n",
        "plt.plot(epochs, val_loss_values, \"b\", label=\"Validation loss\")\n",
        "plt.title(\"Training and validation loss\")\n",
        "plt.xlabel(\"Epochs\")\n",
        "plt.ylabel(\"Loss\")\n",
        "plt.legend()\n",
        "plt.show()"
      ]
    },
    {
      "cell_type": "code",
      "execution_count": null,
      "metadata": {
        "colab": {
          "base_uri": "https://localhost:8080/",
          "height": 472
        },
        "id": "pxw4Z-uV5Rau",
        "outputId": "7e664840-6940-43df-cda5-ce3a55208953"
      },
      "outputs": [
        {
          "data": {
            "image/png": "[encoded data removed]",
            "text/plain": [
              "<Figure size 640x480 with 1 Axes>"
            ]
          },
          "metadata": {},
          "output_type": "display_data"
        }
      ],
      "source": [
        "# https://github.com/fchollet/deep-learning-with-python-notebooks/\n",
        "\n",
        "# plt.clf()\n",
        "# acc = history_dict[\"accuracy\"]\n",
        "# val_acc = history_dict[\"val_accuracy\"]\n",
        "# plt.plot(epochs, acc, \"bo\", label=\"Training acc\")\n",
        "# plt.plot(epochs, val_acc, \"b\", label=\"Validation acc\")\n",
        "# plt.title(\"Training and validation accuracy\")\n",
        "# plt.xlabel(\"Epochs\")\n",
        "# plt.ylabel(\"Accuracy\")\n",
        "# plt.legend()\n",
        "# plt.show()\n",
        "\n",
        "# or mae\n",
        "plt.clf()\n",
        "mae = history_dict[\"mae\"]\n",
        "val_mae = history_dict[\"val_mae\"]\n",
        "plt.plot(epochs, mae, \"bo\", label=\"Training MAE\")\n",
        "plt.plot(epochs, val_mae, \"b\", label=\"Validation MAE\")\n",
        "plt.title(\"Training and Validation MAE\")\n",
        "plt.xlabel(\"Epochs\")\n",
        "plt.ylabel(\"Mean Absolute Error\")\n",
        "plt.legend()\n",
        "plt.show()"
      ]
    },
    {
      "cell_type": "markdown",
      "metadata": {
        "id": "_VwT8bYu-_z0"
      },
      "source": [
        "## Evaluate the model"
      ]
    },
    {
      "cell_type": "markdown",
      "metadata": {
        "id": "b0tmP4xK-9bu"
      },
      "source": [
        "Do you think there's overfitting?\n",
        "\n",
        "\n",
        "model.evaluate is a very handy function to calculate the performance of your model on any dataset.\n",
        "\n",
        "Let's try it on the validation dataset and see if the numbers match the Keras output from above."
      ]
    },
    {
      "cell_type": "code",
      "execution_count": null,
      "metadata": {
        "colab": {
          "base_uri": "https://localhost:8080/"
        },
        "id": "ZDJCRhBQ5Tvv",
        "outputId": "b9590d30-170b-4bed-bf8a-79da663c5afd"
      },
      "outputs": [
        {
          "name": "stdout",
          "output_type": "stream",
          "text": [
            "\u001b[1m129/129\u001b[0m \u001b[32m━━━━━━━━━━━━━━━━━━━━\u001b[0m\u001b[37m\u001b[0m \u001b[1m0s\u001b[0m 2ms/step - loss: 32493051904.0000 - mae: 147580.4062\n"
          ]
        },
        {
          "data": {
            "text/plain": [
              "[32007038976.0, 146650.03125]"
            ]
          },
          "execution_count": 64,
          "metadata": {},
          "output_type": "execute_result"
        }
      ],
      "source": [
        "model.evaluate(val_X, val_y)"
      ]
    },
    {
      "cell_type": "code",
      "execution_count": null,
      "metadata": {
        "colab": {
          "base_uri": "https://localhost:8080/"
        },
        "id": "30q080fF5eb4",
        "outputId": "126757fb-952d-4da0-b9e3-406278b0a089"
      },
      "outputs": [
        {
          "name": "stdout",
          "output_type": "stream",
          "text": [
            "\u001b[1m1/1\u001b[0m \u001b[32m━━━━━━━━━━━━━━━━━━━━\u001b[0m\u001b[37m\u001b[0m \u001b[1m0s\u001b[0m 117ms/step\n",
            "[[ 48149.973]\n",
            " [ 41792.676]\n",
            " [ 46143.598]\n",
            " [107329.5  ]\n",
            " [ 83456.5  ]\n",
            " [ 37997.723]\n",
            " [ 85559.03 ]\n",
            " [ 62949.863]\n",
            " [ 68833.3  ]\n",
            " [ 62943.05 ]]\n"
          ]
        }
      ],
      "source": [
        "print(model.predict(val_X[:10]))"
      ]
    },
    {
      "cell_type": "code",
      "execution_count": null,
      "metadata": {
        "colab": {
          "base_uri": "https://localhost:8080/"
        },
        "id": "8F8LKZJH_UIm",
        "outputId": "3f5b58cf-07d6-4de7-c3ad-d5b743feabab"
      },
      "outputs": [
        {
          "name": "stdout",
          "output_type": "stream",
          "text": [
            "\u001b[1m1/1\u001b[0m \u001b[32m━━━━━━━━━━━━━━━━━━━━\u001b[0m\u001b[37m\u001b[0m \u001b[1m0s\u001b[0m 36ms/step\n",
            "[[ 48149.973]\n",
            " [ 41792.676]\n",
            " [ 46143.598]\n",
            " [107329.5  ]\n",
            " [ 83456.5  ]\n",
            " [ 37997.723]\n",
            " [ 85559.03 ]\n",
            " [ 62949.863]\n",
            " [ 68833.3  ]\n",
            " [ 62943.05 ]]\n"
          ]
        }
      ],
      "source": [
        "print(model.predict(val_X[:10]))"
      ]
    },
    {
      "cell_type": "markdown",
      "metadata": {
        "id": "C1GtwD_T3qps"
      },
      "source": [
        "Part II\n",
        "\n",
        "Take the Keras model you defined in Part I and add another hidden layer of 16 neurons. Then repeat the steps from Part I."
      ]
    },
    {
      "cell_type": "code",
      "execution_count": null,
      "metadata": {
        "id": "v4Z282De3s4J"
      },
      "outputs": [],
      "source": [
        "# use knowledge in class. input part\n",
        "\n",
        "# define the input layer\n",
        "input = keras.layers.Input(shape=train_X.shape[1:])\n",
        "\n",
        "# feed the input vector to the hidden layer\n",
        "# optional: you can give names to each layer to help\n",
        "# keep track. This doesn't affect the training etc.\n",
        "\n",
        "h = keras.layers.Dense(16, activation=\"relu\", name=\"Hidden\")(input)\n",
        "\n",
        "## add another hidden layer of 16 neurons here\n",
        "h2 = keras.layers.Dense(16, activation=\"relu\", name=\"Hidden2\")(h)\n",
        "\n",
        "# feed the output of the hidden layer to the output layer\n",
        "output = keras.layers.Dense(1)(h2)\n",
        "\n",
        "# tell Keras that this (input,output) pair is your model\n",
        "model = keras.Model(input, output)\n"
      ]
    },
    {
      "cell_type": "code",
      "execution_count": null,
      "metadata": {
        "colab": {
          "base_uri": "https://localhost:8080/",
          "height": 265
        },
        "id": "5YNP-BafegfX",
        "outputId": "764ff9b1-acbe-4b34-a803-61929bdbcd26"
      },
      "outputs": [
        {
          "data": {
            "text/html": [
              "<pre style=\"white-space:pre;overflow-x:auto;line-height:normal;font-family:Menlo,'DejaVu Sans Mono',consolas,'Courier New',monospace\"><span style=\"font-weight: bold\">Model: \"functional_4\"</span>\n",
              "</pre>\n"
            ],
            "text/plain": [
              "\u001b[1mModel: \"functional_4\"\u001b[0m\n"
            ]
          },
          "metadata": {},
          "output_type": "display_data"
        },
        {
          "data": {
            "text/html": [
              "<pre style=\"white-space:pre;overflow-x:auto;line-height:normal;font-family:Menlo,'DejaVu Sans Mono',consolas,'Courier New',monospace\">┏━━━━━━━━━━━━━━━━━━━━━━━━━━━━━━━━━━━━━━┳━━━━━━━━━━━━━━━━━━━━━━━━━━━━━┳━━━━━━━━━━━━━━━━━┓\n",
              "┃<span style=\"font-weight: bold\"> Layer (type)                         </span>┃<span style=\"font-weight: bold\"> Output Shape                </span>┃<span style=\"font-weight: bold\">         Param # </span>┃\n",
              "┡━━━━━━━━━━━━━━━━━━━━━━━━━━━━━━━━━━━━━━╇━━━━━━━━━━━━━━━━━━━━━━━━━━━━━╇━━━━━━━━━━━━━━━━━┩\n",
              "│ input_layer_4 (<span style=\"color: #0087ff; text-decoration-color: #0087ff\">InputLayer</span>)           │ (<span style=\"color: #00d7ff; text-decoration-color: #00d7ff\">None</span>, <span style=\"color: #00af00; text-decoration-color: #00af00\">8</span>)                   │               <span style=\"color: #00af00; text-decoration-color: #00af00\">0</span> │\n",
              "├──────────────────────────────────────┼─────────────────────────────┼─────────────────┤\n",
              "│ Hidden (<span style=\"color: #0087ff; text-decoration-color: #0087ff\">Dense</span>)                       │ (<span style=\"color: #00d7ff; text-decoration-color: #00d7ff\">None</span>, <span style=\"color: #00af00; text-decoration-color: #00af00\">16</span>)                  │             <span style=\"color: #00af00; text-decoration-color: #00af00\">144</span> │\n",
              "├──────────────────────────────────────┼─────────────────────────────┼─────────────────┤\n",
              "│ Hidden2 (<span style=\"color: #0087ff; text-decoration-color: #0087ff\">Dense</span>)                      │ (<span style=\"color: #00d7ff; text-decoration-color: #00d7ff\">None</span>, <span style=\"color: #00af00; text-decoration-color: #00af00\">16</span>)                  │             <span style=\"color: #00af00; text-decoration-color: #00af00\">272</span> │\n",
              "├──────────────────────────────────────┼─────────────────────────────┼─────────────────┤\n",
              "│ dense_7 (<span style=\"color: #0087ff; text-decoration-color: #0087ff\">Dense</span>)                      │ (<span style=\"color: #00d7ff; text-decoration-color: #00d7ff\">None</span>, <span style=\"color: #00af00; text-decoration-color: #00af00\">1</span>)                   │              <span style=\"color: #00af00; text-decoration-color: #00af00\">17</span> │\n",
              "└──────────────────────────────────────┴─────────────────────────────┴─────────────────┘\n",
              "</pre>\n"
            ],
            "text/plain": [
              "┏━━━━━━━━━━━━━━━━━━━━━━━━━━━━━━━━━━━━━━┳━━━━━━━━━━━━━━━━━━━━━━━━━━━━━┳━━━━━━━━━━━━━━━━━┓\n",
              "┃\u001b[1m \u001b[0m\u001b[1mLayer (type)                        \u001b[0m\u001b[1m \u001b[0m┃\u001b[1m \u001b[0m\u001b[1mOutput Shape               \u001b[0m\u001b[1m \u001b[0m┃\u001b[1m \u001b[0m\u001b[1m        Param #\u001b[0m\u001b[1m \u001b[0m┃\n",
              "┡━━━━━━━━━━━━━━━━━━━━━━━━━━━━━━━━━━━━━━╇━━━━━━━━━━━━━━━━━━━━━━━━━━━━━╇━━━━━━━━━━━━━━━━━┩\n",
              "│ input_layer_4 (\u001b[38;5;33mInputLayer\u001b[0m)           │ (\u001b[38;5;45mNone\u001b[0m, \u001b[38;5;34m8\u001b[0m)                   │               \u001b[38;5;34m0\u001b[0m │\n",
              "├──────────────────────────────────────┼─────────────────────────────┼─────────────────┤\n",
              "│ Hidden (\u001b[38;5;33mDense\u001b[0m)                       │ (\u001b[38;5;45mNone\u001b[0m, \u001b[38;5;34m16\u001b[0m)                  │             \u001b[38;5;34m144\u001b[0m │\n",
              "├──────────────────────────────────────┼─────────────────────────────┼─────────────────┤\n",
              "│ Hidden2 (\u001b[38;5;33mDense\u001b[0m)                      │ (\u001b[38;5;45mNone\u001b[0m, \u001b[38;5;34m16\u001b[0m)                  │             \u001b[38;5;34m272\u001b[0m │\n",
              "├──────────────────────────────────────┼─────────────────────────────┼─────────────────┤\n",
              "│ dense_7 (\u001b[38;5;33mDense\u001b[0m)                      │ (\u001b[38;5;45mNone\u001b[0m, \u001b[38;5;34m1\u001b[0m)                   │              \u001b[38;5;34m17\u001b[0m │\n",
              "└──────────────────────────────────────┴─────────────────────────────┴─────────────────┘\n"
            ]
          },
          "metadata": {},
          "output_type": "display_data"
        },
        {
          "data": {
            "text/html": [
              "<pre style=\"white-space:pre;overflow-x:auto;line-height:normal;font-family:Menlo,'DejaVu Sans Mono',consolas,'Courier New',monospace\"><span style=\"font-weight: bold\"> Total params: </span><span style=\"color: #00af00; text-decoration-color: #00af00\">433</span> (1.69 KB)\n",
              "</pre>\n"
            ],
            "text/plain": [
              "\u001b[1m Total params: \u001b[0m\u001b[38;5;34m433\u001b[0m (1.69 KB)\n"
            ]
          },
          "metadata": {},
          "output_type": "display_data"
        },
        {
          "data": {
            "text/html": [
              "<pre style=\"white-space:pre;overflow-x:auto;line-height:normal;font-family:Menlo,'DejaVu Sans Mono',consolas,'Courier New',monospace\"><span style=\"font-weight: bold\"> Trainable params: </span><span style=\"color: #00af00; text-decoration-color: #00af00\">433</span> (1.69 KB)\n",
              "</pre>\n"
            ],
            "text/plain": [
              "\u001b[1m Trainable params: \u001b[0m\u001b[38;5;34m433\u001b[0m (1.69 KB)\n"
            ]
          },
          "metadata": {},
          "output_type": "display_data"
        },
        {
          "data": {
            "text/html": [
              "<pre style=\"white-space:pre;overflow-x:auto;line-height:normal;font-family:Menlo,'DejaVu Sans Mono',consolas,'Courier New',monospace\"><span style=\"font-weight: bold\"> Non-trainable params: </span><span style=\"color: #00af00; text-decoration-color: #00af00\">0</span> (0.00 B)\n",
              "</pre>\n"
            ],
            "text/plain": [
              "\u001b[1m Non-trainable params: \u001b[0m\u001b[38;5;34m0\u001b[0m (0.00 B)\n"
            ]
          },
          "metadata": {},
          "output_type": "display_data"
        }
      ],
      "source": [
        "model.summary()"
      ]
    },
    {
      "cell_type": "code",
      "execution_count": null,
      "metadata": {
        "colab": {
          "base_uri": "https://localhost:8080/",
          "height": 72
        },
        "id": "b4hFFzdMej_n",
        "outputId": "c982d179-861c-478b-9c44-b7e5eb01ef27"
      },
      "outputs": [
        {
          "data": {
            "image/png": "[encoded data removed]",
            "text/plain": [
              "<IPython.core.display.Image object>"
            ]
          },
          "execution_count": 70,
          "metadata": {},
          "output_type": "execute_result"
        }
      ],
      "source": [
        "keras.utils.plot_model(model, show_shapes=True, rankdir=\"LR\")"
      ]
    },
    {
      "cell_type": "code",
      "execution_count": null,
      "metadata": {
        "id": "ulf6QkpYemr1"
      },
      "outputs": [],
      "source": [
        "model.compile(optimizer=\"adam\",\n",
        "              loss=\"mse\",\n",
        "              metrics=[\"mae\"])\n",
        "# or metrics=[\"acc\"]"
      ]
    },
    {
      "cell_type": "code",
      "execution_count": null,
      "metadata": {
        "colab": {
          "base_uri": "https://localhost:8080/"
        },
        "id": "sqeitT_leof9",
        "outputId": "22d002b3-5afc-4cb5-da5f-fe4a0595a5b8"
      },
      "outputs": [
        {
          "name": "stdout",
          "output_type": "stream",
          "text": [
            "Epoch 1/100\n",
            "\u001b[1m516/516\u001b[0m \u001b[32m━━━━━━━━━━━━━━━━━━━━\u001b[0m\u001b[37m\u001b[0m \u001b[1m3s\u001b[0m 3ms/step - loss: 55382634496.0000 - mae: 205319.5938 - val_loss: 56027201536.0000 - val_mae: 206737.4688\n",
            "Epoch 2/100\n",
            "\u001b[1m516/516\u001b[0m \u001b[32m━━━━━━━━━━━━━━━━━━━━\u001b[0m\u001b[37m\u001b[0m \u001b[1m1s\u001b[0m 3ms/step - loss: 55719804928.0000 - mae: 206356.0156 - val_loss: 54981054464.0000 - val_mae: 204391.7500\n",
            "Epoch 3/100\n",
            "\u001b[1m516/516\u001b[0m \u001b[32m━━━━━━━━━━━━━━━━━━━━\u001b[0m\u001b[37m\u001b[0m \u001b[1m1s\u001b[0m 3ms/step - loss: 54328410112.0000 - mae: 203122.0781 - val_loss: 52514603008.0000 - val_mae: 198800.7031\n",
            "Epoch 4/100\n",
            "\u001b[1m516/516\u001b[0m \u001b[32m━━━━━━━━━━━━━━━━━━━━\u001b[0m\u001b[37m\u001b[0m \u001b[1m1s\u001b[0m 3ms/step - loss: 51716927488.0000 - mae: 196860.4531 - val_loss: 48562368512.0000 - val_mae: 189514.1406\n",
            "Epoch 5/100\n",
            "\u001b[1m516/516\u001b[0m \u001b[32m━━━━━━━━━━━━━━━━━━━━\u001b[0m\u001b[37m\u001b[0m \u001b[1m1s\u001b[0m 2ms/step - loss: 47220056064.0000 - mae: 186063.0156 - val_loss: 43340578816.0000 - val_mae: 176495.7812\n",
            "Epoch 6/100\n",
            "\u001b[1m516/516\u001b[0m \u001b[32m━━━━━━━━━━━━━━━━━━━━\u001b[0m\u001b[37m\u001b[0m \u001b[1m1s\u001b[0m 2ms/step - loss: 41897750528.0000 - mae: 172789.1094 - val_loss: 37333434368.0000 - val_mae: 160408.0000\n",
            "Epoch 7/100\n",
            "\u001b[1m516/516\u001b[0m \u001b[32m━━━━━━━━━━━━━━━━━━━━\u001b[0m\u001b[37m\u001b[0m \u001b[1m1s\u001b[0m 2ms/step - loss: 35199729664.0000 - mae: 154532.8906 - val_loss: 31117553664.0000 - val_mae: 142575.9531\n",
            "Epoch 8/100\n",
            "\u001b[1m516/516\u001b[0m \u001b[32m━━━━━━━━━━━━━━━━━━━━\u001b[0m\u001b[37m\u001b[0m \u001b[1m1s\u001b[0m 2ms/step - loss: 29471262720.0000 - mae: 137514.8438 - val_loss: 25314586624.0000 - val_mae: 125321.9297\n",
            "Epoch 9/100\n",
            "\u001b[1m516/516\u001b[0m \u001b[32m━━━━━━━━━━━━━━━━━━━━\u001b[0m\u001b[37m\u001b[0m \u001b[1m1s\u001b[0m 2ms/step - loss: 23467331584.0000 - mae: 119643.8750 - val_loss: 20462448640.0000 - val_mae: 110175.0547\n",
            "Epoch 10/100\n",
            "\u001b[1m516/516\u001b[0m \u001b[32m━━━━━━━━━━━━━━━━━━━━\u001b[0m\u001b[37m\u001b[0m \u001b[1m1s\u001b[0m 3ms/step - loss: 20172800000.0000 - mae: 108483.2344 - val_loss: 16848568320.0000 - val_mae: 98307.2734\n",
            "Epoch 11/100\n",
            "\u001b[1m516/516\u001b[0m \u001b[32m━━━━━━━━━━━━━━━━━━━━\u001b[0m\u001b[37m\u001b[0m \u001b[1m1s\u001b[0m 3ms/step - loss: 16437050368.0000 - mae: 96277.4375 - val_loss: 14456509440.0000 - val_mae: 90589.9297\n",
            "Epoch 12/100\n",
            "\u001b[1m516/516\u001b[0m \u001b[32m━━━━━━━━━━━━━━━━━━━━\u001b[0m\u001b[37m\u001b[0m \u001b[1m1s\u001b[0m 3ms/step - loss: 14539523072.0000 - mae: 89404.8750 - val_loss: 12962277376.0000 - val_mae: 85633.5000\n",
            "Epoch 13/100\n",
            "\u001b[1m516/516\u001b[0m \u001b[32m━━━━━━━━━━━━━━━━━━━━\u001b[0m\u001b[37m\u001b[0m \u001b[1m1s\u001b[0m 3ms/step - loss: 13151398912.0000 - mae: 85059.9375 - val_loss: 11969761280.0000 - val_mae: 82142.3906\n",
            "Epoch 14/100\n",
            "\u001b[1m516/516\u001b[0m \u001b[32m━━━━━━━━━━━━━━━━━━━━\u001b[0m\u001b[37m\u001b[0m \u001b[1m1s\u001b[0m 3ms/step - loss: 12349527040.0000 - mae: 82268.0547 - val_loss: 11231263744.0000 - val_mae: 79270.8516\n",
            "Epoch 15/100\n",
            "\u001b[1m516/516\u001b[0m \u001b[32m━━━━━━━━━━━━━━━━━━━━\u001b[0m\u001b[37m\u001b[0m \u001b[1m1s\u001b[0m 2ms/step - loss: 11696755712.0000 - mae: 79369.2188 - val_loss: 10633157632.0000 - val_mae: 76760.3281\n",
            "Epoch 16/100\n",
            "\u001b[1m516/516\u001b[0m \u001b[32m━━━━━━━━━━━━━━━━━━━━\u001b[0m\u001b[37m\u001b[0m \u001b[1m1s\u001b[0m 2ms/step - loss: 11083679744.0000 - mae: 76964.3438 - val_loss: 10119942144.0000 - val_mae: 74507.4453\n",
            "Epoch 17/100\n",
            "\u001b[1m516/516\u001b[0m \u001b[32m━━━━━━━━━━━━━━━━━━━━\u001b[0m\u001b[37m\u001b[0m \u001b[1m1s\u001b[0m 2ms/step - loss: 10731994112.0000 - mae: 75696.1094 - val_loss: 9678011392.0000 - val_mae: 72559.3125\n",
            "Epoch 18/100\n",
            "\u001b[1m516/516\u001b[0m \u001b[32m━━━━━━━━━━━━━━━━━━━━\u001b[0m\u001b[37m\u001b[0m \u001b[1m1s\u001b[0m 3ms/step - loss: 10125603840.0000 - mae: 72707.7578 - val_loss: 9277685760.0000 - val_mae: 70756.6328\n",
            "Epoch 19/100\n",
            "\u001b[1m516/516\u001b[0m \u001b[32m━━━━━━━━━━━━━━━━━━━━\u001b[0m\u001b[37m\u001b[0m \u001b[1m1s\u001b[0m 3ms/step - loss: 9557068800.0000 - mae: 70834.9297 - val_loss: 8912459776.0000 - val_mae: 69109.9141\n",
            "Epoch 20/100\n",
            "\u001b[1m516/516\u001b[0m \u001b[32m━━━━━━━━━━━━━━━━━━━━\u001b[0m\u001b[37m\u001b[0m \u001b[1m1s\u001b[0m 3ms/step - loss: 9256716288.0000 - mae: 69362.7500 - val_loss: 8579026944.0000 - val_mae: 67587.4531\n",
            "Epoch 21/100\n",
            "\u001b[1m516/516\u001b[0m \u001b[32m━━━━━━━━━━━━━━━━━━━━\u001b[0m\u001b[37m\u001b[0m \u001b[1m1s\u001b[0m 3ms/step - loss: 8939585536.0000 - mae: 67719.8906 - val_loss: 8268546048.0000 - val_mae: 66197.6875\n",
            "Epoch 22/100\n",
            "\u001b[1m516/516\u001b[0m \u001b[32m━━━━━━━━━━━━━━━━━━━━\u001b[0m\u001b[37m\u001b[0m \u001b[1m1s\u001b[0m 3ms/step - loss: 8444435456.0000 - mae: 66241.1094 - val_loss: 7981668352.0000 - val_mae: 64932.6094\n",
            "Epoch 23/100\n",
            "\u001b[1m516/516\u001b[0m \u001b[32m━━━━━━━━━━━━━━━━━━━━\u001b[0m\u001b[37m\u001b[0m \u001b[1m1s\u001b[0m 2ms/step - loss: 8139865600.0000 - mae: 64674.8125 - val_loss: 7714558976.0000 - val_mae: 63805.4141\n",
            "Epoch 24/100\n",
            "\u001b[1m516/516\u001b[0m \u001b[32m━━━━━━━━━━━━━━━━━━━━\u001b[0m\u001b[37m\u001b[0m \u001b[1m1s\u001b[0m 2ms/step - loss: 7842112512.0000 - mae: 63609.3828 - val_loss: 7466558464.0000 - val_mae: 62738.6328\n",
            "Epoch 25/100\n",
            "\u001b[1m516/516\u001b[0m \u001b[32m━━━━━━━━━━━━━━━━━━━━\u001b[0m\u001b[37m\u001b[0m \u001b[1m1s\u001b[0m 2ms/step - loss: 7522994688.0000 - mae: 62351.2461 - val_loss: 7239003136.0000 - val_mae: 61776.8086\n",
            "Epoch 26/100\n",
            "\u001b[1m516/516\u001b[0m \u001b[32m━━━━━━━━━━━━━━━━━━━━\u001b[0m\u001b[37m\u001b[0m \u001b[1m1s\u001b[0m 2ms/step - loss: 7303880192.0000 - mae: 61328.6094 - val_loss: 7028822016.0000 - val_mae: 60947.0039\n",
            "Epoch 27/100\n",
            "\u001b[1m516/516\u001b[0m \u001b[32m━━━━━━━━━━━━━━━━━━━━\u001b[0m\u001b[37m\u001b[0m \u001b[1m1s\u001b[0m 2ms/step - loss: 7145325568.0000 - mae: 60646.6875 - val_loss: 6833605120.0000 - val_mae: 60156.6992\n",
            "Epoch 28/100\n",
            "\u001b[1m516/516\u001b[0m \u001b[32m━━━━━━━━━━━━━━━━━━━━\u001b[0m\u001b[37m\u001b[0m \u001b[1m1s\u001b[0m 2ms/step - loss: 6885071872.0000 - mae: 59575.3789 - val_loss: 6655598080.0000 - val_mae: 59370.0117\n",
            "Epoch 29/100\n",
            "\u001b[1m516/516\u001b[0m \u001b[32m━━━━━━━━━━━━━━━━━━━━\u001b[0m\u001b[37m\u001b[0m \u001b[1m1s\u001b[0m 2ms/step - loss: 6730834432.0000 - mae: 58887.0469 - val_loss: 6491704832.0000 - val_mae: 58686.3086\n",
            "Epoch 30/100\n",
            "\u001b[1m516/516\u001b[0m \u001b[32m━━━━━━━━━━━━━━━━━━━━\u001b[0m\u001b[37m\u001b[0m \u001b[1m1s\u001b[0m 2ms/step - loss: 6359230464.0000 - mae: 57902.9375 - val_loss: 6342055424.0000 - val_mae: 58031.8398\n",
            "Epoch 31/100\n",
            "\u001b[1m516/516\u001b[0m \u001b[32m━━━━━━━━━━━━━━━━━━━━\u001b[0m\u001b[37m\u001b[0m \u001b[1m1s\u001b[0m 2ms/step - loss: 6125850112.0000 - mae: 56646.4023 - val_loss: 6205191680.0000 - val_mae: 57474.2695\n",
            "Epoch 32/100\n",
            "\u001b[1m516/516\u001b[0m \u001b[32m━━━━━━━━━━━━━━━━━━━━\u001b[0m\u001b[37m\u001b[0m \u001b[1m1s\u001b[0m 2ms/step - loss: 6163238400.0000 - mae: 56845.2930 - val_loss: 6079325184.0000 - val_mae: 57015.2188\n",
            "Epoch 33/100\n",
            "\u001b[1m516/516\u001b[0m \u001b[32m━━━━━━━━━━━━━━━━━━━━\u001b[0m\u001b[37m\u001b[0m \u001b[1m1s\u001b[0m 2ms/step - loss: 6082410496.0000 - mae: 56588.6211 - val_loss: 5966318080.0000 - val_mae: 56579.4180\n",
            "Epoch 34/100\n",
            "\u001b[1m516/516\u001b[0m \u001b[32m━━━━━━━━━━━━━━━━━━━━\u001b[0m\u001b[37m\u001b[0m \u001b[1m1s\u001b[0m 2ms/step - loss: 5765619712.0000 - mae: 55689.9336 - val_loss: 5863056384.0000 - val_mae: 56062.5039\n",
            "Epoch 35/100\n",
            "\u001b[1m516/516\u001b[0m \u001b[32m━━━━━━━━━━━━━━━━━━━━\u001b[0m\u001b[37m\u001b[0m \u001b[1m1s\u001b[0m 2ms/step - loss: 5789006336.0000 - mae: 55214.7148 - val_loss: 5767073792.0000 - val_mae: 55632.8320\n",
            "Epoch 36/100\n",
            "\u001b[1m516/516\u001b[0m \u001b[32m━━━━━━━━━━━━━━━━━━━━\u001b[0m\u001b[37m\u001b[0m \u001b[1m1s\u001b[0m 2ms/step - loss: 5704550912.0000 - mae: 54896.2578 - val_loss: 5679773696.0000 - val_mae: 55287.6758\n",
            "Epoch 37/100\n",
            "\u001b[1m516/516\u001b[0m \u001b[32m━━━━━━━━━━━━━━━━━━━━\u001b[0m\u001b[37m\u001b[0m \u001b[1m1s\u001b[0m 2ms/step - loss: 5495857664.0000 - mae: 54034.1758 - val_loss: 5598494720.0000 - val_mae: 54958.0234\n",
            "Epoch 38/100\n",
            "\u001b[1m516/516\u001b[0m \u001b[32m━━━━━━━━━━━━━━━━━━━━\u001b[0m\u001b[37m\u001b[0m \u001b[1m1s\u001b[0m 2ms/step - loss: 5213730304.0000 - mae: 52902.7656 - val_loss: 5522511360.0000 - val_mae: 54591.9688\n",
            "Epoch 39/100\n",
            "\u001b[1m516/516\u001b[0m \u001b[32m━━━━━━━━━━━━━━━━━━━━\u001b[0m\u001b[37m\u001b[0m \u001b[1m1s\u001b[0m 3ms/step - loss: 5325168640.0000 - mae: 53367.7305 - val_loss: 5451835392.0000 - val_mae: 54176.0898\n",
            "Epoch 40/100\n",
            "\u001b[1m516/516\u001b[0m \u001b[32m━━━━━━━━━━━━━━━━━━━━\u001b[0m\u001b[37m\u001b[0m \u001b[1m1s\u001b[0m 3ms/step - loss: 5048948224.0000 - mae: 52291.3906 - val_loss: 5387559424.0000 - val_mae: 53906.0195\n",
            "Epoch 41/100\n",
            "\u001b[1m516/516\u001b[0m \u001b[32m━━━━━━━━━━━━━━━━━━━━\u001b[0m\u001b[37m\u001b[0m \u001b[1m1s\u001b[0m 2ms/step - loss: 5114310656.0000 - mae: 52552.1055 - val_loss: 5326610432.0000 - val_mae: 53542.0000\n",
            "Epoch 42/100\n",
            "\u001b[1m516/516\u001b[0m \u001b[32m━━━━━━━━━━━━━━━━━━━━\u001b[0m\u001b[37m\u001b[0m \u001b[1m1s\u001b[0m 2ms/step - loss: 5240084992.0000 - mae: 52503.5742 - val_loss: 5272930816.0000 - val_mae: 53310.8242\n",
            "Epoch 43/100\n",
            "\u001b[1m516/516\u001b[0m \u001b[32m━━━━━━━━━━━━━━━━━━━━\u001b[0m\u001b[37m\u001b[0m \u001b[1m1s\u001b[0m 2ms/step - loss: 5016498176.0000 - mae: 52218.9844 - val_loss: 5222205440.0000 - val_mae: 52994.6055\n",
            "Epoch 44/100\n",
            "\u001b[1m516/516\u001b[0m \u001b[32m━━━━━━━━━━━━━━━━━━━━\u001b[0m\u001b[37m\u001b[0m \u001b[1m1s\u001b[0m 2ms/step - loss: 5000690688.0000 - mae: 52180.9727 - val_loss: 5177508352.0000 - val_mae: 52795.9062\n",
            "Epoch 45/100\n",
            "\u001b[1m516/516\u001b[0m \u001b[32m━━━━━━━━━━━━━━━━━━━━\u001b[0m\u001b[37m\u001b[0m \u001b[1m1s\u001b[0m 3ms/step - loss: 4929816576.0000 - mae: 51258.0703 - val_loss: 5135750144.0000 - val_mae: 52539.5859\n",
            "Epoch 46/100\n",
            "\u001b[1m516/516\u001b[0m \u001b[32m━━━━━━━━━━━━━━━━━━━━\u001b[0m\u001b[37m\u001b[0m \u001b[1m1s\u001b[0m 2ms/step - loss: 4894101504.0000 - mae: 51132.9688 - val_loss: 5097110528.0000 - val_mae: 52338.7500\n",
            "Epoch 47/100\n",
            "\u001b[1m516/516\u001b[0m \u001b[32m━━━━━━━━━━━━━━━━━━━━\u001b[0m\u001b[37m\u001b[0m \u001b[1m1s\u001b[0m 2ms/step - loss: 4947733504.0000 - mae: 51646.4258 - val_loss: 5062803968.0000 - val_mae: 52139.8359\n",
            "Epoch 48/100\n",
            "\u001b[1m516/516\u001b[0m \u001b[32m━━━━━━━━━━━━━━━━━━━━\u001b[0m\u001b[37m\u001b[0m \u001b[1m1s\u001b[0m 3ms/step - loss: 4784110080.0000 - mae: 50473.5156 - val_loss: 5031307776.0000 - val_mae: 51966.8438\n",
            "Epoch 49/100\n",
            "\u001b[1m516/516\u001b[0m \u001b[32m━━━━━━━━━━━━━━━━━━━━\u001b[0m\u001b[37m\u001b[0m \u001b[1m1s\u001b[0m 2ms/step - loss: 4774487040.0000 - mae: 50416.6914 - val_loss: 5002546688.0000 - val_mae: 51756.7695\n",
            "Epoch 50/100\n",
            "\u001b[1m516/516\u001b[0m \u001b[32m━━━━━━━━━━━━━━━━━━━━\u001b[0m\u001b[37m\u001b[0m \u001b[1m1s\u001b[0m 2ms/step - loss: 4708202496.0000 - mae: 50082.0742 - val_loss: 4977314816.0000 - val_mae: 51630.8359\n",
            "Epoch 51/100\n",
            "\u001b[1m516/516\u001b[0m \u001b[32m━━━━━━━━━━━━━━━━━━━━\u001b[0m\u001b[37m\u001b[0m \u001b[1m1s\u001b[0m 2ms/step - loss: 4794009088.0000 - mae: 50459.2266 - val_loss: 4954030080.0000 - val_mae: 51523.7930\n",
            "Epoch 52/100\n",
            "\u001b[1m516/516\u001b[0m \u001b[32m━━━━━━━━━━━━━━━━━━━━\u001b[0m\u001b[37m\u001b[0m \u001b[1m1s\u001b[0m 2ms/step - loss: 4749658624.0000 - mae: 50539.5352 - val_loss: 4930975744.0000 - val_mae: 51257.2500\n",
            "Epoch 53/100\n",
            "\u001b[1m516/516\u001b[0m \u001b[32m━━━━━━━━━━━━━━━━━━━━\u001b[0m\u001b[37m\u001b[0m \u001b[1m1s\u001b[0m 2ms/step - loss: 4864043008.0000 - mae: 50578.6289 - val_loss: 4912014336.0000 - val_mae: 51208.0469\n",
            "Epoch 54/100\n",
            "\u001b[1m516/516\u001b[0m \u001b[32m━━━━━━━━━━━━━━━━━━━━\u001b[0m\u001b[37m\u001b[0m \u001b[1m1s\u001b[0m 2ms/step - loss: 4767354368.0000 - mae: 50032.9648 - val_loss: 4893944832.0000 - val_mae: 51026.4375\n",
            "Epoch 55/100\n",
            "\u001b[1m516/516\u001b[0m \u001b[32m━━━━━━━━━━━━━━━━━━━━\u001b[0m\u001b[37m\u001b[0m \u001b[1m1s\u001b[0m 2ms/step - loss: 4792641536.0000 - mae: 50134.7812 - val_loss: 4878104576.0000 - val_mae: 50982.0234\n",
            "Epoch 56/100\n",
            "\u001b[1m516/516\u001b[0m \u001b[32m━━━━━━━━━━━━━━━━━━━━\u001b[0m\u001b[37m\u001b[0m \u001b[1m1s\u001b[0m 3ms/step - loss: 4732792320.0000 - mae: 50050.4414 - val_loss: 4862374912.0000 - val_mae: 50828.4844\n",
            "Epoch 57/100\n",
            "\u001b[1m516/516\u001b[0m \u001b[32m━━━━━━━━━━━━━━━━━━━━\u001b[0m\u001b[37m\u001b[0m \u001b[1m1s\u001b[0m 3ms/step - loss: 4633179648.0000 - mae: 49469.0352 - val_loss: 4847931392.0000 - val_mae: 50721.8398\n",
            "Epoch 58/100\n",
            "\u001b[1m516/516\u001b[0m \u001b[32m━━━━━━━━━━━━━━━━━━━━\u001b[0m\u001b[37m\u001b[0m \u001b[1m1s\u001b[0m 2ms/step - loss: 4460715520.0000 - mae: 48926.8320 - val_loss: 4835261440.0000 - val_mae: 50679.6055\n",
            "Epoch 59/100\n",
            "\u001b[1m516/516\u001b[0m \u001b[32m━━━━━━━━━━━━━━━━━━━━\u001b[0m\u001b[37m\u001b[0m \u001b[1m1s\u001b[0m 2ms/step - loss: 4605263360.0000 - mae: 49378.5820 - val_loss: 4823054336.0000 - val_mae: 50570.2383\n",
            "Epoch 60/100\n",
            "\u001b[1m516/516\u001b[0m \u001b[32m━━━━━━━━━━━━━━━━━━━━\u001b[0m\u001b[37m\u001b[0m \u001b[1m1s\u001b[0m 2ms/step - loss: 4645585920.0000 - mae: 49521.1133 - val_loss: 4812478976.0000 - val_mae: 50526.6094\n",
            "Epoch 61/100\n",
            "\u001b[1m516/516\u001b[0m \u001b[32m━━━━━━━━━━━━━━━━━━━━\u001b[0m\u001b[37m\u001b[0m \u001b[1m1s\u001b[0m 2ms/step - loss: 4584803840.0000 - mae: 49162.5117 - val_loss: 4801599488.0000 - val_mae: 50384.2422\n",
            "Epoch 62/100\n",
            "\u001b[1m516/516\u001b[0m \u001b[32m━━━━━━━━━━━━━━━━━━━━\u001b[0m\u001b[37m\u001b[0m \u001b[1m1s\u001b[0m 2ms/step - loss: 4670616576.0000 - mae: 49378.2109 - val_loss: 4791886848.0000 - val_mae: 50297.1641\n",
            "Epoch 63/100\n",
            "\u001b[1m516/516\u001b[0m \u001b[32m━━━━━━━━━━━━━━━━━━━━\u001b[0m\u001b[37m\u001b[0m \u001b[1m1s\u001b[0m 2ms/step - loss: 4632613888.0000 - mae: 49119.6680 - val_loss: 4783946752.0000 - val_mae: 50331.1445\n",
            "Epoch 64/100\n",
            "\u001b[1m516/516\u001b[0m \u001b[32m━━━━━━━━━━━━━━━━━━━━\u001b[0m\u001b[37m\u001b[0m \u001b[1m1s\u001b[0m 2ms/step - loss: 4719652352.0000 - mae: 49645.1289 - val_loss: 4775428608.0000 - val_mae: 50195.8164\n",
            "Epoch 65/100\n",
            "\u001b[1m516/516\u001b[0m \u001b[32m━━━━━━━━━━━━━━━━━━━━\u001b[0m\u001b[37m\u001b[0m \u001b[1m1s\u001b[0m 3ms/step - loss: 4370346496.0000 - mae: 48020.8828 - val_loss: 4768965632.0000 - val_mae: 50282.1641\n",
            "Epoch 66/100\n",
            "\u001b[1m516/516\u001b[0m \u001b[32m━━━━━━━━━━━━━━━━━━━━\u001b[0m\u001b[37m\u001b[0m \u001b[1m1s\u001b[0m 3ms/step - loss: 4547367936.0000 - mae: 48807.9375 - val_loss: 4760817664.0000 - val_mae: 50175.0820\n",
            "Epoch 67/100\n",
            "\u001b[1m516/516\u001b[0m \u001b[32m━━━━━━━━━━━━━━━━━━━━\u001b[0m\u001b[37m\u001b[0m \u001b[1m1s\u001b[0m 2ms/step - loss: 4474367488.0000 - mae: 48534.5195 - val_loss: 4754345472.0000 - val_mae: 50142.9453\n",
            "Epoch 68/100\n",
            "\u001b[1m516/516\u001b[0m \u001b[32m━━━━━━━━━━━━━━━━━━━━\u001b[0m\u001b[37m\u001b[0m \u001b[1m1s\u001b[0m 3ms/step - loss: 4460249600.0000 - mae: 48566.4961 - val_loss: 4747488256.0000 - val_mae: 50057.5820\n",
            "Epoch 69/100\n",
            "\u001b[1m516/516\u001b[0m \u001b[32m━━━━━━━━━━━━━━━━━━━━\u001b[0m\u001b[37m\u001b[0m \u001b[1m1s\u001b[0m 3ms/step - loss: 4720274944.0000 - mae: 49391.1055 - val_loss: 4741284864.0000 - val_mae: 49965.3555\n",
            "Epoch 70/100\n",
            "\u001b[1m516/516\u001b[0m \u001b[32m━━━━━━━━━━━━━━━━━━━━\u001b[0m\u001b[37m\u001b[0m \u001b[1m1s\u001b[0m 2ms/step - loss: 4684364800.0000 - mae: 49343.0391 - val_loss: 4735051776.0000 - val_mae: 49893.4258\n",
            "Epoch 71/100\n",
            "\u001b[1m516/516\u001b[0m \u001b[32m━━━━━━━━━━━━━━━━━━━━\u001b[0m\u001b[37m\u001b[0m \u001b[1m1s\u001b[0m 2ms/step - loss: 4532861952.0000 - mae: 48738.6953 - val_loss: 4729592832.0000 - val_mae: 49893.7969\n",
            "Epoch 72/100\n",
            "\u001b[1m516/516\u001b[0m \u001b[32m━━━━━━━━━━━━━━━━━━━━\u001b[0m\u001b[37m\u001b[0m \u001b[1m1s\u001b[0m 3ms/step - loss: 4583610880.0000 - mae: 48735.5977 - val_loss: 4723678720.0000 - val_mae: 49758.2188\n",
            "Epoch 73/100\n",
            "\u001b[1m516/516\u001b[0m \u001b[32m━━━━━━━━━━━━━━━━━━━━\u001b[0m\u001b[37m\u001b[0m \u001b[1m1s\u001b[0m 3ms/step - loss: 4523080192.0000 - mae: 48660.4102 - val_loss: 4718704640.0000 - val_mae: 49744.3477\n",
            "Epoch 74/100\n",
            "\u001b[1m516/516\u001b[0m \u001b[32m━━━━━━━━━━━━━━━━━━━━\u001b[0m\u001b[37m\u001b[0m \u001b[1m1s\u001b[0m 2ms/step - loss: 4521788928.0000 - mae: 48422.8828 - val_loss: 4715282944.0000 - val_mae: 49823.8828\n",
            "Epoch 75/100\n",
            "\u001b[1m516/516\u001b[0m \u001b[32m━━━━━━━━━━━━━━━━━━━━\u001b[0m\u001b[37m\u001b[0m \u001b[1m1s\u001b[0m 2ms/step - loss: 4616057856.0000 - mae: 48864.6094 - val_loss: 4709974528.0000 - val_mae: 49665.0273\n",
            "Epoch 76/100\n",
            "\u001b[1m516/516\u001b[0m \u001b[32m━━━━━━━━━━━━━━━━━━━━\u001b[0m\u001b[37m\u001b[0m \u001b[1m1s\u001b[0m 2ms/step - loss: 4299562496.0000 - mae: 47713.1133 - val_loss: 4706087936.0000 - val_mae: 49737.9258\n",
            "Epoch 77/100\n",
            "\u001b[1m516/516\u001b[0m \u001b[32m━━━━━━━━━━━━━━━━━━━━\u001b[0m\u001b[37m\u001b[0m \u001b[1m1s\u001b[0m 2ms/step - loss: 4517161472.0000 - mae: 48461.5391 - val_loss: 4701511168.0000 - val_mae: 49682.6914\n",
            "Epoch 78/100\n",
            "\u001b[1m516/516\u001b[0m \u001b[32m━━━━━━━━━━━━━━━━━━━━\u001b[0m\u001b[37m\u001b[0m \u001b[1m1s\u001b[0m 2ms/step - loss: 4333305856.0000 - mae: 47896.3633 - val_loss: 4697456640.0000 - val_mae: 49628.2422\n",
            "Epoch 79/100\n",
            "\u001b[1m516/516\u001b[0m \u001b[32m━━━━━━━━━━━━━━━━━━━━\u001b[0m\u001b[37m\u001b[0m \u001b[1m1s\u001b[0m 2ms/step - loss: 4396661760.0000 - mae: 47798.8984 - val_loss: 4693294080.0000 - val_mae: 49548.7188\n",
            "Epoch 80/100\n",
            "\u001b[1m516/516\u001b[0m \u001b[32m━━━━━━━━━━━━━━━━━━━━\u001b[0m\u001b[37m\u001b[0m \u001b[1m1s\u001b[0m 2ms/step - loss: 4424973312.0000 - mae: 47939.8164 - val_loss: 4689588224.0000 - val_mae: 49545.3945\n",
            "Epoch 81/100\n",
            "\u001b[1m516/516\u001b[0m \u001b[32m━━━━━━━━━━━━━━━━━━━━\u001b[0m\u001b[37m\u001b[0m \u001b[1m1s\u001b[0m 2ms/step - loss: 4401040896.0000 - mae: 47798.5703 - val_loss: 4686258688.0000 - val_mae: 49530.3008\n",
            "Epoch 82/100\n",
            "\u001b[1m516/516\u001b[0m \u001b[32m━━━━━━━━━━━━━━━━━━━━\u001b[0m\u001b[37m\u001b[0m \u001b[1m1s\u001b[0m 2ms/step - loss: 4389415424.0000 - mae: 47731.2070 - val_loss: 4682863104.0000 - val_mae: 49460.8164\n",
            "Epoch 83/100\n",
            "\u001b[1m516/516\u001b[0m \u001b[32m━━━━━━━━━━━━━━━━━━━━\u001b[0m\u001b[37m\u001b[0m \u001b[1m1s\u001b[0m 3ms/step - loss: 4520715264.0000 - mae: 48379.1094 - val_loss: 4679373312.0000 - val_mae: 49479.8789\n",
            "Epoch 84/100\n",
            "\u001b[1m516/516\u001b[0m \u001b[32m━━━━━━━━━━━━━━━━━━━━\u001b[0m\u001b[37m\u001b[0m \u001b[1m1s\u001b[0m 2ms/step - loss: 4582000128.0000 - mae: 48571.1055 - val_loss: 4676498432.0000 - val_mae: 49434.9805\n",
            "Epoch 85/100\n",
            "\u001b[1m516/516\u001b[0m \u001b[32m━━━━━━━━━━━━━━━━━━━━\u001b[0m\u001b[37m\u001b[0m \u001b[1m1s\u001b[0m 2ms/step - loss: 4604782592.0000 - mae: 48451.5156 - val_loss: 4674742784.0000 - val_mae: 49547.4414\n",
            "Epoch 86/100\n",
            "\u001b[1m516/516\u001b[0m \u001b[32m━━━━━━━━━━━━━━━━━━━━\u001b[0m\u001b[37m\u001b[0m \u001b[1m1s\u001b[0m 2ms/step - loss: 4410479104.0000 - mae: 47867.6289 - val_loss: 4670602240.0000 - val_mae: 49454.1562\n",
            "Epoch 87/100\n",
            "\u001b[1m516/516\u001b[0m \u001b[32m━━━━━━━━━━━━━━━━━━━━\u001b[0m\u001b[37m\u001b[0m \u001b[1m1s\u001b[0m 2ms/step - loss: 4332448768.0000 - mae: 47383.4141 - val_loss: 4667984384.0000 - val_mae: 49469.2695\n",
            "Epoch 88/100\n",
            "\u001b[1m516/516\u001b[0m \u001b[32m━━━━━━━━━━━━━━━━━━━━\u001b[0m\u001b[37m\u001b[0m \u001b[1m1s\u001b[0m 2ms/step - loss: 4361889792.0000 - mae: 47825.5547 - val_loss: 4664387584.0000 - val_mae: 49348.2617\n",
            "Epoch 89/100\n",
            "\u001b[1m516/516\u001b[0m \u001b[32m━━━━━━━━━━━━━━━━━━━━\u001b[0m\u001b[37m\u001b[0m \u001b[1m1s\u001b[0m 2ms/step - loss: 4554001920.0000 - mae: 48432.2891 - val_loss: 4662731776.0000 - val_mae: 49427.5938\n",
            "Epoch 90/100\n",
            "\u001b[1m516/516\u001b[0m \u001b[32m━━━━━━━━━━━━━━━━━━━━\u001b[0m\u001b[37m\u001b[0m \u001b[1m1s\u001b[0m 2ms/step - loss: 4437453312.0000 - mae: 47806.8477 - val_loss: 4659457536.0000 - val_mae: 49357.7148\n",
            "Epoch 91/100\n",
            "\u001b[1m516/516\u001b[0m \u001b[32m━━━━━━━━━━━━━━━━━━━━\u001b[0m\u001b[37m\u001b[0m \u001b[1m1s\u001b[0m 2ms/step - loss: 4441203712.0000 - mae: 47666.6992 - val_loss: 4657775616.0000 - val_mae: 49408.7227\n",
            "Epoch 92/100\n",
            "\u001b[1m516/516\u001b[0m \u001b[32m━━━━━━━━━━━━━━━━━━━━\u001b[0m\u001b[37m\u001b[0m \u001b[1m1s\u001b[0m 3ms/step - loss: 4577993728.0000 - mae: 48729.0977 - val_loss: 4654868480.0000 - val_mae: 49347.9180\n",
            "Epoch 93/100\n",
            "\u001b[1m516/516\u001b[0m \u001b[32m━━━━━━━━━━━━━━━━━━━━\u001b[0m\u001b[37m\u001b[0m \u001b[1m1s\u001b[0m 3ms/step - loss: 4416668160.0000 - mae: 47757.4570 - val_loss: 4651665920.0000 - val_mae: 49219.8203\n",
            "Epoch 94/100\n",
            "\u001b[1m516/516\u001b[0m \u001b[32m━━━━━━━━━━━━━━━━━━━━\u001b[0m\u001b[37m\u001b[0m \u001b[1m1s\u001b[0m 3ms/step - loss: 4491905024.0000 - mae: 47911.7422 - val_loss: 4649048576.0000 - val_mae: 49211.8945\n",
            "Epoch 95/100\n",
            "\u001b[1m516/516\u001b[0m \u001b[32m━━━━━━━━━━━━━━━━━━━━\u001b[0m\u001b[37m\u001b[0m \u001b[1m1s\u001b[0m 2ms/step - loss: 4427023360.0000 - mae: 47810.1211 - val_loss: 4646349312.0000 - val_mae: 49162.9570\n",
            "Epoch 96/100\n",
            "\u001b[1m516/516\u001b[0m \u001b[32m━━━━━━━━━━━━━━━━━━━━\u001b[0m\u001b[37m\u001b[0m \u001b[1m1s\u001b[0m 2ms/step - loss: 4422599168.0000 - mae: 47593.2500 - val_loss: 4644303872.0000 - val_mae: 49159.2109\n",
            "Epoch 97/100\n",
            "\u001b[1m516/516\u001b[0m \u001b[32m━━━━━━━━━━━━━━━━━━━━\u001b[0m\u001b[37m\u001b[0m \u001b[1m1s\u001b[0m 2ms/step - loss: 4485296640.0000 - mae: 47881.4141 - val_loss: 4642177536.0000 - val_mae: 49168.1484\n",
            "Epoch 98/100\n",
            "\u001b[1m516/516\u001b[0m \u001b[32m━━━━━━━━━━━━━━━━━━━━\u001b[0m\u001b[37m\u001b[0m \u001b[1m1s\u001b[0m 2ms/step - loss: 4392465920.0000 - mae: 47156.3320 - val_loss: 4640748544.0000 - val_mae: 49257.3242\n",
            "Epoch 99/100\n",
            "\u001b[1m516/516\u001b[0m \u001b[32m━━━━━━━━━━━━━━━━━━━━\u001b[0m\u001b[37m\u001b[0m \u001b[1m1s\u001b[0m 2ms/step - loss: 4372651008.0000 - mae: 47702.5195 - val_loss: 4637921280.0000 - val_mae: 49175.3945\n",
            "Epoch 100/100\n",
            "\u001b[1m516/516\u001b[0m \u001b[32m━━━━━━━━━━━━━━━━━━━━\u001b[0m\u001b[37m\u001b[0m \u001b[1m1s\u001b[0m 2ms/step - loss: 4488419840.0000 - mae: 47882.5859 - val_loss: 4637634560.0000 - val_mae: 49260.3672\n"
          ]
        }
      ],
      "source": [
        "history = model.fit(train_X,              # the array with the input X columns\n",
        "                    train_y,              # the array with the output y column\n",
        "                    epochs=100,           # number of epochs to run\n",
        "                    batch_size=32,        # number of samples (ie data points) per batch\n",
        "                    verbose=1,            # verbosity during training\n",
        "                    validation_data=(val_X, val_y)) # validation data"
      ]
    },
    {
      "cell_type": "code",
      "execution_count": null,
      "metadata": {
        "colab": {
          "base_uri": "https://localhost:8080/",
          "height": 472
        },
        "id": "Gt-M9593eq4-",
        "outputId": "8ae83cbb-a166-4275-9dcc-3c186eeea562"
      },
      "outputs": [
        {
          "data": {
            "image/png": "[encoded data removed]",
            "text/plain": [
              "<Figure size 640x480 with 1 Axes>"
            ]
          },
          "metadata": {},
          "output_type": "display_data"
        }
      ],
      "source": [
        "# https://github.com/fchollet/deep-learning-with-python-notebooks/\n",
        "\n",
        "loss_values = history_dict[\"loss\"]\n",
        "val_loss_values = history_dict[\"val_loss\"]\n",
        "epochs = range(1, len(loss_values) + 1)\n",
        "plt.plot(epochs, loss_values, \"bo\", label=\"Training loss\")\n",
        "plt.plot(epochs, val_loss_values, \"b\", label=\"Validation loss\")\n",
        "plt.title(\"Training and validation loss\")\n",
        "plt.xlabel(\"Epochs\")\n",
        "plt.ylabel(\"Loss\")\n",
        "plt.legend()\n",
        "plt.show()"
      ]
    },
    {
      "cell_type": "code",
      "execution_count": null,
      "metadata": {
        "colab": {
          "base_uri": "https://localhost:8080/",
          "height": 472
        },
        "id": "hQDV2iwqet9E",
        "outputId": "1b2fb3b2-d924-4e57-a733-cae1678421a4"
      },
      "outputs": [
        {
          "data": {
            "image/png": "[encoded data removed]",
            "text/plain": [
              "<Figure size 640x480 with 1 Axes>"
            ]
          },
          "metadata": {},
          "output_type": "display_data"
        }
      ],
      "source": [
        "# https://github.com/fchollet/deep-learning-with-python-notebooks/\n",
        "\n",
        "# plt.clf()\n",
        "# acc = history_dict[\"accuracy\"]\n",
        "# val_acc = history_dict[\"val_accuracy\"]\n",
        "# plt.plot(epochs, acc, \"bo\", label=\"Training acc\")\n",
        "# plt.plot(epochs, val_acc, \"b\", label=\"Validation acc\")\n",
        "# plt.title(\"Training and validation accuracy\")\n",
        "# plt.xlabel(\"Epochs\")\n",
        "# plt.ylabel(\"Accuracy\")\n",
        "# plt.legend()\n",
        "# plt.show()\n",
        "\n",
        "# or mae\n",
        "plt.clf()\n",
        "mae = history_dict[\"mae\"]\n",
        "val_mae = history_dict[\"val_mae\"]\n",
        "plt.plot(epochs, mae, \"bo\", label=\"Training MAE\")\n",
        "plt.plot(epochs, val_mae, \"b\", label=\"Validation MAE\")\n",
        "plt.title(\"Training and Validation MAE\")\n",
        "plt.xlabel(\"Epochs\")\n",
        "plt.ylabel(\"Mean Absolute Error\")\n",
        "plt.legend()\n",
        "plt.show()"
      ]
    },
    {
      "cell_type": "code",
      "execution_count": null,
      "metadata": {
        "colab": {
          "base_uri": "https://localhost:8080/"
        },
        "id": "jx2xsmEUe0OH",
        "outputId": "18cc2ed6-0ae0-494f-d6f7-da6517fd6361"
      },
      "outputs": [
        {
          "name": "stdout",
          "output_type": "stream",
          "text": [
            "\u001b[1m129/129\u001b[0m \u001b[32m━━━━━━━━━━━━━━━━━━━━\u001b[0m\u001b[37m\u001b[0m \u001b[1m0s\u001b[0m 2ms/step - loss: 4902288384.0000 - mae: 50851.1094\n"
          ]
        },
        {
          "data": {
            "text/plain": [
              "[4637634560.0, 49260.3671875]"
            ]
          },
          "execution_count": 75,
          "metadata": {},
          "output_type": "execute_result"
        }
      ],
      "source": [
        "model.evaluate(val_X, val_y)"
      ]
    },
    {
      "cell_type": "code",
      "execution_count": null,
      "metadata": {
        "colab": {
          "base_uri": "https://localhost:8080/"
        },
        "id": "e-gri02qe15a",
        "outputId": "f0d2e281-046e-4a61-ce87-2d4e40ce0095"
      },
      "outputs": [
        {
          "name": "stdout",
          "output_type": "stream",
          "text": [
            "\u001b[1m1/1\u001b[0m \u001b[32m━━━━━━━━━━━━━━━━━━━━\u001b[0m\u001b[37m\u001b[0m \u001b[1m0s\u001b[0m 265ms/step\n",
            "[[227433.3 ]\n",
            " [286249.78]\n",
            " [183965.38]\n",
            " [316910.56]\n",
            " [232526.25]\n",
            " [ 98614.46]\n",
            " [290574.84]\n",
            " [258971.25]\n",
            " [255186.05]\n",
            " [180242.19]]\n"
          ]
        }
      ],
      "source": [
        "print(model.predict(val_X[:10]))"
      ]
    },
    {
      "cell_type": "code",
      "execution_count": null,
      "metadata": {
        "colab": {
          "base_uri": "https://localhost:8080/"
        },
        "id": "IskKj1n4e4bY",
        "outputId": "57de9693-2693-4437-fdfb-7441936263b5"
      },
      "outputs": [
        {
          "name": "stdout",
          "output_type": "stream",
          "text": [
            "\u001b[1m1/1\u001b[0m \u001b[32m━━━━━━━━━━━━━━━━━━━━\u001b[0m\u001b[37m\u001b[0m \u001b[1m0s\u001b[0m 36ms/step\n",
            "[[227433.3 ]\n",
            " [286249.78]\n",
            " [183965.38]\n",
            " [316910.56]\n",
            " [232526.25]\n",
            " [ 98614.46]\n",
            " [290574.84]\n",
            " [258971.25]\n",
            " [255186.05]\n",
            " [180242.19]]\n"
          ]
        }
      ],
      "source": [
        "print(model.predict(val_X[:10]))"
      ]
    },
    {
      "cell_type": "markdown",
      "metadata": {
        "id": "6FZa0sPI3tMe"
      },
      "source": [
        "Part III\n",
        "\n",
        "Take the Keras model you defined in Part I. Modify it so that the input layer is ALSO connected (directly) to the output layer i.e., the output layer should be connected to the input layer and the hidden layer. Then repeat the steps from Part I."
      ]
    },
    {
      "cell_type": "code",
      "execution_count": null,
      "metadata": {
        "id": "H0gci_rS3u0o"
      },
      "outputs": [],
      "source": [
        "# define the input layer\n",
        "input = keras.layers.Input(shape=train_X.shape[1:])\n",
        "\n",
        "# feed the input vector to the hidden layer\n",
        "# optional: you can give names to each layer to help\n",
        "# keep track. This doesn't affect the training etc.\n",
        "\n",
        "h = keras.layers.Dense(16, activation=\"relu\", name=\"Hidden\")(input)\n",
        "\n",
        "concatenated = keras.layers.Concatenate()([h, input])\n",
        "\n",
        "# feed the output of the hidden layer to the output layer\n",
        "output = keras.layers.Dense(1, name=\"Output\")(concatenated)\n",
        "\n",
        "# tell Keras that this (input,output) pair is your model\n",
        "model = keras.Model(input, output)"
      ]
    },
    {
      "cell_type": "code",
      "execution_count": null,
      "metadata": {
        "colab": {
          "base_uri": "https://localhost:8080/",
          "height": 298
        },
        "id": "Dd9hU3WVi8T3",
        "outputId": "ee35e5cc-16c1-408f-b808-21d392e1bb29"
      },
      "outputs": [
        {
          "data": {
            "text/html": [
              "<pre style=\"white-space:pre;overflow-x:auto;line-height:normal;font-family:Menlo,'DejaVu Sans Mono',consolas,'Courier New',monospace\"><span style=\"font-weight: bold\">Model: \"functional_5\"</span>\n",
              "</pre>\n"
            ],
            "text/plain": [
              "\u001b[1mModel: \"functional_5\"\u001b[0m\n"
            ]
          },
          "metadata": {},
          "output_type": "display_data"
        },
        {
          "data": {
            "text/html": [
              "<pre style=\"white-space:pre;overflow-x:auto;line-height:normal;font-family:Menlo,'DejaVu Sans Mono',consolas,'Courier New',monospace\">┏━━━━━━━━━━━━━━━━━━━━━━━━━━━┳━━━━━━━━━━━━━━━━━━━━━━━━┳━━━━━━━━━━━━━━━━┳━━━━━━━━━━━━━━━━━━━━━━━━┓\n",
              "┃<span style=\"font-weight: bold\"> Layer (type)              </span>┃<span style=\"font-weight: bold\"> Output Shape           </span>┃<span style=\"font-weight: bold\">        Param # </span>┃<span style=\"font-weight: bold\"> Connected to           </span>┃\n",
              "┡━━━━━━━━━━━━━━━━━━━━━━━━━━━╇━━━━━━━━━━━━━━━━━━━━━━━━╇━━━━━━━━━━━━━━━━╇━━━━━━━━━━━━━━━━━━━━━━━━┩\n",
              "│ input_layer_9             │ (<span style=\"color: #00d7ff; text-decoration-color: #00d7ff\">None</span>, <span style=\"color: #00af00; text-decoration-color: #00af00\">8</span>)              │              <span style=\"color: #00af00; text-decoration-color: #00af00\">0</span> │ -                      │\n",
              "│ (<span style=\"color: #0087ff; text-decoration-color: #0087ff\">InputLayer</span>)              │                        │                │                        │\n",
              "├───────────────────────────┼────────────────────────┼────────────────┼────────────────────────┤\n",
              "│ Hidden (<span style=\"color: #0087ff; text-decoration-color: #0087ff\">Dense</span>)            │ (<span style=\"color: #00d7ff; text-decoration-color: #00d7ff\">None</span>, <span style=\"color: #00af00; text-decoration-color: #00af00\">16</span>)             │            <span style=\"color: #00af00; text-decoration-color: #00af00\">144</span> │ input_layer_9[<span style=\"color: #00af00; text-decoration-color: #00af00\">0</span>][<span style=\"color: #00af00; text-decoration-color: #00af00\">0</span>]    │\n",
              "├───────────────────────────┼────────────────────────┼────────────────┼────────────────────────┤\n",
              "│ concatenate (<span style=\"color: #0087ff; text-decoration-color: #0087ff\">Concatenate</span>) │ (<span style=\"color: #00d7ff; text-decoration-color: #00d7ff\">None</span>, <span style=\"color: #00af00; text-decoration-color: #00af00\">24</span>)             │              <span style=\"color: #00af00; text-decoration-color: #00af00\">0</span> │ Hidden[<span style=\"color: #00af00; text-decoration-color: #00af00\">0</span>][<span style=\"color: #00af00; text-decoration-color: #00af00\">0</span>],          │\n",
              "│                           │                        │                │ input_layer_9[<span style=\"color: #00af00; text-decoration-color: #00af00\">0</span>][<span style=\"color: #00af00; text-decoration-color: #00af00\">0</span>]    │\n",
              "├───────────────────────────┼────────────────────────┼────────────────┼────────────────────────┤\n",
              "│ Output (<span style=\"color: #0087ff; text-decoration-color: #0087ff\">Dense</span>)            │ (<span style=\"color: #00d7ff; text-decoration-color: #00d7ff\">None</span>, <span style=\"color: #00af00; text-decoration-color: #00af00\">1</span>)              │             <span style=\"color: #00af00; text-decoration-color: #00af00\">25</span> │ concatenate[<span style=\"color: #00af00; text-decoration-color: #00af00\">0</span>][<span style=\"color: #00af00; text-decoration-color: #00af00\">0</span>]      │\n",
              "└───────────────────────────┴────────────────────────┴────────────────┴────────────────────────┘\n",
              "</pre>\n"
            ],
            "text/plain": [
              "┏━━━━━━━━━━━━━━━━━━━━━━━━━━━┳━━━━━━━━━━━━━━━━━━━━━━━━┳━━━━━━━━━━━━━━━━┳━━━━━━━━━━━━━━━━━━━━━━━━┓\n",
              "┃\u001b[1m \u001b[0m\u001b[1mLayer (type)             \u001b[0m\u001b[1m \u001b[0m┃\u001b[1m \u001b[0m\u001b[1mOutput Shape          \u001b[0m\u001b[1m \u001b[0m┃\u001b[1m \u001b[0m\u001b[1m       Param #\u001b[0m\u001b[1m \u001b[0m┃\u001b[1m \u001b[0m\u001b[1mConnected to          \u001b[0m\u001b[1m \u001b[0m┃\n",
              "┡━━━━━━━━━━━━━━━━━━━━━━━━━━━╇━━━━━━━━━━━━━━━━━━━━━━━━╇━━━━━━━━━━━━━━━━╇━━━━━━━━━━━━━━━━━━━━━━━━┩\n",
              "│ input_layer_9             │ (\u001b[38;5;45mNone\u001b[0m, \u001b[38;5;34m8\u001b[0m)              │              \u001b[38;5;34m0\u001b[0m │ -                      │\n",
              "│ (\u001b[38;5;33mInputLayer\u001b[0m)              │                        │                │                        │\n",
              "├───────────────────────────┼────────────────────────┼────────────────┼────────────────────────┤\n",
              "│ Hidden (\u001b[38;5;33mDense\u001b[0m)            │ (\u001b[38;5;45mNone\u001b[0m, \u001b[38;5;34m16\u001b[0m)             │            \u001b[38;5;34m144\u001b[0m │ input_layer_9[\u001b[38;5;34m0\u001b[0m][\u001b[38;5;34m0\u001b[0m]    │\n",
              "├───────────────────────────┼────────────────────────┼────────────────┼────────────────────────┤\n",
              "│ concatenate (\u001b[38;5;33mConcatenate\u001b[0m) │ (\u001b[38;5;45mNone\u001b[0m, \u001b[38;5;34m24\u001b[0m)             │              \u001b[38;5;34m0\u001b[0m │ Hidden[\u001b[38;5;34m0\u001b[0m][\u001b[38;5;34m0\u001b[0m],          │\n",
              "│                           │                        │                │ input_layer_9[\u001b[38;5;34m0\u001b[0m][\u001b[38;5;34m0\u001b[0m]    │\n",
              "├───────────────────────────┼────────────────────────┼────────────────┼────────────────────────┤\n",
              "│ Output (\u001b[38;5;33mDense\u001b[0m)            │ (\u001b[38;5;45mNone\u001b[0m, \u001b[38;5;34m1\u001b[0m)              │             \u001b[38;5;34m25\u001b[0m │ concatenate[\u001b[38;5;34m0\u001b[0m][\u001b[38;5;34m0\u001b[0m]      │\n",
              "└───────────────────────────┴────────────────────────┴────────────────┴────────────────────────┘\n"
            ]
          },
          "metadata": {},
          "output_type": "display_data"
        },
        {
          "data": {
            "text/html": [
              "<pre style=\"white-space:pre;overflow-x:auto;line-height:normal;font-family:Menlo,'DejaVu Sans Mono',consolas,'Courier New',monospace\"><span style=\"font-weight: bold\"> Total params: </span><span style=\"color: #00af00; text-decoration-color: #00af00\">169</span> (676.00 B)\n",
              "</pre>\n"
            ],
            "text/plain": [
              "\u001b[1m Total params: \u001b[0m\u001b[38;5;34m169\u001b[0m (676.00 B)\n"
            ]
          },
          "metadata": {},
          "output_type": "display_data"
        },
        {
          "data": {
            "text/html": [
              "<pre style=\"white-space:pre;overflow-x:auto;line-height:normal;font-family:Menlo,'DejaVu Sans Mono',consolas,'Courier New',monospace\"><span style=\"font-weight: bold\"> Trainable params: </span><span style=\"color: #00af00; text-decoration-color: #00af00\">169</span> (676.00 B)\n",
              "</pre>\n"
            ],
            "text/plain": [
              "\u001b[1m Trainable params: \u001b[0m\u001b[38;5;34m169\u001b[0m (676.00 B)\n"
            ]
          },
          "metadata": {},
          "output_type": "display_data"
        },
        {
          "data": {
            "text/html": [
              "<pre style=\"white-space:pre;overflow-x:auto;line-height:normal;font-family:Menlo,'DejaVu Sans Mono',consolas,'Courier New',monospace\"><span style=\"font-weight: bold\"> Non-trainable params: </span><span style=\"color: #00af00; text-decoration-color: #00af00\">0</span> (0.00 B)\n",
              "</pre>\n"
            ],
            "text/plain": [
              "\u001b[1m Non-trainable params: \u001b[0m\u001b[38;5;34m0\u001b[0m (0.00 B)\n"
            ]
          },
          "metadata": {},
          "output_type": "display_data"
        }
      ],
      "source": [
        "model.summary()"
      ]
    },
    {
      "cell_type": "code",
      "execution_count": null,
      "metadata": {
        "colab": {
          "base_uri": "https://localhost:8080/",
          "height": 89
        },
        "id": "hfD617zCi_gC",
        "outputId": "9e202680-3c9e-4689-e8fa-58a915f83d29"
      },
      "outputs": [
        {
          "data": {
            "image/png": "[encoded data removed]",
            "text/plain": [
              "<IPython.core.display.Image object>"
            ]
          },
          "execution_count": 84,
          "metadata": {},
          "output_type": "execute_result"
        }
      ],
      "source": [
        "keras.utils.plot_model(model, show_shapes=True, rankdir=\"LR\")"
      ]
    },
    {
      "cell_type": "code",
      "execution_count": null,
      "metadata": {
        "id": "TIwR-EDijCoj"
      },
      "outputs": [],
      "source": [
        "model.compile(optimizer=\"adam\",\n",
        "              loss=\"mse\",\n",
        "              metrics=[\"mae\"])\n",
        "# or metrics=[\"acc\"]"
      ]
    },
    {
      "cell_type": "code",
      "execution_count": null,
      "metadata": {
        "colab": {
          "base_uri": "https://localhost:8080/"
        },
        "id": "DT5Egx4NjF9U",
        "outputId": "ce68d2c5-305e-42fc-b690-58aec6fa9767"
      },
      "outputs": [
        {
          "name": "stdout",
          "output_type": "stream",
          "text": [
            "Epoch 1/100\n",
            "\u001b[1m516/516\u001b[0m \u001b[32m━━━━━━━━━━━━━━━━━━━━\u001b[0m\u001b[37m\u001b[0m \u001b[1m3s\u001b[0m 3ms/step - loss: 57089777664.0000 - mae: 208967.7812 - val_loss: 56176218112.0000 - val_mae: 207080.4688\n",
            "Epoch 2/100\n",
            "\u001b[1m516/516\u001b[0m \u001b[32m━━━━━━━━━━━━━━━━━━━━\u001b[0m\u001b[37m\u001b[0m \u001b[1m1s\u001b[0m 2ms/step - loss: 56021118976.0000 - mae: 206568.0312 - val_loss: 56159748096.0000 - val_mae: 207044.5469\n",
            "Epoch 3/100\n",
            "\u001b[1m516/516\u001b[0m \u001b[32m━━━━━━━━━━━━━━━━━━━━\u001b[0m\u001b[37m\u001b[0m \u001b[1m1s\u001b[0m 2ms/step - loss: 55258050560.0000 - mae: 205540.6562 - val_loss: 56133545984.0000 - val_mae: 206987.8281\n",
            "Epoch 4/100\n",
            "\u001b[1m516/516\u001b[0m \u001b[32m━━━━━━━━━━━━━━━━━━━━\u001b[0m\u001b[37m\u001b[0m \u001b[1m1s\u001b[0m 2ms/step - loss: 55890862080.0000 - mae: 206313.6562 - val_loss: 56096931840.0000 - val_mae: 206908.6562\n",
            "Epoch 5/100\n",
            "\u001b[1m516/516\u001b[0m \u001b[32m━━━━━━━━━━━━━━━━━━━━\u001b[0m\u001b[37m\u001b[0m \u001b[1m1s\u001b[0m 3ms/step - loss: 56301277184.0000 - mae: 207312.6719 - val_loss: 56052617216.0000 - val_mae: 206813.0000\n",
            "Epoch 6/100\n",
            "\u001b[1m516/516\u001b[0m \u001b[32m━━━━━━━━━━━━━━━━━━━━\u001b[0m\u001b[37m\u001b[0m \u001b[1m1s\u001b[0m 3ms/step - loss: 56464429056.0000 - mae: 207229.8906 - val_loss: 56001404928.0000 - val_mae: 206702.2812\n",
            "Epoch 7/100\n",
            "\u001b[1m516/516\u001b[0m \u001b[32m━━━━━━━━━━━━━━━━━━━━\u001b[0m\u001b[37m\u001b[0m \u001b[1m1s\u001b[0m 2ms/step - loss: 55571443712.0000 - mae: 206032.7188 - val_loss: 55943426048.0000 - val_mae: 206577.1562\n",
            "Epoch 8/100\n",
            "\u001b[1m516/516\u001b[0m \u001b[32m━━━━━━━━━━━━━━━━━━━━\u001b[0m\u001b[37m\u001b[0m \u001b[1m1s\u001b[0m 2ms/step - loss: 55974346752.0000 - mae: 206683.2969 - val_loss: 55879413760.0000 - val_mae: 206438.8906\n",
            "Epoch 9/100\n",
            "\u001b[1m516/516\u001b[0m \u001b[32m━━━━━━━━━━━━━━━━━━━━\u001b[0m\u001b[37m\u001b[0m \u001b[1m1s\u001b[0m 2ms/step - loss: 55840145408.0000 - mae: 206589.6562 - val_loss: 55809654784.0000 - val_mae: 206288.2031\n",
            "Epoch 10/100\n",
            "\u001b[1m516/516\u001b[0m \u001b[32m━━━━━━━━━━━━━━━━━━━━\u001b[0m\u001b[37m\u001b[0m \u001b[1m1s\u001b[0m 2ms/step - loss: 56079339520.0000 - mae: 206995.6406 - val_loss: 55734120448.0000 - val_mae: 206125.0000\n",
            "Epoch 11/100\n",
            "\u001b[1m516/516\u001b[0m \u001b[32m━━━━━━━━━━━━━━━━━━━━\u001b[0m\u001b[37m\u001b[0m \u001b[1m1s\u001b[0m 2ms/step - loss: 55584796672.0000 - mae: 205525.2031 - val_loss: 55653109760.0000 - val_mae: 205949.7812\n",
            "Epoch 12/100\n",
            "\u001b[1m516/516\u001b[0m \u001b[32m━━━━━━━━━━━━━━━━━━━━\u001b[0m\u001b[37m\u001b[0m \u001b[1m1s\u001b[0m 2ms/step - loss: 55676141568.0000 - mae: 205856.5625 - val_loss: 55566675968.0000 - val_mae: 205762.6875\n",
            "Epoch 13/100\n",
            "\u001b[1m516/516\u001b[0m \u001b[32m━━━━━━━━━━━━━━━━━━━━\u001b[0m\u001b[37m\u001b[0m \u001b[1m1s\u001b[0m 2ms/step - loss: 55652564992.0000 - mae: 205805.1562 - val_loss: 55474659328.0000 - val_mae: 205563.4375\n",
            "Epoch 14/100\n",
            "\u001b[1m516/516\u001b[0m \u001b[32m━━━━━━━━━━━━━━━━━━━━\u001b[0m\u001b[37m\u001b[0m \u001b[1m1s\u001b[0m 2ms/step - loss: 55237464064.0000 - mae: 204983.9375 - val_loss: 55377362944.0000 - val_mae: 205352.5312\n",
            "Epoch 15/100\n",
            "\u001b[1m516/516\u001b[0m \u001b[32m━━━━━━━━━━━━━━━━━━━━\u001b[0m\u001b[37m\u001b[0m \u001b[1m1s\u001b[0m 2ms/step - loss: 54985293824.0000 - mae: 204373.9062 - val_loss: 55274930176.0000 - val_mae: 205130.1719\n",
            "Epoch 16/100\n",
            "\u001b[1m516/516\u001b[0m \u001b[32m━━━━━━━━━━━━━━━━━━━━\u001b[0m\u001b[37m\u001b[0m \u001b[1m1s\u001b[0m 2ms/step - loss: 55689588736.0000 - mae: 206163.0312 - val_loss: 55167365120.0000 - val_mae: 204896.2969\n",
            "Epoch 17/100\n",
            "\u001b[1m516/516\u001b[0m \u001b[32m━━━━━━━━━━━━━━━━━━━━\u001b[0m\u001b[37m\u001b[0m \u001b[1m1s\u001b[0m 2ms/step - loss: 55409647616.0000 - mae: 205330.1719 - val_loss: 55054397440.0000 - val_mae: 204650.4375\n",
            "Epoch 18/100\n",
            "\u001b[1m516/516\u001b[0m \u001b[32m━━━━━━━━━━━━━━━━━━━━\u001b[0m\u001b[37m\u001b[0m \u001b[1m1s\u001b[0m 3ms/step - loss: 54618062848.0000 - mae: 203884.9844 - val_loss: 54936375296.0000 - val_mae: 204393.2969\n",
            "Epoch 19/100\n",
            "\u001b[1m516/516\u001b[0m \u001b[32m━━━━━━━━━━━━━━━━━━━━\u001b[0m\u001b[37m\u001b[0m \u001b[1m1s\u001b[0m 2ms/step - loss: 54452473856.0000 - mae: 203021.1406 - val_loss: 54813659136.0000 - val_mae: 204125.6719\n",
            "Epoch 20/100\n",
            "\u001b[1m516/516\u001b[0m \u001b[32m━━━━━━━━━━━━━━━━━━━━\u001b[0m\u001b[37m\u001b[0m \u001b[1m1s\u001b[0m 2ms/step - loss: 55015579648.0000 - mae: 204358.9531 - val_loss: 54685868032.0000 - val_mae: 203846.4688\n",
            "Epoch 21/100\n",
            "\u001b[1m516/516\u001b[0m \u001b[32m━━━━━━━━━━━━━━━━━━━━\u001b[0m\u001b[37m\u001b[0m \u001b[1m1s\u001b[0m 2ms/step - loss: 54671327232.0000 - mae: 203472.8125 - val_loss: 54553210880.0000 - val_mae: 203556.3125\n",
            "Epoch 22/100\n",
            "\u001b[1m516/516\u001b[0m \u001b[32m━━━━━━━━━━━━━━━━━━━━\u001b[0m\u001b[37m\u001b[0m \u001b[1m1s\u001b[0m 2ms/step - loss: 54872948736.0000 - mae: 204026.2656 - val_loss: 54415511552.0000 - val_mae: 203254.4219\n",
            "Epoch 23/100\n",
            "\u001b[1m516/516\u001b[0m \u001b[32m━━━━━━━━━━━━━━━━━━━━\u001b[0m\u001b[37m\u001b[0m \u001b[1m1s\u001b[0m 2ms/step - loss: 54366052352.0000 - mae: 203095.6719 - val_loss: 54273015808.0000 - val_mae: 202941.5781\n",
            "Epoch 24/100\n",
            "\u001b[1m516/516\u001b[0m \u001b[32m━━━━━━━━━━━━━━━━━━━━\u001b[0m\u001b[37m\u001b[0m \u001b[1m1s\u001b[0m 2ms/step - loss: 54791106560.0000 - mae: 203587.6875 - val_loss: 54125842432.0000 - val_mae: 202617.7969\n",
            "Epoch 25/100\n",
            "\u001b[1m516/516\u001b[0m \u001b[32m━━━━━━━━━━━━━━━━━━━━\u001b[0m\u001b[37m\u001b[0m \u001b[1m1s\u001b[0m 3ms/step - loss: 53726162944.0000 - mae: 201873.0312 - val_loss: 53973815296.0000 - val_mae: 202282.5938\n",
            "Epoch 26/100\n",
            "\u001b[1m516/516\u001b[0m \u001b[32m━━━━━━━━━━━━━━━━━━━━\u001b[0m\u001b[37m\u001b[0m \u001b[1m1s\u001b[0m 2ms/step - loss: 52897726464.0000 - mae: 200084.9531 - val_loss: 53816446976.0000 - val_mae: 201935.0625\n",
            "Epoch 27/100\n",
            "\u001b[1m516/516\u001b[0m \u001b[32m━━━━━━━━━━━━━━━━━━━━\u001b[0m\u001b[37m\u001b[0m \u001b[1m1s\u001b[0m 2ms/step - loss: 54173384704.0000 - mae: 202783.6875 - val_loss: 53655150592.0000 - val_mae: 201578.2188\n",
            "Epoch 28/100\n",
            "\u001b[1m516/516\u001b[0m \u001b[32m━━━━━━━━━━━━━━━━━━━━\u001b[0m\u001b[37m\u001b[0m \u001b[1m1s\u001b[0m 2ms/step - loss: 53416800256.0000 - mae: 200454.8281 - val_loss: 53488435200.0000 - val_mae: 201208.7344\n",
            "Epoch 29/100\n",
            "\u001b[1m516/516\u001b[0m \u001b[32m━━━━━━━━━━━━━━━━━━━━\u001b[0m\u001b[37m\u001b[0m \u001b[1m1s\u001b[0m 2ms/step - loss: 53336420352.0000 - mae: 200963.3906 - val_loss: 53317439488.0000 - val_mae: 200828.9219\n",
            "Epoch 30/100\n",
            "\u001b[1m516/516\u001b[0m \u001b[32m━━━━━━━━━━━━━━━━━━━━\u001b[0m\u001b[37m\u001b[0m \u001b[1m1s\u001b[0m 2ms/step - loss: 53257089024.0000 - mae: 200443.9844 - val_loss: 53141590016.0000 - val_mae: 200437.7656\n",
            "Epoch 31/100\n",
            "\u001b[1m516/516\u001b[0m \u001b[32m━━━━━━━━━━━━━━━━━━━━\u001b[0m\u001b[37m\u001b[0m \u001b[1m1s\u001b[0m 2ms/step - loss: 52682637312.0000 - mae: 199295.6094 - val_loss: 52960989184.0000 - val_mae: 200034.8594\n",
            "Epoch 32/100\n",
            "\u001b[1m516/516\u001b[0m \u001b[32m━━━━━━━━━━━━━━━━━━━━\u001b[0m\u001b[37m\u001b[0m \u001b[1m1s\u001b[0m 2ms/step - loss: 53357322240.0000 - mae: 200508.6875 - val_loss: 52776271872.0000 - val_mae: 199621.7500\n",
            "Epoch 33/100\n",
            "\u001b[1m516/516\u001b[0m \u001b[32m━━━━━━━━━━━━━━━━━━━━\u001b[0m\u001b[37m\u001b[0m \u001b[1m1s\u001b[0m 2ms/step - loss: 52598464512.0000 - mae: 198609.3594 - val_loss: 52587294720.0000 - val_mae: 199198.3438\n",
            "Epoch 34/100\n",
            "\u001b[1m516/516\u001b[0m \u001b[32m━━━━━━━━━━━━━━━━━━━━\u001b[0m\u001b[37m\u001b[0m \u001b[1m1s\u001b[0m 2ms/step - loss: 52062461952.0000 - mae: 198082.8281 - val_loss: 52393693184.0000 - val_mae: 198763.1719\n",
            "Epoch 35/100\n",
            "\u001b[1m516/516\u001b[0m \u001b[32m━━━━━━━━━━━━━━━━━━━━\u001b[0m\u001b[37m\u001b[0m \u001b[1m1s\u001b[0m 2ms/step - loss: 52228841472.0000 - mae: 198329.0000 - val_loss: 52195815424.0000 - val_mae: 198317.2500\n",
            "Epoch 36/100\n",
            "\u001b[1m516/516\u001b[0m \u001b[32m━━━━━━━━━━━━━━━━━━━━\u001b[0m\u001b[37m\u001b[0m \u001b[1m1s\u001b[0m 2ms/step - loss: 52398366720.0000 - mae: 198781.9688 - val_loss: 51993849856.0000 - val_mae: 197860.8281\n",
            "Epoch 37/100\n",
            "\u001b[1m516/516\u001b[0m \u001b[32m━━━━━━━━━━━━━━━━━━━━\u001b[0m\u001b[37m\u001b[0m \u001b[1m1s\u001b[0m 2ms/step - loss: 52385996800.0000 - mae: 198388.7344 - val_loss: 51787423744.0000 - val_mae: 197393.3906\n",
            "Epoch 38/100\n",
            "\u001b[1m516/516\u001b[0m \u001b[32m━━━━━━━━━━━━━━━━━━━━\u001b[0m\u001b[37m\u001b[0m \u001b[1m1s\u001b[0m 2ms/step - loss: 51671924736.0000 - mae: 196721.7344 - val_loss: 51576188928.0000 - val_mae: 196914.0000\n",
            "Epoch 39/100\n",
            "\u001b[1m516/516\u001b[0m \u001b[32m━━━━━━━━━━━━━━━━━━━━\u001b[0m\u001b[37m\u001b[0m \u001b[1m1s\u001b[0m 2ms/step - loss: 51914973184.0000 - mae: 197528.9688 - val_loss: 51361316864.0000 - val_mae: 196424.4062\n",
            "Epoch 40/100\n",
            "\u001b[1m516/516\u001b[0m \u001b[32m━━━━━━━━━━━━━━━━━━━━\u001b[0m\u001b[37m\u001b[0m \u001b[1m1s\u001b[0m 3ms/step - loss: 51182612480.0000 - mae: 195779.0000 - val_loss: 51142250496.0000 - val_mae: 195923.7969\n",
            "Epoch 41/100\n",
            "\u001b[1m516/516\u001b[0m \u001b[32m━━━━━━━━━━━━━━━━━━━━\u001b[0m\u001b[37m\u001b[0m \u001b[1m1s\u001b[0m 2ms/step - loss: 51045335040.0000 - mae: 195657.9531 - val_loss: 50919231488.0000 - val_mae: 195413.1875\n",
            "Epoch 42/100\n",
            "\u001b[1m516/516\u001b[0m \u001b[32m━━━━━━━━━━━━━━━━━━━━\u001b[0m\u001b[37m\u001b[0m \u001b[1m1s\u001b[0m 2ms/step - loss: 50363006976.0000 - mae: 194096.0000 - val_loss: 50691903488.0000 - val_mae: 194891.0312\n",
            "Epoch 43/100\n",
            "\u001b[1m516/516\u001b[0m \u001b[32m━━━━━━━━━━━━━━━━━━━━\u001b[0m\u001b[37m\u001b[0m \u001b[1m1s\u001b[0m 2ms/step - loss: 50039296000.0000 - mae: 193745.1719 - val_loss: 50460680192.0000 - val_mae: 194358.8438\n",
            "Epoch 44/100\n",
            "\u001b[1m516/516\u001b[0m \u001b[32m━━━━━━━━━━━━━━━━━━━━\u001b[0m\u001b[37m\u001b[0m \u001b[1m1s\u001b[0m 2ms/step - loss: 49650823168.0000 - mae: 192364.9844 - val_loss: 50226024448.0000 - val_mae: 193816.4375\n",
            "Epoch 45/100\n",
            "\u001b[1m516/516\u001b[0m \u001b[32m━━━━━━━━━━━━━━━━━━━━\u001b[0m\u001b[37m\u001b[0m \u001b[1m1s\u001b[0m 2ms/step - loss: 50329341952.0000 - mae: 194099.6250 - val_loss: 49986637824.0000 - val_mae: 193261.9062\n",
            "Epoch 46/100\n",
            "\u001b[1m516/516\u001b[0m \u001b[32m━━━━━━━━━━━━━━━━━━━━\u001b[0m\u001b[37m\u001b[0m \u001b[1m1s\u001b[0m 2ms/step - loss: 49283854336.0000 - mae: 191811.0156 - val_loss: 49743724544.0000 - val_mae: 192697.2656\n",
            "Epoch 47/100\n",
            "\u001b[1m516/516\u001b[0m \u001b[32m━━━━━━━━━━━━━━━━━━━━\u001b[0m\u001b[37m\u001b[0m \u001b[1m1s\u001b[0m 2ms/step - loss: 49148522496.0000 - mae: 191415.3594 - val_loss: 49496735744.0000 - val_mae: 192120.8906\n",
            "Epoch 48/100\n",
            "\u001b[1m516/516\u001b[0m \u001b[32m━━━━━━━━━━━━━━━━━━━━\u001b[0m\u001b[37m\u001b[0m \u001b[1m1s\u001b[0m 2ms/step - loss: 49042599936.0000 - mae: 191263.5312 - val_loss: 49246744576.0000 - val_mae: 191535.4375\n",
            "Epoch 49/100\n",
            "\u001b[1m516/516\u001b[0m \u001b[32m━━━━━━━━━━━━━━━━━━━━\u001b[0m\u001b[37m\u001b[0m \u001b[1m1s\u001b[0m 2ms/step - loss: 49438924800.0000 - mae: 191772.9375 - val_loss: 48992714752.0000 - val_mae: 190938.6562\n",
            "Epoch 50/100\n",
            "\u001b[1m516/516\u001b[0m \u001b[32m━━━━━━━━━━━━━━━━━━━━\u001b[0m\u001b[37m\u001b[0m \u001b[1m1s\u001b[0m 2ms/step - loss: 48340807680.0000 - mae: 189395.9219 - val_loss: 48735395840.0000 - val_mae: 190332.4531\n",
            "Epoch 51/100\n",
            "\u001b[1m516/516\u001b[0m \u001b[32m━━━━━━━━━━━━━━━━━━━━\u001b[0m\u001b[37m\u001b[0m \u001b[1m1s\u001b[0m 2ms/step - loss: 48847695872.0000 - mae: 190368.1094 - val_loss: 48474693632.0000 - val_mae: 189715.6094\n",
            "Epoch 52/100\n",
            "\u001b[1m516/516\u001b[0m \u001b[32m━━━━━━━━━━━━━━━━━━━━\u001b[0m\u001b[37m\u001b[0m \u001b[1m1s\u001b[0m 2ms/step - loss: 48314904576.0000 - mae: 189036.9844 - val_loss: 48209174528.0000 - val_mae: 189085.7812\n",
            "Epoch 53/100\n",
            "\u001b[1m516/516\u001b[0m \u001b[32m━━━━━━━━━━━━━━━━━━━━\u001b[0m\u001b[37m\u001b[0m \u001b[1m1s\u001b[0m 2ms/step - loss: 48231301120.0000 - mae: 188951.9375 - val_loss: 47941718016.0000 - val_mae: 188447.8281\n",
            "Epoch 54/100\n",
            "\u001b[1m516/516\u001b[0m \u001b[32m━━━━━━━━━━━━━━━━━━━━\u001b[0m\u001b[37m\u001b[0m \u001b[1m1s\u001b[0m 2ms/step - loss: 47755870208.0000 - mae: 187945.6875 - val_loss: 47669907456.0000 - val_mae: 187798.5625\n",
            "Epoch 55/100\n",
            "\u001b[1m516/516\u001b[0m \u001b[32m━━━━━━━━━━━━━━━━━━━━\u001b[0m\u001b[37m\u001b[0m \u001b[1m1s\u001b[0m 2ms/step - loss: 47628677120.0000 - mae: 187735.9844 - val_loss: 47395147776.0000 - val_mae: 187139.4844\n",
            "Epoch 56/100\n",
            "\u001b[1m516/516\u001b[0m \u001b[32m━━━━━━━━━━━━━━━━━━━━\u001b[0m\u001b[37m\u001b[0m \u001b[1m1s\u001b[0m 2ms/step - loss: 47297302528.0000 - mae: 186853.3750 - val_loss: 47116615680.0000 - val_mae: 186468.3438\n",
            "Epoch 57/100\n",
            "\u001b[1m516/516\u001b[0m \u001b[32m━━━━━━━━━━━━━━━━━━━━\u001b[0m\u001b[37m\u001b[0m \u001b[1m1s\u001b[0m 2ms/step - loss: 47369711616.0000 - mae: 186656.1094 - val_loss: 46836535296.0000 - val_mae: 185790.7656\n",
            "Epoch 58/100\n",
            "\u001b[1m516/516\u001b[0m \u001b[32m━━━━━━━━━━━━━━━━━━━━\u001b[0m\u001b[37m\u001b[0m \u001b[1m1s\u001b[0m 2ms/step - loss: 46234562560.0000 - mae: 184757.3750 - val_loss: 46553210880.0000 - val_mae: 185103.1094\n",
            "Epoch 59/100\n",
            "\u001b[1m516/516\u001b[0m \u001b[32m━━━━━━━━━━━━━━━━━━━━\u001b[0m\u001b[37m\u001b[0m \u001b[1m1s\u001b[0m 2ms/step - loss: 46260846592.0000 - mae: 184137.7344 - val_loss: 46266683392.0000 - val_mae: 184404.7188\n",
            "Epoch 60/100\n",
            "\u001b[1m516/516\u001b[0m \u001b[32m━━━━━━━━━━━━━━━━━━━━\u001b[0m\u001b[37m\u001b[0m \u001b[1m1s\u001b[0m 2ms/step - loss: 46314061824.0000 - mae: 184467.3438 - val_loss: 45977059328.0000 - val_mae: 183696.7969\n",
            "Epoch 61/100\n",
            "\u001b[1m516/516\u001b[0m \u001b[32m━━━━━━━━━━━━━━━━━━━━\u001b[0m\u001b[37m\u001b[0m \u001b[1m1s\u001b[0m 2ms/step - loss: 46160785408.0000 - mae: 183867.6562 - val_loss: 45684297728.0000 - val_mae: 182978.9062\n",
            "Epoch 62/100\n",
            "\u001b[1m516/516\u001b[0m \u001b[32m━━━━━━━━━━━━━━━━━━━━\u001b[0m\u001b[37m\u001b[0m \u001b[1m1s\u001b[0m 2ms/step - loss: 45240320000.0000 - mae: 181910.2500 - val_loss: 45387964416.0000 - val_mae: 182248.4375\n",
            "Epoch 63/100\n",
            "\u001b[1m516/516\u001b[0m \u001b[32m━━━━━━━━━━━━━━━━━━━━\u001b[0m\u001b[37m\u001b[0m \u001b[1m1s\u001b[0m 3ms/step - loss: 44759896064.0000 - mae: 180691.0625 - val_loss: 45088997376.0000 - val_mae: 181508.4844\n",
            "Epoch 64/100\n",
            "\u001b[1m516/516\u001b[0m \u001b[32m━━━━━━━━━━━━━━━━━━━━\u001b[0m\u001b[37m\u001b[0m \u001b[1m1s\u001b[0m 2ms/step - loss: 45551992832.0000 - mae: 182150.6250 - val_loss: 44787634176.0000 - val_mae: 180760.9844\n",
            "Epoch 65/100\n",
            "\u001b[1m516/516\u001b[0m \u001b[32m━━━━━━━━━━━━━━━━━━━━\u001b[0m\u001b[37m\u001b[0m \u001b[1m1s\u001b[0m 2ms/step - loss: 44791795712.0000 - mae: 180514.0625 - val_loss: 44483608576.0000 - val_mae: 180002.3281\n",
            "Epoch 66/100\n",
            "\u001b[1m516/516\u001b[0m \u001b[32m━━━━━━━━━━━━━━━━━━━━\u001b[0m\u001b[37m\u001b[0m \u001b[1m1s\u001b[0m 2ms/step - loss: 44096765952.0000 - mae: 179140.7969 - val_loss: 44176879616.0000 - val_mae: 179233.3750\n",
            "Epoch 67/100\n",
            "\u001b[1m516/516\u001b[0m \u001b[32m━━━━━━━━━━━━━━━━━━━━\u001b[0m\u001b[37m\u001b[0m \u001b[1m1s\u001b[0m 2ms/step - loss: 44242018304.0000 - mae: 179108.0781 - val_loss: 43868454912.0000 - val_mae: 178456.1094\n",
            "Epoch 68/100\n",
            "\u001b[1m516/516\u001b[0m \u001b[32m━━━━━━━━━━━━━━━━━━━━\u001b[0m\u001b[37m\u001b[0m \u001b[1m1s\u001b[0m 2ms/step - loss: 43600502784.0000 - mae: 177708.0781 - val_loss: 43557666816.0000 - val_mae: 177669.7031\n",
            "Epoch 69/100\n",
            "\u001b[1m516/516\u001b[0m \u001b[32m━━━━━━━━━━━━━━━━━━━━\u001b[0m\u001b[37m\u001b[0m \u001b[1m1s\u001b[0m 2ms/step - loss: 44039421952.0000 - mae: 178686.3906 - val_loss: 43244711936.0000 - val_mae: 176875.3906\n",
            "Epoch 70/100\n",
            "\u001b[1m516/516\u001b[0m \u001b[32m━━━━━━━━━━━━━━━━━━━━\u001b[0m\u001b[37m\u001b[0m \u001b[1m1s\u001b[0m 2ms/step - loss: 42705113088.0000 - mae: 175396.4375 - val_loss: 42929135616.0000 - val_mae: 176071.0781\n",
            "Epoch 71/100\n",
            "\u001b[1m516/516\u001b[0m \u001b[32m━━━━━━━━━━━━━━━━━━━━\u001b[0m\u001b[37m\u001b[0m \u001b[1m1s\u001b[0m 2ms/step - loss: 42079506432.0000 - mae: 173614.2812 - val_loss: 42610089984.0000 - val_mae: 175255.1094\n",
            "Epoch 72/100\n",
            "\u001b[1m516/516\u001b[0m \u001b[32m━━━━━━━━━━━━━━━━━━━━\u001b[0m\u001b[37m\u001b[0m \u001b[1m1s\u001b[0m 2ms/step - loss: 42373484544.0000 - mae: 174600.8750 - val_loss: 42290143232.0000 - val_mae: 174435.7344\n",
            "Epoch 73/100\n",
            "\u001b[1m516/516\u001b[0m \u001b[32m━━━━━━━━━━━━━━━━━━━━\u001b[0m\u001b[37m\u001b[0m \u001b[1m1s\u001b[0m 2ms/step - loss: 41707823104.0000 - mae: 173021.5938 - val_loss: 41967603712.0000 - val_mae: 173605.0312\n",
            "Epoch 74/100\n",
            "\u001b[1m516/516\u001b[0m \u001b[32m━━━━━━━━━━━━━━━━━━━━\u001b[0m\u001b[37m\u001b[0m \u001b[1m1s\u001b[0m 2ms/step - loss: 41506930688.0000 - mae: 172164.7188 - val_loss: 41643995136.0000 - val_mae: 172768.7500\n",
            "Epoch 75/100\n",
            "\u001b[1m516/516\u001b[0m \u001b[32m━━━━━━━━━━━━━━━━━━━━\u001b[0m\u001b[37m\u001b[0m \u001b[1m1s\u001b[0m 2ms/step - loss: 42053726208.0000 - mae: 173249.6719 - val_loss: 41319202816.0000 - val_mae: 171925.5000\n",
            "Epoch 76/100\n",
            "\u001b[1m516/516\u001b[0m \u001b[32m━━━━━━━━━━━━━━━━━━━━\u001b[0m\u001b[37m\u001b[0m \u001b[1m1s\u001b[0m 3ms/step - loss: 41082314752.0000 - mae: 171181.1562 - val_loss: 40991305728.0000 - val_mae: 171070.8594\n",
            "Epoch 77/100\n",
            "\u001b[1m516/516\u001b[0m \u001b[32m━━━━━━━━━━━━━━━━━━━━\u001b[0m\u001b[37m\u001b[0m \u001b[1m1s\u001b[0m 2ms/step - loss: 40242462720.0000 - mae: 169317.0469 - val_loss: 40661864448.0000 - val_mae: 170207.9062\n",
            "Epoch 78/100\n",
            "\u001b[1m516/516\u001b[0m \u001b[32m━━━━━━━━━━━━━━━━━━━━\u001b[0m\u001b[37m\u001b[0m \u001b[1m1s\u001b[0m 2ms/step - loss: 39488307200.0000 - mae: 167385.0625 - val_loss: 40331513856.0000 - val_mae: 169337.6094\n",
            "Epoch 79/100\n",
            "\u001b[1m516/516\u001b[0m \u001b[32m━━━━━━━━━━━━━━━━━━━━\u001b[0m\u001b[37m\u001b[0m \u001b[1m1s\u001b[0m 2ms/step - loss: 40450129920.0000 - mae: 169292.4219 - val_loss: 39999332352.0000 - val_mae: 168459.4062\n",
            "Epoch 80/100\n",
            "\u001b[1m516/516\u001b[0m \u001b[32m━━━━━━━━━━━━━━━━━━━━\u001b[0m\u001b[37m\u001b[0m \u001b[1m1s\u001b[0m 2ms/step - loss: 39289675776.0000 - mae: 166614.9688 - val_loss: 39666425856.0000 - val_mae: 167572.9688\n",
            "Epoch 81/100\n",
            "\u001b[1m516/516\u001b[0m \u001b[32m━━━━━━━━━━━━━━━━━━━━\u001b[0m\u001b[37m\u001b[0m \u001b[1m1s\u001b[0m 2ms/step - loss: 38955089920.0000 - mae: 165730.6250 - val_loss: 39330058240.0000 - val_mae: 166674.4062\n",
            "Epoch 82/100\n",
            "\u001b[1m516/516\u001b[0m \u001b[32m━━━━━━━━━━━━━━━━━━━━\u001b[0m\u001b[37m\u001b[0m \u001b[1m1s\u001b[0m 2ms/step - loss: 39547113472.0000 - mae: 167012.3906 - val_loss: 38993989632.0000 - val_mae: 165771.9375\n",
            "Epoch 83/100\n",
            "\u001b[1m516/516\u001b[0m \u001b[32m━━━━━━━━━━━━━━━━━━━━\u001b[0m\u001b[37m\u001b[0m \u001b[1m1s\u001b[0m 2ms/step - loss: 38793805824.0000 - mae: 164865.6250 - val_loss: 38656749568.0000 - val_mae: 164861.0000\n",
            "Epoch 84/100\n",
            "\u001b[1m516/516\u001b[0m \u001b[32m━━━━━━━━━━━━━━━━━━━━\u001b[0m\u001b[37m\u001b[0m \u001b[1m1s\u001b[0m 2ms/step - loss: 38677069824.0000 - mae: 164552.1875 - val_loss: 38319022080.0000 - val_mae: 163945.0469\n",
            "Epoch 85/100\n",
            "\u001b[1m516/516\u001b[0m \u001b[32m━━━━━━━━━━━━━━━━━━━━\u001b[0m\u001b[37m\u001b[0m \u001b[1m1s\u001b[0m 2ms/step - loss: 38011424768.0000 - mae: 162901.3906 - val_loss: 37979824128.0000 - val_mae: 163020.4375\n",
            "Epoch 86/100\n",
            "\u001b[1m516/516\u001b[0m \u001b[32m━━━━━━━━━━━━━━━━━━━━\u001b[0m\u001b[37m\u001b[0m \u001b[1m1s\u001b[0m 2ms/step - loss: 37873664000.0000 - mae: 162408.7969 - val_loss: 37639667712.0000 - val_mae: 162086.6250\n",
            "Epoch 87/100\n",
            "\u001b[1m516/516\u001b[0m \u001b[32m━━━━━━━━━━━━━━━━━━━━\u001b[0m\u001b[37m\u001b[0m \u001b[1m1s\u001b[0m 2ms/step - loss: 37653643264.0000 - mae: 162215.9844 - val_loss: 37298626560.0000 - val_mae: 161145.7812\n",
            "Epoch 88/100\n",
            "\u001b[1m516/516\u001b[0m \u001b[32m━━━━━━━━━━━━━━━━━━━━\u001b[0m\u001b[37m\u001b[0m \u001b[1m1s\u001b[0m 2ms/step - loss: 37045338112.0000 - mae: 160487.1562 - val_loss: 36957143040.0000 - val_mae: 160203.1875\n",
            "Epoch 89/100\n",
            "\u001b[1m516/516\u001b[0m \u001b[32m━━━━━━━━━━━━━━━━━━━━\u001b[0m\u001b[37m\u001b[0m \u001b[1m1s\u001b[0m 2ms/step - loss: 36955414528.0000 - mae: 160115.1562 - val_loss: 36615041024.0000 - val_mae: 159254.4688\n",
            "Epoch 90/100\n",
            "\u001b[1m516/516\u001b[0m \u001b[32m━━━━━━━━━━━━━━━━━━━━\u001b[0m\u001b[37m\u001b[0m \u001b[1m1s\u001b[0m 2ms/step - loss: 36296237056.0000 - mae: 158475.5000 - val_loss: 36271685632.0000 - val_mae: 158297.8906\n",
            "Epoch 91/100\n",
            "\u001b[1m516/516\u001b[0m \u001b[32m━━━━━━━━━━━━━━━━━━━━\u001b[0m\u001b[37m\u001b[0m \u001b[1m1s\u001b[0m 2ms/step - loss: 36209078272.0000 - mae: 157666.6719 - val_loss: 35927764992.0000 - val_mae: 157339.5938\n",
            "Epoch 92/100\n",
            "\u001b[1m516/516\u001b[0m \u001b[32m━━━━━━━━━━━━━━━━━━━━\u001b[0m\u001b[37m\u001b[0m \u001b[1m1s\u001b[0m 2ms/step - loss: 35743760384.0000 - mae: 156658.7031 - val_loss: 35584692224.0000 - val_mae: 156378.4062\n",
            "Epoch 93/100\n",
            "\u001b[1m516/516\u001b[0m \u001b[32m━━━━━━━━━━━━━━━━━━━━\u001b[0m\u001b[37m\u001b[0m \u001b[1m1s\u001b[0m 2ms/step - loss: 35106099200.0000 - mae: 154998.3281 - val_loss: 35240120320.0000 - val_mae: 155408.3281\n",
            "Epoch 94/100\n",
            "\u001b[1m516/516\u001b[0m \u001b[32m━━━━━━━━━━━━━━━━━━━━\u001b[0m\u001b[37m\u001b[0m \u001b[1m1s\u001b[0m 2ms/step - loss: 35233300480.0000 - mae: 155673.7500 - val_loss: 34895286272.0000 - val_mae: 154434.7500\n",
            "Epoch 95/100\n",
            "\u001b[1m516/516\u001b[0m \u001b[32m━━━━━━━━━━━━━━━━━━━━\u001b[0m\u001b[37m\u001b[0m \u001b[1m1s\u001b[0m 3ms/step - loss: 34479226880.0000 - mae: 153046.0156 - val_loss: 34550620160.0000 - val_mae: 153456.5312\n",
            "Epoch 96/100\n",
            "\u001b[1m516/516\u001b[0m \u001b[32m━━━━━━━━━━━━━━━━━━━━\u001b[0m\u001b[37m\u001b[0m \u001b[1m1s\u001b[0m 3ms/step - loss: 34095446016.0000 - mae: 152049.9844 - val_loss: 34206484480.0000 - val_mae: 152475.9375\n",
            "Epoch 97/100\n",
            "\u001b[1m516/516\u001b[0m \u001b[32m━━━━━━━━━━━━━━━━━━━━\u001b[0m\u001b[37m\u001b[0m \u001b[1m1s\u001b[0m 2ms/step - loss: 34008332288.0000 - mae: 151338.0781 - val_loss: 33861818368.0000 - val_mae: 151489.8750\n",
            "Epoch 98/100\n",
            "\u001b[1m516/516\u001b[0m \u001b[32m━━━━━━━━━━━━━━━━━━━━\u001b[0m\u001b[37m\u001b[0m \u001b[1m1s\u001b[0m 2ms/step - loss: 33626992640.0000 - mae: 150630.1094 - val_loss: 33517041664.0000 - val_mae: 150502.5625\n",
            "Epoch 99/100\n",
            "\u001b[1m516/516\u001b[0m \u001b[32m━━━━━━━━━━━━━━━━━━━━\u001b[0m\u001b[37m\u001b[0m \u001b[1m1s\u001b[0m 2ms/step - loss: 33616912384.0000 - mae: 150590.8750 - val_loss: 33174462464.0000 - val_mae: 149520.4375\n",
            "Epoch 100/100\n",
            "\u001b[1m516/516\u001b[0m \u001b[32m━━━━━━━━━━━━━━━━━━━━\u001b[0m\u001b[37m\u001b[0m \u001b[1m1s\u001b[0m 2ms/step - loss: 32351983616.0000 - mae: 147724.0938 - val_loss: 32829640704.0000 - val_mae: 148526.5469\n"
          ]
        }
      ],
      "source": [
        "history = model.fit(train_X,              # the array with the input X columns\n",
        "                    train_y,              # the array with the output y column\n",
        "                    epochs=100,           # number of epochs to run\n",
        "                    batch_size=32,        # number of samples (ie data points) per batch\n",
        "                    verbose=1,            # verbosity during training\n",
        "                    validation_data=(val_X, val_y)) # validation data"
      ]
    },
    {
      "cell_type": "code",
      "execution_count": null,
      "metadata": {
        "colab": {
          "base_uri": "https://localhost:8080/",
          "height": 472
        },
        "id": "ZRWFRmTLjKFH",
        "outputId": "b5914c98-d439-4749-a2a3-9d167b8b9f23"
      },
      "outputs": [
        {
          "data": {
            "image/png": "[encoded data removed]",
            "text/plain": [
              "<Figure size 640x480 with 1 Axes>"
            ]
          },
          "metadata": {},
          "output_type": "display_data"
        }
      ],
      "source": [
        "# https://github.com/fchollet/deep-learning-with-python-notebooks/\n",
        "\n",
        "loss_values = history_dict[\"loss\"]\n",
        "val_loss_values = history_dict[\"val_loss\"]\n",
        "epochs = range(1, len(loss_values) + 1)\n",
        "plt.plot(epochs, loss_values, \"bo\", label=\"Training loss\")\n",
        "plt.plot(epochs, val_loss_values, \"b\", label=\"Validation loss\")\n",
        "plt.title(\"Training and validation loss\")\n",
        "plt.xlabel(\"Epochs\")\n",
        "plt.ylabel(\"Loss\")\n",
        "plt.legend()\n",
        "plt.show()"
      ]
    },
    {
      "cell_type": "code",
      "execution_count": null,
      "metadata": {
        "colab": {
          "base_uri": "https://localhost:8080/",
          "height": 472
        },
        "id": "xtEb51oHjL9r",
        "outputId": "fbdb9c34-633a-44a0-832f-ba1dba046fe0"
      },
      "outputs": [
        {
          "data": {
            "image/png": "[encoded data removed]",
            "text/plain": [
              "<Figure size 640x480 with 1 Axes>"
            ]
          },
          "metadata": {},
          "output_type": "display_data"
        }
      ],
      "source": [
        "# https://github.com/fchollet/deep-learning-with-python-notebooks/\n",
        "\n",
        "# plt.clf()\n",
        "# acc = history_dict[\"accuracy\"]\n",
        "# val_acc = history_dict[\"val_accuracy\"]\n",
        "# plt.plot(epochs, acc, \"bo\", label=\"Training acc\")\n",
        "# plt.plot(epochs, val_acc, \"b\", label=\"Validation acc\")\n",
        "# plt.title(\"Training and validation accuracy\")\n",
        "# plt.xlabel(\"Epochs\")\n",
        "# plt.ylabel(\"Accuracy\")\n",
        "# plt.legend()\n",
        "# plt.show()\n",
        "\n",
        "# or mae\n",
        "plt.clf()\n",
        "mae = history_dict[\"mae\"]\n",
        "val_mae = history_dict[\"val_mae\"]\n",
        "plt.plot(epochs, mae, \"bo\", label=\"Training MAE\")\n",
        "plt.plot(epochs, val_mae, \"b\", label=\"Validation MAE\")\n",
        "plt.title(\"Training and Validation MAE\")\n",
        "plt.xlabel(\"Epochs\")\n",
        "plt.ylabel(\"Mean Absolute Error\")\n",
        "plt.legend()\n",
        "plt.show()"
      ]
    },
    {
      "cell_type": "code",
      "execution_count": null,
      "metadata": {
        "colab": {
          "base_uri": "https://localhost:8080/"
        },
        "id": "iWvwyxHejPTw",
        "outputId": "a9bc56ac-209c-404c-eae5-eed117acec83"
      },
      "outputs": [
        {
          "name": "stdout",
          "output_type": "stream",
          "text": [
            "\u001b[1m129/129\u001b[0m \u001b[32m━━━━━━━━━━━━━━━━━━━━\u001b[0m\u001b[37m\u001b[0m \u001b[1m0s\u001b[0m 2ms/step - loss: 33273468928.0000 - mae: 149457.9844\n"
          ]
        },
        {
          "data": {
            "text/plain": [
              "[32829640704.0, 148526.546875]"
            ]
          },
          "execution_count": 90,
          "metadata": {},
          "output_type": "execute_result"
        }
      ],
      "source": [
        "model.evaluate(val_X, val_y)"
      ]
    },
    {
      "cell_type": "code",
      "execution_count": null,
      "metadata": {
        "colab": {
          "base_uri": "https://localhost:8080/"
        },
        "id": "OgYxKaLVjRmH",
        "outputId": "27383d31-498e-4d1c-88f9-05419f3fe514"
      },
      "outputs": [
        {
          "name": "stdout",
          "output_type": "stream",
          "text": [
            "\u001b[1m1/1\u001b[0m \u001b[32m━━━━━━━━━━━━━━━━━━━━\u001b[0m\u001b[37m\u001b[0m \u001b[1m0s\u001b[0m 146ms/step\n",
            "[[52216.777]\n",
            " [34710.96 ]\n",
            " [47411.39 ]\n",
            " [85004.6  ]\n",
            " [90388.375]\n",
            " [25982.436]\n",
            " [96632.305]\n",
            " [63238.543]\n",
            " [70941.66 ]\n",
            " [51363.137]]\n"
          ]
        }
      ],
      "source": [
        "print(model.predict(val_X[:10]))"
      ]
    },
    {
      "cell_type": "code",
      "execution_count": null,
      "metadata": {
        "colab": {
          "base_uri": "https://localhost:8080/"
        },
        "id": "9aYfF1JyjVOY",
        "outputId": "8cba9680-61dc-4e34-841e-c416a880c1df"
      },
      "outputs": [
        {
          "name": "stdout",
          "output_type": "stream",
          "text": [
            "\u001b[1m1/1\u001b[0m \u001b[32m━━━━━━━━━━━━━━━━━━━━\u001b[0m\u001b[37m\u001b[0m \u001b[1m0s\u001b[0m 36ms/step\n",
            "[[52216.777]\n",
            " [34710.96 ]\n",
            " [47411.39 ]\n",
            " [85004.6  ]\n",
            " [90388.375]\n",
            " [25982.436]\n",
            " [96632.305]\n",
            " [63238.543]\n",
            " [70941.66 ]\n",
            " [51363.137]]\n"
          ]
        }
      ],
      "source": [
        "print(model.predict(val_X[:10]))"
      ]
    },
    {
      "cell_type": "markdown",
      "metadata": {
        "id": "jk6c9NZ43vIJ"
      },
      "source": [
        "Part IV\n",
        "\n",
        "Using Keras Tuner, do hyperparameter optimization across:\n",
        "\n",
        "the number of layers: [1,2,3]\n",
        "the number of units in each layer: [4, 8]\n",
        "(i.e., 6 hyper-parameter combinations)"
      ]
    },
    {
      "cell_type": "markdown",
      "metadata": {
        "id": "EWFaLDAR_5tC"
      },
      "source": [
        "We will use a Python package called **[Keras Tuner](https://keras.io/keras_tuner/)** to do hyperparameter optimization."
      ]
    },
    {
      "cell_type": "code",
      "execution_count": null,
      "metadata": {
        "colab": {
          "base_uri": "https://localhost:8080/"
        },
        "id": "E4TftztU3x9K",
        "outputId": "099d4bb0-2a37-44a8-b755-e8a0329efbd2"
      },
      "outputs": [
        {
          "name": "stdout",
          "output_type": "stream",
          "text": [
            "\u001b[?25l   \u001b[90m━━━━━━━━━━━━━━━━━━━━━━━━━━━━━━━━━━━━━━━━\u001b[0m \u001b[32m0.0/129.1 kB\u001b[0m \u001b[31m?\u001b[0m eta \u001b[36m-:--:--\u001b[0m\r\u001b[2K   \u001b[91m━━━━━━━━━━━━━━━━━━━━━━━━━━━━━━━━━━━━━━\u001b[0m\u001b[90m╺\u001b[0m\u001b[90m━\u001b[0m \u001b[32m122.9/129.1 kB\u001b[0m \u001b[31m4.4 MB/s\u001b[0m eta \u001b[36m0:00:01\u001b[0m\r\u001b[2K   \u001b[90m━━━━━━━━━━━━━━━━━━━━━━━━━━━━━━━━━━━━━━━━\u001b[0m \u001b[32m129.1/129.1 kB\u001b[0m \u001b[31m3.4 MB/s\u001b[0m eta \u001b[36m0:00:00\u001b[0m\n",
            "\u001b[?25h"
          ]
        }
      ],
      "source": [
        "!pip install keras-tuner -q"
      ]
    },
    {
      "cell_type": "code",
      "execution_count": null,
      "metadata": {
        "id": "hDzoMfGW_acg"
      },
      "outputs": [],
      "source": [
        "import keras_tuner as kt"
      ]
    },
    {
      "cell_type": "markdown",
      "metadata": {
        "id": "b2DWQO2T_9tC"
      },
      "source": [
        "## Optimizing multiple hyperparameters"
      ]
    },
    {
      "cell_type": "markdown",
      "metadata": {
        "id": "VPeJ4bQR__5p"
      },
      "source": [
        "In the example above, we searched for the best value for one hyperparameter: the number of units in the single hidden layer.\n",
        "\n",
        "What if we want to optimize across multiple hyperparameters?\n",
        "\n",
        "the number of layers\n",
        "the number of units in each layer\n",
        "the learning rate used by Adam\n",
        "the activation function\n",
        "No problem. This is all easily doable using Keras Tuner.\n",
        "\n",
        "I have provided a new build_model function below that varies all of these things. Read through it carefully. I have only used hp.Choice and hp.Int below but there are many others we can use."
      ]
    },
    {
      "cell_type": "code",
      "execution_count": null,
      "metadata": {
        "id": "zZeZ2aIh_kQY"
      },
      "outputs": [],
      "source": [
        "def build_model(hp):\n",
        "\n",
        "  input = keras.layers.Input(shape=train_X.shape[1:])\n",
        "\n",
        "  x = input\n",
        "\n",
        "  # Vary the number of layers\n",
        "  for i in range(hp.Int(\"num_layers\", 1, 2, 3)):\n",
        "      x = keras.layers.Dense(\n",
        "          # Vary the number of units\n",
        "          units=hp.Choice(f\"units\", [4, 8]),\n",
        "          # Vary the activation function\n",
        "          activation=hp.Choice(\"activation\", [\"relu\", \"sigmoid\"]),\n",
        "      )(x)\n",
        "\n",
        "  output = keras.layers.Dense(1, activation=\"sigmoid\")(x)\n",
        "\n",
        "  model = keras.Model(input,output)\n",
        "\n",
        "  # Vary the learning rate\n",
        "  learning_rate = hp.Choice(\"lr\", [1e-4, 1e-3, 1e-2])\n",
        "\n",
        "  model.compile(\n",
        "      optimizer=keras.optimizers.Adam(learning_rate=learning_rate),\n",
        "      loss=\"mse\",\n",
        "      metrics=[\"mae\"],\n",
        "#     metrics=[\"mae\"],\n",
        "  )\n",
        "\n",
        "  return model\n",
        "\n",
        "  # may not need to vary activation function or learning rate"
      ]
    },
    {
      "cell_type": "markdown",
      "metadata": {
        "id": "fMBdlqlQADnK"
      },
      "source": [
        "Below, I just repeat the steps we did for the single-hyperparameter case."
      ]
    },
    {
      "cell_type": "code",
      "execution_count": null,
      "metadata": {
        "id": "I9K3tb3o_l8c"
      },
      "outputs": [],
      "source": [
        "tuner = kt.GridSearch(\n",
        "    build_model,\n",
        "    objective=\"val_mae\",\n",
        "    overwrite=True\n",
        ")"
      ]
    },
    {
      "cell_type": "code",
      "execution_count": null,
      "metadata": {
        "colab": {
          "base_uri": "https://localhost:8080/"
        },
        "id": "0_imIW_-_nCN",
        "outputId": "1d25a73f-046d-4413-ad9e-482d4c085de8"
      },
      "outputs": [
        {
          "name": "stdout",
          "output_type": "stream",
          "text": [
            "Search space summary\n",
            "Default search space size: 4\n",
            "num_layers (Int)\n",
            "{'default': None, 'conditions': [], 'min_value': 1, 'max_value': 2, 'step': 3, 'sampling': 'linear'}\n",
            "units (Choice)\n",
            "{'default': 4, 'conditions': [], 'values': [4, 8], 'ordered': True}\n",
            "activation (Choice)\n",
            "{'default': 'relu', 'conditions': [], 'values': ['relu', 'sigmoid'], 'ordered': False}\n",
            "lr (Choice)\n",
            "{'default': 0.0001, 'conditions': [], 'values': [0.0001, 0.001, 0.01], 'ordered': True}\n"
          ]
        }
      ],
      "source": [
        "tuner.search_space_summary()"
      ]
    },
    {
      "cell_type": "code",
      "execution_count": null,
      "metadata": {
        "colab": {
          "base_uri": "https://localhost:8080/"
        },
        "id": "ma614WXu_oBw",
        "outputId": "cbf4e87a-2ede-4bdc-f7ac-d5cf94b2098e"
      },
      "outputs": [
        {
          "name": "stdout",
          "output_type": "stream",
          "text": [
            "Trial 12 Complete [00h 02m 08s]\n",
            "val_mae: 207092.359375\n",
            "\n",
            "Best val_mae So Far: 207092.359375\n",
            "Total elapsed time: 00h 25m 37s\n"
          ]
        }
      ],
      "source": [
        "tuner.search(train_X,\n",
        "             train_y,\n",
        "             epochs=100,\n",
        "             batch_size=32,\n",
        "             verbose=1,\n",
        "             validation_data=(val_X, val_y))"
      ]
    },
    {
      "cell_type": "code",
      "execution_count": null,
      "metadata": {
        "colab": {
          "background_save": true
        },
        "id": "WKN9_KjT_pOU",
        "outputId": "3f3e8674-3b85-4b6e-b3fa-c1bf975245ce"
      },
      "outputs": [
        {
          "name": "stdout",
          "output_type": "stream",
          "text": [
            "Results summary\n",
            "Results in ./untitled_project\n",
            "Showing 10 best trials\n",
            "Objective(name=\"val_mae\", direction=\"min\")\n",
            "\n",
            "Trial 0000 summary\n",
            "Hyperparameters:\n",
            "num_layers: 1\n",
            "units: 4\n",
            "activation: relu\n",
            "lr: 0.0001\n",
            "Score: 207092.359375\n",
            "\n",
            "Trial 0001 summary\n",
            "Hyperparameters:\n",
            "num_layers: 1\n",
            "units: 4\n",
            "activation: relu\n",
            "lr: 0.001\n",
            "Score: 207092.359375\n",
            "\n",
            "Trial 0002 summary\n",
            "Hyperparameters:\n",
            "num_layers: 1\n",
            "units: 4\n",
            "activation: relu\n",
            "lr: 0.01\n",
            "Score: 207092.359375\n",
            "\n",
            "Trial 0003 summary\n",
            "Hyperparameters:\n",
            "num_layers: 1\n",
            "units: 4\n",
            "activation: sigmoid\n",
            "lr: 0.0001\n",
            "Score: 207092.359375\n",
            "\n",
            "Trial 0004 summary\n",
            "Hyperparameters:\n",
            "num_layers: 1\n",
            "units: 4\n",
            "activation: sigmoid\n",
            "lr: 0.001\n",
            "Score: 207092.359375\n",
            "\n",
            "Trial 0005 summary\n",
            "Hyperparameters:\n",
            "num_layers: 1\n",
            "units: 4\n",
            "activation: sigmoid\n",
            "lr: 0.01\n",
            "Score: 207092.359375\n",
            "\n",
            "Trial 0006 summary\n",
            "Hyperparameters:\n",
            "num_layers: 1\n",
            "units: 8\n",
            "activation: relu\n",
            "lr: 0.0001\n",
            "Score: 207092.359375\n",
            "\n",
            "Trial 0007 summary\n",
            "Hyperparameters:\n",
            "num_layers: 1\n",
            "units: 8\n",
            "activation: relu\n",
            "lr: 0.001\n",
            "Score: 207092.359375\n",
            "\n",
            "Trial 0008 summary\n",
            "Hyperparameters:\n",
            "num_layers: 1\n",
            "units: 8\n",
            "activation: relu\n",
            "lr: 0.01\n",
            "Score: 207092.359375\n",
            "\n",
            "Trial 0009 summary\n",
            "Hyperparameters:\n",
            "num_layers: 1\n",
            "units: 8\n",
            "activation: sigmoid\n",
            "lr: 0.0001\n",
            "Score: 207092.359375\n"
          ]
        }
      ],
      "source": [
        "tuner.results_summary()"
      ]
    },
    {
      "cell_type": "markdown",
      "metadata": {
        "id": "jidzV4GzAHIa"
      },
      "source": [
        "Maybe need to do this next bit for this, maybe not"
      ]
    },
    {
      "cell_type": "code",
      "execution_count": null,
      "metadata": {
        "colab": {
          "base_uri": "https://localhost:8080/"
        },
        "id": "JWuMcfk__sea",
        "outputId": "650e6b5e-9c70-4e2a-a6b2-07544b676ee0"
      },
      "outputs": [
        {
          "output_type": "stream",
          "name": "stderr",
          "text": [
            "/usr/local/lib/python3.11/dist-packages/keras/src/saving/saving_lib.py:757: UserWarning: Skipping variable loading for optimizer 'adam', because it has 2 variables whereas the saved optimizer has 10 variables. \n",
            "  saveable.load_own_variables(weights_store.get(inner_path))\n"
          ]
        }
      ],
      "source": [
        "best_model = tuner.get_best_models(1)[0]"
      ]
    },
    {
      "cell_type": "code",
      "execution_count": null,
      "metadata": {
        "id": "eDpJpUnd_uT2",
        "colab": {
          "base_uri": "https://localhost:8080/",
          "height": 232
        },
        "outputId": "417422a9-0e45-41a8-c71a-2405384bf2bf"
      },
      "outputs": [
        {
          "output_type": "display_data",
          "data": {
            "text/plain": [
              "\u001b[1mModel: \"functional\"\u001b[0m\n"
            ],
            "text/html": [
              "<pre style=\"white-space:pre;overflow-x:auto;line-height:normal;font-family:Menlo,'DejaVu Sans Mono',consolas,'Courier New',monospace\"><span style=\"font-weight: bold\">Model: \"functional\"</span>\n",
              "</pre>\n"
            ]
          },
          "metadata": {}
        },
        {
          "output_type": "display_data",
          "data": {
            "text/plain": [
              "┏━━━━━━━━━━━━━━━━━━━━━━━━━━━━━━━━━━━━━━┳━━━━━━━━━━━━━━━━━━━━━━━━━━━━━┳━━━━━━━━━━━━━━━━━┓\n",
              "┃\u001b[1m \u001b[0m\u001b[1mLayer (type)                        \u001b[0m\u001b[1m \u001b[0m┃\u001b[1m \u001b[0m\u001b[1mOutput Shape               \u001b[0m\u001b[1m \u001b[0m┃\u001b[1m \u001b[0m\u001b[1m        Param #\u001b[0m\u001b[1m \u001b[0m┃\n",
              "┡━━━━━━━━━━━━━━━━━━━━━━━━━━━━━━━━━━━━━━╇━━━━━━━━━━━━━━━━━━━━━━━━━━━━━╇━━━━━━━━━━━━━━━━━┩\n",
              "│ input_layer (\u001b[38;5;33mInputLayer\u001b[0m)             │ (\u001b[38;5;45mNone\u001b[0m, \u001b[38;5;34m8\u001b[0m)                   │               \u001b[38;5;34m0\u001b[0m │\n",
              "├──────────────────────────────────────┼─────────────────────────────┼─────────────────┤\n",
              "│ dense (\u001b[38;5;33mDense\u001b[0m)                        │ (\u001b[38;5;45mNone\u001b[0m, \u001b[38;5;34m4\u001b[0m)                   │              \u001b[38;5;34m36\u001b[0m │\n",
              "├──────────────────────────────────────┼─────────────────────────────┼─────────────────┤\n",
              "│ dense_1 (\u001b[38;5;33mDense\u001b[0m)                      │ (\u001b[38;5;45mNone\u001b[0m, \u001b[38;5;34m1\u001b[0m)                   │               \u001b[38;5;34m5\u001b[0m │\n",
              "└──────────────────────────────────────┴─────────────────────────────┴─────────────────┘\n"
            ],
            "text/html": [
              "<pre style=\"white-space:pre;overflow-x:auto;line-height:normal;font-family:Menlo,'DejaVu Sans Mono',consolas,'Courier New',monospace\">┏━━━━━━━━━━━━━━━━━━━━━━━━━━━━━━━━━━━━━━┳━━━━━━━━━━━━━━━━━━━━━━━━━━━━━┳━━━━━━━━━━━━━━━━━┓\n",
              "┃<span style=\"font-weight: bold\"> Layer (type)                         </span>┃<span style=\"font-weight: bold\"> Output Shape                </span>┃<span style=\"font-weight: bold\">         Param # </span>┃\n",
              "┡━━━━━━━━━━━━━━━━━━━━━━━━━━━━━━━━━━━━━━╇━━━━━━━━━━━━━━━━━━━━━━━━━━━━━╇━━━━━━━━━━━━━━━━━┩\n",
              "│ input_layer (<span style=\"color: #0087ff; text-decoration-color: #0087ff\">InputLayer</span>)             │ (<span style=\"color: #00d7ff; text-decoration-color: #00d7ff\">None</span>, <span style=\"color: #00af00; text-decoration-color: #00af00\">8</span>)                   │               <span style=\"color: #00af00; text-decoration-color: #00af00\">0</span> │\n",
              "├──────────────────────────────────────┼─────────────────────────────┼─────────────────┤\n",
              "│ dense (<span style=\"color: #0087ff; text-decoration-color: #0087ff\">Dense</span>)                        │ (<span style=\"color: #00d7ff; text-decoration-color: #00d7ff\">None</span>, <span style=\"color: #00af00; text-decoration-color: #00af00\">4</span>)                   │              <span style=\"color: #00af00; text-decoration-color: #00af00\">36</span> │\n",
              "├──────────────────────────────────────┼─────────────────────────────┼─────────────────┤\n",
              "│ dense_1 (<span style=\"color: #0087ff; text-decoration-color: #0087ff\">Dense</span>)                      │ (<span style=\"color: #00d7ff; text-decoration-color: #00d7ff\">None</span>, <span style=\"color: #00af00; text-decoration-color: #00af00\">1</span>)                   │               <span style=\"color: #00af00; text-decoration-color: #00af00\">5</span> │\n",
              "└──────────────────────────────────────┴─────────────────────────────┴─────────────────┘\n",
              "</pre>\n"
            ]
          },
          "metadata": {}
        },
        {
          "output_type": "display_data",
          "data": {
            "text/plain": [
              "\u001b[1m Total params: \u001b[0m\u001b[38;5;34m41\u001b[0m (164.00 B)\n"
            ],
            "text/html": [
              "<pre style=\"white-space:pre;overflow-x:auto;line-height:normal;font-family:Menlo,'DejaVu Sans Mono',consolas,'Courier New',monospace\"><span style=\"font-weight: bold\"> Total params: </span><span style=\"color: #00af00; text-decoration-color: #00af00\">41</span> (164.00 B)\n",
              "</pre>\n"
            ]
          },
          "metadata": {}
        },
        {
          "output_type": "display_data",
          "data": {
            "text/plain": [
              "\u001b[1m Trainable params: \u001b[0m\u001b[38;5;34m41\u001b[0m (164.00 B)\n"
            ],
            "text/html": [
              "<pre style=\"white-space:pre;overflow-x:auto;line-height:normal;font-family:Menlo,'DejaVu Sans Mono',consolas,'Courier New',monospace\"><span style=\"font-weight: bold\"> Trainable params: </span><span style=\"color: #00af00; text-decoration-color: #00af00\">41</span> (164.00 B)\n",
              "</pre>\n"
            ]
          },
          "metadata": {}
        },
        {
          "output_type": "display_data",
          "data": {
            "text/plain": [
              "\u001b[1m Non-trainable params: \u001b[0m\u001b[38;5;34m0\u001b[0m (0.00 B)\n"
            ],
            "text/html": [
              "<pre style=\"white-space:pre;overflow-x:auto;line-height:normal;font-family:Menlo,'DejaVu Sans Mono',consolas,'Courier New',monospace\"><span style=\"font-weight: bold\"> Non-trainable params: </span><span style=\"color: #00af00; text-decoration-color: #00af00\">0</span> (0.00 B)\n",
              "</pre>\n"
            ]
          },
          "metadata": {}
        }
      ],
      "source": [
        "best_model.summary()"
      ]
    },
    {
      "cell_type": "code",
      "execution_count": null,
      "metadata": {
        "id": "N42w6oVY_vm7",
        "colab": {
          "base_uri": "https://localhost:8080/",
          "height": 149
        },
        "outputId": "1020715b-17a0-4fe1-b465-ce432bc08964"
      },
      "outputs": [
        {
          "output_type": "execute_result",
          "data": {
            "image/png": "[encoded data removed]",
            "text/plain": [
              "<IPython.core.display.Image object>"
            ]
          },
          "metadata": {},
          "execution_count": 107
        }
      ],
      "source": [
        "keras.utils.plot_model(best_model, show_shapes=True, rankdir=\"LR\")"
      ]
    },
    {
      "cell_type": "code",
      "execution_count": null,
      "metadata": {
        "id": "rPMWVAPr_w9o",
        "colab": {
          "base_uri": "https://localhost:8080/"
        },
        "outputId": "b2297b2a-6382-4dc0-c961-2f1f74f7ce50"
      },
      "outputs": [
        {
          "output_type": "stream",
          "name": "stdout",
          "text": [
            "\u001b[1m129/129\u001b[0m \u001b[32m━━━━━━━━━━━━━━━━━━━━\u001b[0m\u001b[37m\u001b[0m \u001b[1m1s\u001b[0m 2ms/step - loss: 56802258944.0000 - mae: 208740.7031\n"
          ]
        },
        {
          "output_type": "execute_result",
          "data": {
            "text/plain": [
              "[56181575680.0, 207092.359375]"
            ]
          },
          "metadata": {},
          "execution_count": 108
        }
      ],
      "source": [
        "best_model.evaluate(val_X, val_y)"
      ]
    },
    {
      "cell_type": "code",
      "execution_count": null,
      "metadata": {
        "id": "W78Y32YT_x6D",
        "colab": {
          "base_uri": "https://localhost:8080/"
        },
        "outputId": "8845e0d7-28cf-4ea0-c7a0-4a6c622fde20"
      },
      "outputs": [
        {
          "output_type": "stream",
          "name": "stderr",
          "text": [
            "WARNING:tensorflow:5 out of the last 9 calls to <function TensorFlowTrainer.make_predict_function.<locals>.one_step_on_data_distributed at 0x7a91fdcdb740> triggered tf.function retracing. Tracing is expensive and the excessive number of tracings could be due to (1) creating @tf.function repeatedly in a loop, (2) passing tensors with different shapes, (3) passing Python objects instead of tensors. For (1), please define your @tf.function outside of the loop. For (2), @tf.function has reduce_retracing=True option that can avoid unnecessary retracing. For (3), please refer to https://www.tensorflow.org/guide/function#controlling_retracing and https://www.tensorflow.org/api_docs/python/tf/function for  more details.\n"
          ]
        },
        {
          "output_type": "stream",
          "name": "stdout",
          "text": [
            "\u001b[1m1/1\u001b[0m \u001b[32m━━━━━━━━━━━━━━━━━━━━\u001b[0m\u001b[37m\u001b[0m \u001b[1m0s\u001b[0m 146ms/step\n",
            "[[0.9869366 ]\n",
            " [0.9815409 ]\n",
            " [0.9758124 ]\n",
            " [0.9997899 ]\n",
            " [0.99793375]\n",
            " [0.809565  ]\n",
            " [0.9994543 ]\n",
            " [0.97889704]\n",
            " [0.99096596]\n",
            " [0.99772805]]\n"
          ]
        }
      ],
      "source": [
        "print(best_model.predict(val_X[:10]))"
      ]
    },
    {
      "cell_type": "markdown",
      "metadata": {
        "id": "NOOA6NRm3ya1"
      },
      "source": [
        "Answer these questions in text cells:\n",
        "\n",
        "What is the optimal hyper-parameter combination?\n",
        "\n",
        " Total params: 41 (164.00 B)\n",
        "\n",
        " Trainable params: 41 (164.00 B)\n",
        "\n",
        " Non-trainable params: 0 (0.00 B)\n",
        "\n",
        " Input layer: 8. Param: 0\n",
        " Hidden layer 1: 4. Param: 36\n",
        " Output: 1. Param: 5\n",
        "\n",
        "\n",
        "What is the MSE of the optimal model?\n",
        "2ms/step - loss (MSE): 56802258944.0000 - mae: 208740.7031\n",
        "[56181575680.0, 207092.359375]\n",
        "\n",
        "How does this optimal model compare to the models found in Parts I, II and III?\n",
        "\n",
        "Part 1 2ms/step loss: 32493051904.0000 - mae: 147580.4062\n",
        "[32007038976.0, 146650.03125]\n",
        "\n",
        "Part 2 2ms/step - loss: 4902288384.0000 - mae: 50851.1094\n",
        "[4637634560.0, 49260.3671875]\n",
        "\n",
        "Part 3 2ms/step - loss: 33273468928.0000 - mae: 149457.9844\n",
        "[32829640704.0, 148526.546875]\n",
        "\n",
        "The loss in part 1 performed the best in terms of MSE (loss). Part 1 also has the lowest MAE. Thus, Part 1 model is the best\n"
      ]
    }
  ],
  "metadata": {
    "accelerator": "GPU",
    "colab": {
      "gpuType": "A100",
      "machine_shape": "hm",
      "provenance": []
    },
    "kernelspec": {
      "display_name": "Python 3",
      "name": "python3"
    },
    "language_info": {
      "name": "python"
    }
  },
  "nbformat": 4,
  "nbformat_minor": 0
}